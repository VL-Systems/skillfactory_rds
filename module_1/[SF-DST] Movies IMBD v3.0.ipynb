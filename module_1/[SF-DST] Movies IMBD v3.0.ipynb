{
 "cells": [
  {
   "cell_type": "code",
   "execution_count": 137,
   "metadata": {
    "_cell_guid": "b1076dfc-b9ad-4769-8c92-a6c4dae69d19",
    "_uuid": "8f2839f25d086af736a60e9eeb907d3b93b6e0e5"
   },
   "outputs": [
    {
     "ename": "FileNotFoundError",
     "evalue": "[WinError 3] Системе не удается найти указанный путь: '../input'",
     "output_type": "error",
     "traceback": [
      "\u001b[1;31m---------------------------------------------------------------------------\u001b[0m",
      "\u001b[1;31mFileNotFoundError\u001b[0m                         Traceback (most recent call last)",
      "\u001b[1;32m<ipython-input-137-9edefa0a370a>\u001b[0m in \u001b[0;36m<module>\u001b[1;34m\u001b[0m\n\u001b[0;32m      5\u001b[0m \u001b[1;32mimport\u001b[0m \u001b[0mos\u001b[0m\u001b[1;33m\u001b[0m\u001b[1;33m\u001b[0m\u001b[0m\n\u001b[0;32m      6\u001b[0m \u001b[1;32mfrom\u001b[0m \u001b[0mcollections\u001b[0m \u001b[1;32mimport\u001b[0m \u001b[0mCounter\u001b[0m\u001b[1;33m\u001b[0m\u001b[1;33m\u001b[0m\u001b[0m\n\u001b[1;32m----> 7\u001b[1;33m \u001b[0mprint\u001b[0m\u001b[1;33m(\u001b[0m\u001b[0mos\u001b[0m\u001b[1;33m.\u001b[0m\u001b[0mlistdir\u001b[0m\u001b[1;33m(\u001b[0m\u001b[1;34m\"../input\"\u001b[0m\u001b[1;33m)\u001b[0m\u001b[1;33m)\u001b[0m\u001b[1;33m\u001b[0m\u001b[1;33m\u001b[0m\u001b[0m\n\u001b[0m",
      "\u001b[1;31mFileNotFoundError\u001b[0m: [WinError 3] Системе не удается найти указанный путь: '../input'"
     ]
    }
   ],
   "source": [
    "import numpy as np\n",
    "import pandas as pd\n",
    "import seaborn as sns\n",
    "import matplotlib.pyplot as plt\n",
    "import os\n",
    "from collections import Counter\n",
    "print(os.listdir(\"../input\"))"
   ]
  },
  {
   "cell_type": "code",
   "execution_count": 136,
   "metadata": {},
   "outputs": [
    {
     "data": {
      "text/html": [
       "<div>\n",
       "<style scoped>\n",
       "    .dataframe tbody tr th:only-of-type {\n",
       "        vertical-align: middle;\n",
       "    }\n",
       "\n",
       "    .dataframe tbody tr th {\n",
       "        vertical-align: top;\n",
       "    }\n",
       "\n",
       "    .dataframe thead th {\n",
       "        text-align: right;\n",
       "    }\n",
       "</style>\n",
       "<table border=\"1\" class=\"dataframe\">\n",
       "  <thead>\n",
       "    <tr style=\"text-align: right;\">\n",
       "      <th></th>\n",
       "      <th>imdb_id</th>\n",
       "      <th>popularity</th>\n",
       "      <th>budget</th>\n",
       "      <th>revenue</th>\n",
       "      <th>original_title</th>\n",
       "      <th>cast</th>\n",
       "      <th>director</th>\n",
       "      <th>tagline</th>\n",
       "      <th>overview</th>\n",
       "      <th>runtime</th>\n",
       "      <th>genres</th>\n",
       "      <th>production_companies</th>\n",
       "      <th>release_date</th>\n",
       "      <th>vote_count</th>\n",
       "      <th>vote_average</th>\n",
       "      <th>release_year</th>\n",
       "    </tr>\n",
       "  </thead>\n",
       "  <tbody>\n",
       "    <tr>\n",
       "      <td>0</td>\n",
       "      <td>tt0369610</td>\n",
       "      <td>32.985763</td>\n",
       "      <td>150000000</td>\n",
       "      <td>1513528810</td>\n",
       "      <td>Jurassic World</td>\n",
       "      <td>Chris Pratt|Bryce Dallas Howard|Irrfan Khan|Vi...</td>\n",
       "      <td>Colin Trevorrow</td>\n",
       "      <td>The park is open.</td>\n",
       "      <td>Twenty-two years after the events of Jurassic ...</td>\n",
       "      <td>124</td>\n",
       "      <td>Action|Adventure|Science Fiction|Thriller</td>\n",
       "      <td>Universal Studios|Amblin Entertainment|Legenda...</td>\n",
       "      <td>6/9/2015</td>\n",
       "      <td>5562</td>\n",
       "      <td>6.5</td>\n",
       "      <td>2015</td>\n",
       "    </tr>\n",
       "    <tr>\n",
       "      <td>1</td>\n",
       "      <td>tt1392190</td>\n",
       "      <td>28.419936</td>\n",
       "      <td>150000000</td>\n",
       "      <td>378436354</td>\n",
       "      <td>Mad Max: Fury Road</td>\n",
       "      <td>Tom Hardy|Charlize Theron|Hugh Keays-Byrne|Nic...</td>\n",
       "      <td>George Miller</td>\n",
       "      <td>What a Lovely Day.</td>\n",
       "      <td>An apocalyptic story set in the furthest reach...</td>\n",
       "      <td>120</td>\n",
       "      <td>Action|Adventure|Science Fiction|Thriller</td>\n",
       "      <td>Village Roadshow Pictures|Kennedy Miller Produ...</td>\n",
       "      <td>5/13/2015</td>\n",
       "      <td>6185</td>\n",
       "      <td>7.1</td>\n",
       "      <td>2015</td>\n",
       "    </tr>\n",
       "    <tr>\n",
       "      <td>2</td>\n",
       "      <td>tt2908446</td>\n",
       "      <td>13.112507</td>\n",
       "      <td>110000000</td>\n",
       "      <td>295238201</td>\n",
       "      <td>Insurgent</td>\n",
       "      <td>Shailene Woodley|Theo James|Kate Winslet|Ansel...</td>\n",
       "      <td>Robert Schwentke</td>\n",
       "      <td>One Choice Can Destroy You</td>\n",
       "      <td>Beatrice Prior must confront her inner demons ...</td>\n",
       "      <td>119</td>\n",
       "      <td>Adventure|Science Fiction|Thriller</td>\n",
       "      <td>Summit Entertainment|Mandeville Films|Red Wago...</td>\n",
       "      <td>3/18/2015</td>\n",
       "      <td>2480</td>\n",
       "      <td>6.3</td>\n",
       "      <td>2015</td>\n",
       "    </tr>\n",
       "    <tr>\n",
       "      <td>3</td>\n",
       "      <td>tt2488496</td>\n",
       "      <td>11.173104</td>\n",
       "      <td>200000000</td>\n",
       "      <td>2068178225</td>\n",
       "      <td>Star Wars: The Force Awakens</td>\n",
       "      <td>Harrison Ford|Mark Hamill|Carrie Fisher|Adam D...</td>\n",
       "      <td>J.J. Abrams</td>\n",
       "      <td>Every generation has a story.</td>\n",
       "      <td>Thirty years after defeating the Galactic Empi...</td>\n",
       "      <td>136</td>\n",
       "      <td>Action|Adventure|Science Fiction|Fantasy</td>\n",
       "      <td>Lucasfilm|Truenorth Productions|Bad Robot</td>\n",
       "      <td>12/15/2015</td>\n",
       "      <td>5292</td>\n",
       "      <td>7.5</td>\n",
       "      <td>2015</td>\n",
       "    </tr>\n",
       "    <tr>\n",
       "      <td>4</td>\n",
       "      <td>tt2820852</td>\n",
       "      <td>9.335014</td>\n",
       "      <td>190000000</td>\n",
       "      <td>1506249360</td>\n",
       "      <td>Furious 7</td>\n",
       "      <td>Vin Diesel|Paul Walker|Jason Statham|Michelle ...</td>\n",
       "      <td>James Wan</td>\n",
       "      <td>Vengeance Hits Home</td>\n",
       "      <td>Deckard Shaw seeks revenge against Dominic Tor...</td>\n",
       "      <td>137</td>\n",
       "      <td>Action|Crime|Thriller</td>\n",
       "      <td>Universal Pictures|Original Film|Media Rights ...</td>\n",
       "      <td>4/1/2015</td>\n",
       "      <td>2947</td>\n",
       "      <td>7.3</td>\n",
       "      <td>2015</td>\n",
       "    </tr>\n",
       "  </tbody>\n",
       "</table>\n",
       "</div>"
      ],
      "text/plain": [
       "     imdb_id  popularity     budget     revenue                original_title  \\\n",
       "0  tt0369610   32.985763  150000000  1513528810                Jurassic World   \n",
       "1  tt1392190   28.419936  150000000   378436354            Mad Max: Fury Road   \n",
       "2  tt2908446   13.112507  110000000   295238201                     Insurgent   \n",
       "3  tt2488496   11.173104  200000000  2068178225  Star Wars: The Force Awakens   \n",
       "4  tt2820852    9.335014  190000000  1506249360                     Furious 7   \n",
       "\n",
       "                                                cast          director  \\\n",
       "0  Chris Pratt|Bryce Dallas Howard|Irrfan Khan|Vi...   Colin Trevorrow   \n",
       "1  Tom Hardy|Charlize Theron|Hugh Keays-Byrne|Nic...     George Miller   \n",
       "2  Shailene Woodley|Theo James|Kate Winslet|Ansel...  Robert Schwentke   \n",
       "3  Harrison Ford|Mark Hamill|Carrie Fisher|Adam D...       J.J. Abrams   \n",
       "4  Vin Diesel|Paul Walker|Jason Statham|Michelle ...         James Wan   \n",
       "\n",
       "                         tagline  \\\n",
       "0              The park is open.   \n",
       "1             What a Lovely Day.   \n",
       "2     One Choice Can Destroy You   \n",
       "3  Every generation has a story.   \n",
       "4            Vengeance Hits Home   \n",
       "\n",
       "                                            overview  runtime  \\\n",
       "0  Twenty-two years after the events of Jurassic ...      124   \n",
       "1  An apocalyptic story set in the furthest reach...      120   \n",
       "2  Beatrice Prior must confront her inner demons ...      119   \n",
       "3  Thirty years after defeating the Galactic Empi...      136   \n",
       "4  Deckard Shaw seeks revenge against Dominic Tor...      137   \n",
       "\n",
       "                                      genres  \\\n",
       "0  Action|Adventure|Science Fiction|Thriller   \n",
       "1  Action|Adventure|Science Fiction|Thriller   \n",
       "2         Adventure|Science Fiction|Thriller   \n",
       "3   Action|Adventure|Science Fiction|Fantasy   \n",
       "4                      Action|Crime|Thriller   \n",
       "\n",
       "                                production_companies release_date  vote_count  \\\n",
       "0  Universal Studios|Amblin Entertainment|Legenda...     6/9/2015        5562   \n",
       "1  Village Roadshow Pictures|Kennedy Miller Produ...    5/13/2015        6185   \n",
       "2  Summit Entertainment|Mandeville Films|Red Wago...    3/18/2015        2480   \n",
       "3          Lucasfilm|Truenorth Productions|Bad Robot   12/15/2015        5292   \n",
       "4  Universal Pictures|Original Film|Media Rights ...     4/1/2015        2947   \n",
       "\n",
       "   vote_average  release_year  \n",
       "0           6.5          2015  \n",
       "1           7.1          2015  \n",
       "2           6.3          2015  \n",
       "3           7.5          2015  \n",
       "4           7.3          2015  "
      ]
     },
     "execution_count": 136,
     "metadata": {},
     "output_type": "execute_result"
    }
   ],
   "source": [
    "data = pd.read_csv('data.csv')\n",
    "data.head(5)"
   ]
  },
  {
   "cell_type": "code",
   "execution_count": 138,
   "metadata": {},
   "outputs": [
    {
     "data": {
      "text/plain": [
       "1890"
      ]
     },
     "execution_count": 138,
     "metadata": {},
     "output_type": "execute_result"
    }
   ],
   "source": [
    "len(data)"
   ]
  },
  {
   "cell_type": "markdown",
   "metadata": {},
   "source": [
    "# Предобработка датасета"
   ]
  },
  {
   "cell_type": "code",
   "execution_count": 40,
   "metadata": {},
   "outputs": [],
   "source": [
    "answer_ls = [] # создадим список с ответами. сюда будем добавлять ответы по мере прохождения теста\n",
    "# сюда можем вписать создание новых колонок в датасете"
   ]
  },
  {
   "cell_type": "markdown",
   "metadata": {},
   "source": [
    "# 1. У какого фильма из списка самый большой бюджет?\n",
    "Варианты ответов:\n",
    "1. The Dark Knight Rises (tt1345836)\n",
    "2. Spider-Man 3 (tt0413300)\n",
    "3. Avengers: Age of Ultron (tt2395427)\n",
    "4. The Warrior's Way\t(tt1032751)\n",
    "5. Pirates of the Caribbean: On Stranger Tides (tt1298650)"
   ]
  },
  {
   "cell_type": "code",
   "execution_count": 41,
   "metadata": {},
   "outputs": [
    {
     "name": "stdout",
     "output_type": "stream",
     "text": [
      "491    The Warrior's Way\n",
      "Name: original_title, dtype: object\n"
     ]
    }
   ],
   "source": [
    "print(data[data.budget==data.budget.max()].original_title)\n",
    "answer_ls.append(3)"
   ]
  },
  {
   "cell_type": "markdown",
   "metadata": {},
   "source": [
    "# 2. Какой из фильмов самый длительный (в минутах)\n",
    "1. The Lord of the Rings: The Return of the King\t(tt0167260)\n",
    "2. Gods and Generals\t(tt0279111)\n",
    "3. King Kong\t(tt0360717)\n",
    "4. Pearl Harbor\t(tt0213149)\n",
    "5. Alexander\t(tt0346491)"
   ]
  },
  {
   "cell_type": "code",
   "execution_count": 42,
   "metadata": {},
   "outputs": [
    {
     "name": "stdout",
     "output_type": "stream",
     "text": [
      "1158    Gods and Generals\n",
      "Name: original_title, dtype: object\n"
     ]
    }
   ],
   "source": [
    "print(data[data.runtime==data.runtime.max()].original_title)\n",
    "answer_ls.append(2)"
   ]
  },
  {
   "cell_type": "markdown",
   "metadata": {},
   "source": [
    "# 3. Какой из фильмов самый короткий (в минутах)\n",
    "Варианты ответов:\n",
    "\n",
    "1. Home on the Range\ttt0299172\n",
    "2. The Jungle Book 2\ttt0283426\n",
    "3. Winnie the Pooh\ttt1449283\n",
    "4. Corpse Bride\ttt0121164\n",
    "5. Hoodwinked!\ttt0443536"
   ]
  },
  {
   "cell_type": "code",
   "execution_count": 43,
   "metadata": {},
   "outputs": [
    {
     "name": "stdout",
     "output_type": "stream",
     "text": [
      "769    Winnie the Pooh\n",
      "Name: original_title, dtype: object\n"
     ]
    }
   ],
   "source": [
    "print(data[data.runtime==data.runtime.min()].original_title)\n",
    "answer_ls.append(3)"
   ]
  },
  {
   "cell_type": "markdown",
   "metadata": {},
   "source": [
    "# 4. Средняя длительность фильма?\n",
    "\n",
    "Варианты ответов:\n",
    "1. 115\n",
    "2. 110\n",
    "3. 105\n",
    "4. 120\n",
    "5. 100\n"
   ]
  },
  {
   "cell_type": "code",
   "execution_count": 44,
   "metadata": {},
   "outputs": [
    {
     "name": "stdout",
     "output_type": "stream",
     "text": [
      "109.65343915343915\n"
     ]
    }
   ],
   "source": [
    "print(data.runtime.mean())\n",
    "answer_ls.append(2)"
   ]
  },
  {
   "cell_type": "markdown",
   "metadata": {},
   "source": [
    "# 5. Средняя длительность фильма по медиане?\n",
    "Варианты ответов:\n",
    "1. 106\n",
    "2. 112\n",
    "3. 101\n",
    "4. 120\n",
    "5. 115\n",
    "\n",
    "\n"
   ]
  },
  {
   "cell_type": "code",
   "execution_count": 45,
   "metadata": {},
   "outputs": [
    {
     "name": "stdout",
     "output_type": "stream",
     "text": [
      "106.5\n"
     ]
    }
   ],
   "source": [
    "print(data.runtime.median())\n",
    "answer_ls.append(1)"
   ]
  },
  {
   "cell_type": "markdown",
   "metadata": {},
   "source": [
    "# 6. Какой самый прибыльный фильм?\n",
    "Варианты ответов:\n",
    "1. The Avengers\ttt0848228\n",
    "2. Minions\ttt2293640\n",
    "3. Star Wars: The Force Awakens\ttt2488496\n",
    "4. Furious 7\ttt2820852\n",
    "5. Avatar\ttt0499549"
   ]
  },
  {
   "cell_type": "code",
   "execution_count": 176,
   "metadata": {},
   "outputs": [
    {
     "name": "stdout",
     "output_type": "stream",
     "text": [
      "239    avatar\n",
      "Name: original_title, dtype: object\n"
     ]
    }
   ],
   "source": [
    "data['pribil'] = data.revenue - data.budget\n",
    "print(data[data.pribil==data.pribil.max()].original_title)\n",
    "answer_ls.append(5)"
   ]
  },
  {
   "cell_type": "markdown",
   "metadata": {},
   "source": [
    "# 7. Какой фильм самый убыточный?\n",
    "Варианты ответов:\n",
    "1. Supernova tt0134983\n",
    "2. The Warrior's Way tt1032751\n",
    "3. Flushed Away\ttt0424095\n",
    "4. The Adventures of Pluto Nash\ttt0180052\n",
    "5. The Lone Ranger\ttt1210819"
   ]
  },
  {
   "cell_type": "code",
   "execution_count": 177,
   "metadata": {},
   "outputs": [
    {
     "name": "stdout",
     "output_type": "stream",
     "text": [
      "491    the warrior's way\n",
      "Name: original_title, dtype: object\n"
     ]
    }
   ],
   "source": [
    "print(data[data.pribil==data.pribil.min()].original_title)\n",
    "answer_ls.append(2)"
   ]
  },
  {
   "cell_type": "markdown",
   "metadata": {},
   "source": [
    "# 8. Сколько всего фильмов в прибыли?\n",
    "Варианты ответов:\n",
    "1. 1478\n",
    "2. 1520\n",
    "3. 1241\n",
    "4. 1135\n",
    "5. 1398\n"
   ]
  },
  {
   "cell_type": "code",
   "execution_count": 55,
   "metadata": {},
   "outputs": [
    {
     "name": "stdout",
     "output_type": "stream",
     "text": [
      "1478\n"
     ]
    }
   ],
   "source": [
    "GoodFilms=data[data.pribil>0]\n",
    "print(len(GoodFilms))\n",
    "answer_ls.append(1)"
   ]
  },
  {
   "cell_type": "markdown",
   "metadata": {},
   "source": [
    "# 9. Самый прибыльный фильм в 2008 году?\n",
    "Варианты ответов:\n",
    "1. Madagascar: Escape 2 Africa\ttt0479952\n",
    "2. Iron Man\ttt0371746\n",
    "3. Kung Fu Panda\ttt0441773\n",
    "4. The Dark Knight\ttt0468569\n",
    "5. Mamma Mia!\ttt0795421"
   ]
  },
  {
   "cell_type": "code",
   "execution_count": 57,
   "metadata": {},
   "outputs": [
    {
     "name": "stdout",
     "output_type": "stream",
     "text": [
      "600    The Dark Knight\n",
      "Name: original_title, dtype: object\n"
     ]
    }
   ],
   "source": [
    "Good2008=data[data.release_year==2008]\n",
    "print(Good2008[Good2008.pribil==Good2008.pribil.max()].original_title)\n",
    "answer_ls.append(3)"
   ]
  },
  {
   "cell_type": "markdown",
   "metadata": {},
   "source": [
    "# 10. Самый убыточный фильм за период с 2012 по 2014 (включительно)?\n",
    "Варианты ответов:\n",
    "1. Winter's Tale\ttt1837709\n",
    "2. Stolen\ttt1656186\n",
    "3. Broken City\ttt1235522\n",
    "4. Upside Down\ttt1374992\n",
    "5. The Lone Ranger\ttt1210819\n"
   ]
  },
  {
   "cell_type": "code",
   "execution_count": 63,
   "metadata": {},
   "outputs": [
    {
     "name": "stdout",
     "output_type": "stream",
     "text": [
      "1246    The Lone Ranger\n",
      "Name: original_title, dtype: object\n"
     ]
    }
   ],
   "source": [
    "Bed2012=data[data.release_year>=2012]\n",
    "Bed2012_14=Bed2012[Bed2012.release_year<=2014]\n",
    "print(Bed2012_14[Bed2012_14.pribil==Bed2012_14.pribil.min()].original_title)\n",
    "answer_ls.append(4)"
   ]
  },
  {
   "cell_type": "markdown",
   "metadata": {},
   "source": [
    "# 11. Какого жанра фильмов больше всего?\n",
    "Варианты ответов:\n",
    "1. Action\n",
    "2. Adventure\n",
    "3. Drama\n",
    "4. Comedy\n",
    "5. Thriller"
   ]
  },
  {
   "cell_type": "code",
   "execution_count": 65,
   "metadata": {},
   "outputs": [
    {
     "name": "stdout",
     "output_type": "stream",
     "text": [
      "Comedy                                       141\n",
      "Drama                                        102\n",
      "Comedy|Romance                                60\n",
      "Drama|Romance                                 45\n",
      "Horror|Thriller                               35\n",
      "                                            ... \n",
      "Comedy|Adventure|Fantasy|Animation|Family      1\n",
      "Mystery|Crime|Action|Thriller|Drama            1\n",
      "Comedy|Crime|Thriller                          1\n",
      "Fantasy|Action|Thriller|Science Fiction        1\n",
      "Science Fiction|Horror|Thriller                1\n",
      "Name: genres, Length: 653, dtype: int64\n"
     ]
    }
   ],
   "source": [
    "genre=data['genres'].value_counts()\n",
    "print(genre)\n",
    "answer_ls.append(3)"
   ]
  },
  {
   "cell_type": "markdown",
   "metadata": {},
   "source": [
    "# 12. Какого жанра среди прибыльных фильмов больше всего?\n",
    "Варианты ответов:\n",
    "1. Drama\n",
    "2. Comedy\n",
    "3. Action\n",
    "4. Thriller\n",
    "5. Adventure"
   ]
  },
  {
   "cell_type": "code",
   "execution_count": 68,
   "metadata": {},
   "outputs": [
    {
     "name": "stdout",
     "output_type": "stream",
     "text": [
      "Comedy                                    121\n",
      "Drama                                      70\n",
      "Comedy|Romance                             52\n",
      "Drama|Romance                              38\n",
      "Horror|Thriller                            31\n",
      "                                         ... \n",
      "War                                         1\n",
      "Action|Adventure|Comedy|Family|Fantasy      1\n",
      "Science Fiction|Adventure|Mystery           1\n",
      "Comedy|Romance|Family                       1\n",
      "Thriller|Action                             1\n",
      "Name: genres, Length: 548, dtype: int64\n"
     ]
    }
   ],
   "source": [
    "GoodFilms=data[data.pribil>0]\n",
    "genreGoodFilms=GoodFilms['genres'].value_counts()\n",
    "print(genreGoodFilms)\n",
    "answer_ls.append(1)"
   ]
  },
  {
   "cell_type": "markdown",
   "metadata": {},
   "source": [
    "# 13. Кто из режиссеров снял больше всего фильмов?\n",
    "Варианты ответов:\n",
    "1. Steven Spielberg\n",
    "2. Ridley Scott \n",
    "3. Steven Soderbergh\n",
    "4. Christopher Nolan\n",
    "5. Clint Eastwood"
   ]
  },
  {
   "cell_type": "code",
   "execution_count": 69,
   "metadata": {},
   "outputs": [
    {
     "name": "stdout",
     "output_type": "stream",
     "text": [
      "Steven Soderbergh               13\n",
      "Clint Eastwood                  12\n",
      "Ridley Scott                    12\n",
      "Steven Spielberg                10\n",
      "Shawn Levy                      10\n",
      "                                ..\n",
      "Jon Amiel                        1\n",
      "Richard Shepard                  1\n",
      "Nathan Greno|Byron Howard        1\n",
      "Roland JoffÃ©                    1\n",
      "Steve Martino|Mike Thurmeier     1\n",
      "Name: director, Length: 958, dtype: int64\n"
     ]
    }
   ],
   "source": [
    "howMutch=data['director'].value_counts()\n",
    "print(howMutch)\n",
    "answer_ls.append(3)"
   ]
  },
  {
   "cell_type": "markdown",
   "metadata": {},
   "source": [
    "# 14. Кто из режиссеров снял больше всего Прибыльных фильмов?\n",
    "Варианты ответов:\n",
    "1. Steven Soderbergh\n",
    "2. Clint Eastwood\n",
    "3. Steven Spielberg\n",
    "4. Ridley Scott\n",
    "5. Christopher Nolan"
   ]
  },
  {
   "cell_type": "code",
   "execution_count": 70,
   "metadata": {},
   "outputs": [
    {
     "name": "stdout",
     "output_type": "stream",
     "text": [
      "Ridley Scott                   12\n",
      "Clint Eastwood                 10\n",
      "Steven Soderbergh              10\n",
      "Steven Spielberg               10\n",
      "Shawn Levy                      9\n",
      "                               ..\n",
      "David Wain                      1\n",
      "Lee Toland Krieger              1\n",
      "Aleksander Bach                 1\n",
      "Simon J. Smith|Eric Darnell     1\n",
      "Colin Strause|Greg Strause      1\n",
      "Name: director, Length: 774, dtype: int64\n"
     ]
    }
   ],
   "source": [
    "howMutchGood=GoodFilms['director'].value_counts()\n",
    "print(howMutchGood)\n",
    "answer_ls.append(1)"
   ]
  },
  {
   "cell_type": "markdown",
   "metadata": {},
   "source": [
    "# 15. Кто из режиссеров принес больше всего прибыли?\n",
    "Варианты ответов:\n",
    "1. Steven Spielberg\n",
    "2. Christopher Nolan\n",
    "3. David Yates\n",
    "4. James Cameron\n",
    "5. Peter Jackson\n"
   ]
  },
  {
   "cell_type": "code",
   "execution_count": 215,
   "metadata": {},
   "outputs": [
    {
     "name": "stdout",
     "output_type": "stream",
     "text": [
      "director\n",
      "Peter Jackson            5202593685\n",
      "David Yates              3379295625\n",
      "Christopher Nolan        3162548502\n",
      "J.J. Abrams              2839169916\n",
      "Michael Bay              2760938960\n",
      "                            ...    \n",
      "David Bowers|Sam Fell     -84540684\n",
      "Peter Hyams               -86956545\n",
      "Ron Underwood             -92896027\n",
      "James L. Brooks           -96289726\n",
      "Sngmoo Lee               -413912431\n",
      "Name: pribil, Length: 958, dtype: int64\n"
     ]
    },
    {
     "ename": "TypeError",
     "evalue": "append() takes exactly one argument (0 given)",
     "output_type": "error",
     "traceback": [
      "\u001b[1;31m---------------------------------------------------------------------------\u001b[0m",
      "\u001b[1;31mTypeError\u001b[0m                                 Traceback (most recent call last)",
      "\u001b[1;32m<ipython-input-215-d1984e8a93f6>\u001b[0m in \u001b[0;36m<module>\u001b[1;34m\u001b[0m\n\u001b[0;32m      1\u001b[0m \u001b[0mprint\u001b[0m\u001b[1;33m(\u001b[0m\u001b[0mdata\u001b[0m\u001b[1;33m.\u001b[0m\u001b[0mgroupby\u001b[0m\u001b[1;33m(\u001b[0m\u001b[1;33m[\u001b[0m\u001b[1;34m'director'\u001b[0m\u001b[1;33m]\u001b[0m\u001b[1;33m)\u001b[0m\u001b[1;33m[\u001b[0m\u001b[1;34m'pribil'\u001b[0m\u001b[1;33m]\u001b[0m\u001b[1;33m.\u001b[0m\u001b[0msum\u001b[0m\u001b[1;33m(\u001b[0m\u001b[1;33m)\u001b[0m\u001b[1;33m.\u001b[0m\u001b[0msort_values\u001b[0m\u001b[1;33m(\u001b[0m\u001b[0mascending\u001b[0m\u001b[1;33m=\u001b[0m\u001b[1;32mFalse\u001b[0m\u001b[1;33m)\u001b[0m\u001b[1;33m)\u001b[0m\u001b[1;33m\u001b[0m\u001b[1;33m\u001b[0m\u001b[0m\n\u001b[1;32m----> 2\u001b[1;33m \u001b[0manswer_ls\u001b[0m\u001b[1;33m.\u001b[0m\u001b[0mappend\u001b[0m\u001b[1;33m(\u001b[0m\u001b[1;33m)\u001b[0m\u001b[1;33m\u001b[0m\u001b[1;33m\u001b[0m\u001b[0m\n\u001b[0m",
      "\u001b[1;31mTypeError\u001b[0m: append() takes exactly one argument (0 given)"
     ]
    }
   ],
   "source": [
    "print(data.groupby(['director'])['pribil'].sum().sort_values(ascending=False))\n",
    "answer_ls.append()"
   ]
  },
  {
   "cell_type": "markdown",
   "metadata": {},
   "source": [
    "# 16. Какой актер принес больше всего прибыли?\n",
    "Варианты ответов:\n",
    "1. Emma Watson\n",
    "2. Johnny Depp\n",
    "3. Michelle Rodriguez\n",
    "4. Orlando Bloom\n",
    "5. Rupert Grint"
   ]
  },
  {
   "cell_type": "code",
   "execution_count": 216,
   "metadata": {},
   "outputs": [
    {
     "name": "stdout",
     "output_type": "stream",
     "text": [
      "239    Sam Worthington|Zoe Saldana|Sigourney Weaver|S...\n",
      "Name: cast, dtype: object\n"
     ]
    }
   ],
   "source": [
    "actors = set(data.cast.str.split('|').sum())\n",
    "\n",
    "pd.Series({x:data[data.cast.str.contains(x)].fin_res.sum() for x in actors}).sort_values(ascending = False)\n",
    "answer_ls.append(1)"
   ]
  },
  {
   "cell_type": "markdown",
   "metadata": {},
   "source": [
    "# 17. Какой актер принес меньше всего прибыли в 2012 году?\n",
    "Варианты ответов:\n",
    "1. Nicolas Cage\n",
    "2. Danny Huston\n",
    "3. Kirsten Dunst\n",
    "4. Jim Sturgess\n",
    "5. Sami Gayle"
   ]
  },
  {
   "cell_type": "code",
   "execution_count": 77,
   "metadata": {},
   "outputs": [
    {
     "name": "stdout",
     "output_type": "stream",
     "text": [
      "1008    Kirsten Dunst|Jim Sturgess|Timothy Spall|James...\n",
      "Name: cast, dtype: object\n"
     ]
    }
   ],
   "source": [
    "Bed12=data[data.release_year==2012]\n",
    "print(Bed12[Bed12.pribil==Bed12.pribil.min()].cast)\n",
    "answer_ls.append(3)"
   ]
  },
  {
   "cell_type": "markdown",
   "metadata": {},
   "source": [
    "# 18. Какой актер снялся в большем количестве высокобюджетных фильмов? (в фильмах где бюджет выше среднего по данной выборке)\n",
    "Варианты ответов:\n",
    "1. Tom Cruise\n",
    "2. Mark Wahlberg \n",
    "3. Matt Damon\n",
    "4. Angelina Jolie\n",
    "5. Adam Sandler"
   ]
  },
  {
   "cell_type": "code",
   "execution_count": 86,
   "metadata": {},
   "outputs": [
    {
     "name": "stdout",
     "output_type": "stream",
     "text": [
      "Jennifer Lawrence|Josh Hutcherson|Liam Hemsworth|Woody Harrelson|Elizabeth Banks        3\n",
      "Elijah Wood|Ian McKellen|Viggo Mortensen|Liv Tyler|Orlando Bloom                        3\n",
      "Ioan Gruffudd|Jessica Alba|Chris Evans|Michael Chiklis|Julian McMahon                   2\n",
      "Mike Myers|Eddie Murphy|Cameron Diaz|Julie Andrews|Antonio Banderas                     2\n",
      "Martin Freeman|Ian McKellen|Richard Armitage|Ken Stott|Graham McTavish                  2\n",
      "                                                                                       ..\n",
      "Will Smith|Rosario Dawson|Sarah Jane Morris|Woody Harrelson|Michael Ealy                1\n",
      "Noah Ringer|Nicola Peltz|Jackson Rathbone|Dev Patel|Shaun Toub                          1\n",
      "Ben Stiller|Robert De Niro|Teri Polo|Blythe Danner|Owen Wilson                          1\n",
      "Luke Evans|Sarah Gadon|Dominic Cooper|Art Parkinson|Charles Dance                       1\n",
      "Chris Hemsworth|Natalie Portman|Tom Hiddleston|Anthony Hopkins|Christopher Eccleston    1\n",
      "Name: cast, Length: 548, dtype: int64\n"
     ]
    }
   ],
   "source": [
    "MeanProfit=data.pribil.mean()\n",
    "print(data[data.pribil>MeanProfit].cast.value_counts())\n",
    "answer_ls.append(2)"
   ]
  },
  {
   "cell_type": "markdown",
   "metadata": {},
   "source": [
    "# 19. В фильмах какого жанра больше всего снимался Nicolas Cage?  \n",
    "Варианты ответа:\n",
    "1. Drama\n",
    "2. Action\n",
    "3. Thriller\n",
    "4. Adventure\n",
    "5. Crime"
   ]
  },
  {
   "cell_type": "code",
   "execution_count": 93,
   "metadata": {},
   "outputs": [
    {
     "name": "stdout",
     "output_type": "stream",
     "text": [
      "Action|Crime|Thriller                             2\n",
      "Crime|Drama|Thriller                              2\n",
      "Drama|History|Thriller                            1\n",
      "Fantasy|Adventure|Animation|Comedy|Family         1\n",
      "Adventure|Fantasy|Action                          1\n",
      "Adventure|Action|Thriller|Mystery                 1\n",
      "Thriller|Action|Fantasy|Horror                    1\n",
      "Comedy|Drama|Romance|Fantasy                      1\n",
      "Drama|Action|History|War                          1\n",
      "Adventure|Animation|Comedy|Family|Fantasy         1\n",
      "Action|Science Fiction|Thriller                   1\n",
      "Action|Drama|Thriller                             1\n",
      "Fantasy|Adventure|Action|Comedy|Drama             1\n",
      "Thriller|Crime                                    1\n",
      "Fantasy|Thriller|Action|Crime                     1\n",
      "Action|Adventure|Drama|Mystery|Science Fiction    1\n",
      "Animation|Action|Family|Science Fiction           1\n",
      "Thriller|Action|Science Fiction                   1\n",
      "Drama|Crime                                       1\n",
      "Action|Adventure|Mystery|Thriller                 1\n",
      "Action|Crime                                      1\n",
      "Comedy|Drama                                      1\n",
      "Action|Crime|Drama|Thriller                       1\n",
      "Comedy|Crime|Drama                                1\n",
      "Action|Fantasy|Thriller                           1\n",
      "Name: genres, dtype: int64\n"
     ]
    }
   ],
   "source": [
    "Cage = data[data.cast.str.contains('Nicolas Cage')] \n",
    "CageFilms=Cage['genres'].value_counts()\n",
    "print(CageFilms) \n",
    "answer_ls.append(2)"
   ]
  },
  {
   "cell_type": "markdown",
   "metadata": {},
   "source": [
    "# 20. Какая студия сняла больше всего фильмов?\n",
    "Варианты ответа:\n",
    "1. Universal Pictures (Universal)\n",
    "2. Paramount Pictures\n",
    "3. Columbia Pictures\n",
    "4. Warner Bros\n",
    "5. Twentieth Century Fox Film Corporation"
   ]
  },
  {
   "cell_type": "code",
   "execution_count": 103,
   "metadata": {},
   "outputs": [
    {
     "name": "stdout",
     "output_type": "stream",
     "text": [
      "0       Universal Studios|Amblin Entertainment|Legenda...\n",
      "1       Village Roadshow Pictures|Kennedy Miller Produ...\n",
      "2       Summit Entertainment|Mandeville Films|Red Wago...\n",
      "3               Lucasfilm|Truenorth Productions|Bad Robot\n",
      "4       Universal Pictures|Original Film|Media Rights ...\n",
      "                              ...                        \n",
      "1885    Twentieth Century Fox Film Corporation|Donners...\n",
      "1886                                      New Line Cinema\n",
      "1887    Universal Pictures|Capella International|KC Me...\n",
      "1888    Laurence Mark Productions|Columbia Pictures Co...\n",
      "1889                                Warner Bros. Pictures\n",
      "Name: production_companies, Length: 1890, dtype: object\n"
     ]
    }
   ],
   "source": [
    "print(data['production_companies'])\n",
    "answer_ls.append(1)"
   ]
  },
  {
   "cell_type": "markdown",
   "metadata": {},
   "source": [
    "# 21. Какая студия сняла больше всего фильмов в 2015 году?\n",
    "Варианты ответа:\n",
    "1. Universal Pictures\n",
    "2. Paramount Pictures\n",
    "3. Columbia Pictures\n",
    "4. Warner Bros\n",
    "5. Twentieth Century Fox Film Corporation"
   ]
  },
  {
   "cell_type": "code",
   "execution_count": 106,
   "metadata": {},
   "outputs": [
    {
     "name": "stdout",
     "output_type": "stream",
     "text": [
      "New Line Cinema|Universal Pictures|Legendary Pictures|Cube Vision|Broken Chair Flickz                                       1\n",
      "Twentieth Century Fox Film Corporation|Scott Free Productions|Mid Atlantic Films|International Traders|TSG Entertainment    1\n",
      "Walt Disney Pictures|Pixar Animation Studios|Walt Disney Studios Motion Pictures                                            1\n",
      "New Line Cinema|Village Roadshow Pictures|Warner Bros.|Flynn Picture Company                                                1\n",
      "Groundswell Productions|Inimitable Pictures|ShivHans Pictures                                                               1\n",
      "                                                                                                                           ..\n",
      "Summit Entertainment|Mandeville Films|Red Wagon Entertainment|NeoReel                                                       1\n",
      "DreamWorks SKG|Amblin Entertainment|Studio Babelsberg|Fox 2000 Pictures|Marc Platt Productions                              1\n",
      "Paramount Pictures|Nickelodeon Movies|Nickelodeon Animation Studios|United Plankton Pictures|Disruption Entertainment       1\n",
      "Fox 2000 Pictures                                                                                                           1\n",
      "Warner Bros.|Moving Picture Company (MPC)|Berlanti Productions|RatPac-Dune Entertainment                                    1\n",
      "Name: production_companies, Length: 118, dtype: int64\n"
     ]
    }
   ],
   "source": [
    "Film15=data[data.release_year==2015]\n",
    "print(Film15.production_companies.value_counts())\n",
    "answer_ls.append(1)"
   ]
  },
  {
   "cell_type": "markdown",
   "metadata": {},
   "source": [
    "# 22. Какая студия заработала больше всего денег в жанре комедий за все время?\n",
    "Варианты ответа:\n",
    "1. Warner Bros\n",
    "2. Universal Pictures (Universal)\n",
    "3. Columbia Pictures\n",
    "4. Paramount Pictures\n",
    "5. Walt Disney"
   ]
  },
  {
   "cell_type": "code",
   "execution_count": 109,
   "metadata": {},
   "outputs": [
    {
     "name": "stdout",
     "output_type": "stream",
     "text": [
      "8    Universal Pictures|Illumination Entertainment\n",
      "Name: production_companies, dtype: object\n"
     ]
    }
   ],
   "source": [
    "Comedi=data[data.genres.str.contains('Comedy')]\n",
    "print(Comedi[Comedi.pribil==Comedi.pribil.max()].production_companies)\n",
    "answer_ls.append(2)"
   ]
  },
  {
   "cell_type": "markdown",
   "metadata": {},
   "source": [
    "# 23. Какая студия заработала больше всего денег в 2012 году?\n",
    "Варианты ответа:\n",
    "1. Universal Pictures (Universal)\n",
    "2. Warner Bros\n",
    "3. Columbia Pictures\n",
    "4. Paramount Pictures\n",
    "5. Lucasfilm"
   ]
  },
  {
   "cell_type": "code",
   "execution_count": 112,
   "metadata": {},
   "outputs": [
    {
     "name": "stdout",
     "output_type": "stream",
     "text": [
      "971    Marvel Studios\n",
      "Name: production_companies, dtype: object\n"
     ]
    }
   ],
   "source": [
    "Film122=data[data.release_year==2012]\n",
    "print(Film122[Film122.revenue==Film122.revenue.max()].production_companies)\n",
    "answer_ls.append(1)"
   ]
  },
  {
   "cell_type": "markdown",
   "metadata": {},
   "source": [
    "# 24. Самый убыточный фильм от Paramount Pictures\n",
    "Варианты ответа:\n",
    "\n",
    "1. K-19: The Widowmaker tt0267626\n",
    "2. Next tt0435705\n",
    "3. Twisted tt0315297\n",
    "4. The Love Guru tt0811138\n",
    "5. The Fighter tt0964517"
   ]
  },
  {
   "cell_type": "code",
   "execution_count": 114,
   "metadata": {},
   "outputs": [
    {
     "name": "stdout",
     "output_type": "stream",
     "text": [
      "926    K-19: The Widowmaker\n",
      "Name: original_title, dtype: object\n"
     ]
    }
   ],
   "source": [
    "Par=data[data.production_companies.str.contains('Paramount Pictures')]\n",
    "print(Par[Par.pribil==Par.pribil.min()].original_title)\n",
    "answer_ls.append(1)"
   ]
  },
  {
   "cell_type": "markdown",
   "metadata": {},
   "source": [
    "# 25. Какой Самый прибыльный год (заработали больше всего)?\n",
    "Варианты ответа:\n",
    "1. 2014\n",
    "2. 2008\n",
    "3. 2012\n",
    "4. 2002\n",
    "5. 2015"
   ]
  },
  {
   "cell_type": "code",
   "execution_count": 119,
   "metadata": {},
   "outputs": [
    {
     "name": "stdout",
     "output_type": "stream",
     "text": [
      "release_year\n",
      "2000     6101399805\n",
      "2001     7950614865\n",
      "2002     9002361487\n",
      "2003     9228823312\n",
      "2004     9634180720\n",
      "2005     8981925558\n",
      "2006     8691077320\n",
      "2007    11565911801\n",
      "2008    11663881990\n",
      "2009    13423744372\n",
      "2010    13117292530\n",
      "2011    14730241341\n",
      "2012    16077001687\n",
      "2013    15243179791\n",
      "2014    16397812953\n",
      "2015    18668572378\n",
      "Name: pribil, dtype: int64\n"
     ]
    }
   ],
   "source": [
    "print(data.groupby(['release_year'])['pribil'].sum())\n",
    "answer_ls.append(5)"
   ]
  },
  {
   "cell_type": "markdown",
   "metadata": {},
   "source": [
    "# 26. Какой Самый прибыльный год для студии Warner Bros?\n",
    "Варианты ответа:\n",
    "1. 2014\n",
    "2. 2008\n",
    "3. 2012\n",
    "4. 2010\n",
    "5. 2015"
   ]
  },
  {
   "cell_type": "code",
   "execution_count": 120,
   "metadata": {},
   "outputs": [
    {
     "name": "stdout",
     "output_type": "stream",
     "text": [
      "release_year\n",
      "2000     452631386\n",
      "2001    1343545668\n",
      "2002    1022709901\n",
      "2003    1855493377\n",
      "2004    1631933725\n",
      "2005    1551980298\n",
      "2006     620170743\n",
      "2007    2201675217\n",
      "2008    2134595031\n",
      "2009    1822454136\n",
      "2010    1974712985\n",
      "2011    1871393682\n",
      "2012    1258020056\n",
      "2013    1636453400\n",
      "2014    2295464519\n",
      "2015     870368348\n",
      "Name: pribil, dtype: int64\n"
     ]
    }
   ],
   "source": [
    "Bros=data[data.production_companies.str.contains('Warner Bros')]\n",
    "print(Bros.groupby(['release_year'])['pribil'].sum())\n",
    "answer_ls.append(1)"
   ]
  },
  {
   "cell_type": "markdown",
   "metadata": {},
   "source": [
    "# 27. В каком месяце за все годы суммарно вышло больше всего фильмов?\n",
    "Варианты ответа:\n",
    "1. Январь\n",
    "2. Июнь\n",
    "3. Декабрь\n",
    "4. Сентябрь\n",
    "5. Май"
   ]
  },
  {
   "cell_type": "code",
   "execution_count": 160,
   "metadata": {},
   "outputs": [
    {
     "name": "stdout",
     "output_type": "stream",
     "text": [
      "67\n",
      "62\n",
      "71\n",
      "67\n",
      "56\n"
     ]
    }
   ],
   "source": [
    "Yanv=data[data.release_date.str.contains('/1/')]\n",
    "Jul=data[data.release_date.str.contains('/6/')]\n",
    "Dec=data[data.release_date.str.contains('/12/')]\n",
    "Sept=data[data.release_date.str.contains('/9/')]\n",
    "May=data[data.release_date.str.contains('/5/')]\n",
    "print(len(Yanv))\n",
    "print(len(Jul))\n",
    "print(len(Dec))\n",
    "print(len(Sept))\n",
    "print(len(May))\n",
    "answer_ls.append(3)"
   ]
  },
  {
   "cell_type": "markdown",
   "metadata": {},
   "source": [
    "# 28. Сколько суммарно вышло фильмов летом? (за июнь, июль, август)\n",
    "Варианты ответа:\n",
    "1. 345\n",
    "2. 450\n",
    "3. 478\n",
    "4. 523\n",
    "5. 381"
   ]
  },
  {
   "cell_type": "code",
   "execution_count": 163,
   "metadata": {},
   "outputs": [
    {
     "name": "stdout",
     "output_type": "stream",
     "text": [
      "205\n"
     ]
    }
   ],
   "source": [
    "Jun1=data[data.release_date.str.contains('/6/')]\n",
    "Jul1=data[data.release_date.str.contains('/7/')]\n",
    "Augst1=data[data.release_date.str.contains('/8/')]\n",
    "print(len(Jun1)+len(Jul1)+len(Augst1))\n",
    "answer_ls.append(1)"
   ]
  },
  {
   "cell_type": "markdown",
   "metadata": {},
   "source": [
    "# 29. Какой режисер выпускает (суммарно по годам) больше всего фильмов зимой?\n",
    "Варианты ответов:\n",
    "1. Steven Soderbergh\n",
    "2. Christopher Nolan\n",
    "3. Clint Eastwood\n",
    "4. Ridley Scott\n",
    "5. Peter Jackson"
   ]
  },
  {
   "cell_type": "code",
   "execution_count": 172,
   "metadata": {},
   "outputs": [
    {
     "name": "stdout",
     "output_type": "stream",
     "text": [
      "Louis Leterrier                   4\n",
      "Ridley Scott                      3\n",
      "Ken Kwapis                        3\n",
      "Baltasar KormÃ¡kur                2\n",
      "Paul W.S. Anderson                2\n",
      "                                 ..\n",
      "David Moreau|Xavier Palud         1\n",
      "Mort Nathan                       1\n",
      "Brian Helgeland                   1\n",
      "Mark Waters                       1\n",
      "Stephen St. Leger|James Mather    1\n",
      "Name: director, Length: 167, dtype: int64\n"
     ]
    }
   ],
   "source": [
    "Decabr=data[data.release_date.str.contains('/12/')]\n",
    "Yanv=data[data.release_date.str.contains('/1/')]\n",
    "Feb=data[data.release_date.str.contains('/2/')]\n",
    "DATA=pd.concat([Decabr, Yanv,Feb])\n",
    "print(DATA.director.value_counts())\n",
    "answer_ls.append(4)"
   ]
  },
  {
   "cell_type": "markdown",
   "metadata": {},
   "source": [
    "# 30. Какой месяц чаще всего по годам самый прибыльный?\n",
    "Варианты ответа:\n",
    "1. Январь\n",
    "2. Июнь\n",
    "3. Декабрь\n",
    "4. Сентябрь\n",
    "5. Май"
   ]
  },
  {
   "cell_type": "code",
   "execution_count": 180,
   "metadata": {},
   "outputs": [
    {
     "name": "stdout",
     "output_type": "stream",
     "text": [
      "1316249360\n",
      "628679850\n",
      "616210692\n",
      "1363528810\n",
      "745921036\n"
     ]
    }
   ],
   "source": [
    "Yanv=data[data.release_date.str.contains('/1/')]\n",
    "Jul=data[data.release_date.str.contains('/6/')]\n",
    "Dec=data[data.release_date.str.contains('/12/')]\n",
    "Sept=data[data.release_date.str.contains('/9/')]\n",
    "May=data[data.release_date.str.contains('/5/')]\n",
    "print(Yanv.pribil.max())\n",
    "print(Jul.pribil.max())\n",
    "print(Dec.pribil.max())\n",
    "print(Sept.pribil.max())\n",
    "print(May.pribil.max())\n",
    "answer_ls.append(4)"
   ]
  },
  {
   "cell_type": "markdown",
   "metadata": {},
   "source": [
    "# 31. Названия фильмов какой студии в среднем самые длинные по количеству символов?\n",
    "Варианты ответа:\n",
    "1. Universal Pictures (Universal)\n",
    "2. Warner Bros\n",
    "3. Jim Henson Company, The\n",
    "4. Paramount Pictures\n",
    "5. Four By Two Productions"
   ]
  },
  {
   "cell_type": "code",
   "execution_count": 198,
   "metadata": {},
   "outputs": [
    {
     "name": "stdout",
     "output_type": "stream",
     "text": [
      "0    jurassic world\n",
      "Name: original_title, dtype: object\n"
     ]
    }
   ],
   "source": [
    "word = data['original_title'].str.lower()\n",
    "print(str(word[:1]))\n",
    "answer_ls.append(1)"
   ]
  },
  {
   "cell_type": "markdown",
   "metadata": {},
   "source": [
    "# 32. Названия фильмов какой студии в среднем самые длинные по количеству слов?\n",
    "Варианты ответа:\n",
    "1. Universal Pictures (Universal)\n",
    "2. Warner Bros\n",
    "3. Jim Henson Company, The\n",
    "4. Paramount Pictures\n",
    "5. Four By Two Productions"
   ]
  },
  {
   "cell_type": "code",
   "execution_count": 185,
   "metadata": {},
   "outputs": [],
   "source": [
    "answer_ls.append(1)"
   ]
  },
  {
   "cell_type": "markdown",
   "metadata": {},
   "source": [
    "# 33. Сколько разных слов используется в названиях фильмов?(без учета регистра)\n",
    "Варианты ответа:\n",
    "1. 6540\n",
    "2. 1002\n",
    "3. 2461\n",
    "4. 28304\n",
    "5. 3432"
   ]
  },
  {
   "cell_type": "code",
   "execution_count": 191,
   "metadata": {},
   "outputs": [
    {
     "name": "stdout",
     "output_type": "stream",
     "text": [
      "{'arbitrage', 'stallion', 'pie', 'games:', 'italian', 'pride', 'fright', 'peabody', 'gun', \"dog's\", 'predators', 'sherman', '28', 'drift', 'non-stop', 'gangster', 'getaway', 'owls', 'adventures', 'lavagirl', 'artificial', 'cloud', 'first', 'chipwrecked', 'news', 'league', 'will', 'white', 'underdog', 'dinosaur', 'abduction', '23', 'pyjamas', 'alfie', 'haunted', 'miami', 'jasmine', 'milk', 'diamond', 'bc', 'crocodile', 'reign', 'stomp', 'elm', 'leap', 'lieutenant:', 'purge:', 'thor', 'mud', 'proposal', 'drama', 'miri', 'things', 'mansion', 'drumline', 'alex', 'darkly', 'hannibal', 'pearl', 'possession', 'mutant', 'dreams', 'burnt', 'serendipity', '93', 'cimarron', 'riding', 'eat', 'resurrection', 'fu', 'perks', 'continental', 'brother,', 'contagion', 'smoking', 'jump', 'endless', 'grave', 'bedazzled', 'dance?', 'melquiades', 'barbershop', 'chloe', 'love.', 'trials', 'most', 'than', 'gladiator', 'shorts', 'swordfish', 'mass', 'pursuit', 'hotel', 'network', 'sylvia', 'guns', 'morning', 'exotic', 'x-men:', 'intelligence', 'month', 'shrek', 'clerks', 'mess', 'kicking', 'ted', 'foxcatcher', '6', 'max:', 'dolphin', 'castle', 'am', 'fisher', 'repo', 'crimes', 'powerful', 'worlds', '16', \"momma's\", 'driven', 'concussion', 'earth', 'army', 'cars', 'khumba', 'crazy', 'button', 'rose', 'love', 'pan', 'hachi:', 'wimbledon', 'winter', 'funny', 'wrestler', 'this', 'mirror', 'original', 'guard', 'zombieland', 'tub', 'wash', 'galore', 'silverman', 'corpses', 'fur:', 'november', 'avengers', 'ladies', 'walking', 'episode', 'alabama', 'rises', 'business', 'prejudice', 'moan', '5', 'team', 'below', 'mall', 'entourage', 'slumdog', 'eagle', 'brother', 'xin', 'knight', 'survivor', 'horse', 'seabiscuit', 'hell', 'insomnia', 'trouble', 'vs.', 'casino', 'enchanted', 'played', 'dalmatians', 'grindhouse', 'elf', 'katy', 'femme', 'echo', 'itâ€™s', 'cell', 'capitalism:', '40', 'dylan', 'burke', 'kick-ass', 'john', 'j.', 'haven', 'straw', 'domino', 'skull', 'danish', 'deeds', 'misã©rables', 'just', 'life', 'snake', 'eurotrip', 'jimmy', 'changeling', 'goosebumps', 'ten', 'secretariat', 'country', 'atlas', 'too!', 'soul', 'goes', 'budapest', 'wallflower', 'break', 'bridesmaids', 'anarchy', 'horrible', 'back-up', 'hancock', 'benjamins', 'bought', 'pixels', 'birds', 'furry', 'reading', 'key', 'street:', 'body', 'namesake', 'time', 'pool', 'edge', 'mission', 'of', 'philomena', 'plane', 'offerta', 'project', 'while', 'bandits', 'club', 'billy', 'so', 'atlantis:', 'candelabra', 'wimpy', 'tenacious', 'defiance', 'space', 'muppets', 'fair', 'bloody', 'marilyn', 'center', 'gigli', 'potter', 'lightning', 'adult', 'jeepers', 'fever', 'juno', 'voyage', 'heaven', 'straight', 'eclipse', 'gambler', 'effect', 'terminator', 'breaking', 'clause', 'bagger', 'fallen', 'django', 'justice', \"emperor's\", 'freaky', 'solace', 'geisha', 'people', 'creepers', 'through', 'above,', 'planet', 'reloaded', 'next', 'glory', 'mine', 'minority', 'guess', 'wrong', 'ant-man', 'dear', 'hunters', 'james', 'express', 'happens', 'dukes', 'garfield', 'jackass', '-', 'revolutions', 'myself', 'taking', 'summer', 'diviner', 'paddington', 'phoenix', 'ultimatum', 'keeping', 'prisoners', 'art', \"daddy's\", 'eli', 'american', 'lego', 'ghost', 'pirates', 'slackers', 'terabithia', 'heels', 'monster-in-law', 'adjustment', 'lloyd', 'generals', 'zero', 'gates', 'skyline', 'hutch', 'bruges', 'demon', \"winter's\", 'lot', 'shades', 'take', 'fighter', 'be', 'solomon', 'their', 'head', 'mcphee', 'sanctum', 'basketball', 'perry:', 'step', 'hanna', 'empire', 'krampus', 'secrets', 'hope', 'hulk', 'terminal', 'you', 'hard', 'klumps', 'daredevil', 'da', 'beach', 'redemption', 'recruit', 'dallas', 'ant', 'whole', 'atonement', 'tomcats', 'yogi', 'walter', 'forrester', 'luck.', 'unstoppable', 'wick', 'xxl', 'apes', 'goats', 'yes', 'boy', 'ronin', 'monkeybone', 'for', \"philosopher's\", 'frailty', 'breakers', 'hercules', 'greater', 'son', 'street', 'truth', 'rwanda', 'lizzie', 'cave', 'rush', 'interpreter', 'pronounce', 'predestination', 'place', 'act', 'kid', 'box', 'national', 'avp:', 'fidelity', 'contract', 'education', 'star', 'cirque', 'judge', 'damage', 'quills', 'jurassic', 'welcome', 'dates', 'orson', 'pooh', 'dozen', 'precinct', 'cool', 'tears', 'antitrust', 'g-force', 'flushed', 'iwo', 'skulls', 'nativity', 'spirits', 'wanderlust', 'babel', 'funeral', 'dressmaker', 'homefront', 'cristina', 'aces', 'chocolat', 'tailor', 'abandon', 'chapter', 'effects', 'suite', 'kingsman:', 'strong', 'haywire', 'oculus', 'lead', 'paranoia', 'pacific', 'knockaround', 'blart:', 'galaxy', 'a', 'i', 'alvin', 'diana', 'africa', 'marked', 'dã©jã', 'runaways', 'xxx', 'perdition', 'vicky', 'ring', 'among', 'sinister', 'vu', 'words', 'rundown', 'monuments', 'talladega', 'vote', 'license', 'ups', 'spotlight', 'alive', 'idiot', '1408', 'rules', 'smurfs', 'desolation', 'imaginary', 'tai', 'came', 'lanes', 'herbie', 'sunshine', 'boogeyman', 'visit', 'bay', 'monster', 'not', 'soldier', 'host', '9/11', 'traffic', 'trip', 'derailed', 'bourne', 'fantastic', '2012', 'jima', 'catwoman', 'notice', 'nemesis', 'stardust', 'pirates!', 'real', 'uptown', '(500)', 'agora', 'great', 'slevin', 'university', 'as', '3-d:', 'massacre', 'flight', 'hitman:', 'pianist', \"dorothy's\", 'valkyrie', '13th', 'chicks', 'could', 'lord', 'chuck', 'unborn', 'scotland', 'eight', 'spice', 'shrugged', 'tree', 'd', 'moulin', 'takes', 'jay', 'skin', 'premium', 'apprentice', 'parental', 'vol.', 'destiny', 'julia', 'attic', 'inception', 'chamber', 'wedding', 'polly', 'boxtrolls', 'gothika', 'spider', 'cellular', 'freddy', 'dog:', 'fleet', 'grandpa', 'father,', 'blind', 'sugar', \"i'm\", 'robin', 'omen', 'pyramid', \"barney's\", 'guy', 'citizen', 'dorado', 'thief', 'fox', 'runner:', 'number', 'swan', 'who!', 'supremacy', 'slave', 'movie', 'machete', 'sucker', 'ricky', 'bullwinkle', 'changing', 'ties', 'extraordinary', 'barnyard', 'a.e.', 'kane', 'joy', 'jackson', 'soloist', 'there', 'shanghai', '47', 'give', 'idiots', 'outta', 'yet?', 'matador', 'your', 'chimps', 'sentinel', '911!:', 'percy', '3:', \"smokin'\", 'azkaban', 'nick', '300:', 'lilo', 'book', 'springs', 'transylvania', 'polar', 'lookout', 'olympians:', \"world's\", 'does', 'outlander', 'shutter', 'frequency', 'silent', 'bosses', 'unfortunate', 'city:', 'rider:', 'pompeii', 'run', 'signs', 'reservations', 'greatest', 'tucker', 'plan', 'wolverine', 'travels', '13', 'highlander:', 'liar', 'happening', 'atlantis', 'true', 'gangs', 'violent', 'sam', 'almanac', 'lady', 'list', 'mulholland', 'hugo', 'public', 'anchorman', 'rim', 'you,', 'ember', '1000', 'silver', 'connie', 'george', 'dream', 'osmosis', 'horrible,', 'revisited', 'behind', 'mommas:', 'freedomland', '3dd', 'jill', 'maid', 'traveling', 'part', 'zoom', 'lo', 'quantum', 'room', 'brothers', 'dogs', 'version', 'jem', 'rocky', 'mist', 'green', 'sweetest', 'inkheart', 'boiler', 'glorious', 'apocalypse', 'season', 'torque', 'shallow', 'sound', 'calendar', \"norah's\", 'tonight', 'lambs', 'collateral', '43', 'thank', 'booth', 'flux', 'pelham', 'interstellar', 'us', 'meow', 'jobs', 'dupree', 'made', 'endgame', 'protocol', 'factory', 'reunion', 'hood', 'road', 'fairy', 'bobby', 'kids', 'guardians:', \"jennifer's\", 'carol', 'prometheus', 'phone', 'airbender', 'premonition', 'impossible', 'predator', 'raider:', 'sleeps', 'evolution', 'brick', 'state', 'benjamin', 'pi', 'fault', 'leave', 'gardener', 'flyboys', 'elite', 'domestic', 'stars', 'revolution', 'marine', 'underworld', 'return', 'dinosaurs', 'tourist', 'ryan:', 'kazakhstan', 'superbad', 's.w.a.t.', 'double', 'dead', 'secret', 'america:', \"valentine's\", 'cursed', 'jenkins', 'upon', \"king's\", 'banks', 'colombiana', 'mind', 'final', 'bounce', 'see', 'hero', 'frã¨res', 'justin', 'violence', 'aquamarine', 'bloodrayne', 'that', 'frog', 'punisher:', 'closer', 'supernova', 'bee', '7', 'cops', 'zone', 'forward', 'lakeview', 'bruce', 'timeline', 'radio', '2', 'spring', 'need', 'own', 'dawn', 'launch', 'high', 'eleven', 'hardball', 'reacher', 'in', 'seduction', 'tall', 'mitty', 'fockers', 'total', 'wed', 'easy', '49', 'mothman', 'learnings', 'morgans?', 'gosford', 'agent', 'valley', 'angels', 'knocked', 'incredible', 'neutron:', 'robot', 'play', 'bully', 'dumb', 'lion,', 'slayer', 'walk', 'kill', 'coyote', 'noah', 'iii', 'anger', 'port', 'call', 'lorax', 'conjuring', 'carla', 'pounds', 'wonderstone', 'gunman', 'everest', 'sentence', 'vacation', 'compass', 'over', 'can', 'munich', 'cosmopolis', 'sponge', 'ford', 'remember', 'hear', \"knight's\", 'payne', 'exodus:', 'extinction', 'helsing', 'lincoln:', 'horror', 'chipmunks:', 'proof', 'benefits', 'alienate', 'cop', 'rendition', 'measures', 'magic', 'bodies', 'limit', 'cody', 'ugly', 'instinct', 'rescue', 'duplicity', 'victor', 'extract', 'past', 'vanity', 'fred', 'disturbance', 'awkward', 'untraceable', 'children', \"fool's\", 'nation', 'scandal', 'drugs', 'finding', 'millionaire', 'sixty', 'highness', 'witch', 'rogue', 'mile', 'oblivion', 'source', 'die', 'village', 'last', 'hex', 'nash', 'flowers', 'fat', 'bear', 'at', 'serving', 'wives', 'click', 'grand', 'poseidon', 'night', 'punisher', 'god', 'chainsaw', 'beyond', 'begin', 'age:', 'police', 'epic', 'lara', 'glass', 'bloom', 'erin', 'solitary', 'under', 'monte', 'dog', 'attack', 'wilder', 'date', 'hearts', 'dilemma', 'olympus', 'despereaux', 'assistant', 'parker', 'unbreakable', 'strangers', 'rocknrolla', 'johnny', 'paranorman', 'franã§aise', 'want', 'destination', 'toy', 'iv', 'eyes', 'vantage', 'angry', 'racing', 'hawk', 'wind', 'terrible,', 'down', 'corky', 'black', 'robocop', 'rings:', 'the', 'maleficent', 'pathfinder', 'stone', 'artist', 'starsky', 'night,', 'divergent', 'hustle', 'kong', 'assassin', 'story', 'killing', 'burlesque', 'macgruber', 'moon', 'sun', 'king', 'expect', 'full', 'bullet', 'kiss', 'midnight', 'vance', 'bolt', 'miles', 'saga:', 'replayy', 'happened', \"ga'hoole\", 'grown', 'memento', 'burials', '50/50', 'neighbors', \"ocean's\", 'machinist', '80', 'avenger', \"wilson's\", 'isolde', 'boondock', \"tryin'\", 'into', 'catching', 'identity', 'aliens', 'million', 'chocolate', 'bad', 'beowulf', 'bob', 'ringer', 'wrath', 'squad', 'nutty', 'fathers', 'dreamgirls', 'bling', 'bandslam', 'legion', 'narnia:', 'target', 'd-tox', 'ratatouille', 'fahrenheit', 'harbor', 'why', 'hansel', \"surf's\", 'striped', 'rookie', 'almost', 'thor:', 'ladder', 'shadows', 'transsiberian', 'fountain', 'free', 'professor', 'friends', 'saving', 'barber', 'mysterious', 'giver', 'nights:', 'guardian', 'planner', 'armored', 'ride', 'end', 'girl', 'lives', 'stupid,', 'change-up', 'fire', 'throttle', 'portrait', 'elliot', 'safe', 'chef', 'cristiada', 'theory', 'wolf', 'paparazzi', 'emily', 'migliore', 'forgotten', 'window', 'st.', 'nights', 'si', 'grams', 'stolen', 'red,', 'austin', 'intern', 'jane', 'sorority', 'hangover', 'deathly', 'batman', 'giant', 'ron', 'due', 'locker', 'johnson', 'kite', 'less', 'dinner', 'world', 'exit', 'little', 'watch', 'say', 'gamer', 'gossip', 'job', 'were-rabbit', 'stand', 'museum:', 'maze', 'imitation', 'blocks', 'zoolander', 'york', 'east', 'dewey', 'crowd', 'thirteen', 'eternal', 'ray', 'simpsons', 'eye', 'zoo', 'nobody', 'crossroads', 'afraid', 'insurgent', 'save', 'guantanamo', 'disconnect', 'meat', '10,000', 'ninja', 'carnage', 'shoot', 'range', 'vacancy', 'elephants', 'cold', 'later...', 'zohan', 'america', 'corpse', 'and', 'avengers:', 'captivity', 'carrie', 'young', 'crowne', 'mortdecai', 'deception', 'order', 'blood', 'looney', 'nemo', 'evil:', 'town', 'omega', 'she', 'county', 'transformers', 'graceland', 'prince', 'scream', 'force', 'jury', 'spartan', 'legend', 'conan', 'moment', 'river', 'torino', 'turn', 'precious', 'five-year', 'gods', \"we're\", 'guest', 'broom', \"vampire's\", 'park', 'panama', \"snicket's\", 'brockovich', 'tomorrow', 'because', 'dr.', 'a.i.', 'internship', 'deux', 'elektra', 'murderer', 'jungle', 'disturbia', 'finest', 'dimension', 'again', 'hill', 'pass', 'sharkboy', 'belle', 'devil', \"sorcerer's\", 'sideways', 'swimming', 'couples', 'woman', 'fourth', 'post', 'furious:', 'tides', 'christ', 'burn', 'snow', 'dirty', 'guardians', 'smaug', 'oz:', 'selma', 'rent', 'tunes:', 'vinci', 'cinderella', 'turtles', 'lucy', 'moonacre', 'emma', 'racer', 'gain', 'shop', 'within', 'engagement', 'vampires', 'marshall', 'origins:', 'gravity', 'dance', 'old', 'xxx:', 'very', 'poltergeist', 'reborn', 'jesse', 'ides', 'diane', 'tammy', 'dungeons', 'adventureland', 'extremely', 'tails', 'jack', '21', 'curse', 'van', 'conviction', 'revenge', 'wounds', 'thing', 'scorpion', 'banlieue', 'zodiac', 'neverland', 'forgetting', 'towns', 'debt', 'bridge', 'pluto', 'sith', 'island', 'think', 'barbarian', 'peanuts', 'soldiers', 'out', 'death', 'marie', 'going', 'inherent', 'home', 'crazy,', 'school', 'begins', 'punch', 'unknown', 'all', 'on', 'weather', '2000', \"keeble's\", 'southpaw', 'san', 'get', 'takers', 'chihuahua', 'mrs.', 'holograms', 'demons', 'ascending', 'photo', 'spongebob', 'infinite', 'teacher', 'ours', 'pitch', 'weeks', 'angeles', 'panda', 'guys', 'sparkle', 'august', 'kumar', 'size', 'tokyo', 'union', 'puss', 'bright', 'schmucks', 'z', 'dragons', 'martian', \"moms'\", 'penguins', 'seventh', 'babylon', 'chi', 'priest', 'trek', 'hateful', 'sweet', 'gran', 'smart', 'coward', 'perfume:', '1', 'illuminated', 'opera', 'blonde', 'paycheck', 'rocked', 'big', 'seeking', 'clockstoppers', 'jie', 'brown', 'saints', 'wicker', '2:', 'grey', \"something's\", 'hornet', 'district', 'switch', 'beastly', 'hunter', 'rock', 'arbus', 'pines', 'trade', 'mountain', 'guidance', 'estate', 'stuck', 'memoirs', 'did', 'sabotage', 'paul', 'lycans', 'romano', 'cruelty', 'gentlemen', 'ages', 'alamo', 'speed', \"man's\", 'u.n.c.l.e.', 'rider', 'nanny', 'stealth', 'undercover', 'delivery', 'open', 'scorch', 'race', 'hardcore', 'hereafter', 'dancer', 'du', 'sitter', 'twilight', 'hears', 'we', 'forbidden', 'hallows:', 'crazies', 'musketeers', 'ever', 'continues', 'lincoln', 'prophecies', 'ballad', 'aloha', 'borrowed', 'london', 'apocalypto', 'annie', 'pulse', 'without', 'christmases', 'make', 'sara', 'hairspray', 'water', 'lake', 'trainwreck', 'jackass:', 'inc.', 'frozen', 'let', 'training', 'lin', 'auto', 'gang', 'good', 'megamind', 'sarah', 'presents:', 'ready', 'tombstones', 'underworld:', 'were', 'scanner', 'santa', 'stooges', 'legacy', 'code', 'mike', 'perfect', 'actually', 'class', 'groove', 'creed', 'aquatic', 'sea', 'jumper', 'sicko', 'frankenstein', 'pain', 'parents', 'osage', 'gretel:', 'golden', 'brand', 'amazing', 'tenenbaums', 'there.', 'bring', 'covenant', 'horton', 'our', 'spies', 'insidious:', 'spirit', 'contraband', 'fog', 'vow', 'tooth', 'light', 'noise', 'moneyball', 'candidate', 'crystal', 'titan', 'beneath', 'ship', 'playbook', 'diary', 'raid', 'eve', 'lemony', 'chun-li', 'lying', 'swing', 'surrogates', 'happy', 'nacho', 'paranormal', 'invasion', 'persia:', 'apart', 'dragonfly', 'fifth', 'robert', 'gatsby', 'dread', 'dragon', \"brooklyn's\", 'turbo', 'coraline', 'accepted', 'left', 'bounty', 'cloudy', 'messenger', 'dame', 'crazy/beautiful', 'frankenweenie', 'anchorman:', 'u-571', 'rango', 'report', 'from', 'coopers', 'by', 'joneses', 'if', 'grad', 'chest', 'ledge', 'robots', 'arthur', 'whatever', 'famous', 'activity:', 'still', 'whereâ€™s', 'invisible', 'vanilla', 'wallâ·e', 'brideshead', 'trinity', 'teenage', 'baby', 'feardotcom', 'romeo', 'dollar', 'stitch', 'doom', 'minions', 'along', 'harold', 'smith', 'scientists!', 'inglourious', 'passion', 'week', 'resident', 'clayton', 'mechanic', 'other', 'intolerable', 'hal', 'wears', 'godzilla', 'pick', 'fury', 'legally', 'beauty', 'enough', 'barcelona', 'karate', 'porno', '17', 'brooklyn', 'raven', 'quartet', 'expendables', '3000', 'management', 'when', 'trapped', 'showtime', 'unexpected', 'kills', 'montana:', 'notebook', 'work', 'k-pax', 'day', 'tape', 'service', 'clones', 'drag', 'broken', 'mama', 'spectre', 'michael', 'way', 'phillips', 'bones', 'yuma', 'v', 'serious', 'shaft', 'mummy:', 'mad', 'spotless', 'catch', 'andreas', 'sweeney', 'captain', 'hazzard', 'alice', 'bill:', 'footloose', 'strings', 'spanglish', \"she's\", 'blue', 'madagascar:', 'hide', 'promises', 'stories', 'doomsday', 'retribution', 'playlist', 'with', 'voltage', 'mcguire', 'united', 'english', 'seed', 'illusionist', 'goblet', 'crash', 'unchained', 'akeelah', 'fish', 'edgar', 'taken', 'tower', 'imposible', 'softly', 'recall', 'la', 'indigã¨nes', 'vi', \"sister's\", ':', 'door', 'rumble', 'manchurian', 'planes:', 'benefit', 'bieber:', 'treasure', 'unbroken', 'goldmember', 'miss', 'ones', '30', 'blade', 'brokeback', 'raider', 'ali', 'cobra', 'gridiron', 'dave', 'battle:', 'hanging', 'vampire', 'mansions', 'jason', 'snitch', 'salvation', 'righteous', 'meltdown', 'nine', 'nightcrawler', 'windtalkers', \"warrior's\", 'solaris', 'stuart', \"mao's\", 'german', 'ranger', 'days', 'tomorrowland', 'complicated', 'strike', 'looper', 'informant!', 'transcendence', 'journey', 'international', 'hours', 'hop', 'honey', 'reaping', 'spirit:', 'heat', 'towers', 'apparition', 'ghosts', 'zorro', 'feathers', 'who', 'vegas', 'caspian', 'pray', \"don't\", 'kingdom', 'heist', 'huntsman', 'mummy', 'row', 'debaters', 'bang', 'roscoe', 'kings', 'marmaduke', 'furnace', 'christmas', 'metallica:', 'retreat', 'commander:', 'buyers', 'kitty', \"you're\", 'tangled', 'texas', 'has', 'joe:', 'my', 'shall', 'runner', 'crush', 'seek', 'sands', '3', 'ice', 'butterfly', '8', 'shark', 'evan', 'preacher', 'peak', 'lions', '44', 'hidalgo', 'madagascar', 'friday', 'blended', 'annapolis', 'luck', 'how', 'legends', 'hour', 'being', 'north', 'estrada', 'counselor', 'chronicles', 'fiction', 'avatar', 'godsend', 'wars', 'ricki', 'short', 'music', 'cox', 'forever', 'outlaws', 'darkness', 'suspect', 'blow', 'skeleton', 'tomorrow,', 'p.s.', 'believe', 'smithsonian', 'long', 'hostage', 'mexico', 'pilgrim', 'have', 'terrace', 'scooby-doo', 'thousand', 'dumber', 'lawyer', 'best', 'runaway', 'inside', 'disaster', 'half-blood', 'rodrick', 'mockingjay', 'super', 'incredibly', 'vendetta', 'grit', '4', 'yard', 'train', 'others', 'guru', 'x2', 'doubt', 'dolittle', 'flow', 'burt', 'began', 'frida', 'sniper', 'unfinished', 'method', 'dogtown', 'valentine', 'games', 'almighty', 'fun', 'carter', 'spider-man', 'upside', 'expecting', 'around', 'activity', 'basterds', 'baggage', 'angel', 'gone', \"nim's\", 'later', 'mighty', 'croft', 'march', 'attached', 'drive', 'break-up', 'superhero', 'marley', 'wars:', 'morris', 'years', 'constantine', 'married?', 'alien', 'dredd', 'live', 'g.i.', \"he's\", \"gulliver's\", 'what', 'knights', 'todd:', 'me,', 'speech', 'majestic', 'elizabethtown', 'cloverfield', 'hao', 'everything', 'stay', 'hitman', 'powers', 'kid:', 'is', 'deed', 'jones', 'house', 'machine', 'paper', \"jones's\", 'bangkok', 'awakening', 'twisted', 'lights', 'dark', 'chicago', 'patriot', 'wild', 'another', 'curious', 'lucky', 'cake', 'butler', 'elizabeth:', 'equilibrium', 'longest', '50', 'sisters', 'mamma', 'family', 'larry', 'rise', 'number?', 'bride', 'squeakquel', 'hannah', 'lost', 'hedge', 'reno', 'bunny', 'moonrise', 'five', 'fighter:', 'squarepants', 'faith', 'furious', 'adventure', 'after', 'must', \"devil's\", '42', 'employee', 'scared', 'libre', 'treader', \"let's\", 'kind', 'far', 'hoax', 'lovely', 'three', 'rat', 'winnie', 'arm', 'hills', 'lawless', 'viva', 'sky', 'obsessed', 'unleashed', 'new', 'dracula', 'bedtime', \"hart's\", 'hollow', 'ð¡ñ‚ð°ð»ð¸ð½ð³ñ€ð°ð´', 'stepford', 'grinch', 'needs', '15', 'awake', 'a.d.', 'snatch', 'wanted', 'congeniality', 'future', 'treasure:', 'adaptation.', 'borat:', 'back', 'spartans', 'tattoo', 'distance', 'year', 'hoodwinked', 'lords', 'shao', 'chance', 'birdman', 'tmnt', 'suffragette', 'henry', 'david', 'dodgeball:', 'capote', 'models', 'o', 'julie', 'streets', 'law', 'salt', 'company', 'close', 'teen', 'bears', 'el', 'fifty', 'them', 'cradle', 'rover', 'two', 'meet', 'cultural', 'stripes', 'boat', 'whiteout', '18', 'sex', '6th', 'transformers:', 'queen', 'wax', 'savages', 'wall', 'miracle', 'bridget', 'zookeeper', 'croods', 'mystic', 'linings', 'push', 'carlo', 'gale', 'armies', 'mirrors', 'instruments:', 'constant', 'yards', 'tristan', 'history', 'undisputed', 'mission:', 'fantasy:', 'child', 'dancing:', 'albert', 'untold', 'centurion', 'dumberer:', 'hurt', 'elysium', 'sahara', 'to', 'grimm', 'men', 'marigold', 'point', \"god's\", '9', 'wonderland', 'me', 'jacket', 'alpha', 'crank', 'x', '3d', 'hill:', 'flags', 'machines', 'compton', 'lies', 'vertical', 'igor', 'veronica', 'chicken', 'too?', 'adaline', 'bucket', 'afterlife', 'conspirator', 'care', 'enemy', 'machina', 'greek', 'psychopaths', 'antoinette', 'whisper', 'confessions', 'dreamcatcher', 'monsters,', 'rumor', 'titans', 'blueberry', 'crashers', 'sisterhood', 'hall', 'tale', 'scary', 'girls', 'roommate', 'rambo', 'him', 'interview', 'sin', 'angels:', 'panic', 'tomb', 'igby', 'aviator', 'holiday', 'abraham', 'august:', 'schmidt', 'norbit', 'scoundrels', 'holmes:', 'rising', 'release', 'adam', 'car?', 'shopaholic', 'surfer', 'orphan', 'mandela:', 'duff', 'hitcher', 'ouija', 'air', 'feet', 'stood', 'dan', 'no', 'apollo', 'iron', 'seconds', 'tropic', 'basic', 'prisoner', 'musketeer', 'antwone', '88', 'like', 'score', 'focus', 'master', 'an', 'storm', 'meatballs', 'before', 'pineapple', 'darkest', 'irene', 'spiderwick', 'hare', \"what's\", 'prom', 'a-team', 'where', 'argo', 'evil', 'jones:', 'museum', 'havana', 'camp', 'princess', 'awakens', 'q', 'piranha', 'bewitched', 'annabelle', 'chronicle', 'killed', 'beverly', 'gold', 'harry', 'mortal', 'mindhunters', 'australia', 'ji', 'indiana', 'jackson:', 'lockout', 'sydney', 'war', 'invention', 'welles', 'revolutionary', 'scott', 'samurai', 'damned', 'incredibles', 'mexican', 'bees', 'vice', 'les', 'dirt', 'hundred-foot', 'monsters', 'oldboy', '102', 'stormbreaker', 'files:', 'loud', 'ruins', 'moms', 'events', 'halloween:', 'go', 'cowboys', 'firewall', 'up', 'x-men', 'steel', 'one', 'halloween', 'fellowship', \"friend's\", 'beautiful', 'i,', 'rouge!', 'jonah', '12', 'now', 'reindeer', 'vincent', 'zack', 'social', 'land', 'spy', 'nightmare', 'joe', 'jarhead', 'paddle', 'lyrics', 'core', 'phillip', 'tron:', 'blade:', 'transporter', 'dhoom', \"ender's\", 'battle', 'age', 'warm', 'w.', 'admission', 'matrix', 'flash', 'abyss', 'genius', 'goal!:', 'suck', 'rio', 'valor', 'running', 'ground', 'dresses', 'boulevard', 'chucky', 'invictus', 'rich', 'sicario', 'limitless', 'man', 'emperor', 'orleans', 'caribbean:', 'eastern', 'help', 'shadow', 'sherlock', 'hot', 'cheaper', 'valiant', 'ralph', 'movie:', '3:10', 'good,', 'psycho', 'returns', 'crisis', 'writer', 'charlie', 'brave', 'daddy', 'alexander', 'royale', 'wife', 'jupiter', 'block', 'daybreakers', 'mr.', 'murder', 'killers', 'becoming', 'abiding', 'shepherd', 'shaggy', '300', 'trespass', 'riddick', 'red', 'fatboy', 'thirty', 'pants', 'prada', 'dude,', 'dreamz', 'freak:', 'wardrobe', 'unfaithful', 'letters', 'gnomeo', 'gift', '127', 'lampoonâ€™s', 'rounds', 'planes', \"cat's\", 'ella', 'claim', 'wreck-it', 'fast', 'third', 'hunted', 'watchmen', 'promised', 'knowing', 'syriana', 'loaded', 'lantern', 'or', 'quarantine', 'reason', 'manhattan', 'skyfall', 'elah', 'holmes', 'jeff,', 'silence', 'widowmaker', 'assassination', 'ã†on', 'stole', 'diaries', 'assault', 'met', 'move', 'clash', 'case', 'rum', 'exorcism', 'stare', 'mars', 'seven', 'peter', 'dangerous', 'freedom', 'tintin', 'rv', 'eragon', 'crimson', 'blackhat', 'fatale', 'pandorum', 'nebraska', 'troy', 'flightplan', 'word', 'pay', 'happyness', \"hitchhiker's\", 'claus', 'trance', 'despicable', \"'em\", 'do', '27', 'kasbah', 'taxi', 'burgundy', 'dundee', 'writers', 'victoria', 'ii:', 'honor', 'robinsons', 'r.i.p.d.', '&', \"year's\", 'minutes', 'guide', 'chipmunks', 'it', '22', 'dick', 'once', 'cast', 'descendants', 'cabin', 'thou?', 'thunder', 'phantom', 'killer', 'lose', 'knows', 'immortals', 'enemies', 'departed', '39', 'hellboy', '10', 'hitch', 'flintstones', 'boys', 'territory', 'ii', 'snakes', 'cross', 'hostel:', 'dictator', 'jumping', 'ex', 'numbers', 'cholera', 'rocker', 'astro', 'city', '4:', 'something', 'never', 'calls', 'steve', 'series', 'four', 'trumbo', 'bureau', 'away', 'equalizer', \"europe's\", 'max', 'k-19:', 'heartbreak', 'stands', 'railway', 'failure', 'refueled', 'zissou', 'nobbs', 'yours,', 'rite', 'bringing', 'it...', 'are', '51', 'battleship', 'married', 'winn-dixie', 'chappie', 'woods', \"that's\", 'shooter', 'vs', 'royal', 'about', 'genisys', 'cats', 'mean', 'keeper', 'amityville', 'gotta', 'stranger', 'vengeance', 'action', 'hoodwinked!', 'notes', 'alone', 'rebound', \"it's\", 'escape', 'mia!', 'line', 'juliet', 'revenant', 'los', 'kung', 'brooks', 'game', 'ultron', 'revelation', 'women', 'kelly', 'side', 'boots', 'pacifier', 'trek:', 'lines', 'croft:', 'hobbit:', 'her', 'lone', 'balboa', 'heart', 'crank:', 'grudge', 'fully', 'hunger', 'prestige', 'know', 'coach', 'animal', \"bean's\", 'match', 'role', 'money', 'twelve', \"charlie's\", 'virgin', 'hard:', 'self/less', 'screaming', 'saw'}\n"
     ]
    }
   ],
   "source": [
    "word = data['original_title'].str.lower()\n",
    "words = set(word.str.split().sum())\n",
    "print(len(words))\n",
    "answer_ls.append(3)"
   ]
  },
  {
   "cell_type": "markdown",
   "metadata": {},
   "source": [
    "# 34. Какие фильмы входят в 1 процент лучших по рейтингу?\n",
    "Варианты ответа:\n",
    "1. Inside Out, Gone Girl, 12 Years a Slave\n",
    "2. BloodRayne, The Adventures of Rocky & Bullwinkle\n",
    "3. The Lord of the Rings: The Return of the King\n",
    "4. 300, Lucky Number Slevin"
   ]
  },
  {
   "cell_type": "code",
   "execution_count": null,
   "metadata": {},
   "outputs": [],
   "source": [
    "answer_ls.append(3)"
   ]
  },
  {
   "cell_type": "markdown",
   "metadata": {},
   "source": [
    "# 35. Какие актеры чаще всего снимаются в одном фильме вместе\n",
    "Варианты ответа:\n",
    "1. Johnny Depp & Helena Bonham Carter\n",
    "2. Hugh Jackman & Ian McKellen\n",
    "3. Vin Diesel & Paul Walker\n",
    "4. Adam Sandler & Kevin James\n",
    "5. Daniel Radcliffe & Rupert Grint"
   ]
  },
  {
   "cell_type": "code",
   "execution_count": 140,
   "metadata": {},
   "outputs": [
    {
     "name": "stdout",
     "output_type": "stream",
     "text": [
      "6\n",
      "5\n",
      "0\n",
      "5\n",
      "8\n"
     ]
    }
   ],
   "source": [
    "J = data[data.cast.str.contains('Johnny Depp')] \n",
    "JH= J[J.cast.str.contains('Helena Bonham Carter')] \n",
    "\n",
    "H = data[data.cast.str.contains('Hugh Jackman')] \n",
    "HI= H[H.cast.str.contains('Ian McKellen')] \n",
    "\n",
    "V = data[data.cast.str.contains('Vin Diesel ')] \n",
    "VP= V[V.cast.str.contains('Paul Walker')] \n",
    "\n",
    "A = data[data.cast.str.contains('Adam Sandler')] \n",
    "AK= A[A.cast.str.contains('Kevin James')] \n",
    "\n",
    "D = data[data.cast.str.contains('Daniel Radcliffe')] \n",
    "DR= D[D.cast.str.contains('Rupert Grint')] \n",
    "print(len(JH))\n",
    "print(len(HI))\n",
    "print(len(VP))\n",
    "print(len(AK))\n",
    "print(len(DR))\n",
    "answer_ls.append(5)"
   ]
  },
  {
   "cell_type": "markdown",
   "metadata": {},
   "source": [
    "# 36. У какого из режиссеров выше вероятность выпустить фильм в прибыли? (5 баллов)101\n",
    "Варианты ответа:\n",
    "1. Quentin Tarantino\n",
    "2. Steven Soderbergh\n",
    "3. Robert Rodriguez\n",
    "4. Christopher Nolan\n",
    "5. Clint Eastwood"
   ]
  },
  {
   "cell_type": "code",
   "execution_count": 121,
   "metadata": {},
   "outputs": [
    {
     "name": "stdout",
     "output_type": "stream",
     "text": [
      "Christopher Nolan\n",
      "                   0           1\n",
      "0  Quentin Tarantino   85.714286\n",
      "1  Steven Soderbergh   61.538462\n",
      "2   Robert Rodriguez   45.454545\n",
      "3  Christopher Nolan  100.000000\n",
      "4     Clint Eastwood   75.000000\n"
     ]
    }
   ],
   "source": [
    "data['profit_value'] = data['revenue'] - data['budget']\n",
    "directors = ['Quentin Tarantino', 'Steven Soderbergh', 'Robert Rodriguez', 'Christopher Nolan', 'Clint Eastwood']\n",
    "calculated_data = []\n",
    "for director in directors:\n",
    "    films = data[data['director'].str.contains(director)]\n",
    "    positive_profit = len(films[films['profit_value'] > films['budget']])\n",
    "    positive_percent = (positive_profit / len(films)) * 100\n",
    "    calculated_data.append([director, positive_percent])\n",
    "frame = pd.DataFrame(calculated_data)\n",
    "# вывод ответа\n",
    "print(frame[0][frame[1].idxmax()])\n",
    "# вывод данных для визуальной проверки\n",
    "print(frame)\n",
    "answer_ls.append(4)"
   ]
  },
  {
   "cell_type": "markdown",
   "metadata": {},
   "source": [
    "# Submission"
   ]
  },
  {
   "cell_type": "code",
   "execution_count": 6,
   "metadata": {},
   "outputs": [
    {
     "data": {
      "text/plain": [
       "0"
      ]
     },
     "execution_count": 6,
     "metadata": {},
     "output_type": "execute_result"
    }
   ],
   "source": [
    "len(answer_ls)"
   ]
  },
  {
   "cell_type": "code",
   "execution_count": 5,
   "metadata": {},
   "outputs": [
    {
     "data": {
      "text/html": [
       "<div>\n",
       "<style scoped>\n",
       "    .dataframe tbody tr th:only-of-type {\n",
       "        vertical-align: middle;\n",
       "    }\n",
       "\n",
       "    .dataframe tbody tr th {\n",
       "        vertical-align: top;\n",
       "    }\n",
       "\n",
       "    .dataframe thead th {\n",
       "        text-align: right;\n",
       "    }\n",
       "</style>\n",
       "<table border=\"1\" class=\"dataframe\">\n",
       "  <thead>\n",
       "    <tr style=\"text-align: right;\">\n",
       "      <th></th>\n",
       "      <th>Id</th>\n",
       "      <th>Answer</th>\n",
       "    </tr>\n",
       "  </thead>\n",
       "  <tbody>\n",
       "  </tbody>\n",
       "</table>\n",
       "</div>"
      ],
      "text/plain": [
       "Empty DataFrame\n",
       "Columns: [Id, Answer]\n",
       "Index: []"
      ]
     },
     "execution_count": 5,
     "metadata": {},
     "output_type": "execute_result"
    }
   ],
   "source": [
    "pd.DataFrame({'Id':range(1,len(answer_ls)+1), 'Answer':answer_ls}, columns=['Id', 'Answer'])"
   ]
  },
  {
   "cell_type": "code",
   "execution_count": null,
   "metadata": {},
   "outputs": [],
   "source": []
  }
 ],
 "metadata": {
  "kernelspec": {
   "display_name": "Python 3",
   "language": "python",
   "name": "python3"
  },
  "language_info": {
   "codemirror_mode": {
    "name": "ipython",
    "version": 3
   },
   "file_extension": ".py",
   "mimetype": "text/x-python",
   "name": "python",
   "nbconvert_exporter": "python",
   "pygments_lexer": "ipython3",
   "version": "3.7.4"
  }
 },
 "nbformat": 4,
 "nbformat_minor": 4
}
