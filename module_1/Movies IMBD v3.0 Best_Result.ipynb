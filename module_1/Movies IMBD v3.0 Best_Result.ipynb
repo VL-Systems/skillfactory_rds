{
 "cells": [
  {
   "cell_type": "code",
   "execution_count": 2,
   "metadata": {
    "_cell_guid": "b1076dfc-b9ad-4769-8c92-a6c4dae69d19",
    "_uuid": "8f2839f25d086af736a60e9eeb907d3b93b6e0e5"
   },
   "outputs": [
    {
     "ename": "FileNotFoundError",
     "evalue": "[WinError 3] Системе не удается найти указанный путь: '../input'",
     "output_type": "error",
     "traceback": [
      "\u001b[1;31m---------------------------------------------------------------------------\u001b[0m",
      "\u001b[1;31mFileNotFoundError\u001b[0m                         Traceback (most recent call last)",
      "\u001b[1;32m<ipython-input-2-9edefa0a370a>\u001b[0m in \u001b[0;36m<module>\u001b[1;34m\u001b[0m\n\u001b[0;32m      5\u001b[0m \u001b[1;32mimport\u001b[0m \u001b[0mos\u001b[0m\u001b[1;33m\u001b[0m\u001b[1;33m\u001b[0m\u001b[0m\n\u001b[0;32m      6\u001b[0m \u001b[1;32mfrom\u001b[0m \u001b[0mcollections\u001b[0m \u001b[1;32mimport\u001b[0m \u001b[0mCounter\u001b[0m\u001b[1;33m\u001b[0m\u001b[1;33m\u001b[0m\u001b[0m\n\u001b[1;32m----> 7\u001b[1;33m \u001b[0mprint\u001b[0m\u001b[1;33m(\u001b[0m\u001b[0mos\u001b[0m\u001b[1;33m.\u001b[0m\u001b[0mlistdir\u001b[0m\u001b[1;33m(\u001b[0m\u001b[1;34m\"../input\"\u001b[0m\u001b[1;33m)\u001b[0m\u001b[1;33m)\u001b[0m\u001b[1;33m\u001b[0m\u001b[1;33m\u001b[0m\u001b[0m\n\u001b[0m",
      "\u001b[1;31mFileNotFoundError\u001b[0m: [WinError 3] Системе не удается найти указанный путь: '../input'"
     ]
    }
   ],
   "source": [
    "import numpy as np\n",
    "import pandas as pd\n",
    "import seaborn as sns\n",
    "import matplotlib.pyplot as plt\n",
    "import os\n",
    "from collections import Counter\n",
    "print(os.listdir(\"../input\"))"
   ]
  },
  {
   "cell_type": "code",
   "execution_count": 3,
   "metadata": {},
   "outputs": [
    {
     "data": {
      "text/html": [
       "<div>\n",
       "<style scoped>\n",
       "    .dataframe tbody tr th:only-of-type {\n",
       "        vertical-align: middle;\n",
       "    }\n",
       "\n",
       "    .dataframe tbody tr th {\n",
       "        vertical-align: top;\n",
       "    }\n",
       "\n",
       "    .dataframe thead th {\n",
       "        text-align: right;\n",
       "    }\n",
       "</style>\n",
       "<table border=\"1\" class=\"dataframe\">\n",
       "  <thead>\n",
       "    <tr style=\"text-align: right;\">\n",
       "      <th></th>\n",
       "      <th>imdb_id</th>\n",
       "      <th>popularity</th>\n",
       "      <th>budget</th>\n",
       "      <th>revenue</th>\n",
       "      <th>original_title</th>\n",
       "      <th>cast</th>\n",
       "      <th>director</th>\n",
       "      <th>tagline</th>\n",
       "      <th>overview</th>\n",
       "      <th>runtime</th>\n",
       "      <th>genres</th>\n",
       "      <th>production_companies</th>\n",
       "      <th>release_date</th>\n",
       "      <th>vote_count</th>\n",
       "      <th>vote_average</th>\n",
       "      <th>release_year</th>\n",
       "    </tr>\n",
       "  </thead>\n",
       "  <tbody>\n",
       "    <tr>\n",
       "      <td>0</td>\n",
       "      <td>tt0369610</td>\n",
       "      <td>32.985763</td>\n",
       "      <td>150000000</td>\n",
       "      <td>1513528810</td>\n",
       "      <td>Jurassic World</td>\n",
       "      <td>Chris Pratt|Bryce Dallas Howard|Irrfan Khan|Vi...</td>\n",
       "      <td>Colin Trevorrow</td>\n",
       "      <td>The park is open.</td>\n",
       "      <td>Twenty-two years after the events of Jurassic ...</td>\n",
       "      <td>124</td>\n",
       "      <td>Action|Adventure|Science Fiction|Thriller</td>\n",
       "      <td>Universal Studios|Amblin Entertainment|Legenda...</td>\n",
       "      <td>6/9/2015</td>\n",
       "      <td>5562</td>\n",
       "      <td>6.5</td>\n",
       "      <td>2015</td>\n",
       "    </tr>\n",
       "    <tr>\n",
       "      <td>1</td>\n",
       "      <td>tt1392190</td>\n",
       "      <td>28.419936</td>\n",
       "      <td>150000000</td>\n",
       "      <td>378436354</td>\n",
       "      <td>Mad Max: Fury Road</td>\n",
       "      <td>Tom Hardy|Charlize Theron|Hugh Keays-Byrne|Nic...</td>\n",
       "      <td>George Miller</td>\n",
       "      <td>What a Lovely Day.</td>\n",
       "      <td>An apocalyptic story set in the furthest reach...</td>\n",
       "      <td>120</td>\n",
       "      <td>Action|Adventure|Science Fiction|Thriller</td>\n",
       "      <td>Village Roadshow Pictures|Kennedy Miller Produ...</td>\n",
       "      <td>5/13/2015</td>\n",
       "      <td>6185</td>\n",
       "      <td>7.1</td>\n",
       "      <td>2015</td>\n",
       "    </tr>\n",
       "    <tr>\n",
       "      <td>2</td>\n",
       "      <td>tt2908446</td>\n",
       "      <td>13.112507</td>\n",
       "      <td>110000000</td>\n",
       "      <td>295238201</td>\n",
       "      <td>Insurgent</td>\n",
       "      <td>Shailene Woodley|Theo James|Kate Winslet|Ansel...</td>\n",
       "      <td>Robert Schwentke</td>\n",
       "      <td>One Choice Can Destroy You</td>\n",
       "      <td>Beatrice Prior must confront her inner demons ...</td>\n",
       "      <td>119</td>\n",
       "      <td>Adventure|Science Fiction|Thriller</td>\n",
       "      <td>Summit Entertainment|Mandeville Films|Red Wago...</td>\n",
       "      <td>3/18/2015</td>\n",
       "      <td>2480</td>\n",
       "      <td>6.3</td>\n",
       "      <td>2015</td>\n",
       "    </tr>\n",
       "    <tr>\n",
       "      <td>3</td>\n",
       "      <td>tt2488496</td>\n",
       "      <td>11.173104</td>\n",
       "      <td>200000000</td>\n",
       "      <td>2068178225</td>\n",
       "      <td>Star Wars: The Force Awakens</td>\n",
       "      <td>Harrison Ford|Mark Hamill|Carrie Fisher|Adam D...</td>\n",
       "      <td>J.J. Abrams</td>\n",
       "      <td>Every generation has a story.</td>\n",
       "      <td>Thirty years after defeating the Galactic Empi...</td>\n",
       "      <td>136</td>\n",
       "      <td>Action|Adventure|Science Fiction|Fantasy</td>\n",
       "      <td>Lucasfilm|Truenorth Productions|Bad Robot</td>\n",
       "      <td>12/15/2015</td>\n",
       "      <td>5292</td>\n",
       "      <td>7.5</td>\n",
       "      <td>2015</td>\n",
       "    </tr>\n",
       "    <tr>\n",
       "      <td>4</td>\n",
       "      <td>tt2820852</td>\n",
       "      <td>9.335014</td>\n",
       "      <td>190000000</td>\n",
       "      <td>1506249360</td>\n",
       "      <td>Furious 7</td>\n",
       "      <td>Vin Diesel|Paul Walker|Jason Statham|Michelle ...</td>\n",
       "      <td>James Wan</td>\n",
       "      <td>Vengeance Hits Home</td>\n",
       "      <td>Deckard Shaw seeks revenge against Dominic Tor...</td>\n",
       "      <td>137</td>\n",
       "      <td>Action|Crime|Thriller</td>\n",
       "      <td>Universal Pictures|Original Film|Media Rights ...</td>\n",
       "      <td>4/1/2015</td>\n",
       "      <td>2947</td>\n",
       "      <td>7.3</td>\n",
       "      <td>2015</td>\n",
       "    </tr>\n",
       "  </tbody>\n",
       "</table>\n",
       "</div>"
      ],
      "text/plain": [
       "     imdb_id  popularity     budget     revenue                original_title  \\\n",
       "0  tt0369610   32.985763  150000000  1513528810                Jurassic World   \n",
       "1  tt1392190   28.419936  150000000   378436354            Mad Max: Fury Road   \n",
       "2  tt2908446   13.112507  110000000   295238201                     Insurgent   \n",
       "3  tt2488496   11.173104  200000000  2068178225  Star Wars: The Force Awakens   \n",
       "4  tt2820852    9.335014  190000000  1506249360                     Furious 7   \n",
       "\n",
       "                                                cast          director  \\\n",
       "0  Chris Pratt|Bryce Dallas Howard|Irrfan Khan|Vi...   Colin Trevorrow   \n",
       "1  Tom Hardy|Charlize Theron|Hugh Keays-Byrne|Nic...     George Miller   \n",
       "2  Shailene Woodley|Theo James|Kate Winslet|Ansel...  Robert Schwentke   \n",
       "3  Harrison Ford|Mark Hamill|Carrie Fisher|Adam D...       J.J. Abrams   \n",
       "4  Vin Diesel|Paul Walker|Jason Statham|Michelle ...         James Wan   \n",
       "\n",
       "                         tagline  \\\n",
       "0              The park is open.   \n",
       "1             What a Lovely Day.   \n",
       "2     One Choice Can Destroy You   \n",
       "3  Every generation has a story.   \n",
       "4            Vengeance Hits Home   \n",
       "\n",
       "                                            overview  runtime  \\\n",
       "0  Twenty-two years after the events of Jurassic ...      124   \n",
       "1  An apocalyptic story set in the furthest reach...      120   \n",
       "2  Beatrice Prior must confront her inner demons ...      119   \n",
       "3  Thirty years after defeating the Galactic Empi...      136   \n",
       "4  Deckard Shaw seeks revenge against Dominic Tor...      137   \n",
       "\n",
       "                                      genres  \\\n",
       "0  Action|Adventure|Science Fiction|Thriller   \n",
       "1  Action|Adventure|Science Fiction|Thriller   \n",
       "2         Adventure|Science Fiction|Thriller   \n",
       "3   Action|Adventure|Science Fiction|Fantasy   \n",
       "4                      Action|Crime|Thriller   \n",
       "\n",
       "                                production_companies release_date  vote_count  \\\n",
       "0  Universal Studios|Amblin Entertainment|Legenda...     6/9/2015        5562   \n",
       "1  Village Roadshow Pictures|Kennedy Miller Produ...    5/13/2015        6185   \n",
       "2  Summit Entertainment|Mandeville Films|Red Wago...    3/18/2015        2480   \n",
       "3          Lucasfilm|Truenorth Productions|Bad Robot   12/15/2015        5292   \n",
       "4  Universal Pictures|Original Film|Media Rights ...     4/1/2015        2947   \n",
       "\n",
       "   vote_average  release_year  \n",
       "0           6.5          2015  \n",
       "1           7.1          2015  \n",
       "2           6.3          2015  \n",
       "3           7.5          2015  \n",
       "4           7.3          2015  "
      ]
     },
     "execution_count": 3,
     "metadata": {},
     "output_type": "execute_result"
    }
   ],
   "source": [
    "data = pd.read_csv('data.csv')\n",
    "data.head(5)"
   ]
  },
  {
   "cell_type": "code",
   "execution_count": 4,
   "metadata": {},
   "outputs": [
    {
     "data": {
      "text/plain": [
       "1890"
      ]
     },
     "execution_count": 4,
     "metadata": {},
     "output_type": "execute_result"
    }
   ],
   "source": [
    "len(data)"
   ]
  },
  {
   "cell_type": "markdown",
   "metadata": {},
   "source": [
    "# Предобработка датасета"
   ]
  },
  {
   "cell_type": "code",
   "execution_count": 5,
   "metadata": {},
   "outputs": [],
   "source": [
    "answer_ls = [] # создадим список с ответами. сюда будем добавлять ответы по мере прохождения теста\n",
    "# сюда можем вписать создание новых колонок в датасете"
   ]
  },
  {
   "cell_type": "markdown",
   "metadata": {},
   "source": [
    "# 1. У какого фильма из списка самый большой бюджет?\n",
    "Варианты ответов:\n",
    "1. The Dark Knight Rises (tt1345836)\n",
    "2. Spider-Man 3 (tt0413300)\n",
    "3. Avengers: Age of Ultron (tt2395427)\n",
    "4. The Warrior's Way\t(tt1032751)\n",
    "5. Pirates of the Caribbean: On Stranger Tides (tt1298650)"
   ]
  },
  {
   "cell_type": "code",
   "execution_count": 6,
   "metadata": {},
   "outputs": [
    {
     "name": "stdout",
     "output_type": "stream",
     "text": [
      "491    The Warrior's Way\n",
      "Name: original_title, dtype: object\n"
     ]
    }
   ],
   "source": [
    "print(data[data.budget==data.budget.max()].original_title)\n",
    "answer_ls.append(3)"
   ]
  },
  {
   "cell_type": "markdown",
   "metadata": {},
   "source": [
    "# 2. Какой из фильмов самый длительный (в минутах)\n",
    "1. The Lord of the Rings: The Return of the King\t(tt0167260)\n",
    "2. Gods and Generals\t(tt0279111)\n",
    "3. King Kong\t(tt0360717)\n",
    "4. Pearl Harbor\t(tt0213149)\n",
    "5. Alexander\t(tt0346491)"
   ]
  },
  {
   "cell_type": "code",
   "execution_count": 7,
   "metadata": {},
   "outputs": [
    {
     "name": "stdout",
     "output_type": "stream",
     "text": [
      "1158    Gods and Generals\n",
      "Name: original_title, dtype: object\n"
     ]
    }
   ],
   "source": [
    "print(data[data.runtime==data.runtime.max()].original_title)\n",
    "answer_ls.append(2)"
   ]
  },
  {
   "cell_type": "markdown",
   "metadata": {},
   "source": [
    "# 3. Какой из фильмов самый короткий (в минутах)\n",
    "Варианты ответов:\n",
    "\n",
    "1. Home on the Range\ttt0299172\n",
    "2. The Jungle Book 2\ttt0283426\n",
    "3. Winnie the Pooh\ttt1449283\n",
    "4. Corpse Bride\ttt0121164\n",
    "5. Hoodwinked!\ttt0443536"
   ]
  },
  {
   "cell_type": "code",
   "execution_count": 8,
   "metadata": {},
   "outputs": [
    {
     "name": "stdout",
     "output_type": "stream",
     "text": [
      "769    Winnie the Pooh\n",
      "Name: original_title, dtype: object\n"
     ]
    }
   ],
   "source": [
    "print(data[data.runtime==data.runtime.min()].original_title)\n",
    "answer_ls.append(3)"
   ]
  },
  {
   "cell_type": "markdown",
   "metadata": {},
   "source": [
    "# 4. Средняя длительность фильма?\n",
    "\n",
    "Варианты ответов:\n",
    "1. 115\n",
    "2. 110\n",
    "3. 105\n",
    "4. 120\n",
    "5. 100\n"
   ]
  },
  {
   "cell_type": "code",
   "execution_count": 9,
   "metadata": {},
   "outputs": [
    {
     "name": "stdout",
     "output_type": "stream",
     "text": [
      "109.65343915343915\n"
     ]
    }
   ],
   "source": [
    "print(data.runtime.mean())\n",
    "answer_ls.append(2)"
   ]
  },
  {
   "cell_type": "markdown",
   "metadata": {},
   "source": [
    "# 5. Средняя длительность фильма по медиане?\n",
    "Варианты ответов:\n",
    "1. 106\n",
    "2. 112\n",
    "3. 101\n",
    "4. 120\n",
    "5. 115\n",
    "\n",
    "\n"
   ]
  },
  {
   "cell_type": "code",
   "execution_count": 10,
   "metadata": {},
   "outputs": [
    {
     "name": "stdout",
     "output_type": "stream",
     "text": [
      "106.5\n"
     ]
    }
   ],
   "source": [
    "print(data.runtime.median())\n",
    "answer_ls.append(1)"
   ]
  },
  {
   "cell_type": "markdown",
   "metadata": {},
   "source": [
    "# 6. Какой самый прибыльный фильм?\n",
    "Варианты ответов:\n",
    "1. The Avengers\ttt0848228\n",
    "2. Minions\ttt2293640\n",
    "3. Star Wars: The Force Awakens\ttt2488496\n",
    "4. Furious 7\ttt2820852\n",
    "5. Avatar\ttt0499549"
   ]
  },
  {
   "cell_type": "code",
   "execution_count": 11,
   "metadata": {},
   "outputs": [
    {
     "name": "stdout",
     "output_type": "stream",
     "text": [
      "239    Avatar\n",
      "Name: original_title, dtype: object\n"
     ]
    }
   ],
   "source": [
    "data['pribil'] = data.revenue - data.budget\n",
    "print(data[data.pribil==data.pribil.max()].original_title)\n",
    "answer_ls.append(5)"
   ]
  },
  {
   "cell_type": "markdown",
   "metadata": {},
   "source": [
    "# 7. Какой фильм самый убыточный?\n",
    "Варианты ответов:\n",
    "1. Supernova tt0134983\n",
    "2. The Warrior's Way tt1032751\n",
    "3. Flushed Away\ttt0424095\n",
    "4. The Adventures of Pluto Nash\ttt0180052\n",
    "5. The Lone Ranger\ttt1210819"
   ]
  },
  {
   "cell_type": "code",
   "execution_count": 12,
   "metadata": {},
   "outputs": [
    {
     "name": "stdout",
     "output_type": "stream",
     "text": [
      "491    The Warrior's Way\n",
      "Name: original_title, dtype: object\n"
     ]
    }
   ],
   "source": [
    "print(data[data.pribil==data.pribil.min()].original_title)\n",
    "answer_ls.append(2)"
   ]
  },
  {
   "cell_type": "markdown",
   "metadata": {},
   "source": [
    "# 8. Сколько всего фильмов в прибыли?\n",
    "Варианты ответов:\n",
    "1. 1478\n",
    "2. 1520\n",
    "3. 1241\n",
    "4. 1135\n",
    "5. 1398\n"
   ]
  },
  {
   "cell_type": "code",
   "execution_count": 13,
   "metadata": {},
   "outputs": [
    {
     "name": "stdout",
     "output_type": "stream",
     "text": [
      "1478\n"
     ]
    }
   ],
   "source": [
    "GoodFilms=data[data.pribil>0]\n",
    "print(len(GoodFilms))\n",
    "answer_ls.append(1)"
   ]
  },
  {
   "cell_type": "markdown",
   "metadata": {},
   "source": [
    "# 9. Самый прибыльный фильм в 2008 году?\n",
    "Варианты ответов:\n",
    "1. Madagascar: Escape 2 Africa\ttt0479952\n",
    "2. Iron Man\ttt0371746\n",
    "3. Kung Fu Panda\ttt0441773\n",
    "4. The Dark Knight\ttt0468569\n",
    "5. Mamma Mia!\ttt0795421"
   ]
  },
  {
   "cell_type": "code",
   "execution_count": 14,
   "metadata": {},
   "outputs": [
    {
     "name": "stdout",
     "output_type": "stream",
     "text": [
      "600    The Dark Knight\n",
      "Name: original_title, dtype: object\n"
     ]
    }
   ],
   "source": [
    "Good2008=data[data.release_year==2008]\n",
    "print(Good2008[Good2008.pribil==Good2008.pribil.max()].original_title)\n",
    "answer_ls.append(3)"
   ]
  },
  {
   "cell_type": "markdown",
   "metadata": {},
   "source": [
    "# 10. Самый убыточный фильм за период с 2012 по 2014 (включительно)?\n",
    "Варианты ответов:\n",
    "1. Winter's Tale\ttt1837709\n",
    "2. Stolen\ttt1656186\n",
    "3. Broken City\ttt1235522\n",
    "4. Upside Down\ttt1374992\n",
    "5. The Lone Ranger\ttt1210819\n"
   ]
  },
  {
   "cell_type": "code",
   "execution_count": 15,
   "metadata": {
    "scrolled": true
   },
   "outputs": [
    {
     "name": "stdout",
     "output_type": "stream",
     "text": [
      "1246    The Lone Ranger\n",
      "Name: original_title, dtype: object\n"
     ]
    }
   ],
   "source": [
    "Bed2012=data[data.release_year>=2012]\n",
    "Bed2012_14=Bed2012[Bed2012.release_year<=2014]\n",
    "print(Bed2012_14[Bed2012_14.pribil==Bed2012_14.pribil.min()].original_title)\n",
    "answer_ls.append(4)"
   ]
  },
  {
   "cell_type": "markdown",
   "metadata": {},
   "source": [
    "# 11. Какого жанра фильмов больше всего?\n",
    "Варианты ответов:\n",
    "1. Action\n",
    "2. Adventure\n",
    "3. Drama\n",
    "4. Comedy\n",
    "5. Thriller"
   ]
  },
  {
   "cell_type": "code",
   "execution_count": 16,
   "metadata": {},
   "outputs": [
    {
     "name": "stdout",
     "output_type": "stream",
     "text": [
      "Counter({'Drama': 782, 'Comedy': 683, 'Thriller': 597, 'Action': 583, 'Adventure': 416, 'Crime': 315, 'Romance': 308, 'Family': 260, 'Science Fiction': 248, 'Fantasy': 223, 'Horror': 176, 'Mystery': 168, 'Animation': 139, 'Music': 64, 'History': 62, 'War': 58, 'Western': 20, 'Documentary': 8, 'Foreign': 2})\n"
     ]
    }
   ],
   "source": [
    "c = Counter()\n",
    "genres = data.genres.str.split('|').sum()\n",
    "for word in genres:\n",
    "    c[word]+=1\n",
    "print(c)\n",
    "answer_ls.append(3)"
   ]
  },
  {
   "cell_type": "markdown",
   "metadata": {},
   "source": [
    "# 12. Какого жанра среди прибыльных фильмов больше всего?\n",
    "Варианты ответов:\n",
    "1. Drama\n",
    "2. Comedy\n",
    "3. Action\n",
    "4. Thriller\n",
    "5. Adventure"
   ]
  },
  {
   "cell_type": "code",
   "execution_count": 17,
   "metadata": {},
   "outputs": [
    {
     "name": "stdout",
     "output_type": "stream",
     "text": [
      "Counter({'Drama': 560, 'Comedy': 551, 'Thriller': 446, 'Action': 444, 'Adventure': 337, 'Romance': 242, 'Crime': 231, 'Family': 226, 'Science Fiction': 195, 'Fantasy': 188, 'Horror': 150, 'Animation': 120, 'Mystery': 119, 'Music': 47, 'History': 46, 'War': 41, 'Western': 12, 'Documentary': 7})\n"
     ]
    }
   ],
   "source": [
    "GoodFilms=data[data.pribil>0]\n",
    "c = Counter()\n",
    "genres = GoodFilms.genres.str.split('|').sum()\n",
    "for word in genres:\n",
    "    c[word]+=1\n",
    "print(c)\n",
    "answer_ls.append(1)"
   ]
  },
  {
   "cell_type": "markdown",
   "metadata": {},
   "source": [
    "# 13. Кто из режиссеров снял больше всего фильмов?\n",
    "Варианты ответов:\n",
    "1. Steven Spielberg\n",
    "2. Ridley Scott \n",
    "3. Steven Soderbergh\n",
    "4. Christopher Nolan\n",
    "5. Clint Eastwood"
   ]
  },
  {
   "cell_type": "code",
   "execution_count": 18,
   "metadata": {},
   "outputs": [
    {
     "name": "stdout",
     "output_type": "stream",
     "text": [
      "Counter({'Steven Soderbergh': 13, 'Ridley Scott': 12, 'Clint Eastwood': 12, 'Robert Rodriguez': 11, 'Steven Spielberg': 10, 'Shawn Levy': 10, 'Peter Farrelly': 10, 'Bobby Farrelly': 9, 'Tim Burton': 9, 'Antoine Fuqua': 8, 'Ron Howard': 8, 'M. Night Shyamalan': 8, 'Christopher Nolan': 8, 'Peter Jackson': 8, 'Michael Bay': 8, 'Brett Ratner': 8, 'Todd Phillips': 8, 'Adam Shankman': 8, 'Gore Verbinski': 8, 'Quentin Tarantino': 7, 'Paul W.S. Anderson': 7, 'Lasse HallstrÃ¶m': 7, 'Dennis Dugan': 7, 'Marc Forster': 7, 'Francis Lawrence': 6, 'Adam McKay': 6, 'Robert Zemeckis': 6, 'Andy Fickman': 6, 'David Fincher': 6, 'Tim Story': 6, 'Zack Snyder': 6, 'Robert Luketic': 6, 'Steve Carr': 6, 'Sam Raimi': 6, 'Tony Scott': 6, 'Joel Coen': 6, 'Martin Scorsese': 6, 'Danny Boyle': 6, 'Louis Leterrier': 6, 'Brian Robbins': 6, 'Rob Cohen': 6, 'Peter Berg': 6, 'Peter Segal': 6, 'Raja Gosnell': 6, 'J.J. Abrams': 5, 'Sam Mendes': 5, 'Lana Wachowski': 5, 'Lilly Wachowski': 5, 'Chris Columbus': 5, 'Peyton Reed': 5, 'Jaume Collet-Serra': 5, 'F. Gary Gray': 5, 'Guy Ritchie': 5, 'Nancy Meyers': 5, 'Michael Mann': 5, 'Judd Apatow': 5, 'Joe Wright': 5, 'Guillermo del Toro': 5, 'Jay Roach': 5, 'Cameron Crowe': 5, 'Ken Kwapis': 5, 'Bryan Singer': 5, 'Wes Anderson': 5, 'Doug Liman': 5, 'Jon Favreau': 5, 'David Dobkin': 5, 'Carlos Saldanha': 5, 'Renny Harlin': 5, 'Roland Emmerich': 5, 'David R. Ellis': 5, 'Paul Weitz': 5, 'Justin Lin': 5, 'Andrzej Bartkowiak': 5, 'Jon Turteltaub': 5, 'James Mangold': 5, 'Paul Greengrass': 5, 'Jason Friedberg': 5, 'Aaron Seltzer': 5, 'Wes Craven': 5, 'Oliver Stone': 5, 'Martin Campbell': 5, 'Simon West': 5, 'John Moore': 5, 'Lee Tamahori': 5, 'Mark Waters': 5, 'John Singleton': 5, 'D.J. Caruso': 5, 'Joel Schumacher': 5, 'Robert Schwentke': 4, 'James Wan': 4, 'Alejandro GonzÃ¡lez IÃ±Ã¡rritu': 4, 'Olivier Megaton': 4, 'Brad Bird': 4, 'Matthew Vaughn': 4, 'Rob Letterman': 4, 'Tarsem Singh': 4, 'Gavin Hood': 4, 'Brian Helgeland': 4, 'John Erick Dowdle': 4, 'Boaz Yakin': 4, 'Anne Fletcher': 4, 'Paul McGuigan': 4, 'David Gordon Green': 4, 'Barry Levinson': 4, 'Jon M. Chu': 4, 'David Ayer': 4, 'Phil Lord': 4, 'Christopher Miller': 4, 'Luke Greenfield': 4, 'Eric Darnell': 4, 'Rob Marshall': 4, 'Darren Aronofsky': 4, 'Frank Coraci': 4, 'Nicholas Stoller': 4, 'Nick Cassavetes': 4, 'Rob Minkoff': 4, 'George Clooney': 4, 'David Yates': 4, 'McG': 4, 'John Lee Hancock': 4, 'Mark Neveldine': 4, 'Brian Taylor': 4, 'Ethan Coen': 4, 'David Twohy': 4, 'Dominic Sena': 4, 'James McTeigue': 4, 'NimrÃ³d Antal': 4, 'Jason Reitman': 4, 'David Bowers': 4, 'Rob Zombie': 4, 'Donald Petrie': 4, 'Marcus Nispel': 4, 'Richard Linklater': 4, 'Tom McGrath': 4, 'Edward Zwick': 4, 'Andy Tennant': 4, 'Garry Marshall': 4, 'Kevin Smith': 4, 'Andrew Adamson': 4, 'Keenen Ivory Wayans': 4, 'Gary Fleder': 4, 'David Frankel': 4, 'Malcolm D. Lee': 4, 'Bill Condon': 4, 'Mikael HÃ¥fstrÃ¶m': 4, 'Alexander Payne': 4, 'David Cronenberg': 4, 'Barry Sonnenfeld': 4, 'Len Wiseman': 4, 'George Miller': 3, 'Pierre Coffin': 3, 'Pete Docter': 3, 'Kenneth Branagh': 3, 'Brad Peyton': 3, 'Neill Blomkamp': 3, 'Breck Eisner': 3, 'Todd Haynes': 3, 'Baltasar KormÃ¡kur': 3, 'John Wells': 3, 'David Koepp': 3, 'Tom Hooper': 3, 'Paul Feig': 3, 'Glenn Ficarra': 3, 'John Requa': 3, 'Steve Martino': 3, 'Jonathan Levine': 3, 'Gil Kenan': 3, 'Sean Anders': 3, 'Scott Cooper': 3, 'Pierre Morel': 3, 'Neil Burger': 3, 'Jonathan Liebesman': 3, 'Jake Kasdan': 3, 'Matt Reeves': 3, 'Marc Webb': 3, 'Roger Donaldson': 3, 'Dean DeBlois': 3, 'Paul Thomas Anderson': 3, 'Frank Miller': 3, 'Will Gluck': 3, 'Bennett Miller': 3, 'Steve Pink': 3, 'Thomas Carter': 3, 'Randall Wallace': 3, 'Ruben Fleischer': 3, 'Chris Weitz': 3, 'Stephen Sommers': 3, 'Burr Steers': 3, 'Jim Sheridan': 3, 'Conrad Vernon': 3, 'Betty Thomas': 3, 'Kevin Macdonald': 3, 'David S. Goyer': 3, 'Patrick Lussier': 3, 'Tom Tykwer': 3, 'Michael Moore': 3, 'Peter Chelsom': 3, 'Tony Gilroy': 3, 'Greg Mottola': 3, 'Jonathan Mostow': 3, 'Thor Freudenthal': 3, 'Vicky Jenson': 3, 'Marc Lawrence': 3, 'Chris Renaud': 3, 'Sylvester Stallone': 3, 'Chris Sanders': 3, 'Lee Unkrich': 3, 'Mike Newell': 3, 'Mike Mitchell': 3, 'Joe Carnahan': 3, 'Allen Hughes': 3, 'Ben Affleck': 3, 'Harald Zwart': 3, 'Roman Polanski': 3, 'Paul Haggis': 3, 'David O. Russell': 3, 'Jimmy Hayward': 3, 'Alexandre Aja': 3, 'Michael Lembeck': 3, 'John Madden': 3, 'Brian Levant': 3, 'Robert Redford': 3, 'Neil LaBute': 3, 'Tom Dey': 3, 'Tyler Perry': 3, 'Baz Luhrmann': 3, 'Ben Stiller': 3, 'Iain Softley': 3, 'Jesse Dylan': 3, 'John Stockwell': 3, 'Tim Hill': 3, 'Joe Johnston': 3, 'Andrew Stanton': 3, 'Catherine Hardwicke': 3, 'Kathryn Bigelow': 3, 'Seth Gordon': 3, 'Woody Allen': 3, 'Brad Anderson': 3, 'Gregory Hoblit': 3, 'Gus Van Sant': 3, 'Sam Fell': 3, 'Andrew Niccol': 3, 'Stephen Daldry': 3, 'Kelly Asbury': 3, 'Craig Brewer': 3, 'William Friedkin': 3, 'Chris Wedge': 3, 'Wayne Wang': 3, 'Steven Brill': 3, 'Jeff Tremaine': 3, 'Walter Hill': 3, 'John Woo': 3, 'Tom Shadyac': 3, 'Ang Lee': 3, 'Uwe Boll': 3, 'Rob Reiner': 3, 'Alfonso CuarÃ³n': 3, 'Stephen Frears': 3, 'Wolfgang Petersen': 3, 'Alan Taylor': 2, 'Kyle Balda': 2, 'Joss Whedon': 2, 'Christopher McQuarrie': 2, 'Seth MacFarlane': 2, 'Wes Ball': 2, 'Elizabeth Banks': 2, 'Tim Johnson': 2, 'Denis Villeneuve': 2, 'Josh Trank': 2, 'George Tillman, Jr.': 2, 'Genndy Tartakovsky': 2, 'Jessie Nelson': 2, 'Daniel Espinosa': 2, 'Mark Osborne': 2, 'Simon Curtis': 2, 'Jason Moore': 2, 'Camille Delamarre': 2, 'Jonathan Demme': 2, 'Ken Scott': 2, 'Mike Binder': 2, 'James Gunn': 2, 'Joe Russo': 2, 'Anthony Russo': 2, 'Don Hall': 2, 'Chris Williams': 2, 'Luc Besson': 2, 'Evan Goldberg': 2, 'Seth Rogen': 2, 'Simon J. Smith': 2, 'Noam Murro': 2, 'Phillip Noyce': 2, 'Scott Frank': 2, 'Daniel Barnz': 2, 'J.C. Chandor': 2, 'Michael Spierig': 2, 'Peter Spierig': 2, 'Scott Waugh': 2, 'Anthony Stacchi': 2, 'Steven Quale': 2, 'Shana Feste': 2, 'Stuart Beattie': 2, 'Miguel Arteta': 2, 'Craig Gillespie': 2, 'Charles Martin Smith': 2, 'James Bobin': 2, 'Rupert Wyatt': 2, 'James Cameron': 2, 'Ron Clements': 2, 'John Musker': 2, 'Henry Selick': 2, 'Christian Alvart': 2, 'Alex Proyas': 2, 'Duncan Jones': 2, 'P.J. Hogan': 2, 'John Hillcoat': 2, 'Nora Ephron': 2, 'Karyn Kusama': 2, 'Gary Winick': 2, 'Lee Daniels': 2, 'John Hamburg': 2, 'Richard Curtis': 2, 'Kevin Greutert': 2, 'Jean-Marc VallÃ©e': 2, 'Brad Silberling': 2, 'Harold Ramis': 2, 'Walt Becker': 2, 'Alejandro AmenÃ¡bar': 2, 'Werner Herzog': 2, 'Lone Scherfig': 2, 'Brian Koppelman': 2, 'David Levien': 2, 'Michael J. Bassett': 2, 'Stewart Hendler': 2, 'Bruce Beresford': 2, 'Joseph Kosinski': 2, 'Byron Howard': 2, 'Michael Apted': 2, 'Edgar Wright': 2, 'Albert Hughes': 2, 'David Slade': 2, 'Peter Weir': 2, 'Jonathan Lynn': 2, 'Scott Stewart': 2, 'Michael Patrick King': 2, 'John Luessenhop': 2, 'Mark Romanek': 2, 'Neil Marshall': 2, 'Roger Michell': 2, 'James L. Brooks': 2, 'Eric Brevig': 2, 'Tom Vaughan': 2, 'Roger Kumble': 2, 'Kevin Munroe': 2, 'David Silverman': 2, 'Jean-Jacques Annaud': 2, 'John A. Davis': 2, 'Peter Howitt': 2, 'Victor Salva': 2, 'Rod Lurie': 2, 'John Dahl': 2, 'Bill Paxton': 2, 'Luis Mandoki': 2, 'Scott Hicks': 2, 'Ivan Reitman': 2, 'Frank Oz': 2, 'Frank Darabont': 2, 'Mike Tollin': 2, 'Peter Hyams': 2, 'Phyllida Lloyd': 2, 'Timur Bekmambetov': 2, 'Scott Derrickson': 2, 'Gabriele Muccino': 2, 'Pete Travis': 2, 'David Wain': 2, 'Mathieu Kassovitz': 2, 'Martin McDonagh': 2, 'Jon Hurwitz': 2, 'Hayden Schlossberg': 2, 'Jon Avnet': 2, 'GÃ¡bor CsupÃ³': 2, 'Gina Prince-Bythewood': 2, 'Julian Jarrold': 2, 'Rian Johnson': 2, 'Kirk De Micco': 2, 'Howard Deutch': 2, 'Joshua Michael Stern': 2, 'John Lasseter': 2, 'Brad Furman': 2, 'Chris Miller': 2, 'Michel Gondry': 2, 'Simon Wells': 2, 'Henry Joost': 2, 'Ariel Schulman': 2, 'Michael Dowse': 2, 'Joe Nussbaum': 2, 'John Whitesell': 2, 'Salim Akil': 2, 'George Lucas': 2, 'Andrew Davis': 2, 'Spike Jonze': 2, 'Brian De Palma': 2, 'Michael Caton-Jones': 2, 'Rob Bowman': 2, 'Carl Franklin': 2, 'Shekhar Kapur': 2, 'Denzel Washington': 2, 'Stephen Gaghan': 2, 'Reginald Hudlin': 2, 'Charles Stone III': 2, 'Gary Ross': 2, 'Kirk Jones': 2, 'Larry Charles': 2, 'Peter Lord': 2, 'Andrew Dominik': 2, 'Walter Salles': 2, 'Mark Steven Johnson': 2, 'David Zucker': 2, 'Bille Woodruff': 2, 'Clark Johnson': 2, 'Richard Donner': 2, 'Nigel Cole': 2, 'Robert Iscove': 2, 'Chris Buck': 2, 'Taylor Hackford': 2, 'Spike Lee': 2, 'Sofia Coppola': 2, 'Oliver Hirschbiegel': 2, 'Courtney Solomon': 2, 'Mark Dindal': 2, 'Nick Park': 2, 'Jay Chandrasekhar': 2, 'Kevin Rodney Sullivan': 2, 'Geoffrey Sax': 2, 'James Wong': 2, 'Mel Gibson': 2, 'Darren Lynn Bousman': 2, 'Nick Hurran': 2, 'Peter Hewitt': 2, 'Takashi Shimizu': 2, 'Richard Loncraine': 2, 'Mira Nair': 2, 'Bibo Bergeron': 2, 'Danny Leiner': 2, 'Mike Nichols': 2, 'Philip Kaufman': 2, 'Jay Russell': 2, 'Richard LaGravenese': 2, 'Kevin Lima': 2, 'Eli Roth': 2, 'Colin Trevorrow': 1, 'Alex Garland': 1, 'Sam Taylor-Johnson': 1, 'Tom McCarthy': 1, 'Lenny Abrahamson': 1, 'Peter Sohn': 1, 'John Crowley': 1, 'Lee Toland Krieger': 1, 'Ilya Naishuller': 1, 'Jake Schreier': 1, 'Ericson Core': 1, 'Aleksander Bach': 1, 'Ryan Coogler': 1, 'Peter Landesman': 1, 'John Francis Daley': 1, 'Jonathan M. Goldstein': 1, 'Joel Edgerton': 1, 'Jocelyn Moorhouse': 1, 'Ari Sandel': 1, 'Ciaran Foy': 1, 'Doug Ellin': 1, 'Jeremy Garelick': 1, 'Michael Dougherty': 1, 'Dean Israelite': 1, 'Gregory Jacobs': 1, 'Gregory Plotkin': 1, 'Billy Ray': 1, 'Paul Tibbitt': 1, 'Leigh Whannell': 1, 'Nicholas Hytner': 1, 'David M. Rosenthal': 1, 'Noah Baumbach': 1, 'Etan Cohen': 1, 'Sarah Gavron': 1, 'Max Joseph': 1, 'Alejandro Monteverde': 1, 'Chad Stahelski': 1, 'David Leitch': 1, 'Morten Tyldum': 1, 'Dan Gilroy': 1, 'Gareth Edwards': 1, 'Robert Stromberg': 1, 'Stiles White': 1, 'Patrick Hughes': 1, 'Sergey Bodrov': 1, 'James Marsh': 1, 'Gary Shore': 1, 'Paul King': 1, 'James DeMonaco': 1, 'Vic Armstrong': 1, 'R.J. Cutler': 1, 'Trish Sie': 1, 'Josh Boone': 1, 'JosÃ© Padilha': 1, 'Wally Pfister': 1, 'Angelina Jolie': 1, 'Ava DuVernay': 1, 'Michael Hoffman': 1, 'Theodore Melfi': 1, 'Graham Annable': 1, 'Brian A Miller': 1, 'Roberts Gannaway': 1, 'Sam Miller': 1, 'David MichÃ´d': 1, 'Saul Dibb': 1, 'John R. Leonetti': 1, 'Tom Gormican': 1, 'Ben Falcone': 1, 'Akiva Goldsman': 1, 'Adam Wingard': 1, 'Russell Crowe': 1, 'Jonathan Glazer': 1, 'Rob Thomas': 1, 'Christopher Spencer': 1, 'GrÃ©gory Levasseur': 1, 'Michael Cuesta': 1, 'Andrew Erwin': 1, 'Jon Erwin': 1, 'Dave Green': 1, 'Don McKellar': 1, 'Harold Cronk': 1, 'Matt Bettinelli-Olpin': 1, 'Tyler Gillett': 1, 'Patrick Tatopoulos': 1, 'Bob Peterson': 1, 'Shane Acker': 1, 'Richard Kelly': 1, 'Hoyt Yeatman': 1, 'Ricky Gervais': 1, 'Matthew Robinson': 1, 'Jaco Van Dormael': 1, 'Peter Billingsley': 1, 'Atom Egoyan': 1, 'Phil Traill': 1, 'Brandon Camp': 1, 'Rajkumar Hirani': 1, 'Grant Heslov': 1, 'Todd Graff': 1, 'Jorge Blanco': 1, 'Javier Abad': 1, 'Marcos MartÃ\\xadnez': 1, 'Troy Duffy': 1, 'John Schultz': 1, 'Olatunde Osunsanmi': 1, 'Jane Campion': 1, 'Mike Judge': 1, 'Daniel Barber': 1, 'Steve Shill': 1, 'Jonas Elmer': 1, 'Derrick Borte': 1, 'Toby Wilkins': 1, 'Nathan Greno': 1, 'Florian Henckel von Donnersmarck': 1, 'Ethan Maniquis': 1, 'Miguel Sapochnik': 1, 'Ryan Murphy': 1, 'Anand Tucker': 1, 'Alan Poul': 1, 'Josh Gordon': 1, 'Will Speck': 1, 'Floria Sigismondi': 1, 'Troy Nixey': 1, 'Samuel Bayer': 1, 'Susanna White': 1, 'Steve Antin': 1, 'Nanette Burstein': 1, 'Greg Berlanti': 1, 'John Curran': 1, 'Tony Goldwyn': 1, 'Colin Strause': 1, 'Greg Strause': 1, 'Jorma Taccone': 1, 'Jim Field Smith': 1, 'William Monahan': 1, 'Dan Rush': 1, 'Anthony Bell': 1, 'Ben Gluck': 1, 'Richard J. Lewis': 1, 'William Dear': 1, 'Sngmoo Lee': 1, 'John Landis': 1, 'Vipul Amrutlal Shah': 1, 'David Lynch': 1, 'Sharon Maguire': 1, 'Gary Trousdale': 1, 'Kirk Wise': 1, 'J.B. Rogers': 1, 'Ted Demme': 1, 'Joel Gallen': 1, 'Lawrence Guterman': 1, 'Chris Nahon': 1, 'Hironobu Sakaguchi': 1, 'Motonori Sakakibara': 1, 'Michael Cristofer': 1, 'Jerry Zucker': 1, 'Robert Altman': 1, 'James Isaac': 1, 'Stephen Herek': 1, 'Simon Wincer': 1, 'Daniel Sackheim': 1, 'John Herzfeld': 1, 'Dennie Gordon': 1, 'John Boorman': 1, \"Pat O'Connor\": 1, 'Gregory Poirier': 1, 'Demian Lichtenstein': 1, 'John Carpenter': 1, 'Penny Marshall': 1, 'Brendan Malloy': 1, 'Emmett Malloy': 1, 'Les Mayfield': 1, 'Harold Becker': 1, 'Rob Pritts': 1, 'Peter Bogdanovich': 1, 'Francine McDougall': 1, 'Ernest R. Dickerson': 1, 'DJ Pooh': 1, 'John Stevenson': 1, 'Loveleen Tandan': 1, 'Mark Herman': 1, 'Jeff Wadlow': 1, 'Lexi Alexander': 1, 'Peter Sollett': 1, 'Fred Wolf': 1, 'David Hackl': 1, 'Marco Schnabel': 1, 'Bryan Bertino': 1, 'Howard McCain': 1, 'Chris Carter': 1, 'John Patrick Shanley': 1, 'Paul Weiland': 1, 'Marcel Langenegger': 1, 'David Moreau': 1, 'Xavier Palud': 1, 'Oxide Pang Chun': 1, 'Danny Pang': 1, 'Peter Cattaneo': 1, 'Robert Stevenhagen': 1, 'Craig Mazin': 1, 'Michael McCullers': 1, 'RyÃ»hei Kitamura': 1, 'Simon Hunter': 1, 'Jennifer Flackett': 1, 'Mark Levin': 1, 'Anthony Leondis': 1, 'Robert B. Weide': 1, 'Nicolas Winding Refn': 1, 'Jennifer Yuh': 1, 'Brad Lewis': 1, 'Terrence Malick': 1, 'Michel Hazanavicius': 1, 'Gary McKendry': 1, 'Stephen Anderson': 1, 'George Nolfi': 1, 'Tom Hanks': 1, 'Mark Mylod': 1, 'Chris Gorak': 1, 'Tate Taylor': 1, 'Christian E. Christiansen': 1, 'Oliver Parker': 1, 'Todd Strauss-Schulson': 1, 'Matthijs van Heijningen Jr.': 1, 'Gonzalo LÃ³pez-Gallego': 1, 'Joe Cornish': 1, 'Bruce Robinson': 1, 'John Michael McDonagh': 1, 'Jesse Peretz': 1, 'Jason Winer': 1, 'Alister Grierson': 1, 'Douglas McGrath': 1, 'Sean McNamara': 1, 'Mike Disa': 1, 'Benny Chan': 1, 'Thomas Bezucha': 1, 'Paul Johansson': 1, 'Paolo Sorrentino': 1, 'Rodrigo GarcÃ\\xada': 1, 'Mark Duplass': 1, 'Jay Duplass': 1, 'Corey Yuen Kwai': 1, 'Curtis Hanson': 1, 'Joel Zwick': 1, 'Stuart Baird': 1, 'Kurt Wimmer': 1, 'Steve Beck': 1, 'Lorna Cook': 1, 'Jim Gillespie': 1, 'Chuck Russell': 1, 'Julie Taymor': 1, 'Barbet Schroeder': 1, 'Ron Shelton': 1, 'Adrian Lyne': 1, 'Michael Rymer': 1, 'Marcus Raboy': 1, 'Robin Budd': 1, 'Donovan Cook': 1, 'Dewey Nicks': 1, 'Mark Pellington': 1, 'Jonathan Frakes': 1, 'Rick Rosenthal': 1, 'Mort Nathan': 1, 'Tamra Davis': 1, 'Ron Underwood': 1, 'Kevin Bray': 1, 'William Malone': 1, 'Paul Schrader': 1, 'MÃ¥ns MÃ¥rlind': 1, 'BjÃ¶rn Stein': 1, 'Mark Andrews': 1, 'Steve Purcell': 1, 'Brenda Chapman': 1, 'Rupert Sanders': 1, 'Mike Thurmeier': 1, 'Juan Antonio Bayona': 1, 'Rich Moore': 1, 'Stephen Chbosky': 1, 'Drew Goddard': 1, 'Peter Ramsey': 1, 'Michael Sucsy': 1, 'Juan Diego Solanas': 1, 'Scott Speer': 1, 'Mike McCoy': 1, 'Nima Nourizadeh': 1, 'Jeff Newitt': 1, 'Stephen St. Leger': 1, 'James Mather': 1, 'James Watkins': 1, 'Asger Leth': 1, 'Henry Alex Rubin': 1, 'Alex Kurtzman': 1, 'John Gulager': 1, 'Ole Bornedal': 1, 'Mabrouk El Mechri': 1, 'Nicholas Jarecki': 1, 'Dan Bradley': 1, 'Julie Anne Robinson': 1, 'Dustin Hoffman': 1, 'Chris Butler': 1, 'Dean Wright': 1, 'Anthony Hemingway': 1, 'Josh Schwartz': 1, 'Brian Klugman': 1, 'Lee Sternthal': 1, 'David Barrett': 1, 'Todd Lincoln ': 1, 'Dan Cutforth': 1, 'Jane Lipsitz': 1, 'Stephen Norrington': 1, 'Steve Trenbirth': 1, 'Terry Zwigoff': 1, 'Jan de Bont': 1, 'Rob Schmidt': 1, 'Jon Amiel': 1, 'Charles Herman-Wurmfeld': 1, 'Anthony Minghella': 1, 'Ronny Yu': 1, 'Joe Dante': 1, 'John McTiernan': 1, 'Kevin Costner': 1, 'Jim Fall': 1, 'Lawrence Kasdan': 1, 'Patty Jenkins': 1, 'Martin Brest': 1, 'Ronald F. Maxwell': 1, 'Troy Miller': 1, 'Alan Parker': 1, 'Chris Koch': 1, 'David Mackenzie': 1, 'FranÃ§ois Ozon': 1, 'Christopher Guest': 1, 'James Cox': 1, 'Christine Jeffs': 1, 'Jennifer Lee': 1, 'Shane Black': 1, 'Steve McQueen': 1, 'Dan Scanlon': 1, 'Tommy Wirkola': 1, 'Carl Rinsch': 1, 'Klay Hall': 1, 'Harmony Korine': 1, 'Fede Alvarez': 1, 'Derek Cianfrance': 1, 'Kimberly Peirce': 1, 'John Carney': 1, 'Justin Zackham': 1, 'Mike Flanagan': 1, 'David Soren': 1, 'Steven Knight': 1, 'Andy Muschietti': 1, 'Rusty Cundieff': 1, 'James Duffy': 1, 'Griffin Dunne': 1, 'Patrik Forsberg': 1, 'Will Graham': 1, 'Jonathan van Tulleken': 1, 'Scott Moore': 1, 'Jon Lucas': 1, 'Callan Brunker': 1, 'Amma Asante': 1, 'Dito Montiel': 1, 'Cody Cameron': 1, 'Kris Pearn': 1, 'Giuseppe Tornatore': 1, 'Don Scardino': 1, 'Jeff Nichols': 1, 'Jonathan Teplitzky': 1, 'Neil Nightingale': 1, 'Barry Cook': 1, 'Scott Walker': 1, 'Guillaume Canet': 1, 'Ric Roman Waugh': 1, 'Keanu Reeves': 1, 'David E. Talbert': 1, 'Christopher B. Landon': 1, 'Benson Lee': 1, 'Anthony Silverston': 1, 'Kasi Lemmons': 1, 'Dan St. Pierre': 1, 'Zal Batmanglij': 1, 'Ed Gass-Donnelly': 1, 'Justin Chadwick': 1, 'Fyodor Bondarchuk': 1, 'Garth Jennings': 1, 'Mike Johnson': 1, 'Steve Box': 1, 'John Maybury': 1, 'Angela Robinson': 1, 'Cory Edwards': 1, 'Todd Edwards': 1, 'Tony Leech': 1, 'John Polson': 1, 'Sydney Pollack': 1, 'Terry Gilliam': 1, 'Florent-Emilio Siri': 1, 'Frederik Du Chau': 1, 'Andrew Douglas': 1, 'Dean Parisot': 1, 'Jean-FranÃ§ois Richet': 1, 'Jim Jarmusch': 1, 'George A. Romero': 1, 'Rupert Wainwright': 1, 'Clare Kilner': 1, 'Richard Shepard': 1, 'Gary Chapman': 1, 'Fernando Meirelles': 1, 'Tommy Lee Jones': 1, 'Danny Cannon': 1, 'Liev Schreiber': 1, 'Stephen Kay': 1, 'Bruce Hunt': 1, 'Niki Caro': 1, 'Joe Ranft': 1, 'Karey Kirkpatrick': 1, 'Frank Marshall': 1, 'Christophe Gans': 1, \"Steve 'Spaz' Williams\": 1, 'Stefen Fangmeier': 1, 'Alejandro Agresti': 1, 'Robert De Niro': 1, 'Kevin Reynolds': 1, \"Matthew O'Callaghan\": 1, 'Steven Zaillian': 1, 'Joe Roth': 1, 'Jared Hess': 1, 'Steven Shainberg': 1, 'Jonathan Dayton': 1, 'Valerie Faris': 1, 'Greg Coolidge': 1, 'Roger Allers': 1, 'Jill Culton': 1, 'Steve Oedekerk': 1, 'Chris Noonan': 1, 'Jim Sonzero': 1, 'John Bonito': 1, 'Liz Friedlander': 1, 'Elizabeth Allen Rosenbaum': 1, 'Richard Eyre': 1, 'Tony Bill': 1, 'Wayne Kramer': 1, 'Susannah Grant': 1, 'Liam Lynch': 1, 'Sanjay Gadhvi': 1, 'Glen Morgan': 1, 'Phil Joanou': 1, 'Rachid Bouchareb': 1, 'William Brent Bell': 1, 'Asif Kapadia': 1, 'Doug Atchison': 1, 'Beeban Kidron': 1, 'Eric Bress': 1, 'J. Mackye Gruber': 1, 'Alexander Witt': 1, 'Kerry Conran': 1, 'Stephen Hillenburg': 1, \"Tommy O'Haver\": 1, 'Mark Rosman': 1, 'Rawson Marshall Thurber': 1, 'Jeff Schaffer': 1, 'Jonathan Hensleigh': 1, 'Pitof': 1, 'Don Mancini': 1, 'Charles Shyer': 1, 'Will Finn': 1, 'John Sanford': 1, 'Terry George': 1, 'Trey Parker': 1, 'Sara Sugarman': 1, 'Guy Ferland': 1, 'Joseph Ruben': 1, 'Nick Hamm': 1, 'Paul Abascal': 1, 'Joseph Kahn': 1, \"Gavin O'Connor\": 1, 'E. Elias Merhige': 1, 'George Armitage': 1, 'David Mamet': 1, 'Kevin Allen': 1, 'Christopher Erskin': 1, 'Jan Pinkava': 1, 'Sean Penn': 1, 'Raman Hui': 1, 'Steve Hickner': 1, 'Stephen J. Anderson': 1, 'Juan Carlos Fresnadillo': 1, 'Steve Bendelack': 1, 'Bruce A. Evans': 1, 'Kirsten Sheridan': 1, 'Joby Harold': 1, 'Philip G. Atwell': 1, 'Mennan Yapo': 1, 'Michael Davis': 1, 'Ash Brannon': 1, 'Xavier Gens': 1, 'Jason Eisener': 1, 'David Schwimmer': 1, 'Dave Meyers': 1, 'Chris Sivertson': 1, 'Michael Haneke': 1, 'Sidney Lumet': 1, 'Fred Savage': 1, 'Russell Mulcahy': 1, 'Michael Winterbottom': 1, 'Stephen Hopkins': 1, 'James Foley': 1, 'Mark Helfrich': 1, 'Jon Kasdan': 1, 'Shari Springer Berman': 1, 'Robert Pulcini': 1, 'James Gray': 1, 'Peter Hedges': 1, 'Roland JoffÃ©': 1, 'Amy Heckerling': 1, 'Susanne Bier': 1, 'Alastair Fothergill': 1, 'Mark Linfield': 1, 'Doug Lefler': 1, 'Wong Kar-wai': 1, 'Sylvain White': 1, 'David Leland': 1, 'Chris Rock': 1, 'Peter Webber': 1, 'Feng Xiaogang': 1, 'Ben Garant': 1, 'Ralph Zondag': 1, 'Eric Leighton': 1, 'David McNally': 1, 'Ben Younger': 1, 'Don Michael Paul': 1, 'Mimi Leder': 1, 'Paul Verhoeven': 1, 'Mary Harron': 1, 'Lars von Trier': 1, 'Roger Spottiswoode': 1, 'Antony Hoffman': 1, 'Stephen T. Kay': 1, 'Don Bluth': 1, 'Gary Goldman': 1, 'John Frankenheimer': 1, 'Edward Norton': 1, 'Jack Sholder': 1, 'Christian Duguay': 1, 'David Raynr': 1, 'Douglas Aarniokoski': 1, 'Davis Guggenheim': 1, 'Bonnie Hunt': 1, 'Uli Edel': 1, 'Des McAnuff': 1, 'Diane Keaton': 1, 'Mary Lambert': 1})\n"
     ]
    }
   ],
   "source": [
    "r = Counter()\n",
    "Direct = data.director.str.split('|').sum()\n",
    "for word in Direct:\n",
    "    r[word]+=1\n",
    "print(r)\n",
    "answer_ls.append(3)"
   ]
  },
  {
   "cell_type": "markdown",
   "metadata": {},
   "source": [
    "# 14. Кто из режиссеров снял больше всего Прибыльных фильмов?\n",
    "Варианты ответов:\n",
    "1. Steven Soderbergh\n",
    "2. Clint Eastwood\n",
    "3. Steven Spielberg\n",
    "4. Ridley Scott\n",
    "5. Christopher Nolan"
   ]
  },
  {
   "cell_type": "code",
   "execution_count": 19,
   "metadata": {},
   "outputs": [
    {
     "name": "stdout",
     "output_type": "stream",
     "text": [
      "Counter({'Ridley Scott': 12, 'Steven Spielberg': 10, 'Clint Eastwood': 10, 'Steven Soderbergh': 10, 'Shawn Levy': 9, 'Tim Burton': 9, 'Antoine Fuqua': 8, 'Christopher Nolan': 8, 'Peter Jackson': 8, 'Michael Bay': 8, 'Brett Ratner': 8, 'Peter Farrelly': 8, 'Robert Rodriguez': 8, 'M. Night Shyamalan': 7, 'Bobby Farrelly': 7, 'Todd Phillips': 7, 'Adam Shankman': 7, 'Quentin Tarantino': 6, 'Francis Lawrence': 6, 'Adam McKay': 6, 'Robert Zemeckis': 6, 'Andy Fickman': 6, 'David Fincher': 6, 'Tim Story': 6, 'Zack Snyder': 6, 'Ron Howard': 6, 'Sam Raimi': 6, 'Joel Coen': 6, 'Louis Leterrier': 6, 'Dennis Dugan': 6, 'Paul W.S. Anderson': 6, 'Gore Verbinski': 6, 'Peter Segal': 6, 'Raja Gosnell': 6, 'J.J. Abrams': 5, 'Sam Mendes': 5, 'Jaume Collet-Serra': 5, 'F. Gary Gray': 5, 'Guy Ritchie': 5, 'Nancy Meyers': 5, 'Guillermo del Toro': 5, 'Bryan Singer': 5, 'Doug Liman': 5, 'Jon Favreau': 5, 'Carlos Saldanha': 5, 'Lasse HallstrÃ¶m': 5, 'Roland Emmerich': 5, 'Robert Luketic': 5, 'Steve Carr': 5, 'Tony Scott': 5, 'Martin Scorsese': 5, 'Danny Boyle': 5, 'Jon Turteltaub': 5, 'James Mangold': 5, 'Oliver Stone': 5, 'John Singleton': 5, 'Marc Forster': 5, 'Peter Berg': 5, 'Alejandro GonzÃ¡lez IÃ±Ã¡rritu': 4, 'Lana Wachowski': 4, 'Lilly Wachowski': 4, 'Chris Columbus': 4, 'Olivier Megaton': 4, 'Peyton Reed': 4, 'Brad Bird': 4, 'Matthew Vaughn': 4, 'Rob Letterman': 4, 'Tarsem Singh': 4, 'Judd Apatow': 4, 'John Erick Dowdle': 4, 'Boaz Yakin': 4, 'Anne Fletcher': 4, 'Ken Kwapis': 4, 'Wes Anderson': 4, 'Phil Lord': 4, 'Christopher Miller': 4, 'Luke Greenfield': 4, 'Eric Darnell': 4, 'Rob Marshall': 4, 'David Dobkin': 4, 'Nicholas Stoller': 4, 'Nick Cassavetes': 4, 'Rob Minkoff': 4, 'George Clooney': 4, 'David Yates': 4, 'David R. Ellis': 4, 'Ethan Coen': 4, 'David Twohy': 4, 'Jason Reitman': 4, 'Justin Lin': 4, 'Donald Petrie': 4, 'Tom McGrath': 4, 'Edward Zwick': 4, 'Andy Tennant': 4, 'Garry Marshall': 4, 'Jason Friedberg': 4, 'Aaron Seltzer': 4, 'Kevin Smith': 4, 'Jay Roach': 4, 'Andrew Adamson': 4, 'Simon West': 4, 'Keenen Ivory Wayans': 4, 'John Moore': 4, 'Rob Cohen': 4, 'D.J. Caruso': 4, 'Mark Waters': 4, 'Malcolm D. Lee': 4, 'Martin Campbell': 4, 'Mikael HÃ¥fstrÃ¶m': 4, 'Alexander Payne': 4, 'Len Wiseman': 4, 'Paul Greengrass': 4, 'George Miller': 3, 'Robert Schwentke': 3, 'James Wan': 3, 'Pierre Coffin': 3, 'Pete Docter': 3, 'Brad Peyton': 3, 'Neill Blomkamp': 3, 'Baltasar KormÃ¡kur': 3, 'Tom Hooper': 3, 'Paul Feig': 3, 'Gavin Hood': 3, 'Brian Helgeland': 3, 'Steve Martino': 3, 'Jonathan Levine': 3, 'David Ayer': 3, 'Neil Burger': 3, 'Jonathan Liebesman': 3, 'Matt Reeves': 3, 'Marc Webb': 3, 'Dean DeBlois': 3, 'Darren Aronofsky': 3, 'Frank Coraci': 3, 'Will Gluck': 3, 'Steve Pink': 3, 'Thomas Carter': 3, 'Randall Wallace': 3, 'McG': 3, 'John Lee Hancock': 3, 'Ruben Fleischer': 3, 'Chris Weitz': 3, 'Stephen Sommers': 3, 'Mark Neveldine': 3, 'Brian Taylor': 3, 'Conrad Vernon': 3, 'Michael Mann': 3, 'Kevin Macdonald': 3, 'James McTeigue': 3, 'NimrÃ³d Antal': 3, 'Tom Tykwer': 3, 'Rob Zombie': 3, 'Peter Chelsom': 3, 'Greg Mottola': 3, 'Jonathan Mostow': 3, 'Thor Freudenthal': 3, 'Marc Lawrence': 3, 'Chris Renaud': 3, 'Sylvester Stallone': 3, 'Chris Sanders': 3, 'Lee Unkrich': 3, 'Paul Weitz': 3, 'Mike Mitchell': 3, 'Joe Carnahan': 3, 'Ben Affleck': 3, 'Jon M. Chu': 3, 'Harald Zwart': 3, 'Roman Polanski': 3, 'Paul Haggis': 3, 'Alexandre Aja': 3, 'Tyler Perry': 3, 'Ben Stiller': 3, 'Dominic Sena': 3, 'Gary Fleder': 3, 'Brian Robbins': 3, 'Andrzej Bartkowiak': 3, 'Jesse Dylan': 3, 'Tim Hill': 3, 'Joe Johnston': 3, 'Andrew Stanton': 3, 'David Frankel': 3, 'Seth Gordon': 3, 'Woody Allen': 3, 'Bill Condon': 3, 'Wes Craven': 3, 'Stephen Daldry': 3, 'Joe Wright': 3, 'Kelly Asbury': 3, 'David Cronenberg': 3, 'Chris Wedge': 3, 'Barry Sonnenfeld': 3, 'Steven Brill': 3, 'Joel Schumacher': 3, 'Jeff Tremaine': 3, 'Ang Lee': 3, 'Stephen Frears': 3, 'Wolfgang Petersen': 3, 'Alan Taylor': 2, 'Kyle Balda': 2, 'Joss Whedon': 2, 'Kenneth Branagh': 2, 'Christopher McQuarrie': 2, 'Seth MacFarlane': 2, 'Wes Ball': 2, 'Elizabeth Banks': 2, 'Breck Eisner': 2, 'Tim Johnson': 2, 'Todd Haynes': 2, 'John Wells': 2, 'Denis Villeneuve': 2, 'Josh Trank': 2, 'Glenn Ficarra': 2, 'John Requa': 2, 'George Tillman, Jr.': 2, 'Genndy Tartakovsky': 2, 'Jessie Nelson': 2, 'Gil Kenan': 2, 'Sean Anders': 2, 'Mark Osborne': 2, 'Scott Cooper': 2, 'Simon Curtis': 2, 'Jason Moore': 2, 'Camille Delamarre': 2, 'Jonathan Demme': 2, 'Mike Binder': 2, 'James Gunn': 2, 'Joe Russo': 2, 'Anthony Russo': 2, 'Chris Williams': 2, 'Luc Besson': 2, 'Jake Kasdan': 2, 'Simon J. Smith': 2, 'Noam Murro': 2, 'Phillip Noyce': 2, 'Scott Waugh': 2, 'Anthony Stacchi': 2, 'Steven Quale': 2, 'Shana Feste': 2, 'Miguel Arteta': 2, 'Craig Gillespie': 2, 'Charles Martin Smith': 2, 'James Bobin': 2, 'Rupert Wyatt': 2, 'James Cameron': 2, 'Burr Steers': 2, 'Alex Proyas': 2, 'Duncan Jones': 2, 'P.J. Hogan': 2, 'Jim Sheridan': 2, 'Nora Ephron': 2, 'Betty Thomas': 2, 'Gary Winick': 2, 'Lee Daniels': 2, 'David S. Goyer': 2, 'John Hamburg': 2, 'Paul McGuigan': 2, 'Kevin Greutert': 2, 'Harold Ramis': 2, 'Patrick Lussier': 2, 'Walt Becker': 2, 'Lone Scherfig': 2, 'Marcus Nispel': 2, 'Joseph Kosinski': 2, 'Byron Howard': 2, 'Michael Apted': 2, 'Mike Newell': 2, 'Albert Hughes': 2, 'Allen Hughes': 2, 'David Slade': 2, 'Scott Stewart': 2, 'Michael Patrick King': 2, 'John Luessenhop': 2, 'Roger Michell': 2, 'Michael Lembeck': 2, 'John Madden': 2, 'Brian Levant': 2, 'Neil LaBute': 2, 'Tom Dey': 2, 'Eric Brevig': 2, 'Roger Kumble': 2, 'David Silverman': 2, 'Vicky Jenson': 2, 'Baz Luhrmann': 2, 'John A. Davis': 2, 'Cameron Crowe': 2, 'Victor Salva': 2, 'Lee Tamahori': 2, 'Iain Softley': 2, 'Ivan Reitman': 2, 'Frank Oz': 2, 'John Stockwell': 2, 'Catherine Hardwicke': 2, 'Phyllida Lloyd': 2, 'Timur Bekmambetov': 2, 'Kathryn Bigelow': 2, 'Scott Derrickson': 2, 'Gabriele Muccino': 2, 'David Gordon Green': 2, 'Mathieu Kassovitz': 2, 'Martin McDonagh': 2, 'Jon Hurwitz': 2, 'Hayden Schlossberg': 2, 'Jimmy Hayward': 2, 'Gus Van Sant': 2, 'Gina Prince-Bythewood': 2, 'Kirk De Micco': 2, 'Andrew Niccol': 2, 'John Lasseter': 2, 'Brad Furman': 2, 'Bennett Miller': 2, 'Chris Miller': 2, 'Michel Gondry': 2, 'David Bowers': 2, 'Craig Brewer': 2, 'Henry Joost': 2, 'Ariel Schulman': 2, 'John Whitesell': 2, 'Salim Akil': 2, 'George Lucas': 2, 'Wayne Wang': 2, 'Spike Jonze': 2, 'Carl Franklin': 2, 'Denzel Washington': 2, 'Tony Gilroy': 2, 'David O. Russell': 2, 'Gary Ross': 2, 'Kirk Jones': 2, 'Larry Charles': 2, 'Peter Lord': 2, 'Mark Steven Johnson': 2, 'David Zucker': 2, 'Bille Woodruff': 2, 'Richard Linklater': 2, 'Clark Johnson': 2, 'John Woo': 2, 'Nigel Cole': 2, 'Chris Buck': 2, 'Alfonso CuarÃ³n': 2, 'Brad Anderson': 2, 'Taylor Hackford': 2, 'Sofia Coppola': 2, 'Mark Dindal': 2, 'Nick Park': 2, 'Rob Reiner': 2, 'Kevin Rodney Sullivan': 2, 'James Wong': 2, 'Mel Gibson': 2, 'Darren Lynn Bousman': 2, 'Takashi Shimizu': 2, 'Richard Loncraine': 2, 'Danny Leiner': 2, 'Mike Nichols': 2, 'Michael Moore': 2, 'Jay Russell': 2, 'Richard LaGravenese': 2, 'Kevin Lima': 2, 'Colin Trevorrow': 1, 'Alex Garland': 1, 'Sam Taylor-Johnson': 1, 'Tom McCarthy': 1, 'Lenny Abrahamson': 1, 'Peter Sohn': 1, 'John Crowley': 1, 'Lee Toland Krieger': 1, 'Ilya Naishuller': 1, 'Jake Schreier': 1, 'Ericson Core': 1, 'Aleksander Bach': 1, 'Ryan Coogler': 1, 'Peter Landesman': 1, 'John Francis Daley': 1, 'Jonathan M. Goldstein': 1, 'Joel Edgerton': 1, 'Jocelyn Moorhouse': 1, 'Ari Sandel': 1, 'Ciaran Foy': 1, 'Doug Ellin': 1, 'Jeremy Garelick': 1, 'Michael Dougherty': 1, 'Dean Israelite': 1, 'Gregory Jacobs': 1, 'Gregory Plotkin': 1, 'Billy Ray': 1, 'Paul Tibbitt': 1, 'Leigh Whannell': 1, 'Nicholas Hytner': 1, 'David M. Rosenthal': 1, 'Etan Cohen': 1, 'Sarah Gavron': 1, 'Max Joseph': 1, 'Chad Stahelski': 1, 'David Leitch': 1, 'Don Hall': 1, 'Morten Tyldum': 1, 'Dan Gilroy': 1, 'Gareth Edwards': 1, 'Robert Stromberg': 1, 'Roger Donaldson': 1, 'Stiles White': 1, 'Patrick Hughes': 1, 'Sergey Bodrov': 1, 'James Marsh': 1, 'Gary Shore': 1, 'Scott Frank': 1, 'Paul King': 1, 'James DeMonaco': 1, 'Vic Armstrong': 1, 'R.J. Cutler': 1, 'Trish Sie': 1, 'Josh Boone': 1, 'JosÃ© Padilha': 1, 'Wally Pfister': 1, 'Angelina Jolie': 1, 'Ava DuVernay': 1, 'Michael Hoffman': 1, 'Theodore Melfi': 1, 'Graham Annable': 1, 'Brian A Miller': 1, 'Roberts Gannaway': 1, 'Sam Miller': 1, 'John R. Leonetti': 1, 'Stuart Beattie': 1, 'Tom Gormican': 1, 'Ben Falcone': 1, 'Christopher Spencer': 1, 'GrÃ©gory Levasseur': 1, 'Andrew Erwin': 1, 'Jon Erwin': 1, 'Dave Green': 1, 'Harold Cronk': 1, 'Matt Bettinelli-Olpin': 1, 'Tyler Gillett': 1, 'Patrick Tatopoulos': 1, 'Bob Peterson': 1, 'Shane Acker': 1, 'Ron Clements': 1, 'John Musker': 1, 'Henry Selick': 1, 'Richard Kelly': 1, 'Hoyt Yeatman': 1, 'Ricky Gervais': 1, 'Matthew Robinson': 1, 'Peter Billingsley': 1, 'Karyn Kusama': 1, 'Phil Traill': 1, 'Christian Alvart': 1, 'Michael Spierig': 1, 'Peter Spierig': 1, 'Brandon Camp': 1, 'Rajkumar Hirani': 1, 'Grant Heslov': 1, 'Jorge Blanco': 1, 'Javier Abad': 1, 'Marcos MartÃ\\xadnez': 1, 'Troy Duffy': 1, 'John Schultz': 1, 'Olatunde Osunsanmi': 1, 'Mike Judge': 1, 'Daniel Barber': 1, 'Steve Shill': 1, 'Jonas Elmer': 1, 'Stewart Hendler': 1, 'Toby Wilkins': 1, 'Nathan Greno': 1, 'Florian Henckel von Donnersmarck': 1, 'Ethan Maniquis': 1, 'Ryan Murphy': 1, 'Anand Tucker': 1, 'Alan Poul': 1, 'Josh Gordon': 1, 'Will Speck': 1, 'Troy Nixey': 1, 'Samuel Bayer': 1, 'Susanna White': 1, 'Steve Antin': 1, 'Nanette Burstein': 1, 'Greg Berlanti': 1, 'Colin Strause': 1, 'Greg Strause': 1, 'Jim Field Smith': 1, 'Anthony Bell': 1, 'Ben Gluck': 1, 'David Lynch': 1, 'Sharon Maguire': 1, 'Gary Trousdale': 1, 'Kirk Wise': 1, 'J.B. Rogers': 1, 'Ted Demme': 1, 'Jean-Jacques Annaud': 1, 'Joel Gallen': 1, 'Alejandro AmenÃ¡bar': 1, 'Lawrence Guterman': 1, 'Chris Nahon': 1, 'Jerry Zucker': 1, 'Robert Altman': 1, 'James Isaac': 1, 'John Dahl': 1, 'Simon Wincer': 1, 'Bill Paxton': 1, 'Dennie Gordon': 1, 'John Boorman': 1, \"Pat O'Connor\": 1, 'Gregory Poirier': 1, 'Rob Pritts': 1, 'Francine McDougall': 1, 'DJ Pooh': 1, 'Pierre Morel': 1, 'John Stevenson': 1, 'Loveleen Tandan': 1, 'Tom Vaughan': 1, 'Mark Herman': 1, 'Jeff Wadlow': 1, 'Pete Travis': 1, 'David Wain': 1, 'Peter Sollett': 1, 'Fred Wolf': 1, 'David Hackl': 1, 'Jon Avnet': 1, 'Bryan Bertino': 1, 'Chris Carter': 1, 'John Patrick Shanley': 1, 'Paul Weiland': 1, 'David Moreau': 1, 'Xavier Palud': 1, 'Michael McCullers': 1, 'Howard Deutch': 1, 'Jennifer Flackett': 1, 'Mark Levin': 1, 'Anthony Leondis': 1, 'Nicolas Winding Refn': 1, 'Jennifer Yuh': 1, 'Brad Lewis': 1, 'Terrence Malick': 1, 'Michel Hazanavicius': 1, 'George Nolfi': 1, 'Tom Hanks': 1, 'Mark Mylod': 1, 'Chris Gorak': 1, 'Tate Taylor': 1, 'Christian E. Christiansen': 1, 'Oliver Parker': 1, 'Daniel Barnz': 1, 'Todd Strauss-Schulson': 1, 'Gonzalo LÃ³pez-Gallego': 1, 'John Michael McDonagh': 1, 'Jesse Peretz': 1, 'Jason Winer': 1, 'Alister Grierson': 1, 'Douglas McGrath': 1, 'Sean McNamara': 1, 'Joe Nussbaum': 1, 'Benny Chan': 1, 'Corey Yuen Kwai': 1, 'Curtis Hanson': 1, 'Joel Zwick': 1, 'Stuart Baird': 1, 'Steve Beck': 1, 'Lorna Cook': 1, 'Chuck Russell': 1, 'Julie Taymor': 1, 'Barbet Schroeder': 1, 'Simon Wells': 1, 'Adrian Lyne': 1, 'Michael Rymer': 1, 'Marcus Raboy': 1, 'Robin Budd': 1, 'Donovan Cook': 1, 'Mark Romanek': 1, 'Mark Pellington': 1, 'Jonathan Frakes': 1, 'Rick Rosenthal': 1, 'Tamra Davis': 1, 'Charles Stone III': 1, 'Kevin Bray': 1, 'MÃ¥ns MÃ¥rlind': 1, 'BjÃ¶rn Stein': 1, 'Mark Andrews': 1, 'Steve Purcell': 1, 'Brenda Chapman': 1, 'Rupert Sanders': 1, 'Mike Thurmeier': 1, 'Juan Antonio Bayona': 1, 'Rich Moore': 1, 'Stephen Chbosky': 1, 'Drew Goddard': 1, 'Peter Ramsey': 1, 'Michael Sucsy': 1, 'Rian Johnson': 1, 'Scott Speer': 1, 'Mike McCoy': 1, 'Nima Nourizadeh': 1, 'John Hillcoat': 1, 'Jeff Newitt': 1, 'Stephen St. Leger': 1, 'James Mather': 1, 'James Watkins': 1, 'Daniel Espinosa': 1, 'Asger Leth': 1, 'John Gulager': 1, 'Ole Bornedal': 1, 'Michael J. Bassett': 1, 'Andrew Dominik': 1, 'Nicholas Jarecki': 1, 'Dustin Hoffman': 1, 'Sam Fell': 1, 'Chris Butler': 1, 'Brian Klugman': 1, 'Lee Sternthal': 1, 'Dan Cutforth': 1, 'Jane Lipsitz': 1, 'Tom Shadyac': 1, 'Richard Curtis': 1, 'Stephen Norrington': 1, 'Steve Trenbirth': 1, 'Terry Zwigoff': 1, 'Peter Howitt': 1, 'Jan de Bont': 1, 'Rob Schmidt': 1, 'Peter Weir': 1, 'Jon Amiel': 1, 'Charles Herman-Wurmfeld': 1, 'Anthony Minghella': 1, 'Ronny Yu': 1, 'Kevin Costner': 1, 'Jim Fall': 1, 'Lawrence Kasdan': 1, 'Patty Jenkins': 1, 'Troy Miller': 1, 'Uwe Boll': 1, 'Mike Tollin': 1, 'FranÃ§ois Ozon': 1, 'Christopher Guest': 1, 'Christine Jeffs': 1, 'Jennifer Lee': 1, 'Shane Black': 1, 'Steve McQueen': 1, 'Dan Scanlon': 1, 'Tommy Wirkola': 1, 'Jean-Marc VallÃ©e': 1, 'Klay Hall': 1, 'Harmony Korine': 1, 'Fede Alvarez': 1, 'Derek Cianfrance': 1, 'Kimberly Peirce': 1, 'John Carney': 1, 'Ken Scott': 1, 'Seth Rogen': 1, 'Evan Goldberg': 1, 'Mike Flanagan': 1, 'David Soren': 1, 'Andy Muschietti': 1, 'Rusty Cundieff': 1, 'James Duffy': 1, 'Griffin Dunne': 1, 'Patrik Forsberg': 1, 'Will Graham': 1, 'Jonathan van Tulleken': 1, 'Scott Moore': 1, 'Jon Lucas': 1, 'Callan Brunker': 1, 'Amma Asante': 1, 'Cody Cameron': 1, 'Kris Pearn': 1, 'Giuseppe Tornatore': 1, 'Jeff Nichols': 1, 'Jonathan Teplitzky': 1, 'Neil Nightingale': 1, 'Barry Cook': 1, 'Ric Roman Waugh': 1, 'David E. Talbert': 1, 'Christopher B. Landon': 1, 'Joshua Michael Stern': 1, 'Anthony Silverston': 1, 'Ed Gass-Donnelly': 1, 'Oliver Hirschbiegel': 1, 'Fyodor Bondarchuk': 1, 'Frank Miller': 1, 'Garth Jennings': 1, 'Rob Bowman': 1, 'Mike Johnson': 1, 'Steve Box': 1, 'Angela Robinson': 1, 'Cory Edwards': 1, 'Todd Edwards': 1, 'Tony Leech': 1, 'John Polson': 1, 'Sydney Pollack': 1, 'Terry Gilliam': 1, 'Florent-Emilio Siri': 1, 'Jay Chandrasekhar': 1, 'Stephen Gaghan': 1, 'Frederik Du Chau': 1, 'Andrew Douglas': 1, 'Dean Parisot': 1, 'Jean-FranÃ§ois Richet': 1, 'Jim Jarmusch': 1, 'George A. Romero': 1, 'Rupert Wainwright': 1, 'Clare Kilner': 1, 'Richard Shepard': 1, 'Fernando Meirelles': 1, 'Geoffrey Sax': 1, 'Stephen Kay': 1, 'Joe Ranft': 1, 'Spike Lee': 1, 'Karey Kirkpatrick': 1, 'Frank Marshall': 1, 'Christophe Gans': 1, 'Stefen Fangmeier': 1, 'Alejandro Agresti': 1, \"Matthew O'Callaghan\": 1, 'Jared Hess': 1, 'Jonathan Dayton': 1, 'Valerie Faris': 1, 'Greg Coolidge': 1, 'Roger Allers': 1, 'Jill Culton': 1, 'Steve Oedekerk': 1, 'Chris Noonan': 1, 'John Bonito': 1, 'Liz Friedlander': 1, 'Elizabeth Allen Rosenbaum': 1, 'Richard Donner': 1, 'Richard Eyre': 1, 'Barry Levinson': 1, 'Renny Harlin': 1, 'Sanjay Gadhvi': 1, 'Glen Morgan': 1, 'Phil Joanou': 1, 'Mira Nair': 1, 'Rachid Bouchareb': 1, 'William Brent Bell': 1, 'Doug Atchison': 1, 'Eric Bress': 1, 'J. Mackye Gruber': 1, 'Alexander Witt': 1, 'Brad Silberling': 1, 'Peter Hewitt': 1, 'Bibo Bergeron': 1, 'Stephen Hillenburg': 1, 'Mark Rosman': 1, 'Rawson Marshall Thurber': 1, 'Jonathan Hensleigh': 1, 'David Koepp': 1, 'Don Mancini': 1, 'Terry George': 1, 'Trey Parker': 1, 'Sara Sugarman': 1, 'Guy Ferland': 1, 'Joseph Ruben': 1, 'Nick Hamm': 1, 'Joseph Kahn': 1, \"Gavin O'Connor\": 1, 'Kevin Allen': 1, 'Christopher Erskin': 1, 'Jan Pinkava': 1, 'Frank Darabont': 1, 'Sean Penn': 1, 'GÃ¡bor CsupÃ³': 1, 'Paul Thomas Anderson': 1, 'Raman Hui': 1, 'Steve Hickner': 1, 'Stephen J. Anderson': 1, 'Kevin Munroe': 1, 'Juan Carlos Fresnadillo': 1, 'Steve Bendelack': 1, 'Bruce A. Evans': 1, 'Robert Redford': 1, 'Kirsten Sheridan': 1, 'Philip G. Atwell': 1, 'Mennan Yapo': 1, 'Scott Hicks': 1, 'Ash Brannon': 1, 'Xavier Gens': 1, 'David Schwimmer': 1, 'Eli Roth': 1, 'Dave Meyers': 1, 'Julian Jarrold': 1, 'Shekhar Kapur': 1, 'Sidney Lumet': 1, 'Fred Savage': 1, 'Russell Mulcahy': 1, 'Michael Winterbottom': 1, 'Stephen Hopkins': 1, 'James Foley': 1, 'Mark Helfrich': 1, 'Jon Kasdan': 1, 'Shari Springer Berman': 1, 'Robert Pulcini': 1, 'James Gray': 1, 'Peter Hedges': 1, 'Alastair Fothergill': 1, 'Mark Linfield': 1, 'Wong Kar-wai': 1, 'Sylvain White': 1, 'Chris Rock': 1, 'Peter Webber': 1, 'Feng Xiaogang': 1, 'Ben Garant': 1, 'Ralph Zondag': 1, 'Eric Leighton': 1, 'David McNally': 1, 'Ben Younger': 1, 'Gregory Hoblit': 1, 'Mimi Leder': 1, 'Paul Verhoeven': 1, 'Mary Harron': 1, 'Lars von Trier': 1, 'Roger Spottiswoode': 1, 'Jonathan Lynn': 1, 'William Friedkin': 1, 'Robert Iscove': 1, 'Edward Norton': 1, 'Bonnie Hunt': 1})\n"
     ]
    }
   ],
   "source": [
    "r = Counter()\n",
    "Direct = GoodFilms.director.str.split('|').sum()\n",
    "for word in Direct:\n",
    "    r[word]+=1\n",
    "print(r)\n",
    "answer_ls.append(4)"
   ]
  },
  {
   "cell_type": "markdown",
   "metadata": {},
   "source": [
    "# 15. Кто из режиссеров принес больше всего прибыли?\n",
    "Варианты ответов:\n",
    "1. Steven Spielberg\n",
    "2. Christopher Nolan\n",
    "3. David Yates\n",
    "4. James Cameron\n",
    "5. Peter Jackson\n"
   ]
  },
  {
   "cell_type": "code",
   "execution_count": 20,
   "metadata": {},
   "outputs": [
    {
     "name": "stdout",
     "output_type": "stream",
     "text": [
      "director\n",
      "Peter Jackson            5202593685\n",
      "David Yates              3379295625\n",
      "Christopher Nolan        3162548502\n",
      "J.J. Abrams              2839169916\n",
      "Michael Bay              2760938960\n",
      "                            ...    \n",
      "David Bowers|Sam Fell     -84540684\n",
      "Peter Hyams               -86956545\n",
      "Ron Underwood             -92896027\n",
      "James L. Brooks           -96289726\n",
      "Sngmoo Lee               -413912431\n",
      "Name: pribil, Length: 958, dtype: int64\n"
     ]
    }
   ],
   "source": [
    "print(data.groupby(['director'])['pribil'].sum().sort_values(ascending=False))\n",
    "answer_ls.append(5)"
   ]
  },
  {
   "cell_type": "markdown",
   "metadata": {},
   "source": [
    "# 16. Какой актер принес больше всего прибыли?\n",
    "Варианты ответов:\n",
    "1. Emma Watson\n",
    "2. Johnny Depp\n",
    "3. Michelle Rodriguez\n",
    "4. Orlando Bloom\n",
    "5. Rupert Grint"
   ]
  },
  {
   "cell_type": "code",
   "execution_count": 21,
   "metadata": {},
   "outputs": [
    {
     "ename": "AttributeError",
     "evalue": "'DataFrame' object has no attribute 'fin_res'",
     "output_type": "error",
     "traceback": [
      "\u001b[1;31m---------------------------------------------------------------------------\u001b[0m",
      "\u001b[1;31mAttributeError\u001b[0m                            Traceback (most recent call last)",
      "\u001b[1;32m<ipython-input-21-95d7596bd975>\u001b[0m in \u001b[0;36m<module>\u001b[1;34m\u001b[0m\n\u001b[0;32m      1\u001b[0m \u001b[0mactors\u001b[0m \u001b[1;33m=\u001b[0m \u001b[0mset\u001b[0m\u001b[1;33m(\u001b[0m\u001b[0mdata\u001b[0m\u001b[1;33m.\u001b[0m\u001b[0mcast\u001b[0m\u001b[1;33m.\u001b[0m\u001b[0mstr\u001b[0m\u001b[1;33m.\u001b[0m\u001b[0msplit\u001b[0m\u001b[1;33m(\u001b[0m\u001b[1;34m'|'\u001b[0m\u001b[1;33m)\u001b[0m\u001b[1;33m.\u001b[0m\u001b[0msum\u001b[0m\u001b[1;33m(\u001b[0m\u001b[1;33m)\u001b[0m\u001b[1;33m)\u001b[0m\u001b[1;33m\u001b[0m\u001b[1;33m\u001b[0m\u001b[0m\n\u001b[1;32m----> 2\u001b[1;33m \u001b[0mprint\u001b[0m\u001b[1;33m(\u001b[0m\u001b[0mpd\u001b[0m\u001b[1;33m.\u001b[0m\u001b[0mSeries\u001b[0m\u001b[1;33m(\u001b[0m\u001b[1;33m{\u001b[0m\u001b[0mx\u001b[0m\u001b[1;33m:\u001b[0m\u001b[0mdata\u001b[0m\u001b[1;33m[\u001b[0m\u001b[0mdata\u001b[0m\u001b[1;33m.\u001b[0m\u001b[0mcast\u001b[0m\u001b[1;33m.\u001b[0m\u001b[0mstr\u001b[0m\u001b[1;33m.\u001b[0m\u001b[0mcontains\u001b[0m\u001b[1;33m(\u001b[0m\u001b[0mx\u001b[0m\u001b[1;33m)\u001b[0m\u001b[1;33m]\u001b[0m\u001b[1;33m.\u001b[0m\u001b[0mfin_res\u001b[0m\u001b[1;33m.\u001b[0m\u001b[0msum\u001b[0m\u001b[1;33m(\u001b[0m\u001b[1;33m)\u001b[0m \u001b[1;32mfor\u001b[0m \u001b[0mx\u001b[0m \u001b[1;32min\u001b[0m \u001b[0mactors\u001b[0m\u001b[1;33m}\u001b[0m\u001b[1;33m)\u001b[0m\u001b[1;33m.\u001b[0m\u001b[0msort_values\u001b[0m\u001b[1;33m(\u001b[0m\u001b[0mascending\u001b[0m \u001b[1;33m=\u001b[0m \u001b[1;32mFalse\u001b[0m\u001b[1;33m)\u001b[0m\u001b[1;33m)\u001b[0m\u001b[1;33m\u001b[0m\u001b[1;33m\u001b[0m\u001b[0m\n\u001b[0m\u001b[0;32m      3\u001b[0m \u001b[0manswer_ls\u001b[0m\u001b[1;33m.\u001b[0m\u001b[0mappend\u001b[0m\u001b[1;33m(\u001b[0m\u001b[1;36m1\u001b[0m\u001b[1;33m)\u001b[0m\u001b[1;33m\u001b[0m\u001b[1;33m\u001b[0m\u001b[0m\n",
      "\u001b[1;32m<ipython-input-21-95d7596bd975>\u001b[0m in \u001b[0;36m<dictcomp>\u001b[1;34m(.0)\u001b[0m\n\u001b[0;32m      1\u001b[0m \u001b[0mactors\u001b[0m \u001b[1;33m=\u001b[0m \u001b[0mset\u001b[0m\u001b[1;33m(\u001b[0m\u001b[0mdata\u001b[0m\u001b[1;33m.\u001b[0m\u001b[0mcast\u001b[0m\u001b[1;33m.\u001b[0m\u001b[0mstr\u001b[0m\u001b[1;33m.\u001b[0m\u001b[0msplit\u001b[0m\u001b[1;33m(\u001b[0m\u001b[1;34m'|'\u001b[0m\u001b[1;33m)\u001b[0m\u001b[1;33m.\u001b[0m\u001b[0msum\u001b[0m\u001b[1;33m(\u001b[0m\u001b[1;33m)\u001b[0m\u001b[1;33m)\u001b[0m\u001b[1;33m\u001b[0m\u001b[1;33m\u001b[0m\u001b[0m\n\u001b[1;32m----> 2\u001b[1;33m \u001b[0mprint\u001b[0m\u001b[1;33m(\u001b[0m\u001b[0mpd\u001b[0m\u001b[1;33m.\u001b[0m\u001b[0mSeries\u001b[0m\u001b[1;33m(\u001b[0m\u001b[1;33m{\u001b[0m\u001b[0mx\u001b[0m\u001b[1;33m:\u001b[0m\u001b[0mdata\u001b[0m\u001b[1;33m[\u001b[0m\u001b[0mdata\u001b[0m\u001b[1;33m.\u001b[0m\u001b[0mcast\u001b[0m\u001b[1;33m.\u001b[0m\u001b[0mstr\u001b[0m\u001b[1;33m.\u001b[0m\u001b[0mcontains\u001b[0m\u001b[1;33m(\u001b[0m\u001b[0mx\u001b[0m\u001b[1;33m)\u001b[0m\u001b[1;33m]\u001b[0m\u001b[1;33m.\u001b[0m\u001b[0mfin_res\u001b[0m\u001b[1;33m.\u001b[0m\u001b[0msum\u001b[0m\u001b[1;33m(\u001b[0m\u001b[1;33m)\u001b[0m \u001b[1;32mfor\u001b[0m \u001b[0mx\u001b[0m \u001b[1;32min\u001b[0m \u001b[0mactors\u001b[0m\u001b[1;33m}\u001b[0m\u001b[1;33m)\u001b[0m\u001b[1;33m.\u001b[0m\u001b[0msort_values\u001b[0m\u001b[1;33m(\u001b[0m\u001b[0mascending\u001b[0m \u001b[1;33m=\u001b[0m \u001b[1;32mFalse\u001b[0m\u001b[1;33m)\u001b[0m\u001b[1;33m)\u001b[0m\u001b[1;33m\u001b[0m\u001b[1;33m\u001b[0m\u001b[0m\n\u001b[0m\u001b[0;32m      3\u001b[0m \u001b[0manswer_ls\u001b[0m\u001b[1;33m.\u001b[0m\u001b[0mappend\u001b[0m\u001b[1;33m(\u001b[0m\u001b[1;36m1\u001b[0m\u001b[1;33m)\u001b[0m\u001b[1;33m\u001b[0m\u001b[1;33m\u001b[0m\u001b[0m\n",
      "\u001b[1;32mD:\\Program Files (x86)\\Anaconda\\lib\\site-packages\\pandas\\core\\generic.py\u001b[0m in \u001b[0;36m__getattr__\u001b[1;34m(self, name)\u001b[0m\n\u001b[0;32m   5177\u001b[0m             \u001b[1;32mif\u001b[0m \u001b[0mself\u001b[0m\u001b[1;33m.\u001b[0m\u001b[0m_info_axis\u001b[0m\u001b[1;33m.\u001b[0m\u001b[0m_can_hold_identifiers_and_holds_name\u001b[0m\u001b[1;33m(\u001b[0m\u001b[0mname\u001b[0m\u001b[1;33m)\u001b[0m\u001b[1;33m:\u001b[0m\u001b[1;33m\u001b[0m\u001b[1;33m\u001b[0m\u001b[0m\n\u001b[0;32m   5178\u001b[0m                 \u001b[1;32mreturn\u001b[0m \u001b[0mself\u001b[0m\u001b[1;33m[\u001b[0m\u001b[0mname\u001b[0m\u001b[1;33m]\u001b[0m\u001b[1;33m\u001b[0m\u001b[1;33m\u001b[0m\u001b[0m\n\u001b[1;32m-> 5179\u001b[1;33m             \u001b[1;32mreturn\u001b[0m \u001b[0mobject\u001b[0m\u001b[1;33m.\u001b[0m\u001b[0m__getattribute__\u001b[0m\u001b[1;33m(\u001b[0m\u001b[0mself\u001b[0m\u001b[1;33m,\u001b[0m \u001b[0mname\u001b[0m\u001b[1;33m)\u001b[0m\u001b[1;33m\u001b[0m\u001b[1;33m\u001b[0m\u001b[0m\n\u001b[0m\u001b[0;32m   5180\u001b[0m \u001b[1;33m\u001b[0m\u001b[0m\n\u001b[0;32m   5181\u001b[0m     \u001b[1;32mdef\u001b[0m \u001b[0m__setattr__\u001b[0m\u001b[1;33m(\u001b[0m\u001b[0mself\u001b[0m\u001b[1;33m,\u001b[0m \u001b[0mname\u001b[0m\u001b[1;33m,\u001b[0m \u001b[0mvalue\u001b[0m\u001b[1;33m)\u001b[0m\u001b[1;33m:\u001b[0m\u001b[1;33m\u001b[0m\u001b[1;33m\u001b[0m\u001b[0m\n",
      "\u001b[1;31mAttributeError\u001b[0m: 'DataFrame' object has no attribute 'fin_res'"
     ]
    }
   ],
   "source": [
    "actors = set(data.cast.str.split('|').sum())\n",
    "print(pd.Series({x:data[data.cast.str.contains(x)].fin_res.sum() for x in actors}).sort_values(ascending = False))\n",
    "answer_ls.append(1)"
   ]
  },
  {
   "cell_type": "markdown",
   "metadata": {},
   "source": [
    "# 17. Какой актер принес меньше всего прибыли в 2012 году?\n",
    "Варианты ответов:\n",
    "1. Nicolas Cage\n",
    "2. Danny Huston\n",
    "3. Kirsten Dunst\n",
    "4. Jim Sturgess\n",
    "5. Sami Gayle"
   ]
  },
  {
   "cell_type": "code",
   "execution_count": 22,
   "metadata": {},
   "outputs": [
    {
     "name": "stdout",
     "output_type": "stream",
     "text": [
      "1008    Kirsten Dunst|Jim Sturgess|Timothy Spall|James...\n",
      "Name: cast, dtype: object\n"
     ]
    }
   ],
   "source": [
    "Bed12=data[data.release_year==2012]\n",
    "print(Bed12[Bed12.pribil==Bed12.pribil.min()].cast)\n",
    "answer_ls.append(3)"
   ]
  },
  {
   "cell_type": "markdown",
   "metadata": {},
   "source": [
    "# 18. Какой актер снялся в большем количестве высокобюджетных фильмов? (в фильмах где бюджет выше среднего по данной выборке)\n",
    "Варианты ответов:\n",
    "1. Tom Cruise\n",
    "2. Mark Wahlberg \n",
    "3. Matt Damon\n",
    "4. Angelina Jolie\n",
    "5. Adam Sandler"
   ]
  },
  {
   "cell_type": "code",
   "execution_count": 23,
   "metadata": {},
   "outputs": [
    {
     "name": "stdout",
     "output_type": "stream",
     "text": [
      "Counter({'Matt Damon': 18, 'Adam Sandler': 17, 'Angelina Jolie': 16, 'Tom Cruise': 15, 'Samuel L. Jackson': 15, 'Eddie Murphy': 15, 'Mark Wahlberg': 14, 'Hugh Jackman': 14, 'Ben Stiller': 14, 'Jamie Foxx': 14, 'Russell Crowe': 14, 'Johnny Depp': 13, 'Jude Law': 13, 'Bruce Willis': 13, 'Will Smith': 13, 'Dwayne Johnson': 12, 'Ian McKellen': 12, 'Brad Pitt': 12, 'Owen Wilson': 12, 'Cameron Diaz': 12, 'Nicolas Cage': 12, 'Robert De Niro': 12, 'Leonardo DiCaprio': 11, 'Daniel Craig': 11, 'Robert Downey Jr.': 11, 'Steve Buscemi': 11, 'Vin Diesel': 10, 'Mark Ruffalo': 10, 'Jack Black': 10, 'Denzel Washington': 10, 'Emma Watson': 10, 'Gary Oldman': 10, 'Tom Hanks': 10, 'Orlando Bloom': 10, 'Ralph Fiennes': 9, 'Cate Blanchett': 9, 'Michael Caine': 9, 'Ewan McGregor': 9, 'Paul Bettany': 9, 'Brendan Gleeson': 9, 'Shia LaBeouf': 9, 'Nicole Kidman': 9, 'Colin Farrell': 9, 'Rachel Weisz': 9, 'Halle Berry': 9, 'Charlize Theron': 8, 'Kevin James': 8, 'Chris Hemsworth': 8, 'Helena Bonham Carter': 8, 'Josh Hutcherson': 8, 'George Clooney': 8, 'James Franco': 8, 'Christian Bale': 8, 'Gerard Butler': 8, 'Sylvester Stallone': 8, 'Rosario Dawson': 8, 'Ben Kingsley': 8, 'Bill Nighy': 8, 'Daniel Radcliffe': 8, 'Rupert Grint': 8, 'Jim Carrey': 8, 'Vince Vaughn': 8, 'Alec Baldwin': 8, 'Steve Carell': 8, 'Harrison Ford': 7, 'Jason Statham': 7, 'Chris Evans': 7, 'Woody Harrelson': 7, 'Josh Brolin': 7, 'Jeff Bridges': 7, 'Anne Hathaway': 7, 'Patrick Stewart': 7, 'Jennifer Connelly': 7, 'Anthony Hopkins': 7, 'Morgan Freeman': 7, 'Billy Crudup': 7, 'Jason Lee': 7, 'Jessica Biel': 7, 'Julia Roberts': 7, 'Ryan Reynolds': 7, 'Liam Neeson': 7, 'Karl Urban': 7, 'Richard Jenkins': 7, 'Chris Rock': 7, 'Kate Winslet': 6, 'Paul Walker': 6, 'Arnold Schwarzenegger': 6, 'Sean Bean': 6, 'Scarlett Johansson': 6, 'Elizabeth Banks': 6, 'Ving Rhames': 6, 'Mark Strong': 6, 'Jeffrey Wright': 6, 'Gwyneth Paltrow': 6, 'Matthew McConaughey': 6, 'Rosamund Pike': 6, 'Logan Lerman': 6, 'Robin Williams': 6, 'Stanley Tucci': 6, 'Mel Gibson': 6, 'Kevin Costner': 6, 'John Goodman': 6, 'Aaron Eckhart': 6, 'Justin Long': 6, 'Will Ferrell': 6, 'Seann William Scott': 6, 'Paul Giamatti': 6, 'Dustin Hoffman': 6, 'Mike Myers': 6, 'Eva Mendes': 6, 'Kate Beckinsale': 6, 'Jon Voight': 6, 'Jackie Chan': 6, 'Tobey Maguire': 6, 'Keanu Reeves': 6, 'Guy Pearce': 6, 'John Leguizamo': 6, 'Tommy Lee Jones': 6, 'Michelle Rodriguez': 5, 'Michael PeÃ±a': 5, 'Paul Rudd': 5, 'Jennifer Lawrence': 5, 'Carla Gugino': 5, 'Ioan Gruffudd': 5, 'Simon Pegg': 5, 'Giovanni Ribisi': 5, 'Frances McDormand': 5, 'Elijah Wood': 5, 'Jake Gyllenhaal': 5, 'Sam Worthington': 5, 'Delroy Lindo': 5, 'Bradley Cooper': 5, 'Donald Sutherland': 5, 'Ben Affleck': 5, 'Andy Serkis': 5, 'John Turturro': 5, 'Jonah Hill': 5, 'Julianne Moore': 5, 'John Malkovich': 5, 'Ian McShane': 5, 'Chris Pine': 5, 'Keira Knightley': 5, 'Jessica Alba': 5, 'Eric Bana': 5, 'Benjamin Bratt': 5, 'Hank Azaria': 5, 'John Travolta': 5, 'David Cross': 5, 'Clive Owen': 5, 'Sam Elliott': 5, 'Don Cheadle': 5, 'Ron Perlman': 5, 'Antonio Banderas': 5, 'Peter Sarsgaard': 5, 'Zach Galifianakis': 5, 'Nick Nolte': 5, 'Geoffrey Rush': 5, 'Brendan Fraser': 5, 'Jennifer Aniston': 5, 'Edward Norton': 5, 'Judi Dench': 5, 'John C. Reilly': 5, 'Sacha Baron Cohen': 5, 'Kirsten Dunst': 5, 'Djimon Hounsou': 5, 'Catherine Zeta-Jones': 5, 'Tom Hardy': 4, 'Kristen Wiig': 4, 'Christoph Waltz': 4, 'Michelle Monaghan': 4, 'Liam Hemsworth': 4, 'Amanda Seyfried': 4, 'Steve Martin': 4, 'Ray Winstone': 4, 'Rose Byrne': 4, 'Tom Hiddleston': 4, 'Michael Fassbender': 4, 'Megan Fox': 4, 'Will Arnett': 4, 'William Fichtner': 4, 'Marton Csokas': 4, 'Emma Stone': 4, 'Bill Paxton': 4, 'Joel Edgerton': 4, 'Bryan Cranston': 4, 'Jay Baruchel': 4, 'Eva Green': 4, 'David Wenham': 4, 'Michael Gambon': 4, 'Mickey Rourke': 4, 'Joseph Gordon-Levitt': 4, 'Bill Murray': 4, 'Carrie-Anne Moss': 4, 'Bruce Greenwood': 4, 'Patrick Wilson': 4, 'Chiwetel Ejiofor': 4, 'Thandie Newton': 4, 'Anna Faris': 4, 'Amy Adams': 4, 'Susan Sarandon': 4, 'PenÃ©lope Cruz': 4, 'Jon Favreau': 4, 'Luis GuzmÃ¡n': 4, 'Jason Bateman': 4, 'Seth Rogen': 4, 'Reese Witherspoon': 4, 'Tyrese Gibson': 4, 'Catherine Keener': 4, 'James Cromwell': 4, 'Julie Andrews': 4, 'Alfred Molina': 4, 'Salma Hayek': 4, 'Kristen Stewart': 4, 'Peter Facinelli': 4, 'Jason Isaacs': 4, 'Ashton Kutcher': 4, 'Jack Nicholson': 4, 'Viggo Mortensen': 4, 'Liv Tyler': 4, 'Ed Harris': 4, 'Heath Ledger': 4, 'Kurt Russell': 4, 'Angela Bassett': 4, 'TÃ©a Leoni': 4, 'Terrence Howard': 4, 'Hayden Christensen': 4, 'Terence Stamp': 4, 'Anthony Mackie': 4, 'Zooey Deschanel': 4, 'Matthew Broderick': 4, 'Ed Helms': 4, 'Hugo Weaving': 4, 'Natalie Portman': 4, 'Denis Leary': 4, 'Brian Cox': 4, 'Willem Dafoe': 4, 'Joaquin Phoenix': 4, 'Famke Janssen': 4, 'Peter Stormare': 4, 'Kerry Washington': 4, 'Billy Connolly': 4, 'Drew Barrymore': 4, 'RenÃ©e Zellweger': 4, 'Christopher Walken': 4, 'Bryce Dallas Howard': 3, 'Theo James': 3, 'Miles Teller': 3, 'Jason Clarke': 3, 'Jai Courtney': 3, 'Jessica Chastain': 3, 'Sandra Bullock': 3, 'Michael Keaton': 3, 'Bill Hader': 3, 'Monica Bellucci': 3, 'Mila Kunis': 3, 'Channing Tatum': 3, 'Josh Gad': 3, 'Michael Douglas': 3, 'Bobby Cannavale': 3, 'Hugh Laurie': 3, 'Alexandra Daddario': 3, 'Jeremy Renner': 3, 'Amy Ryan': 3, 'Henry Cavill': 3, 'Armie Hammer': 3, 'Kate Mara': 3, 'Jamie Bell': 3, 'Toby Kebbell': 3, 'Garrett Hedlund': 3, 'Andy Samberg': 3, 'Rachel McAdams': 3, 'Marion Cotillard': 3, 'Charlie Hunnam': 3, 'Casey Affleck': 3, 'Zoe Saldana': 3, 'Robert Redford': 3, 'Martin Freeman': 3, 'Richard Armitage': 3, 'Neil Patrick Harris': 3, 'James McAvoy': 3, 'Li Bingbing': 3, 'Colm Feore': 3, 'Sienna Miller': 3, 'Ken Watanabe': 3, 'Elle Fanning': 3, 'Sharlto Copley': 3, 'Luke Evans': 3, 'Dominic Cooper': 3, 'John Hurt': 3, 'Rufus Sewell': 3, 'Abbie Cornish': 3, 'Jesse Eisenberg': 3, 'Leslie Mann': 3, 'Andy GarcÃ\\xada': 3, 'Emily Browning': 3, 'Miranda Otto': 3, 'William Hurt': 3, 'Stephen Lang': 3, 'Christopher Plummer': 3, 'Malin Ã…kerman': 3, 'Amanda Peet': 3, 'Stellan SkarsgÃ¥rd': 3, 'Dennis Quaid': 3, 'Dakota Fanning': 3, 'Kristen Bell': 3, 'Kiefer Sutherland': 3, 'Robin Wright': 3, 'Josh Duhamel': 3, 'Meryl Streep': 3, 'Olivia Wilde': 3, 'Freddie Highmore': 3, 'Jordana Brewster': 3, 'Radha Mitchell': 3, 'Liev Schreiber': 3, 'Danny Huston': 3, 'Hugh Grant': 3, 'Sarah Jessica Parker': 3, 'Mary Steenburgen': 3, 'Russell Brand': 3, 'Emily Mortimer': 3, 'Skandar Keynes': 3, 'Georgie Henley': 3, 'Jason Flemyng': 3, 'Mary Elizabeth Winstead': 3, 'Brandon T. Jackson': 3, 'Mary-Louise Parker': 3, 'Maria Bello': 3, 'Robert Pattinson': 3, 'Taylor Lautner': 3, 'Greg Kinnear': 3, 'Kristin Davis': 3, 'Chris Noth': 3, 'James Marsden': 3, 'Dan Aykroyd': 3, 'Milla Jovovich': 3, 'Cuba Gooding Jr.': 3, 'Michael Clarke Duncan': 3, 'James Gandolfini': 3, 'Laurence Fishburne': 3, 'Billy Bob Thornton': 3, 'Teri Polo': 3, 'Lucy Liu': 3, 'Jada Pinkett Smith': 3, 'David Schwimmer': 3, 'Jeffrey Tambor': 3, 'Thomas Kretschmann': 3, 'Kenneth Branagh': 3, 'Cliff Curtis': 3, 'Michael Chiklis': 3, 'Jaden Smith': 3, 'Sienna Guillory': 3, 'Al Pacino': 3, 'Spencer Breslin': 3, 'Paula Patton': 3, 'Tim Robbins': 3, 'Justin Bartha': 3, 'Ken Jeong': 3, 'Jane Lynch': 3, 'Isla Fisher': 3, 'CiarÃ¡n Hinds': 3, 'Lily Collins': 3, 'Kevin Bacon': 3, 'Ray Romano': 3, 'Chris Cooper': 3, 'Emma Thompson': 3, 'William Shatner': 3, 'Cole Hauser': 3, 'Randy Quaid': 3, 'Harvey Keitel': 3, 'Scott Glenn': 3, 'David Oyelowo': 3, 'Michelle Pfeiffer': 3, 'David Spade': 3, 'Marisa Tomei': 3, 'Josh Lucas': 3, 'David Thewlis': 3, 'Connie Nielsen': 3, 'Bruce McGill': 3, 'Shirley MacLaine': 3, 'Hiroyuki Sanada': 3, 'Sean Penn': 3, 'Richard Roxburgh': 3, 'Val Kilmer': 3, 'Emmy Rossum': 3, 'Miranda Richardson': 3, 'Chris Pratt': 2, 'Irrfan Khan': 2, 'Nicholas Hoult': 2, 'Shailene Woodley': 2, 'Domhnall Gleeson': 2, 'J.K. Simmons': 2, 'Jeff Daniels': 2, 'Allison Janney': 2, 'Steve Coogan': 2, 'Amy Poehler': 2, 'LÃ©a Seydoux': 2, 'Evangeline Lilly': 2, 'Corey Stoll': 2, 'Colin Firth': 2, 'Giancarlo Esposito': 2, 'Alicia Vikander': 2, 'Elizabeth Debicki': 2, 'Rihanna': 2, 'Jennifer Lopez': 2, 'Edgar RamÃ\\xadrez': 2, 'Teresa Palmer': 2, 'Viola Davis': 2, 'Benjamin Walker': 2, 'Ben Whishaw': 2, 'Rooney Mara': 2, 'Selena Gomez': 2, 'Mia Wasikowska': 2, 'Sebastian Stan': 2, 'Ken Stott': 2, 'Graham McTavish': 2, 'Jamie Chung': 2, 'Rami Malek': 2, 'Ray Stevenson': 2, 'Nicola Peltz': 2, 'Keri Russell': 2, 'ChloÃ« Grace Moretz': 2, 'Andrew Garfield': 2, 'Emily Blunt': 2, 'Aaron Paul': 2, 'Ben Barnes': 2, 'Kit Harington': 2, 'Lena Headey': 2, 'Joel Kinnaman': 2, 'Jackie Earle Haley': 2, 'Adewale Akinnuoye-Agbaje': 2, 'RamÃ³n RodrÃ\\xadguez': 2, 'Yvonne Strahovski': 2, 'Kellan Lutz': 2, 'Sigourney Weaver': 2, 'MÃ©lanie Laurent': 2, 'Julie Walters': 2, 'Zachary Quinto': 2, 'Anton Yelchin': 2, 'Eddie Marsan': 2, 'Jeffrey Dean Morgan': 2, 'John Cusack': 2, 'Oliver Platt': 2, 'Keith David': 2, 'Marlon Wayans': 2, 'James Caan': 2, 'Saoirse Ronan': 2, 'Sam Rockwell': 2, 'Tracy Morgan': 2, 'Zachary Levi': 2, 'Mary Kay Place': 2, 'Michael Cera': 2, 'Oscar Isaac': 2, 'Lynn Collins': 2, 'Jason Segel': 2, 'Dolph Lundgren': 2, 'Michelle Williams': 2, 'Mandy Moore': 2, 'Tim Allen': 2, 'Ned Beatty': 2, 'Joan Cusack': 2, 'Timothy Dalton': 2, 'Gemma Arterton': 2, 'Anna Kendrick': 2, 'Barbra Streisand': 2, 'Helen Mirren': 2, 'Tina Fey': 2, 'Ashley Greene': 2, 'Jordi MollÃ\\xa0': 2, 'Javier Bardem': 2, 'Katherine Heigl': 2, 'Tom Selleck': 2, 'Cynthia Nixon': 2, 'Kim Cattrall': 2, 'Essie Davis': 2, 'Eric Dane': 2, 'Cam Gigandet': 2, 'Julianne Hough': 2, 'Stephanie Szostak': 2, 'Bette Midler': 2, 'Carey Mulligan': 2, 'Justin Timberlake': 2, 'John Cleese': 2, 'Billy Crystal': 2, \"Frances O'Connor\": 2, 'John Lithgow': 2, 'Josh Hartnett': 2, 'John Hannah': 2, 'Arnold Vosloo': 2, 'Michael J. Fox': 2, 'James Garner': 2, 'Noah Taylor': 2, 'Tim Roth': 2, 'Kris Kristofferson': 2, 'Tom Sizemore': 2, 'Chris Tucker': 2, 'Zhang Ziyi': 2, 'Ernie Reyes, Jr.': 2, 'Elizabeth Perkins': 2, 'Sam Shepard': 2, 'Dylan Baker': 2, 'Gene Hackman': 2, 'Dominic West': 2, 'Edward Burns': 2, 'Martin Landau': 2, 'David Ogden Stiers': 2, 'Courteney Cox': 2, 'David Hyde Pierce': 2, 'Til Schweiger': 2, 'David Andrews': 2, 'William H. Macy': 2, 'Jeff Garlin': 2, 'Olga Kurylenko': 2, 'Jet Li': 2, 'Selma Blair': 2, 'Michael Rooker': 2, 'William Moseley': 2, 'Anna Popplewell': 2, 'Kathy Bates': 2, 'Michael Ealy': 2, 'Malcolm McDowell': 2, 'Alan Arkin': 2, 'Ali Suliman': 2, 'Adam Scott': 2, 'Kate Hudson': 2, 'Ewen Bremner': 2, 'Lambert Wilson': 2, 'Charlotte Rampling': 2, 'Robert Duvall': 2, 'Christina Ricci': 2, 'Matthew Fox': 2, 'Gabriel Macht': 2, 'Paz Vega': 2, 'Kevin Kline': 2, 'Gabrielle Union': 2, 'Goran Visnjic': 2, 'Bailee Madison': 2, 'Noomi Rapace': 2, 'Larry the Cable Guy': 2, 'Eddie Izzard': 2, 'Vanessa Hudgens': 2, 'Emily Watson': 2, 'Asa Butterfield': 2, 'Dominic Purcell': 2, 'Maggie Q': 2, 'Isabel Lucas': 2, 'Katie Holmes': 2, 'Amy Sedaris': 2, 'Jason Momoa': 2, 'Lea Michele': 2, 'Johnny A. Sanchez': 2, 'Seth Green': 2, 'Queen Latifah': 2, 'Richard Harris': 2, 'Franka Potente': 2, 'Ian McDiarmid': 2, 'Max von Sydow': 2, 'Abigail Breslin': 2, 'Elias Koteas': 2, 'Liam Aiken': 2, 'Paul Newman': 2, 'BeyoncÃ© Knowles': 2, 'Mark Addy': 2, 'Adam Beach': 2, 'Izabella Scorupco': 2, 'Naomie Harris': 2, 'Idris Elba': 2, 'Martin Sheen': 2, 'Kevin McKidd': 2, 'Jim Broadbent': 2, 'Jim Sturgess': 2, 'Jonny Lee Miller': 2, 'Timothy Spall': 2, 'Taylor Kitsch': 2, 'Tadanobu Asano': 2, 'Nathan Lane': 2, 'Jack Davenport': 2, 'Claire Danes': 2, 'Jennifer Garner': 2, 'Martin Lawrence': 2, 'TchÃ©ky Karyo': 2, 'Bernie Mac': 2, 'Robert Patrick': 2, 'Steve Zahn': 2, 'Timothy Olyphant': 2, 'Diane Lane': 2, 'Jodie Foster': 2, 'Alice Braga': 2, 'Diego Luna': 2, 'James Badge Dale': 2, 'Patton Oswalt': 2, 'Cloris Leachman': 2, 'Max Martini': 2, 'Maggie Gyllenhaal': 2, 'Sung Kang': 2, 'Sophie Okonedo': 2, 'Zach Braff': 2, 'Jim Belushi': 2, 'AnnaSophia Robb': 2, 'Julian McMahon': 2, 'Lauren Graham': 2, 'Gong Li': 2, 'Amber Valletta': 2, 'Jeremy Irons': 2, 'Adrien Brody': 2, 'Lucas Black': 2, 'Donal Logue': 2, 'Paddy Considine': 2, 'Bonnie Hunt': 2, 'Yvan Attal': 2, 'Mads Mikkelsen': 2, 'Jean Reno': 2, 'Philip Seymour Hoffman': 2, 'Jonathan Rhys Meyers': 2, 'David Strathairn': 2, 'Sharon Stone': 2, 'Jacinda Barrett': 2, 'Gary Sinise': 2, 'Danny Glover': 2, 'Julia Stiles': 2, 'Diane Kruger': 2, 'Chi McBride': 2, 'Jane Krakowski': 2, 'Glenn Close': 2, 'Patrick Warburton': 2, 'John Michael Higgins': 2, 'Helen Hunt': 2, \"Vincent D'Onofrio\": 1, 'Nick Robinson': 1, 'Hugh Keays-Byrne': 1, 'Josh Helman': 1, 'Ansel Elgort': 1, 'Mark Hamill': 1, 'Carrie Fisher': 1, 'Adam Driver': 1, 'Daisy Ridley': 1, 'Will Poulter': 1, 'Paul Anderson': 1, 'Emilia Clarke': 1, 'Jon Hamm': 1, 'Phyllis Smith': 1, 'Richard Kind': 1, 'Lewis Black': 1, 'Eddie Redmayne': 1, 'Douglas Booth': 1, 'Peter Dinklage': 1, 'Lily James': 1, 'Richard Madden': 1, 'Holliday Grainger': 1, 'Britt Robertson': 1, 'Raffey Cassidy': 1, 'Thomas Robinson': 1, 'Archie Panjabi': 1, 'Rebecca Ferguson': 1, 'Seth MacFarlane': 1, 'Jessica Barth': 1, 'Taron Egerton': 1, \"Dylan O'Brien\": 1, 'Kaya Scodelario': 1, 'Thomas Brodie-Sangster': 1, 'Aidan Gillen': 1, 'Dylan Minnette': 1, 'Odeya Rush': 1, 'Jillian Bell': 1, 'Raymond Ochoa': 1, 'Jack Bright': 1, 'Maleah Nipay-Padilla': 1, 'Rose Leslie': 1, 'Ã“lafur Darri Ã“lafsson': 1, 'Luca Calvani': 1, 'Jim Parsons': 1, 'Matt Jones': 1, 'John Hawkes': 1, 'Luke Bracey': 1, 'Olivia Munn': 1, 'Leehom Wang': 1, 'Tang Wei': 1, 'Holt McCallany': 1, 'Michael B. Jordan': 1, 'Melissa McCarthy': 1, 'Miranda Hart': 1, 'Cillian Murphy': 1, 'Levi Miller': 1, 'Noah Schnapp': 1, 'Bill Melendez': 1, 'Venus Schultheis': 1, 'Hadley Belle Miller': 1, 'Madisyn Shipman': 1, 'Jim Beaver': 1, 'Tom Kenny': 1, 'Bill Fagerbakke': 1, 'Rodger Bumpass': 1, 'Clancy Brown': 1, 'Carolyn Lawrence': 1, 'Dave Bautista': 1, 'Scott Adsit': 1, 'Ryan Potter': 1, 'Daniel Henney': 1, 'T.J. Miller': 1, 'Carrie Coon': 1, 'Tyler Perry': 1, 'Jon Bernthal': 1, 'Rebel Wilson': 1, 'Alan Ritchson': 1, 'Noel Fisher': 1, 'Jack Reynor': 1, 'Judy Greer': 1, 'David Harbour': 1, 'Haley Bennett': 1, 'Dane DeHaan': 1, 'Jonas Armstrong': 1, 'Kyle Gallner': 1, 'Cole Konis': 1, 'Ben Reed': 1, 'Ben Mendelsohn': 1, 'Aaron Taylor-Johnson': 1, 'Elizabeth Olsen': 1, 'Juliette Binoche': 1, 'Juno Temple': 1, 'Isobelle Molloy': 1, 'Craig Berry': 1, 'Alison Brie': 1, 'David Burrows': 1, 'Sarah Gadon': 1, 'Art Parkinson': 1, 'Charles Dance': 1, 'Tom McGrath': 1, 'Chris Miller': 1, 'Christopher Knights': 1, 'Conrad Vernon': 1, 'Sullivan Stapleton': 1, 'Callan Mulvey': 1, 'Peter Capaldi': 1, 'Imelda Staunton': 1, 'Aksel Hennie': 1, 'Nonso Anozie': 1, 'Gemma Chan': 1, 'Rebecca Hall': 1, 'Ty Burrell': 1, 'Max Charles': 1, 'Ariel Winter': 1, 'Ellie Kemper': 1, \"Jack O'Connell\": 1, 'Takamasa Ishihara': 1, 'Finn Wittrock': 1, 'Jessica Lucas': 1, 'QuvenzhanÃ© Wallis': 1, 'Imogen Poots': 1, 'Isaac Hempstead Wright': 1, 'Dee Bradley Baker': 1, 'Steve Blum': 1, 'Jessica Brown Findlay': 1, 'Liam McIntyre': 1, 'Gaia Weiss': 1, 'Scott Adkins': 1, 'Roxanne McKee': 1, 'Eli Roth': 1, 'Tom Felton': 1, 'Ed Asner': 1, 'Jordan Nagai': 1, 'Bob Peterson': 1, 'Leonard Nimoy': 1, 'Moon Bloodgood': 1, 'Ayelet Zurer': 1, 'Pierfrancesco Favino': 1, 'Anika Noni Rose': 1, 'Bruno Campos': 1, 'Michael-Leon Wooley': 1, 'Jennifer Cody': 1, 'Mr. T': 1, 'Teri Hatcher': 1, 'Jennifer Saunders': 1, 'Dawn French': 1, 'Steve Valentine': 1, 'Daryl Sabara': 1, 'Sage Ryan': 1, 'Victor Gojcaj': 1, 'Matthew Gray Gubler': 1, 'Rainn Wilson': 1, 'Lake Bell': 1, 'Anna Friel': 1, 'Danny McBride': 1, 'Jorma Taccone': 1, 'Matt Lauer': 1, 'Tony Kgoroge': 1, 'Patrick Mofokeng': 1, 'Matt Stern': 1, 'Max Minghella': 1, 'Ashraf Barhom': 1, 'Michael Lonsdale': 1, 'John Ortiz': 1, 'Tom Wilkinson': 1, 'Lisa Roberts Gillan': 1, 'Nelsan Ellis': 1, 'Michael Bunin': 1, 'Natalia Klimas': 1, 'Ellen Page': 1, 'Crispin Glover': 1, 'Eric Roberts': 1, 'Randy Couture': 1, 'Craig Ferguson': 1, 'America Ferrera': 1, 'Bruce Boxleitner': 1, 'Yaya DaCosta': 1, 'Donna Murphy': 1, 'M.C. Gainey': 1, 'Daniel Olbrychski': 1, 'Gary Sweet': 1, 'Arthur Angel': 1, 'Steven Berkoff': 1, 'Steve Toussaint': 1, 'Kieran Culkin': 1, 'Jake Abel': 1, 'Ethan Suplee': 1, 'Kevin Corrigan': 1, 'Maya Rudolph': 1, 'Jennifer Beals': 1, 'Taraji P. Henson': 1, 'Jimmi Simpson': 1, 'Noah Ringer': 1, 'Jackson Rathbone': 1, 'Dev Patel': 1, 'Shaun Toub': 1, \"Chris O'Dowd\": 1, 'Juliette Lewis': 1, \"Catherine O'Hara\": 1, 'Alex Borstein': 1, 'Emily Barclay': 1, 'Deborra-Lee Furness': 1, 'Cher': 1, 'Christina Aguilera': 1, 'Jemaine Clement': 1, 'Christina Applegate': 1, 'Pascale Hutton': 1, 'Kathryn Hahn': 1, 'Frank Langella': 1, 'Tom Cavanagh': 1, 'Christine Taylor': 1, 'Shawn Roberts': 1, \"Denis O'Hare\": 1, 'Kate Bosworth': 1, 'Jang Dong-gun': 1, 'Ti Lung': 1, 'Wentworth Miller': 1, 'Ali Larter': 1, 'Kim Coates': 1, 'Kacey Barnfield': 1, 'Robbie Coltrane': 1, 'Mary Gibbs': 1, 'James Coburn': 1, 'Haley Joel Osment': 1, 'Sam Robards': 1, 'Jake Thomas': 1, 'Vincent Cassel': 1, 'Oded Fehr': 1, 'Corey Burton': 1, 'Claudia Christian': 1, 'John Mahoney': 1, 'Iain Glen': 1, 'Joseph Fiennes': 1, 'Bob Hoskins': 1, 'Shannyn Sossamon': 1, 'Laura Fraser': 1, 'Roselyn SÃ¡nchez': 1, 'Jeff Goldblum': 1, 'Alexander Pollock': 1, 'Miriam Margolyes': 1, 'Catherine McCormack': 1, 'Stephen Dillane': 1, 'Larry Bryggman': 1, 'Ming-Na Wen': 1, 'Kristen Wilson': 1, 'Raven-SymonÃ©': 1, 'Kyla Pratt': 1, 'Steve Burton': 1, 'Monica Potter': 1, 'Michael Wincott': 1, 'Mika Boorem': 1, 'Jason Bonham': 1, 'Kelsey Grammer': 1, 'Avery Brooks': 1, 'David Duchovny': 1, 'Orlando Jones': 1, 'Ted Levine': 1, 'Mario Van Peebles': 1, 'Ron Silver': 1, 'Marlon Brando': 1, 'Paul Soles': 1, 'Laurie Holden': 1, 'Hal Holbrook': 1, 'Christian Slater': 1, 'Kevin Pollak': 1, 'Brandy Norwood': 1, 'Troy Garity': 1, 'William Converse-Roberts': 1, 'Kip Pardue': 1, 'Robert Sean Leonard': 1, 'Estella Warren': 1, 'Ray Liotta': 1, \"Matt O'Leary\": 1, 'Bridget Fonda': 1, 'Chris Kattan': 1, 'Sam Neill': 1, 'Trevor Morgan': 1, 'Alessandro Nivola': 1, 'Ben Burtt': 1, 'Elissa Knight': 1, 'Fred Willard': 1, 'John Ratzenberger': 1, 'Leslie Bibb': 1, 'Karen Allen': 1, 'Mathieu Amalric': 1, 'Giancarlo Giannini': 1, 'Tilda Swinton': 1, 'Julia Ormond': 1, 'Luke Ford': 1, 'Tim Blake Nelson': 1, 'Cedric the Entertainer': 1, 'Doug Jones': 1, 'Rachel Bilson': 1, 'Carice van Houten': 1, 'Steven Strait': 1, 'Camilla Belle': 1, 'Nathanael Baring': 1, 'Mo Zinal': 1, 'Jae Head': 1, 'Sarah Jane Morris': 1, 'Miley Cyrus': 1, 'Susie Essman': 1, 'Mark Walton': 1, 'Bryan Brown': 1, 'Rhys Darby': 1, 'Sasha Alexander': 1, 'Fionnula Flanagan': 1, 'Kathleen Turner': 1, 'Simon McBurney': 1, 'Eliza Bennett': 1, 'Alexis Dziena': 1, 'Lucy Lawless': 1, 'Michelle Yeoh': 1, 'MÃ©lanie Thierry': 1, 'Jeffrey Donovan': 1, 'Geoff Pierson': 1, 'Sarah Bolger': 1, 'Andrew McCarthy': 1, 'Dwight Yoakam': 1, 'Romany Malco': 1, 'Meagan Good': 1, 'Emile Hirsch': 1, 'Scott Porter': 1, 'Carol Burnett': 1, 'Michael Angarano': 1, 'Collin Chou': 1, '50 Cent': 1, 'Donnie Wahlberg': 1, 'Emmanuelle Chriqui': 1, 'Nick Swardson': 1, 'Lainie Kazan': 1, 'Harry Treadaway': 1, 'Betty Buckley': 1, 'Tracey Ullman': 1, 'Scott Caan': 1, 'Hayley Atwell': 1, 'Alan Rickman': 1, 'Maggie Smith': 1, 'Kevin McNally': 1, 'Karin Konoval': 1, 'Freida Pinto': 1, 'Anil Kapoor': 1, 'Griffin Gluck': 1, 'Dakota Goyo': 1, 'Kevin Durand': 1, 'Jared Harris': 1, 'Kelly Reilly': 1, 'Blake Lively': 1, 'Nick Frost': 1, 'Jena Malone': 1, 'Will.i.am': 1, 'Walton Goggins': 1, 'Benedict Cumberbatch': 1, 'Jeremy Irvine': 1, 'Violante Placido': 1, 'Fergus Riordan': 1, 'Johnny Whitworth': 1, 'Matthew Macfadyen': 1, 'Will Rothhaar': 1, 'Cory Hardrict': 1, 'Jim Parrack': 1, 'Eugenio Derbez': 1, 'Tim Meadows': 1, 'Jay Chou': 1, 'Edward Furlong': 1, 'Rose McGowan': 1, 'Rachel Nichols': 1, 'Alan Alda': 1, 'Pink': 1, 'E.G. Daily': 1, 'Dan Fogler': 1, 'Breckin Meyer': 1, 'Elisabeth Harnois': 1, 'Jenny Slate': 1, 'Andy Buckley': 1, 'Jayma Mays': 1, 'Alan Cumming': 1, 'Kaley Cuoco': 1, 'Winona Ryder': 1, 'Cliff Robertson': 1, 'Rip Torn': 1, 'Lara Flynn Boyle': 1, 'Johnny Knoxville': 1, 'Samantha Morton': 1, 'Lois Smith': 1, 'Chris Sanders': 1, 'Daveigh Chase': 1, 'Tia Carrere': 1, 'Kevin McDonald': 1, 'Asia Argento': 1, 'Michael Roof': 1, 'Roscoe Lee Browne': 1, 'Martin Short': 1, 'Pierce Brosnan': 1, 'Rick Yune': 1, 'Toby Stephens': 1, 'Natasha Richardson': 1, 'Tyler Posey': 1, 'Daniel Day-Lewis': 1, 'Geena Davis': 1, 'Jonathan Lipnicki': 1, 'Anna Hoelck': 1, 'Alicia Witt': 1, 'Dana Ivey': 1, 'Robert Klein': 1, 'Rory Culkin': 1, 'Cherry Jones': 1, 'Francesca Neri': 1, 'Jonathan Frakes': 1, 'LeVar Burton': 1, 'Brent Spiner': 1, 'Gates McFadden': 1, 'Tyler Hoechlin': 1, 'Jennifer Jason Leigh': 1, 'Michael York': 1, 'Mindy Sterling': 1, 'Elizabeth Mitchell': 1, 'David Krumholtz': 1, 'Eric Lloyd': 1, 'Freddie Prinze Jr.': 1, 'Sarah Michelle Gellar': 1, 'Matthew Lillard': 1, 'Linda Cardellini': 1, 'Rowan Atkinson': 1, 'Daniel Studi': 1, 'Chopper Bernet': 1, 'Jeff LeBeau': 1, 'Courtney B. Vance': 1, 'Tom Berenger': 1, 'Charles S. Dutton': 1, 'Kelly Hu': 1, 'Steven Brand': 1, 'Bernard Hill': 1, 'Keith Dallas': 1, 'Madeleine Stowe': 1, 'Chris Klein': 1, 'Samantha Mumba': 1, 'Phyllida Law': 1, 'Laura Kirk': 1, 'Noah Emmerich': 1, 'Joss Ackland': 1, 'John Shrapnel': 1, 'Alexander Siddig': 1, 'Rachael Harris': 1, 'Zaid Farid': 1, 'Marcel IureÈ™': 1, 'Joe Pantoliano': 1, 'Jay Mohr': 1, 'Joe Morton': 1, 'Ron Rifkin': 1, 'Susanna Thompson': 1, 'Stephen Rea': 1, 'India Eisley': 1, 'Stacy Keach': 1, 'Rhys Ifans': 1, 'Kelly Macdonald': 1, 'Sam Claflin': 1, 'Suraj Sharma': 1, 'Ayush Tandon': 1, 'Gautam Belur': 1, 'Adil Hussain': 1, 'Chris Wedge': 1, 'Werner Herzog': 1, 'Sarah Silverman': 1, 'Jack McBrayer': 1, 'Jamie Elman': 1, 'Michael Stuhlbarg': 1, 'James Kidnie': 1, 'Heidi Hawkins': 1, 'Zac Efron': 1, 'Danny DeVito': 1, 'Taylor Swift': 1, 'Rob Riggle': 1, 'Alexander SkarsgÃ¥rd': 1, 'Brooklyn Decker': 1, 'Martin Klebba': 1, 'Elizabeth Reaser': 1, 'Sayed Badreya': 1, 'Aasif Mandvi': 1, 'Diego Boneta': 1, 'Jeremy Piven': 1, 'Brian Blessed': 1, 'Eva Amurri Martino': 1, 'Leighton Meester': 1, 'Vera Farmiga': 1, 'Adrianne Palicki': 1, 'Kodi Smit-McPhee': 1, 'Tucker Albrizzi': 1, 'Jodelle Ferland': 1, 'Daniela Ruah': 1, 'Aryana Engineer': 1, 'Mary Alice': 1, 'Helmut Bakaitis': 1, 'Albert Brooks': 1, 'Ellen DeGeneres': 1, 'Alexander Gould': 1, 'Brad Garrett': 1, 'Philip Baker Hall': 1, 'Catherine Bell': 1, 'Lisa Ann Walter': 1, 'Nick Stahl': 1, 'Kristanna Loken': 1, 'Albert Finney': 1, 'Jessica Lange': 1, 'Jason Biggs': 1, 'Alyson Hannigan': 1, 'Eddie Kaye Thomas': 1, 'Thomas Ian Nicholas': 1, 'Sean Connery': 1, 'Peta Wilson': 1, 'Shane West': 1, 'Stuart Townsend': 1, 'Fausto Callegarini': 1, 'Jeremy Sumpter': 1, 'Rachel Hurd-Wood': 1, 'Richard Briers': 1, 'Olivia Williams': 1, 'William Atherton': 1, 'Chad Lindberg': 1, \"James D'Arcy\": 1, 'Billy Boyd': 1, 'Joseph Morgan': 1, 'January Jones': 1, 'Hilary Swank': 1, 'LL Cool J': 1, 'Josh Charles': 1, 'Eamonn Walker': 1, 'Johnny Messner': 1, 'Uma Thurman': 1, 'Diane Keaton': 1, 'Nathaniel Parker': 1, 'Marsha Thomason': 1, 'Jennifer Tilly': 1, 'Eileen Atkins': 1, 'Jenna Elfman': 1, 'Heather Locklear': 1, 'Ludacris': 1, 'Regina King': 1, 'Kevin Nealon': 1, 'David McCullough': 1, 'Thomas Jane': 1, 'Damian Lewis': 1, 'Edward Herrmann': 1, 'Benicio del Toro': 1, 'Leslie Stefanson': 1, 'John Finn': 1, 'Kevin Conway': 1, 'C. Thomas Howell': 1, 'Wen Yann Shih': 1, 'Seymour Cassel': 1, 'Idina Menzel': 1, 'Jonathan Groff': 1, 'Santino Fontana': 1, 'Orto Ignatiussen': 1, 'Phaldut Sharma': 1, 'Christopher Eccleston': 1, 'Margot Robbie': 1, 'Kyle Chandler': 1, 'Rob Reiner': 1, 'Charlie Day': 1, 'Burn Gorman': 1, 'Andrea Riseborough': 1, 'Nikolaj Coster-Waldau': 1, 'Michael Shannon': 1, 'Miranda Cosgrove': 1, 'Sebastian Koch': 1, 'Yuliya Snigir': 1, 'Joel Murray': 1, 'Mireille Enos': 1, 'Abigail Hargrove': 1, 'Sterling Jerins': 1, 'Hailee Steinfeld': 1, 'Fred Ward': 1, 'Douglas Smith': 1, 'Leven Rambin': 1, 'Kou Shibasaki': 1, 'Min Tanaka': 1, 'Jamie Campbell Bower': 1, 'Kevin Zegers': 1, 'Jemima West': 1, 'Robert Sheehan': 1, 'Jason Sudeikis': 1, 'Aziz Ansari': 1, 'Chris Mulkey': 1, 'Yul Vazquez': 1, 'Joey King': 1, 'Eleanor Tomlinson': 1, 'Sarah Shahi': 1, 'ZoÃ« Kravitz': 1, 'Glenn Morshower': 1, 'Ryan Gosling': 1, 'Will Forte': 1, 'Barry Pepper': 1, 'Charlie Rowe': 1, 'Angourie Rice': 1, 'Katy Perry': 1, 'Tao Okamoto': 1, 'Rila Fukushima': 1, 'Svetlana Khodchenkova': 1, 'George Takei': 1, 'Colm Meaney': 1, 'Hugh Dancy': 1, 'Tiya Sircar': 1, 'Julia Winter': 1, 'Max Baker': 1, 'Caroline Chikezie': 1, 'Faith Ford': 1, 'Chris Potter': 1, 'Brittany Snow': 1, 'Justin Chatwin': 1, 'Youki Kudoh': 1, 'Tsai Chin': 1, 'Suzuka Ohgo': 1, 'Garry Marshall': 1, 'Don Knotts': 1, 'Julie Ann Emery': 1, 'Naomi Watts': 1, 'Colin Hanks': 1, 'Mel Brooks': 1, 'Paula Abdul': 1, 'Ice Cube': 1, 'Scott Speedman': 1, 'Xzibit': 1, 'Adam Brody': 1, 'AdriÃ¡n Alonso Barona': 1, 'Julio Oscar Mechoso': 1, 'Nick Chinlund': 1, 'Scott MacDonald': 1, 'Dina Spybey-Waters': 1, 'Ben Shenkman': 1, 'Craig Bierko': 1, 'Jason Schwartzman': 1, 'Ben Daniels': 1, 'Deobia Oparei': 1, 'Eugene Levy': 1, 'Tom Welling': 1, 'Jonathan Bennett': 1, 'Jesper Christensen': 1, 'Mackenzie Crook': 1, 'Roger Ashton-Griffiths': 1, 'Mathieu Kassovitz': 1, 'Hanns Zischler': 1, 'Angie Harmon': 1, 'Kate Beahan': 1, 'Michael Irby': 1, 'Burt Reynolds': 1, 'Michael Irvin': 1, 'Nelly': 1, 'Heike Makatsch': 1, 'Armin Rohde': 1, 'Wilfried Hochholdinger': 1, 'Lennie James': 1, 'Robert Mammone': 1, 'James Carpinello': 1, 'Mark Consuelos': 1, 'Cheech Marin': 1, 'Audrey Tautou': 1, 'Eli Wallach': 1, 'Jake Cherry': 1, 'Dick Van Dyke': 1, 'David Hasselhoff': 1, 'Henry Winkler': 1, 'Garry Shandling': 1, 'Wanda Sykes': 1, 'Kagiso Kuypers': 1, 'Lombardo Boyar': 1, 'Carlos Alazraqui': 1, 'Jeffrey Garcia': 1, 'Janeane Garofalo': 1, 'Jim Caviezel': 1, 'Adam Goldberg': 1, 'Ed Speleers': 1, 'Robert Carlyle': 1, 'Ryan Newman': 1, 'Mitchel Musso': 1, 'Sam Lerner': 1, 'Spencer Locke': 1, 'Tammy Blanchard': 1, 'Luis Tosar': 1, 'Ryan Phillippe': 1, 'Jesse Bradford': 1, 'John Benjamin Hickey': 1, 'John Slattery': 1, 'Patricia Clarkson': 1, 'David Morrissey': 1, 'Stan Collymore': 1, 'Gary Cole': 1, 'Austin Crim': 1, 'Jake Johnson': 1, 'Brian Howe': 1, 'James Karen': 1, 'Richard Dreyfuss': 1, 'Shawn Wayans': 1, 'John Witherspoon': 1, 'Jay Hernandez': 1, 'Debra Messing': 1, 'Jennifer Hudson': 1, 'Sela Ward': 1, 'Melissa Sagemiller': 1, 'Omari Hardwick': 1, 'Brian Tee': 1, 'Nathalie Kelley': 1, 'Shad Moss': 1, 'Mos Def': 1, 'David Morse': 1, 'Jenna Stern': 1, 'David Zayas': 1, 'Eva Longoria': 1, 'Martin Donovan': 1, 'Ritchie Coster': 1, 'Scott Hazell': 1, 'Mac McDonald': 1, 'Philip Winchester': 1, 'Todd Boyce': 1, 'Bob Balaban': 1, 'Sarita Choudhury': 1, 'Cindy Cheung': 1, 'Craig T. Nelson': 1, 'Holly Hunter': 1, 'Dominique Louis': 1, 'Bridget Moynahan': 1, 'Alan Tudyk': 1, 'Rob Schneider': 1, 'Sean Astin': 1, 'Lusia Strus': 1, 'Shuler Hensley': 1, 'Rupert Evans': 1, 'Michael Jeter': 1, 'Eddie Deezen': 1, 'Chris Coppola': 1, 'Nona Gaye': 1, 'Dash Mihok': 1, 'Jay O. Sanders': 1, 'Peter Berg': 1, 'Wesley Snipes': 1, 'Bai Ling': 1, 'Sanaa Lathan': 1, 'Raoul Bova': 1, 'Colin Salmon': 1, 'Tommy Flanagan': 1, 'Jared Leto': 1, 'Rosemary Harris': 1, 'Marc Anthony': 1, 'Frances Conroy': 1, 'Christina Cox': 1, 'Shelbie Bruce': 1, 'Jason Patric': 1, 'Emilio EchevarrÃ\\xada': 1, 'Kimberly Elise': 1, 'Omar Epps': 1, 'RenÃ©e Taylor': 1, 'G. W. Bailey': 1, 'Zuleikha Robinson': 1, 'Omar Sharif': 1, 'Adam Alexi-Malle': 1, 'Louise Lombard': 1, 'Snoop Dogg': 1, 'Fred Williamson': 1, 'Minnie Driver': 1, 'CÃ©cile De France': 1, 'Robert Fyfe': 1, 'MaÃ¯ Anh Le': 1, 'Oanh Nguyen': 1, \"Jaran 'See Tao' Petcharoen\": 1, 'StÃ©phanie Lagarde': 1, 'Morris Chestnut': 1, 'Ian Holm': 1, 'Lou Romano': 1, 'Brian Dennehy': 1, 'Peter Sohn': 1, 'Charlie Tahan': 1, 'Salli Richardson-Whitfield': 1, 'Willow Smith': 1, 'Thomas Haden Church': 1, 'Topher Grace': 1, 'Charlie Cox': 1, 'Vincent Regan': 1, 'Wes Bentley': 1, 'Kate Butler': 1, 'Lymari Nadal': 1, 'Cameron Richardson': 1, 'Jerry Seinfeld': 1, 'Laurie Metcalf': 1, 'Nicole Sullivan': 1, 'Harland Williams': 1, 'Patrick Dempsey': 1, 'Rachel Covey': 1, 'Anthony Edwards': 1, 'Dan Castellaneta': 1, 'Julie Kavner': 1, 'Nancy Cartwright': 1, 'Yeardley Smith': 1, 'Om Puri': 1, 'Dakota Blue Richards': 1, 'Dallas Roberts': 1, 'Peter Fonda': 1, 'Lena Olin': 1, 'Charlie Hewson': 1, 'Jimmy Bennett': 1, 'Tory Kittles': 1, 'Jerry Stiller': 1, 'Rob Corddry': 1, 'Jon Heder': 1, 'James Woods': 1, 'ZoÃ« Bell': 1, 'Vanessa Ferlito': 1, 'Sydney Tamiia Poitier': 1, 'Rachael Taylor': 1, 'Jeremy Northam': 1, 'Jackson Bond': 1, 'Richard Portnow': 1, 'Gary Dourdan': 1, 'Terry Crews': 1, 'Clifton Powell': 1, 'Lester Speight': 1, 'Aishwarya Rai Bachchan': 1, 'Peter Mullan': 1, 'Oliver Reed': 1, 'Taylor Momsen': 1, 'Christine Baranski': 1, 'Bill Irwin': 1, 'Paul Sanchez': 1, 'Lari White': 1, 'Dougray Scott': 1, 'Eartha Kitt': 1, 'Wendie Malick': 1, 'Lauren Holly': 1, 'Mark Feuerstein': 1, 'D. B. Sweeney': 1, 'Alfre Woodard': 1, 'Ossie Davis': 1, 'Max Casella': 1, 'Hayden Panettiere': 1, 'John Forsythe': 1, 'Joely Richardson': 1, 'Jon Bon Jovi': 1, 'David Keith': 1, 'Will Patton': 1, 'Blythe Danner': 1, 'Rosie Perez': 1, 'Armand Assante': 1, 'Edward James Olmos': 1, 'Elisabeth Shue': 1, 'Kim Dickens': 1, 'Rhona Mitra': 1, 'Joel Gretsch': 1, 'Saul Rubinek': 1, 'Michael Rapaport': 1, 'Tony Goldwyn': 1, 'Sarah Wynter': 1, 'Spencer Treat Clark': 1, 'John Patrick Amedori': 1, 'Clint Eastwood': 1, 'Patrick Fugit': 1, 'Simon Baker': 1, \"Jerry O'Connell\": 1, 'Rachael Leigh Cook': 1, 'Johnny Strong': 1, 'Stephen Baldwin': 1, 'Kristen Johnston': 1, 'Joan Collins': 1, 'Steven Culp': 1, 'Shawn Driscoll': 1, 'Bill Pullman': 1, \"Chris O'Donnell\": 1, 'Robin Tunney': 1, 'Diana Scarwid': 1, 'James Remar': 1, 'Alice Evans': 1, 'Tim McInnerny': 1, 'GÃ©rard Depardieu': 1, 'Janet Jackson': 1, 'Larry Miller': 1, 'John Ales': 1, 'Richard Gant': 1, 'James Spader': 1, 'Robert Forster': 1, 'Lou Diamond Phillips': 1, 'Lily Tomlin': 1, 'Rene Russo': 1, 'Jason Alexander': 1, 'Piper Perabo': 1})\n"
     ]
    }
   ],
   "source": [
    "MeanProfit=data.budget.mean()\n",
    "VeryGoodFilms=data[data.budget>MeanProfit]\n",
    "r = Counter()\n",
    "ACT = VeryGoodFilms.cast.str.split('|').sum()\n",
    "for word in ACT:\n",
    "    r[word]+=1\n",
    "print(r)\n",
    "answer_ls.append(3)"
   ]
  },
  {
   "cell_type": "markdown",
   "metadata": {},
   "source": [
    "# 19. В фильмах какого жанра больше всего снимался Nicolas Cage?  \n",
    "Варианты ответа:\n",
    "1. Drama\n",
    "2. Action\n",
    "3. Thriller\n",
    "4. Adventure\n",
    "5. Crime"
   ]
  },
  {
   "cell_type": "code",
   "execution_count": 24,
   "metadata": {},
   "outputs": [
    {
     "name": "stdout",
     "output_type": "stream",
     "text": [
      "Counter({'Action': 17, 'Thriller': 15, 'Drama': 12, 'Crime': 10, 'Fantasy': 8, 'Adventure': 7, 'Comedy': 6, 'Science Fiction': 4, 'Mystery': 3, 'Animation': 3, 'Family': 3, 'History': 2, 'War': 1, 'Horror': 1, 'Romance': 1})\n"
     ]
    }
   ],
   "source": [
    "Cage = data[data.cast.str.contains('Nicolas Cage')] \n",
    "c = Counter()\n",
    "genres = Cage.genres.str.split('|').sum()\n",
    "for word in genres:\n",
    "    c[word]+=1\n",
    "print(c)\n",
    "answer_ls.append(2)"
   ]
  },
  {
   "cell_type": "markdown",
   "metadata": {},
   "source": [
    "# 20. Какая студия сняла больше всего фильмов?\n",
    "Варианты ответа:\n",
    "1. Universal Pictures (Universal)\n",
    "2. Paramount Pictures\n",
    "3. Columbia Pictures\n",
    "4. Warner Bros\n",
    "5. Twentieth Century Fox Film Corporation"
   ]
  },
  {
   "cell_type": "code",
   "execution_count": 25,
   "metadata": {},
   "outputs": [
    {
     "name": "stdout",
     "output_type": "stream",
     "text": [
      "Counter({'Universal Pictures': 173, 'Warner Bros.': 168, 'Paramount Pictures': 122, 'Columbia Pictures': 117, 'Twentieth Century Fox Film Corporation': 109, 'Relativity Media': 99, 'New Line Cinema': 88, 'Walt Disney Pictures': 82, 'Village Roadshow Pictures': 63, 'DreamWorks SKG': 62, 'Touchstone Pictures': 58, 'Regency Enterprises': 49, 'Metro-Goldwyn-Mayer (MGM)': 48, 'Columbia Pictures Corporation': 47, 'Dune Entertainment': 44, 'Summit Entertainment': 41, 'Miramax Films': 39, 'Dimension Films': 37, 'Lionsgate': 35, 'Fox 2000 Pictures': 35, 'Legendary Pictures': 34, 'Spyglass Entertainment': 32, 'Screen Gems': 31, 'Revolution Studios': 30, 'Original Film': 29, 'New Regency Pictures': 28, 'The Weinstein Company': 28, 'Working Title Films': 27, 'DreamWorks Animation': 26, 'Imagine Entertainment': 25, 'Scott Free Productions': 24, 'Lakeshore Entertainment': 24, 'Scott Rudin Productions': 24, 'Fox Searchlight Pictures': 24, 'Epsilon Motion Pictures': 24, 'Amblin Entertainment': 23, 'Happy Madison Productions': 23, 'StudioCanal': 23, 'Canal+': 22, 'Focus Features': 21, 'Studio Babelsberg': 20, 'NPV Entertainment': 20, 'Apatow Productions': 19, 'Ingenious Film Partners': 19, 'Jerry Bruckheimer Films': 19, 'Lions Gate Films': 19, 'Davis Entertainment': 18, 'EuropaCorp': 17, 'TriStar Pictures': 17, 'Silver Pictures': 17, 'Millennium Films': 17, '20th Century Fox': 17, 'UK Film Council': 17, 'Dune Entertainment III': 17, 'Vertigo Entertainment': 16, 'Walden Media': 16, 'BBC Films': 16, 'TSG Entertainment': 15, 'Participant Media': 15, 'Alcon Entertainment': 15, 'Castle Rock Entertainment': 15, 'Media Rights Capital': 14, 'Nickelodeon Movies': 14, 'Di Bonaventura Pictures': 14, 'Pixar Animation Studios': 13, 'Film4': 13, 'Escape Artists': 13, '1492 Pictures': 13, 'Marvel Enterprises': 13, 'Saturn Films': 13, 'Warner Bros. Pictures': 13, 'Franchise Pictures': 13, 'Dentsu': 12, 'Marvel Studios': 12, 'MTV Films': 12, 'Platinum Dunes': 12, 'Malpaso Productions': 12, 'Heyday Films': 12, 'Imagenation Abu Dhabi FZ': 12, 'Dark Castle Entertainment': 12, 'Intermedia Films': 12, 'Morgan Creek Productions': 12, 'Anonymous Content': 11, 'Endgame Entertainment': 11, 'Moving Picture Company (MPC)': 11, 'Blumhouse Productions': 11, 'Ingenious Media': 11, 'TF1 Films Production': 11, 'Nu Image Films': 11, 'Tim Burton Productions': 11, 'Scion Films': 11, 'Studio Canal': 11, 'GK Films': 11, 'DNA Films': 10, 'Double Feature Films': 10, 'Plan B Entertainment': 10, 'Open Road Films': 10, 'Marc Platt Productions': 10, 'Twentieth Century Fox Animation': 10, 'CBS Films': 10, 'Sunswept Entertainment': 10, 'WingNut Films': 10, 'Walt Disney Animation Studios': 10, 'Davis-Films': 10, 'Overbrook Entertainment': 10, 'Constantin Film Produktion': 10, 'Paramount Vantage': 10, 'Mosaic Media Group': 10, 'Robert Simonds Productions': 10, 'Cruise/Wagner Productions': 10, 'Bad Robot': 9, 'Appian Way': 9, 'Skydance Productions': 9, 'Blue Sky Studios': 9, 'Sony Pictures Animation': 9, 'Ghost House Pictures': 9, '21 Laps Entertainment': 9, \"Donners' Company\": 9, 'DC Comics': 9, 'Exclusive Media Group': 9, 'Impact Pictures': 9, 'Emmett/Furla Films': 9, 'Radar Pictures': 9, 'Mandate Pictures': 9, 'Rogue Pictures': 9, 'De Line Pictures': 9, 'Phoenix Pictures': 9, 'United Artists': 9, 'Color Force': 8, 'Temple Hill Entertainment': 8, 'Sony Pictures Entertainment (SPE)': 8, 'RatPac-Dune Entertainment': 8, 'Sidney Kimmel Entertainment': 8, 'Thunder Road Pictures': 8, 'BenderSpink': 8, 'Blinding Edge Pictures': 8, 'Syncopy': 8, 'Reliance Entertainment': 8, 'Section Eight': 8, 'Kennedy/Marshall Company, The': 8, 'Cheyenne Enterprises': 8, 'Stillking Films': 8, 'Atmosphere Entertainment MM': 7, 'Cross Creek Pictures': 7, 'Chernin Entertainment': 7, 'Roth Films': 7, 'ImageMovers': 7, 'Gary Sanchez Productions': 7, 'IM Global': 7, 'Troublemaker Studios': 7, 'FilmDistrict': 7, 'Annapurna Pictures': 7, 'Weed Road Pictures': 7, 'Mandalay Pictures': 7, 'Goldcrest Pictures': 7, 'Stuber Productions': 7, 'Walt Disney Feature Animation': 7, 'Canal Plus': 7, 'Virtual Studios': 7, 'Contrafilm': 7, 'DreamWorks Pictures': 7, 'Universal Studios': 6, 'Mandeville Films': 6, 'Red Wagon Entertainment': 6, 'Michael De Luca Productions': 6, 'Gold Circle Films': 6, 'Forward Pass': 6, 'Marvel Entertainment': 6, 'Spring Creek Productions': 6, 'LStar Capital': 6, 'PathÃ©': 6, 'QED International': 6, 'Province of British Columbia Production Services Tax Credit': 6, 'Jersey Films': 6, 'Offspring Entertainment': 6, 'Conundrum Entertainment': 6, 'Nick Wechsler Productions': 6, 'Lawrence Gordon Productions': 6, 'Centropolis Entertainment': 6, '2929 Productions': 6, 'Twisted Pictures': 6, 'Atlas Entertainment': 6, 'The Zanuck Company': 6, 'Firm Films': 6, 'River Road Entertainment': 6, 'France 2 CinÃ©ma': 6, 'Pacific Data Images (PDI)': 6, 'Alphaville Films': 6, 'Zide-Perry Productions': 6, 'Current Entertainment': 6, 'Tribeca Productions': 6, \"Mel's Cite du Cinema\": 6, 'Valhalla Motion Pictures': 6, 'Rising Star': 6, 'Big Screen Productions': 6, 'Beacon Pictures': 6, 'Major Studio Partners': 6, 'Mid Atlantic Films': 5, 'Illumination Entertainment': 5, 'Anarchos Productions': 5, 'Marv Films': 5, 'Bazelevs Production': 5, '3 Arts Entertainment': 5, 'Mad Chance': 5, 'Sony Pictures': 5, 'Good Universe': 5, 'Wonderland Sound and Vision': 5, 'Infinitum Nihil': 5, 'Gran Via Productions': 5, 'Vinyl Films': 5, 'Smokehouse Pictures': 5, 'Bad Hat Harry Productions': 5, 'Hasbro': 5, 'Indian Paintbrush': 5, 'Lin Pictures': 5, 'Warner Bros. Animation': 5, '1984 Private Defense Contractors': 5, 'FilmNation Entertainment': 5, 'Karz Entertainment': 5, 'Rainforest Films': 5, 'Strike Entertainment': 5, 'Broken Road Productions': 5, 'Green Hat Films': 5, 'Maverick Films': 5, 'Flower Films (II)': 5, 'Walt Disney': 5, 'Stage 6 Films': 5, 'Wintergreen Productions': 5, 'Wild West Picture Show Productions': 5, 'Fox Atomic': 5, 'The Montecito Picture Company': 5, 'Mike Zoss Productions': 5, 'WWE Studios': 5, 'Tapestry Films': 5, 'Edward R. Pressman Film': 5, 'One Race Productions': 5, 'Hyde Park Films': 5, 'Isle of Man Film': 5, 'DC Entertainment': 5, 'Mutual Film Company': 5, 'Paramount Animation': 5, 'Industry Entertainment': 5, 'American Zoetrope': 5, 'Lawrence Bender Productions': 5, 'Bel Air Entertainment': 5, 'Dino De Laurentiis Company': 5, 'Grive Productions': 5, 'Dark Horse Entertainment': 5, 'Intrepid Pictures': 5, 'Virgin Produced': 5, 'Initial Entertainment Group (IEG)': 5, 'Laura Ziskin Productions': 5, 'Laurence Mark Productions': 5, 'Silver Reel': 5, 'Lucasfilm': 4, 'Revolution Sun Studios': 4, 'M6 Films': 4, 'CinÃ©+': 4, 'Waverly Films': 4, 'Moonlighting Films': 4, 'Groundswell Productions': 4, 'Sony Pictures Entertainment': 4, 'Red Granite Pictures': 4, 'Alliance Films': 4, 'Closest to the Hole Productions': 4, 'Bold Films': 4, 'Shangri-La Entertainment': 4, 'Dune Films': 4, 'Wildwood Enterprises': 4, 'Treehouse Pictures': 4, 'Mace Neufeld Productions': 4, 'Nimar Studios': 4, 'Protozoa Pictures': 4, 'Don Carmody Productions': 4, 'Laika Entertainment': 4, 'Grindstone Entertainment Group': 4, 'Bluegrass Films': 4, 'Canadian Film or Video Production Tax Credit (CPTC)': 4, 'The Mark Gordon Company': 4, 'Focus Films': 4, 'Montecito Picture Company, The': 4, 'Gunn Films': 4, 'Misher Films': 4, 'Icon Productions': 4, 'Canal+ EspaÃ±a': 4, 'Josephson Entertainment': 4, 'PathÃ© Renn Productions': 4, 'LivePlanet': 4, 'Everyman Pictures': 4, 'Bona Fide Productions': 4, 'Jerry Weintraub Productions': 4, 'Cruel and Unusual Films': 4, 'Reliance BIG Entertainment': 4, 'Rat Entertainment': 4, 'Toho-Towa': 4, 'Wayans Bros. Entertainment': 4, 'Brad Grey Pictures': 4, 'Miramax': 4, 'Metropolitan Filmexport': 4, 'Newmarket Capital Group': 4, 'Tollin/Robbins Productions': 4, 'Playtone': 4, 'China Film Co-Production Corporation': 4, 'Grosvenor Park Media Ltd.': 4, 'Red Hour Films': 4, 'Kanzaman': 4, 'CinÃ©CinÃ©ma': 4, 'The Kennedy/Marshall Company': 4, 'Casey Silver Productions': 4, 'Neal Street Productions': 4, 'Ecosse Films': 4, 'GreeneStreet Films': 4, 'Paradox Entertainment': 4, 'Amen Ra Films': 4, 'Icon Entertainment International': 4, 'Konrad Pictures': 4, 'Quinta Communications': 4, 'Avery Pix': 4, 'Shady Acres Entertainment': 4, 'Parkes/MacDonald Productions': 4, 'Aardman Animations': 4, 'Brightlight Pictures': 4, 'Warner Independent Pictures (WIP)': 4, 'Section Eight Productions': 4, 'Craven-Maddalena Films': 4, 'Global Entertainment Productions GmbH & Company Medien KG': 4, 'Fuji Television Network': 3, 'NeoReel': 3, 'Walt Disney Studios Motion Pictures': 3, 'Genre Films': 3, 'TC Productions': 3, 'Gotham Group': 3, 'A24': 3, 'Buena Vista': 3, 'Irish Film Board': 3, 'Cube Vision': 3, 'Goldmann Pictures': 3, 'Wigram Productions': 3, 'DMG Entertainment': 3, 'Ram Bergman Productions': 3, 'Point Grey Pictures': 3, 'Worldview Entertainment': 3, 'Automatik Entertainment': 3, 'Sony Pictures Releasing': 3, 'Insurge Pictures': 3, 'Disruption Entertainment': 3, 'Instituto de la CinematografÃ\\xada y de las Artes Audiovisuales (ICAA)': 3, 'Clinica Estetico': 3, 'RatPac Entertainment': 3, 'Crave Films': 3, 'Aldamisa Entertainment': 3, 'Big Kid Pictures': 3, 'Ghoulardi Film Company': 3, 'Screen Australia': 3, 'Harpo Films': 3, 'Celador Films': 3, 'Cloud Eight Films': 3, 'DisneyToon Studios': 3, 'The Safran Company': 3, 'HanWay Films': 3, 'Olive Bridge Entertainment': 3, 'Affirm Films': 3, 'A Band Apart': 3, 'Internationale Filmproduktion Blackbird Dritte': 3, 'Starz Animation': 3, 'Imprint Entertainment': 3, 'Radical Media': 3, 'Buckaroo Entertainment': 3, 'Chockstone Pictures': 3, 'Fortis Films': 3, 'Telecinco Cinema': 3, 'Spectacle Entertainment Group': 3, 'This Is That Productions': 3, 'DreamWorks': 3, 'Cold Spring Pictures': 3, 'Team Todd': 3, 'Zanuck Company, The': 3, 'Peninsula Films': 3, 'Junction Entertainment': 3, 'Bedford Falls Productions': 3, 'Tree Line Films': 3, 'Linson Entertainment': 3, 'Katalyst Films': 3, 'Three Strange Angels': 3, 'PathÃ© Pictures International': 3, 'Prescience': 3, 'Mayhem Pictures': 3, 'Gracie Films': 3, 'Bazmark Films': 3, 'Gold/Miller Productions': 3, 'View Askew Productions': 3, 'Beacon Communications': 3, 'Cinerenta Medienbeteiligungs KG': 3, 'IMF Internationale Medien und Film GmbH & Co. 3. Produktions KG': 3, 'Hyde Park Entertainment': 3, 'Eon Productions': 3, 'Gerber Pictures': 3, 'Hypnotic': 3, 'Voltage Pictures': 3, 'K/O Paper Products': 3, 'Wild Bunch': 3, 'Depth of Field': 3, 'Bedford Falls Company, The': 3, 'Ascendant Pictures': 3, 'VIP Medienfonds 4': 3, 'International Production Company': 3, 'Odd Lot Entertainment': 3, 'Art Linson Productions': 3, 'Film Rites': 3, 'Fox Searchlight': 3, 'Mark Canton Productions': 3, 'FilmEngine': 3, 'Room 101': 3, 'Solana Films': 3, 'Prospero Pictures': 3, 'DiNovi Pictures': 3, 'Kalima Productions GmbH & Co. KG': 3, 'Splendid Pictures': 3, 'Parkes+MacDonald Image Nation': 3, 'Artisan Entertainment': 3, 'Mikona Productions GmbH & Co. KG': 3, 'David Foster Productions': 3, 'Colombia Pictures': 3, 'Propaganda Films': 3, 'Evolution Entertainment': 3, 'World 2000 Entertainment': 3, 'Marty Katz Productions': 3, 'Signature Pictures': 3, 'Good Machine': 3, 'Baltimore Spring Creek Productions': 3, 'Hemisphere Media Capital': 3, 'Yucaipa Films': 3, 'Cheetah Vision': 3, 'Jinks/Cohen Company': 3, 'Next Entertainment': 3, 'Mirage Enterprises': 3, 'Lonely Film Productions GmbH & Co. KG.': 3, 'Tig Productions': 3, 'Dylan Sellers Productions': 3, 'Universal': 3, 'Weinstein Company, The': 3, 'Yari Film Group': 3, 'WV Films III': 3, 'Baldwin Entertainment Group': 3, 'Bob Yari Productions': 3, 'Radiant Productions': 3, 'Zephyr Films': 3, 'Kennedy Miller Productions': 2, 'One Race Films': 2, 'International Traders': 2, 'Prime Focus': 2, 'FilmColony': 2, 'Babieka': 2, 'Flynn Picture Company': 2, 'Trigger Street Productions': 2, 'Fuzzy Door Productions': 2, 'Alpha Core': 2, 'Brownstone Productions': 2, 'Element Pictures': 2, 'No Trace Camping': 2, 'Energy Entertainment': 2, 'Wildgaze Films': 2, 'Killer Films': 2, 'Free State Pictures': 2, 'Huayi Brothers Media': 2, 'Feigco Entertainment': 2, 'Fox International Productions': 2, 'Chartoff-Winkler Productions': 2, 'Entertainment One': 2, 'Anton Capital Entertainment (ACE)': 2, 'David Dobkin Productions': 2, 'Blue-Tongue Films': 2, 'Onyx Films': 2, 'Sony Pictures Home Entertainment': 2, 'Living Films': 2, 'Origin Pictures': 2, 'Iron Horse Entertainment (II)': 2, 'Route One Films': 2, 'Pacific Standard': 2, 'Columbia TriStar': 2, 'Ruby Films': 2, 'Lynda Obst Productions': 2, '87Eleven': 2, 'Mad Hatter Entertainment': 2, 'LionsGate': 2, 'Outlaw Sinema': 2, 'WideAwake': 2, 'Hollywood Gang Productions': 2, 'Echo Films': 2, 'Why Not Productions': 2, 'Before the Door Pictures': 2, 'Washington Square Films': 2, 'Radical Studios': 2, 'AR Films': 2, 'Demarest Films': 2, 'Crescendo Productions': 2, 'Bandito Brothers': 2, 'Electric City Entertainment': 2, 'Prana Studios': 2, 'Prana Animation Studios': 2, 'Albert S. Ruddy Productions': 2, 'Likely Story': 2, 'Fake Empire': 2, 'Scope Pictures': 2, 'Evergreen Media Group': 2, 'Hopscotch Features': 2, 'Screen Gems, Inc.': 2, 'Scottish Screen': 2, 'Boxing Cat Films': 2, 'Pure Flix Entertainment': 2, 'Winkler Films': 2, 'Lightstorm Entertainment': 2, 'Sketch Films': 2, 'Key Creatives': 2, 'Arc Productions': 2, 'Skylark Productions': 2, 'Kurtzman/Orci': 2, 'American Empirical Pictures': 2, 'Inferno Distribution': 2, 'Kaplan/Perrone Entertainment': 2, 'Virtual Films': 2, 'Palomar Pictures (II)': 2, 'Practical Pictures': 2, 'Parallel Zide': 2, 'Bagdasarian Productions': 2, 'Andell Entertainment': 2, 'Pictures in Paradise': 2, 'Pacific Film and Television Commission': 2, 'Australian Film Finance Corporation (AFFC)': 2, 'Rogue': 2, 'Stars Road Entertainment': 2, 'Imagi Animation Studios': 2, 'X-Filme Creative Pool': 2, 'Paul Schiff Productions': 2, '26 Films': 2, 'Seed Productions': 2, 'CinemaNX': 2, 'Sikelia Productions': 2, 'Lions Gate': 2, 'Overnight Films': 2, 'Aegis Film Fund': 2, 'Madhouse Entertainment': 2, 'Road Rebel': 2, 'Home Box Office (HBO)': 2, 'HBO Films': 2, 'Hammer Film Productions': 2, 'Overture Films': 2, 'Animal Logic': 2, 'Intellectual Properties Worldwide': 2, 'Penn Station Entertainment': 2, 'Maguire Entertainment': 2, 'Omnilab Media': 2, 'Ambience Entertainment': 2, 'Serendipity Point Films': 2, 'platinum studios': 2, 'The Saul Zaentz Company': 2, 'Little Bird': 2, 'British Broadcasting Corporation (BBC)': 2, 'WV Films II': 2, 'Lucky Red': 2, 'Red Wagon Productions': 2, 'Chris Lee Productions': 2, 'David Brown Productions': 2, 'USA Films': 2, 'Sean S. Cunningham Films': 2, 'Crystal Lake Entertainment': 2, 'Kopelson Entertainment': 2, 'David Kirschner Productions': 2, 'Darkwoods Productions': 2, 'Ardustry Entertainment': 2, 'ApolloMedia Distribution': 2, 'TPS Star': 2, 'Sommers Company, The': 2, 'KMP Film Invest': 2, 'Rogue Marble': 2, 'Hammerhead Productions': 2, 'MHF Zweite Academy Film': 2, 'Marvel Knights': 2, 'Castel Film Romania': 2, 'Blueprint Pictures': 2, 'Twins Financing': 2, 'Type A Films': 2, 'Castelao Producciones': 2, 'Grosvenor Park Productions': 2, 'Blue Star Pictures': 2, 'Media Magik Entertainment': 2, '2 Entertain': 2, 'Guy Walks into a Bar Productions': 2, 'Deep River Productions': 2, 'Odyssey Entertainment': 2, 'Management 360': 2, 'Emperor Motion Pictures': 2, 'Nu Image Entertainment GmbH': 2, 'Vendome Pictures': 2, 'France 3 CinÃ©ma': 2, 'Studio 37': 2, 'Jouror Productions': 2, 'Nouvelles Ã‰ditions de Films (NEF)': 2, 'New Legacy': 2, 'Playtone Productions': 2, 'Big Talk Productions': 2, 'The Jacobson Company': 2, 'Participant Productions': 2, 'LD Entertainment': 2, 'Kerner Entertainment Company': 2, 'Indochina Productions': 2, 'Fierce Entertainment': 2, 'Runteldat Entertainment': 2, 'China Film Group Corporation (CFGC)': 2, 'DJ Films': 2, 'Bac Films': 2, 'Blue Tulip Productions': 2, 'Imaginary Forces': 2, 'Out of the Blue... Entertainment': 2, 'Lion Rock Productions': 2, 'Material': 2, 'Walt Disney Television Animation': 2, 'Walt Disney Animation Australia': 2, 'Storyline Entertainment': 2, 'Monarch Pictures': 2, 'David Ladd Films': 2, 'Allied Filmmakers': 2, 'Sony Pictures Classics': 2, 'Leverage Management': 2, 'Film i VÃ¤st': 2, 'Tim Burton Animation Company': 2, 'British Film Institute (BFI)': 2, 'Wessler Entertainment': 2, 'Pariah Entertainment Group': 2, 'Vanguard Films': 2, 'TÃ©lÃ©film Canada': 2, 'Super Cool ManChu': 2, 'C-2 Pictures': 2, 'Angry Films': 2, 'Mediastream Dritte Film GmbH & Co. Beteiligungs KG': 2, 'Samuel Goldwyn Films': 2, 'Birnbaum / Barber Productions': 2, 'Cobalt Media Group': 2, 'Artists Production Group (APG)': 2, 'Tall Trees Productions': 2, 'Boll Kino Beteiligungs GmbH & Co. KG': 2, 'Herold Productions': 2, 'Madacy Entertainment': 2, 'Envision Entertainment Corporation': 2, 'Revolution Films': 2, 'H2F Entertainment': 2, 'Muse Productions': 2, 'Two Ton Films': 2, 'After Dark Films': 2, '40 Acres & A Mule Filmworks': 2, 'Pathe': 2, 'Kumar Mobiliengesellschaft mbH & Co. Projekt Nr. 1 KG': 2, 'MFPV Film': 2, 'Alberta Film Entertainment': 2, 'VIP 3 Medienfonds': 2, 'MacDonald/Parkes Productions': 2, 'John Wells Productions': 2, 'Babelsberg Film': 2, 'Mars Media Beteiligungs': 2, 'The Ladd Company': 2, 'FilmWorks': 2, 'Biscayne Pictures': 2, 'Kumar Mobiliengesellschaft mbH & Co. Projekt Nr. 2 KG': 2, 'Senator International': 2, 'Second Mate Productions': 2, 'Capitol Films': 2, 'Hard Eight Pictures': 2, 'Playtone Production': 2, 'Michael London Productions': 2, \"Bull's Eye Entertainment\": 2, 'Nu Image Entertainment': 2, 'Kernos Filmproduktionsgesellschaft & Company': 2, 'Eyetronics': 2, 'Storefront Pictures': 2, 'BIM Distribuzione': 2, 'Jon Shestack Productions': 2, 'Hollywood Pictures': 2, 'Ludlum Entertainment': 2, 'Mediastream Vierte Film GmbH & Co. Vermarktungs KG': 2, 'Blackfriars Bridge Films': 2, 'Clifford Werber Productions': 2, 'Egmond Film & Television': 2, 'Hal Lieberman Company': 2, 'Figment Films': 2, 'Tiger Aspect Productions': 2, 'The Canton Company': 2, 'Truenorth Productions': 1, 'CatchPlay': 1, 'Danjaq': 1, 'B24': 1, 'Universal Pictures International (UPI)': 1, 'Beagle Pug Films': 1, 'Allison Shearmur Productions': 1, 'A113': 1, 'Riche-Ludwig Productions': 1, 'China Movie Channel': 1, 'Cloudy Productions': 1, 'Rocklin / Faust': 1, 'Entertainment One Features': 1, 'Scholastic Entertainment': 1, 'Duperele Films': 1, 'Item 7': 1, 'Parallel Film Productions': 1, 'Broken Chair Flickz': 1, 'Sierra/Affinity': 1, 'Versus Pictures': 1, 'Number 9 Films': 1, 'Ehman Productions': 1, 'PeaPie Films': 1, 'OddLot Entertainment': 1, 'Pretty Pictures': 1, 'ArtÃ©mis Productions': 1, 'Le Tax Shelter du Gouvernement FÃ©dÃ©ral de Belgique': 1, 'Taxshelter. be': 1, 'Black Label Media': 1, 'Constantin Film.': 1, 'Kramer & Sigman Films': 1, 'Zaftig Films': 1, 'Infinite Frameworks Studios': 1, 'K. JAM Media': 1, 'Raindog Films': 1, 'Berlanti Productions': 1, 'The Cantillon Company': 1, 'The Shuman Company': 1, 'STX Entertainment': 1, 'Ahimsa Films': 1, 'Orange Studios': 1, 'CityMation': 1, 'On Entertainment': 1, 'Zippcast Films': 1, 'Amazon Studios': 1, 'Film Art Media': 1, 'Apollo Media': 1, 'Vast Entertainment': 1, 'Head Gear Films': 1, 'Brothers Dowdle Productions': 1, 'Little Stranger': 1, 'Inimitable Pictures': 1, 'ShivHans Pictures': 1, 'Nickelodeon Animation Studios': 1, 'United Plankton Pictures': 1, 'TriStar Productions': 1, 'Metanoia Films': 1, 'Venture Forth': 1, 'Hasbro Studios': 1, 'Allspark Pictures': 1, 'Bulletproof Cupid': 1, 'DefyNite Films': 1, 'MJW Films': 1, '3Foot7': 1, 'Black Bear Pictures': 1, 'Bristol Automotive': 1, 'Dayday Films': 1, 'Le Grisbi Productions': 1, 'M Productions': 1, 'Sierra / Affinity': 1, 'Avi Arad Productions': 1, 'Matt Tolmach Productions': 1, 'Viz Media': 1, 'Mad Chance Productions': 1, 'Volcano Films': 1, 'Toho Company': 1, 'Irish Dreamtime': 1, 'SPD Films': 1, 'Ex3 Productions': 1, 'Pendle Mountain Productions': 1, 'Lucamar Productions': 1, 'Tonik Productions': 1, 'Asis Productions': 1, 'Cannell Studios': 1, \"We're Not Brothers Productions\": 1, 'Cinelou Films': 1, 'Kilburn Media': 1, 'Fetisov Teterin Films': 1, '5150 Action': 1, 'Stoney Lake Entertainment': 1, 'Team Downey': 1, 'Gulfstream Pictures': 1, 'Etalon film': 1, 'Screen Queensland': 1, 'Blacklab Entertainment': 1, 'Wolfhound Pictures': 1, 'Straight Up Films': 1, 'LBI Productions': 1, 'Obelisk Productions': 1, 'Jolie Pas': 1, 'Constantin Film International': 1, 'Goldenlight Films': 1, 'Electronic Arts': 1, 'Silverwood Films': 1, 'Oasis Films': 1, 'Aperture Entertainment': 1, 'Porchlight Films': 1, 'Screen NSW': 1, 'Qwerty Films': 1, 'TF1 Droits Audiovisuels': 1, 'Hopscotch Films': 1, 'D8': 1, 'Snoot Entertainment': 1, 'Seven West Media': 1, 'Fear of God Films': 1, 'Seven Group Holdings': 1, 'Jim Henson Company, The': 1, 'Creative Scotland': 1, 'Warner Bros. Interactive Entertainment': 1, 'Rob Thomas Productions': 1, 'Hearst Entertainment Productions': 1, 'LightWorkers Media': 1, 'Sahara Productions': 1, 'Silvatar Media': 1, 'The Combine': 1, 'Disney': 1, 'Provident Films': 1, 'FourBoys Entertainment': 1, 'Panay Films': 1, 'Max Films Productions': 1, 'Morag Loves Company': 1, 'Zehnte Babelsberg': 1, 'Visiona Romantica': 1, 'UW3 Film Productions': 1, 'MavroCine Pictures GmbH & Co. KG': 1, 'The Halcyon Company': 1, 'Block / Hanson': 1, 'Watermark': 1, 'IFP Westcoast Erste': 1, 'Farewell Productions': 1, 'Panorama Films': 1, 'Left Tackle Pictures': 1, 'Zucker/Netter Productions': 1, 'Internationale Filmproduktion Blackswan': 1, 'Kontsept Film Company': 1, 'Museum Canada Productions': 1, 'Grand Army Entertainment': 1, 'Hachiko': 1, 'Film Department, The': 1, 'Evil Twins': 1, 'Warp Films': 1, 'Darko Entertainment': 1, 'Curse Productions': 1, 'Mystery Clock Cinema': 1, 'Liberty Films UK': 1, 'Lunar Industries': 1, 'Xingu Films': 1, 'Limelight Fund': 1, 'Whamaphram Productions': 1, 'Pan EuropÃ©enne Production': 1, 'Sighvatsson Films': 1, 'Easy There Tiger Productions': 1, 'Outpost Studios': 1, 'Studio Babelsberg StudioBabelsberg Motion Pictures': 1, 'Smokewood Entertainment Group': 1, 'Phantom Four': 1, 'Bernard Gayle Productions': 1, 'Jaffe / Braunstein Enterprise': 1, 'Case 39 Productions': 1, 'Medienproduktion Prometheus Filmgesellschaft': 1, 'Portobello Studios': 1, 'Furst Films': 1, 'Camp / Thompson Pictures': 1, 'Infinity Features Entertainment': 1, 'Langley Productions': 1, 'Thunder Road Productions': 1, 'Fuqua Films': 1, 'Tooley Productions': 1, '20th Century Fox Home Entertainment': 1, 'Midnight Sun Pictures': 1, 'Vidhu Vinod Chopra Productions': 1, 'Smoke House': 1, 'Goldsmith-Thomas Productions': 1, 'Sid & Marty Krofft Pictures': 1, 'Revelations Entertainment': 1, 'Ilion Animation Studios': 1, 'Hand Made Films': 1, 'Ocean Pictures': 1, 'HimenÃ³ptero': 1, 'Mod Producciones': 1, 'Chris Brinker Productions': 1, 'Polsky Films': 1, 'Farah Films & Management': 1, 'Tezuka Production Company Ltd.': 1, 'Dentsu Inc.': 1, 'Trancas International Films': 1, \"It's a Laugh Productions\": 1, 'Millar Gough Ink': 1, 'New Upstairs Productions': 1, 'Upstairs Canada Productions': 1, 'Saga Film': 1, 'Chambara Pictures': 1, 'Smartest Man Productions': 1, 'Laura Bickford Productions': 1, 'Medienproduktion Poseidon Filmgesellschaft': 1, 'Mark Johnson Productions': 1, 'Curmudgeon Films': 1, 'Top Shelf Productions': 1, 'Czech Anglo Productions': 1, 'Wandering Star Pictures': 1, 'Edmonds Entertainment Group (EEG)': 1, 'Epidemic Pictures': 1, 'Freestyle Releasing': 1, 'Echo Lake Productions': 1, 'Premiere Picture': 1, \"Butcher's Run Films\": 1, 'Informant Media': 1, 'Banter': 1, 'Ozla Pictures': 1, 'Great Scott Productions Pty. Ltd.': 1, 'Sean Bailey Productions': 1, 'Darlow Smithson Productions': 1, 'Italian Tax Credit': 1, 'Dreamworks Pictures': 1, 'Prospect Park': 1, 'Millbrook Farm Productions': 1, 'Industrial Light & Magic (ILM)': 1, 'Bedlam Productions': 1, 'See-Saw Films': 1, 'Polish Film Institute': 1, 'Exclusive Films': 1, 'Monolith Films': 1, 'On the Road': 1, 'Pink Machine': 1, 'Red Om Films': 1, 'Octagon Films': 1, 'Birnbaum/Barber': 1, 'Rice Films': 1, 'Necropia': 1, 'Tequila Gang': 1, 'Serendipity Productions': 1, 'China Film Group': 1, 'Matador Pictures': 1, 'Magic Light Pictures': 1, 'Cinema Four': 1, 'Runteam Ltd.': 1, 'R.P. Productions': 1, 'FidÃ©litÃ© Films': 1, 'Hwy61': 1, 'Aversano Films': 1, 'Oops Doughnuts Productions': 1, 'Frontier Pictures': 1, 'New Crime Productions': 1, 'EFTI': 1, 'Battle Mountain Films': 1, 'Village Roadshow Pictures Asia': 1, 'Stone Productions': 1, 'Mimran Schur Pictures': 1, 'Chako Film Company': 1, 'Oceana Media Finance': 1, 'Pantheon Entertainment Corporation': 1, 'Innocence Productions': 1, 'Omega Entertainment': 1, 'Twentieth Century Fox': 1, 'Hydraulx': 1, 'Transmission Pictures': 1, 'Pioneer Pictures': 1, 'Spy Next Door': 1, 'Mosaic': 1, 'Henceforth': 1, 'Projection Pictures': 1, 'London Boulevard': 1, 'American Film Company': 1, 'Parabolic Pictures': 1, 'Birdsong Pictures': 1, 'Lions Gate Family Entertainment': 1, 'Crest Animation Productions': 1, 'Rhythm and Hues': 1, 'Picnic Basket': 1, 'Night Chronicles': 1, 'Furry Vengeance Productions': 1, 'Long Distance Films': 1, 'HighRoad Entertainment': 1, 'Prelude Pictures': 1, 'Lone Runner Entertainment': 1, 'Kenio Films': 1, 'Perfect Game, The': 1, 'Boram Entertainment Inc.': 1, 'Ealing Studios': 1, 'Fragile Films': 1, 'Quickfire Films': 1, 'The Tyler Perry Company': 1, 'PVR Cinemas': 1, 'Hari Om Entertainment Co.': 1, 'Blockbuster Movie Entertainers': 1, 'Fast Track Productions': 1, 'Asymmetrical Productions': 1, 'Les Films Alain Sarde': 1, 'Babbo Inc.': 1, 'The Picture Factory': 1, 'Stanley Kubrick Productions': 1, 'Imhotep Productions': 1, 'Liveplanet': 1, 'BrownHouse Productions': 1, 'Bottom of the Ninth Productions': 1, 'Swanford Films': 1, 'KC Medien': 1, 'Black and Blu Entertainment': 1, 'Finestkind': 1, 'Red Hour Productions': 1, 'Neal H. Moritz Productions': 1, 'Outlaw Productions (I)': 1, 'Sogecine': 1, 'Las Producciones del Escorpion': 1, 'Universal Cartoon Studios': 1, 'Simon Fields Productions': 1, 'Cruise-Wagner Productions': 1, 'Immortal Entertainment': 1, 'Jonathan Krane Group': 1, 'Square USA': 1, 'Cinerenta-Cinebeta': 1, 'VCL Communications': 1, 'Underworld Entertainment': 1, 'AZL Productions KG': 1, 'MFP Munich Film Partners': 1, 'Phase 1 Productions': 1, 'Dee Gee Entertainment': 1, 'Prufrock Pictures': 1, 'Fireworks Pictures': 1, 'Pistolero Productions LLC': 1, 'Bungalow Productions': 1, 'Silver Lion Films': 1, 'Vision View Entertainment': 1, 'American Entertainment Partners L.P.': 1, 'New Redemption Pictures': 1, 'GHS Productions KG': 1, 'Munich Film Partners & Company (MFP) GHS Productions': 1, 'Nides/McCormick Productions': 1, 'Horseshoe Bay Productions': 1, 'Merlin Films': 1, 'Native Pictures Productions': 1, 'Storm King Productions': 1, 'Animationwerks': 1, 'Mediastream Film GmbH & Co. Productions KG': 1, 'Cort/Madden Productions': 1, 'Empire Pictures': 1, 'Ufland': 1, 'Trackform Film Productions': 1, 'Crystal Sky Worldwide': 1, 'MDP Worldwide': 1, 'Carousel Picture Company, The': 1, 'Signature Entertainment': 1, 'Dan Films': 1, 'CP Medien AG': 1, 'Internationale Filmproduktion Richter': 1, 'Littlestar': 1, 'MVL Incredible Productions': 1, 'Double Nickel Entertainment': 1, 'Kickstart Productions': 1, 'Europa Corp': 1, 'Achte Babelsberg Film': 1, 'The Department of Trade and Industry of South Africa': 1, 'Kingsgate Films': 1, 'Film Capital Europe Funds (FCEF )': 1, 'Ozumi Films': 1, 'Propeler': 1, 'Internationale Filmproduktion Stella-del-Sud Second': 1, 'Earth Canada Productions': 1, 'ScreenWest': 1, 'Heyday films': 1, 'Internationale Filmproduktion Blackbird Erste': 1, 'Baumgarten Management and Productions (BMP)': 1, 'Top Rope': 1, 'SGF Entertainment': 1, 'Collision Entertainment': 1, 'Abandon Entertainment': 1, 'Foxtor Productions': 1, 'ASAF': 1, 'Luna Pictures': 1, 'Art In Motion': 1, 'Blue Askew': 1, 'Internationale Filmproduktion Stella-del-SÃ¼d': 1, 'Babylon': 1, 'Ott Medien': 1, 'Alta Loma Entertainment': 1, 'Internationale Filmproduktion': 1, 'Gravier Productions': 1, 'Antena 3 Films': 1, 'TelevisiÃ³ de Catalunya (TV3)': 1, 'Antena 3 TelevisiÃ³n': 1, 'Huayi Brothers': 1, 'InVenture Entertainment': 1, 'Nu-Image Films': 1, 'Lietuvos Kinostudija': 1, 'Scout Productions': 1, 'Defiance Productions': 1, 'Pistachio Pictures': 1, 'Cohen/Pearl Productions': 1, 'Outlander Productions': 1, 'Ten Thirteen Productions': 1, 'Crying Box Productions': 1, 'Rifkin-Eberts': 1, 'Toff Guy Films': 1, 'VN Productions': 1, 'Initial Entertainment Group': 1, 'Dark Lot Entertainment': 1, 'UTV Motion Pictures': 1, 'South Pacific Pictures': 1, 'Spice Factory': 1, 'The Australian Film Commission': 1, 'Darren Star Productions': 1, 'Universal Pictures Corporation': 1, 'Evamere Entertainment': 1, 'Michaels-Goldwyn': 1, 'Andale Pictures': 1, 'IDEA Filmproduktions': 1, 'Starz Media': 1, 'Studiopolis': 1, 'Vanguard Animation': 1, '3 in the Box': 1, 'New Wave Entertainment': 1, 'Terra Firma Films': 1, 'Superfinger Entertainment': 1, 'Midnight Picture Show': 1, 'First Foot Films': 1, 'Ixtlan Productions': 1, 'Global Entertainment Group': 1, 'Sherazade Film Development': 1, 'Corduroy Films': 1, 'Exodus Film Group': 1, 'Exodus Productions': 1, 'Intandem Films': 1, 'Aramid Entertainment Fund': 1, 'Lipsync Productions': 1, 'Motel Movies': 1, 'Scared Productions': 1, 'Yellow Bird': 1, 'Many Rivers Productions': 1, 'Boy of the Year': 1, 'K/O Camera Toys': 1, 'Lennox House Films': 1, 'Random Films': 1, 'Total Entertainment': 1, 'TSBD Canada Productions': 1, 'Zohar International': 1, 'Bay Films': 1, 'La Petite Reine': 1, 'uFilm': 1, 'Blind Wink': 1, 'Film 4': 1, 'Hungarian National Film Office': 1, 'Lazio Film Commission': 1, 'TOKYOPOP': 1, 'Denver and Delilah Productions': 1, 'Tailor Made': 1, 'Mango Farms': 1, 'Gambit Pictures': 1, 'Electric Shepherd Productions': 1, 'Mpower Pictures': 1, 'Lip Sync Post': 1, 'Trademark Films': 1, 'LBI Entertainment': 1, 'Wild Ocean Films': 1, '2S Films': 1, 'Deuce Three Productions': 1, 'Storefront Films': 1, 'Image Entertainment': 1, 'Bekmambetov Projects Ltd.': 1, 'Dr D Studios': 1, 'Kennedy Miller Mitchell': 1, 'Battleplan Productions': 1, 'Neunte Babelsberg Film': 1, 'Holleran Company': 1, 'Sechzehnte Babelsberg Film': 1, 'Ad Hominem Enterprises': 1, 'Zanagar Films': 1, 'Crystal City Entertainment': 1, 'Aura Film Partnership': 1, 'Toledo Productions': 1, 'Wayfare Entertainment': 1, 'Sanctum Australia': 1, 'Great Wight Productions/ Osford Films': 1, 'Recorded Pictures Company': 1, 'The Movie Network': 1, 'Millbrook Pictures': 1, 'Lago Film': 1, 'Brookwell-McNamara Entertainment': 1, 'HW Two': 1, 'Flashpoint Entertainment': 1, 'Cliffjack Motion Pictures': 1, 'Rickshaw Productions': 1, 'Voltage pictures': 1, 'ANA Media': 1, 'Picture Perfect (I)': 1, 'The Collective Studios': 1, 'Sony Pictures Worldwide Acquisitions (SPWA)': 1, 'TDJ Enterprises / New Dimensions Entertainment': 1, 'Our Stories Films': 1, 'Corrino Media Corporation': 1, 'Corsan': 1, 'Staccato Films': 1, 'Incentive Filmed Entertainment': 1, 'Atlas Productions': 1, 'ARP SÃ©lection': 1, 'Indigo Film': 1, 'Medusa Film': 1, 'Chrysalis Films': 1, 'Magical Elves Productions': 1, 'Scooter Braun Films': 1, 'MIRACLE Productions GmbH & Co. KG': 1, 'Kemp Company': 1, 'Canal+Polska': 1, 'Heritage Films': 1, 'Agencja Produkcji Filmowej': 1, 'TF1 Films Productions': 1, 'British Film Council': 1, 'Hughes Entertainment': 1, 'Shoelace Productions': 1, 'Marvel Entertainment, LLC': 1, 'Milk & Honey': 1, 'Alberto Grimaldi Productions': 1, 'Hofflund/Polone': 1, 'Indelible Productions': 1, 'Pandora Pictures': 1, 'MPH Entertainment': 1, 'Hacienda Productions': 1, 'Hungry Eye Lowland Pictures B.V.': 1, 'Flan de Coco Films': 1, \"Eric's Boy\": 1, 'Moving Pictures': 1, 'Gratitude International': 1, 'Witt/Thomas Productions': 1, 'Ghost Ship Films Pty. Ltd.': 1, 'World Wrestling Entertainment (WWE)': 1, 'Wheelhouse Entertainment': 1, 'Motion Picture Production GmbH & Co. Erste KG': 1, 'Ventanarosa Productions': 1, 'Handprint Entertainment': 1, 'Schroeder Hoffman Productions': 1, 'Beverly Detroit': 1, 'Intermedia': 1, 'IM Filmproduktion': 1, 'Cosmic Pictures': 1, 'Burg/Koules Productions': 1, 'Unfaithful Filmproduktion GmbH & Co. KG': 1, 'National Geographic Society': 1, 'WV Films LLC': 1, 'Walt Disney Animation Canada': 1, 'Producers Circle': 1, 'Catch 23 Entertainment': 1, 'Sea Breeze Productions Inc.': 1, 'Tripod Entertainment': 1, 'Shutt/Jones Productions': 1, 'Jaffilms Inc.': 1, 'Clear Blue Sky Productions': 1, '98 MPH Productions': 1, 'Senator Film Produktion': 1, 'Motion Picture Corporation of America': 1, 'Milagro Films': 1, 'DoRo Fiction Film': 1, 'UW4 Productions': 1, 'Captivate Entertainment': 1, 'Brandywine Productions': 1, 'Stephen J. Cannell Productions': 1, 'Apaches Entertainment': 1, 'Ascension Pictures': 1, 'ARD Degeto Film': 1, 'Cloud Atlas Productions': 1, 'Mr. Mudd Production': 1, 'Extension 765': 1, 'Mutant Enemy Productions': 1, 'Abraham Productions': 1, 'Location Gourmet': 1, 'Transfilm': 1, 'Moonrise': 1, 'Rena Film': 1, 'Peach Trees': 1, 'Film 44': 1, 'CAMERON MACKINTOSH': 1, 'First Light Production': 1, 'Cott Productions': 1, 'Furia de Titanes II, A.I.E.': 1, 'Adam Schroeder Productions': 1, 'Hedge Fund Film Partners': 1, 'Knightsbridge Entertainment': 1, 'What to Expect Productions': 1, 'Benaroya Pictures': 1, 'Pie Films Inc.': 1, 'Corner Store Entertainment': 1, 'Stoller Global Solutions': 1, 'A Hot Dog': 1, 'Talisman Productions': 1, 'Ixtlan': 1, 'Onda Entertainment': 1, 'Di Bonaventura Picture': 1, 'Liddell Entertainment': 1, 'Wonderful Films PLC': 1, 'North Box Productions': 1, 'Konami Corporation Ltd.': 1, 'Inferno Entertainment': 1, 'Galavis Film': 1, 'Picture Machine': 1, 'Artina Films': 1, 'Lucky Monkey Pictures': 1, 'Green Room Films': 1, 'Varsity Pictures': 1, 'Headline Pictures': 1, 'Media Farm': 1, 'Sunday Night': 1, 'Dos Corazones': 1, 'Lucasfilm Ltd.': 1, 'Partnership Pictures': 1, 'Serenade Films': 1, 'Also Known As Pictures': 1, 'VideoFilmes': 1, 'Studio Mir': 1, 'Mandalay Vision': 1, 'Studio Babelsberg Motion Pictures': 1, 'Rai Cinema': 1, 'Alfama Films': 1, 'Akil Production Company': 1, 'Laurinfilm': 1, 'Subterranean Productions LLC': 1, 'Subterranean Productions UK Ltd.': 1, 'Underworld Produktions GmbH': 1, 'Heineken Branded Entertainment': 1, 'Disney Enterprises': 1, 'Pit Bull Productions': 1, 'Loumolo & Co.': 1, 'JD Productions': 1, 'Dimension Films (US version)': 1, 'NuAmerica Entertainment': 1, 'Newman/Tooley Films': 1, 'Joseph Nittolo Entertainment': 1, '\"DIA\" Productions GmbH & Co. KG': 1, 'Don Simpson/Jerry Bruckheimer Films': 1, 'Stan Winston Studio': 1, 'Horsepower Films': 1, 'Core Productions': 1, 'Jackie Chan Films Limited': 1, 'All Knight Productions': 1, 'Camelot Pictures': 1, 'Illusion Entertainment': 1, 'Michael Lobell Productions': 1, 'Province of British Columbia Film Incentive BC': 1, 'Doom Buggy Productions': 1, 'Y Productions': 1, 'Mediana Productions Filmgesellschaft': 1, 'Cattleya': 1, 'Cecchi Gori Group Tiger Cinematografica': 1, 'Krane Entertainment': 1, 'Myriad Pictures': 1, 'Jeepers Creepers II': 1, 'Kasdan Pictures': 1, 'Mediastream Dritte Film': 1, 'N1 European Film Produktions GmbH & Co. KG': 1, 'Baumgarten Merims Productions': 1, 'Alphaville Productions': 1, 'Newmarket Films': 1, 'City Light Films': 1, 'Turner Pictures': 1, 'Antietam Filmworks': 1, 'Mindfire Entertainment': 1, 'Recorded Picture Company (RPC)': 1, 'FidÃ©litÃ© Productions': 1, 'Gimages': 1, 'FOZ': 1, 'Harbour Pictures': 1, 'Earthship Productions': 1, 'XM2 Productions': 1, 'Reiner-Greisman': 1, 'Esperanto Filmoj': 1, 'SOIXAN7E QUIN5E': 1, 'See Me Louisiana': 1, 'EMJAG Productions': 1, 'Disney Double Dare You (DDY)': 1, 'Monolith Pictures (III)': 1, 'Riddick Canada Productions': 1, 'A&E Television Networks': 1, 'Apparatus Productions': 1, 'Chartoff Productions': 1, 'Digital Domain': 1, 'Double Negative': 1, '8:38 Productions': 1, 'Unique Features': 1, 'Mr. Smith Productions': 1, 'Herrick Entertainment': 1, 'Truth Entertainment': 1, 'RabbitBandini Productions': 1, 'Division Films': 1, 'Pop Films': 1, 'Troika Pictures': 1, 'Emergency Films': 1, 'Apotheosis Media Group': 1, 'Gidden Media': 1, 'Verisimilitude': 1, 'Envision Entertainment': 1, 'Mythology Entertainment (II)': 1, 'Sycamore Pictures': 1, 'Millenium Films': 1, 'Stone Village Pictures': 1, 'Fastnet Films': 1, 'Caramel Film': 1, 'Dickhouse Productions': 1, 'SND': 1, 'Essential Media & Entertainment': 1, 'MICA Entertainment': 1, 'Silver Bullet Productions (II)': 1, 'Blind Wink Productions': 1, 'Langley Park Production': 1, 'Aggregate Films': 1, 'DumbDumb': 1, 'Sudden Storm Productions': 1, 'Decibel Films': 1, 'OB Productions': 1, 'Toma 78': 1, 'De Milo': 1, 'Lee Daniels Entertainment': 1, 'Follow Through Productions': 1, 'Salamander Pictures': 1, 'Pam Williams Productions': 1, 'Greenestreet Films': 1, 'Witness Protection Films': 1, 'SkyLand Entertainment': 1, 'Rainmaker Entertainment': 1, 'Mainframe Entertainment': 1, 'Pinewood Studios': 1, 'Metrol Technology': 1, 'Temple Hill Productions': 1, 'PathÃ© Distribution': 1, 'Sony': 1, 'Perdido Productions': 1, 'Paco Cinematografica': 1, 'Regione Lazio': 1, 'Business Location Sudtirol Alto Adige': 1, 'Friuli Venezia Giulia Film Commission': 1, 'Benderspink': 1, 'Carousel Productions': 1, 'Everest Entertainment': 1, 'Archer Street Productions': 1, 'Latitude Media': 1, 'Inferno International': 1, 'K5 International': 1, 'LGM Productions': 1, 'Les Productions du TrÃ©sor': 1, 'Mars Distribution': 1, 'Front Street Productions': 1, 'Spitfire Pictures': 1, 'Reel FX Creative Studios': 1, 'Company Films': 1, 'Dalian Wanda Group': 1, 'Sneak Preview Productions': 1, 'Jean Doumanian Productions': 1, 'Dillywood': 1, 'Five Star Institute': 1, 'Gaumont': 1, 'Kintop Pictures': 1, 'Triggerfish Animation': 1, 'Picturehouse Entertainment': 1, 'Summertime Entertainment': 1, 'Distant Horizons': 1, 'Film Afrika Worldwide': 1, 'Videovision Entertainment': 1, 'Baby Cow Productions': 1, 'Le Pacte': 1, 'Filmgate Films': 1, 'Saints LA': 1, 'Art Pictures Studio': 1, 'Patalex IV Productions Limited': 1, 'Hammer & Tongs': 1, 'Kumar Mobiliengesellschaft mbH & Co. Projekt Nr. 3 KG': 1, 'Branded Entertainment/Batfilm Productions': 1, 'Colossal Pictures': 1, 'TF 1 Film Productions': 1, 'Big Primate Pictures': 1, 'Nina Saxon Film Design': 1, 'Alloy Entertainment': 1, 'Dutch Oven': 1, 'New Regency Productions': 1, 'Entertainment Manufacturing Company': 1, 'Will Vinton Studios': 1, 'Motion Picture KAPPA Produktionsgesellschaft': 1, 'Parkway Pictures (I)': 1, 'Kanbar Entertainment': 1, 'Blue Yonder Films': 1, 'MBC Beteiligungs Filmproduktion': 1, 'Bewitched': 1, 'Reaper Productions': 1, 'Alan Greenspan Productions': 1, 'Hart-Sharp Entertainment': 1, 'Reforma Films': 1, 'Persistent Entertainment': 1, 'Stratus Film Co.': 1, 'Syndicate Films International': 1, 'Alliance Atlantis Communications': 1, 'Room 9 Entertainment': 1, '4M': 1, 'Patalex V Productions Limited': 1, 'ShadowCatcher Entertainment': 1, 'Daniel Bobker Productions': 1, 'JC 23 Entertainment': 1, 'Clubdeal': 1, 'Liaison Films': 1, 'Five Roses': 1, 'Romero-Grunwald Productions': 1, 'Exception Wild Bunch': 1, 'Catfish Productions': 1, 'Mile High Productions': 1, 'Kevin Messick Productions': 1, 'Cent Productions Inc.': 1, 'Outerbanks Entertainment': 1, 'Kalis Productions GmbH & Co. Zweite KG': 1, 'Callahan Filmworks': 1, 'Dante Entertainment': 1, 'Crusader Entertainment': 1, 'Debra Hill Productions': 1, 'AFG Talons Productions': 1, 'Boll KG': 1, 'Bristol Bay Productions': 1, 'Desertlands Entertainment': 1, \"Cooper's Town Productions\": 1, 'Eagle Vision Inc.': 1, 'Manitoba Film and Video Production Tax Credit': 1, 'Scanbox': 1, 'Domino 17521': 1, 'The Javelina Film Company': 1, 'Milkshake Films': 1, 'Hargitay & Hargitay Pictures in Motion': 1, 'The Movie Network (TMN)': 1, 'Max Stronghold Productions Inc.': 1, 'Big Beach Productions': 1, 'Telegraph Films': 1, 'O.N.C. Entertainment': 1, 'Infogrames Entertainment': 1, 'Pacific Renaissance Pictures Ltd.': 1, 'Cineblue Internationale Filmproduktionsgesellschaft': 1, 'City Productions': 1, 'Post No Bills Films': 1, 'Pandemonium Productions': 1, 'Government of Malta': 1, 'Eketahuna LLC': 1, 'MI 3 Film': 1, 'Media Asia Films': 1, 'Central Films': 1, 'Hit & Run Productions': 1, 'Four By Two Productions': 1, 'Ikiru Films': 1, 'Matinee Pictures': 1, 'Silent Hill DCP Inc.': 1, 'Konami': 1, 'Muse Entertainment Enterprises': 1, 'Kingdom Feature Productions': 1, 'C.O.R.E. Feature Animation': 1, 'Hoytyboy Pictures': 1, 'Nigel Productions': 1, 'Sound for Film': 1, 'Failure to Launch Productions': 1, 'Motion Picture ETA Produktionsgesellschaft': 1, 'Foqus Arte Digital': 1, 'Metropolis Films': 1, 'Landscape Entertainment': 1, 'John US Productions': 1, 'Universal Animation Studios': 1, 'Contagious Entertainment': 1, '3L Filmverleih': 1, 'VIP 4 Medienfonds': 1, 'Pricel': 1, 'Tohokushinsha Film': 1, 'Commission du Film France': 1, 'Cowboy Films': 1, 'Black & White Productions': 1, 'Irwin Allen Productions': 1, 'Iron Film': 1, 'MMCB Film Produktion 2004': 1, 'Big Beach Films': 1, '11:11 Mediaworks': 1, 'Thousand Words': 1, 'Detour Filmproduction': 1, 'Rocket Pictures': 1, 'Alliance Atlantis Motion Picture Production': 1, 'Paramount Classics': 1, 'Samuelson Productions': 1, 'Tiara Blu Films': 1, 'Granada Film Productions': 1, 'Sunset Gower Studios': 1, 'Electric Entertainment': 1, 'Flyboys Films': 1, 'True Grit Productions': 1, 'Zero Gravity Management': 1, 'Pierce/Williams Entertainment': 1, 'Yash Raj Films': 1, 'Mirabai Films': 1, 'Tessalit Productions': 1, 'Raygun Productions': 1, 'Rosey Film Productions LLC': 1, 'Starbucks Entertainment': 1, 'Cinema Gypsy Productions': 1, 'P of A Productions Limited': 1, 'Atlantic Television': 1, 'Motion Picture THETA Produktionsgesellschaft': 1, 'Helena Productions': 1, 'Starlite Films': 1, 'Golden Mean': 1, 'Universal CGI': 1, 'Constantin Film Ltd.': 1, 'Mark Gordon Productions': 1, 'Cappa Productions': 1, 'Edge City': 1, 'Shawn Danielle Productions Ltd.': 1, 'Natural Nylon Entertainment': 1, 'Riff Raff Film Productions': 1, 'Filmauro': 1, 'Blue Flower Productions': 1, 'ApolloProScreen Filmproduktion': 1, 'Thirteen Productions': 1, 'Daybreak': 1, 'Film Colony': 1, 'Gaylord Films': 1, 'Blue Sea Productions': 1, 'Loofah Productions': 1, 'VIP 2 Medienfonds': 1, 'Frantic Films': 1, 'Maple Shade Films': 1, 'New Amsterdam Entertainment': 1, 'Green Hills Productions': 1, 'Primal Foe Productions': 1, 'Grand Slam Productions': 1, 'Fellah Pictures': 1, 'Filmax Entertainment': 1, 'ICF': 1, 'Patalex Productions': 1, 'Fellowship Adventure Group': 1, 'Gone North Productions': 1, 'Industrial Development Corporation of South Africa': 1, 'Miracle Pictures': 1, 'Harlequin Pictures': 1, 'Intertainment AG': 1, 'Blackout Productions Inc.': 1, 'Sideways Productions Inc.': 1, 'AR-TL': 1, 'Eclipse Catering': 1, 'Nine Yards Two Productions': 1, 'Havana Nights LLC': 1, 'Really Useful Films': 1, 'Mostow/Lieberman Productions': 1, '80 Days Productions': 1, 'Visual Arts Entertainment': 1, 'Aldrich Group': 1, 'Optional Pictures': 1, 'Blue Productions': 1, 'Friday Night Lights LLC': 1, 'MDBF Filmgesellschaft mbH & Company KG': 1, 'Two Brothers Productions': 1, 'Avenue Pictures Productions': 1, 'Broken Lizard Industries': 1, 'Coconut Pete Productions': 1, 'Taormina Productions': 1, 'Bird and a Bear Entertainment': 1, 'Hallway Pictures': 1, 'Catch Productions': 1, 'Fantail Films Inc.': 1, 'Cool Music': 1, 'Harry Potter Publishing Rights': 1, 'Motion Picture BETA Produktionsgesellschaft': 1, 'Bourne Again': 1, 'Sparkler Entertainment': 1, 'Vaughn Productions': 1, 'Into the Wild': 1, 'Crystal Sky Pictures': 1, 'Lauren Levine Productions Inc.': 1, 'Grosvenor Park Impact Productions': 1, 'Columbus 81 Productions': 1, 'Wendy Finerman Productions': 1, 'Andalasia Productions': 1, 'Right Coast Productions': 1, 'Mirage Studios': 1, 'Imagi Production': 1, 'Sociedad General de Cine S.A.': 1, 'MDBF Zweite Filmgesellschaft': 1, 'Eden Rock Media': 1, 'Element Films': 1, 'HorrorFlix': 1, 'Scholastic Productions': 1, 'Yuma': 1, 'CJ Entertainment': 1, 'Southpaw Entertainment': 1, 'Open City Films': 1, 'Jessie Nelson Productions': 1, 'Astral Media': 1, 'Anka Film': 1, 'Daybreak Productions': 1, 'Monkey Dance Productions': 1, 'Yer Dead Productions': 1, 'Entertainment Films': 1, 'Material Entertainment': 1, 'Beech Hill Films': 1, 'Zadan / Meron Productions': 1, '360 Pictures': 1, 'Nightfall Productions': 1, 'Bueprint Pictures': 1, 'Halcyon Pictures': 1, 'Kinematograf Wien': 1, 'Linsefilm': 1, 'Unity Productions': 1, 'Michael Cerenzie Productions': 1, 'Funky Buddha Productions': 1, 'Resident Evil Productions': 1, 'Chime Films': 1, 'Reserve Room': 1, 'Level 1 Entertainment': 1, 'MID Foundation': 1, 'NALA Films': 1, 'Samuels Media': 1, 'Land Films Inc.': 1, 'Marshall Production': 1, 'SW7D Productions': 1, 'Foresight Unlimited': 1, 'RAMCO': 1, 'Captivity Productions': 1, 'Underground': 1, 'I Could Never Ltd.': 1, 'Bauer Martinez Studios': 1, 'Brass Hat Films': 1, 'Sunlight Productions': 1, 'Madison 23': 1, 'Dreamachine': 1, 'BBC': 1, 'Block 2 Pictures': 1, 'Jet Tone Production': 1, 'Lou Yi Inc.': 1, 'Dino de Laurentiis Cinematografica': 1, 'Red Lion Sarl': 1, 'ETIC Films': 1, 'Huayi Brothers Media Corporation': 1, 'Tyler Perry Company, The': 1, 'Mill Film': 1, 'I Remember Productions': 1, 'SKA Films': 1, 'Munich Film Partners & Company (MFP) MI2 Productions': 1, 'KirchMedia': 1, 'Wind Dancer Productions': 1, 'Arts Council of England': 1, 'Nancy Tenenbaum Films': 1, 'Interscope Communications': 1, 'Polygram Filmed Entertainment': 1, 'Fine Line Features': 1, 'Zentropa Entertainments': 1, 'Danmarks Radio (DR)': 1, 'SVT Drama': 1, 'Arte': 1, 'Technical Black': 1, 'Run It Up Productions Inc.': 1, 'Compulsion Inc.': 1, 'Splendid Medien AG': 1, 'Cranium Films': 1, 'Limited Edition Productions Inc.': 1, 'Barry Mendel Productions': 1, 'Clipsal Films': 1, 'Nine Yards Productions': 1, 'Rational Packaging Company': 1, 'Fat Free': 1, 'Mars Production Pty. Ltd.': 1, 'Red Horizon Productions': 1, 'Katira Productions GmbH & Co. KG': 1, 'Caro-McLeod': 1, 'Fox Animation Studios': 1, 'Neo Art & Logic': 1, 'Wes Craven Films': 1, 'Seven Arts Pictures': 1, 'Munich Film Partners & Company (MFP) ROE Production': 1, 'Fountainbridge Films': 1, 'Finding Forrester Productions': 1, 'Cruella Productions': 1, 'Triple Threat Talent': 1, 'Screenland Pictures': 1, 'Davis-Panzer Productions': 1, 'Walrus & Associates': 1, 'Hollywood Partners': 1, 'Charenton Productions': 1, 'Sweetpea Entertainment': 1, 'SNL Studios': 1, 'JLT Productions': 1, 'Springwood Productions': 1, 'Capella International': 1, 'KC Medien AG': 1, 'Nora Ephron Productions': 1})\n"
     ]
    }
   ],
   "source": [
    "c = Counter()\n",
    "Comp = data.production_companies.str.split('|').sum()\n",
    "for word in Comp:\n",
    "    c[word]+=1\n",
    "print(c)\n",
    "answer_ls.append(1)"
   ]
  },
  {
   "cell_type": "markdown",
   "metadata": {},
   "source": [
    "# 21. Какая студия сняла больше всего фильмов в 2015 году?\n",
    "Варианты ответа:\n",
    "1. Universal Pictures\n",
    "2. Paramount Pictures\n",
    "3. Columbia Pictures\n",
    "4. Warner Bros\n",
    "5. Twentieth Century Fox Film Corporation"
   ]
  },
  {
   "cell_type": "code",
   "execution_count": 26,
   "metadata": {},
   "outputs": [
    {
     "name": "stdout",
     "output_type": "stream",
     "text": [
      "Counter({'Universal Pictures': 183, 'Warner Bros.': 180, 'Paramount Pictures': 129, 'Columbia Pictures': 124, 'Twentieth Century Fox Film Corporation': 117, 'Relativity Media': 99, 'New Line Cinema': 93, 'Walt Disney Pictures': 86, 'Village Roadshow Pictures': 67, 'DreamWorks SKG': 63, 'Touchstone Pictures': 58, 'Regency Enterprises': 53, 'Metro-Goldwyn-Mayer (MGM)': 52, 'Columbia Pictures Corporation': 47, 'Dune Entertainment': 45, 'Summit Entertainment': 44, 'Miramax Films': 40, 'Legendary Pictures': 39, 'Lionsgate': 38, 'Fox 2000 Pictures': 38, 'Dimension Films': 37, 'Screen Gems': 33, 'Spyglass Entertainment': 32, 'Original Film': 31, 'Working Title Films': 31, 'New Regency Pictures': 30, 'Revolution Studios': 30, 'The Weinstein Company': 29, 'Scott Free Productions': 27, 'DreamWorks Animation': 27, 'Imagine Entertainment': 27, 'Amblin Entertainment': 25, 'Happy Madison Productions': 25, 'StudioCanal': 25, 'Lakeshore Entertainment': 25, 'Scott Rudin Productions': 25, 'Canal+': 24, 'Studio Babelsberg': 24, 'Fox Searchlight Pictures': 24, 'Epsilon Motion Pictures': 24, 'Focus Features': 22, 'TSG Entertainment': 21, 'Davis Entertainment': 20, 'Apatow Productions': 20, 'NPV Entertainment': 20, 'EuropaCorp': 19, 'Ingenious Film Partners': 19, 'Jerry Bruckheimer Films': 19, 'Lions Gate Films': 19, 'Vertigo Entertainment': 18, 'TriStar Pictures': 18, 'BBC Films': 18, 'Silver Pictures': 18, 'Media Rights Capital': 17, 'Participant Media': 17, 'Walden Media': 17, 'Millennium Films': 17, '20th Century Fox': 17, 'UK Film Council': 17, 'Dune Entertainment III': 17, 'Film4': 16, 'Alcon Entertainment': 16, 'Blumhouse Productions': 16, 'Dentsu': 15, 'Pixar Animation Studios': 15, 'Escape Artists': 15, 'Nickelodeon Movies': 15, 'Castle Rock Entertainment': 15, 'Marvel Studios': 14, 'Moving Picture Company (MPC)': 14, 'Di Bonaventura Pictures': 14, 'Anonymous Content': 13, 'RatPac-Dune Entertainment': 13, 'MTV Films': 13, 'Platinum Dunes': 13, '1492 Pictures': 13, 'Marvel Enterprises': 13, 'Saturn Films': 13, 'Warner Bros. Pictures': 13, 'Franchise Pictures': 13, 'Double Feature Films': 12, 'Endgame Entertainment': 12, 'CBS Films': 12, 'Ingenious Media': 12, 'TF1 Films Production': 12, 'Malpaso Productions': 12, 'Heyday Films': 12, 'Imagenation Abu Dhabi FZ': 12, 'Dark Castle Entertainment': 12, 'Intermedia Films': 12, 'Morgan Creek Productions': 12, 'Bad Robot': 11, 'Skydance Productions': 11, 'DNA Films': 11, 'Plan B Entertainment': 11, 'Open Road Films': 11, 'Sony Pictures Entertainment (SPE)': 11, 'Marc Platt Productions': 11, 'Twentieth Century Fox Animation': 11, 'Sunswept Entertainment': 11, 'Nu Image Films': 11, 'Tim Burton Productions': 11, 'Scion Films': 11, 'Studio Canal': 11, 'GK Films': 11, 'Appian Way': 10, 'Temple Hill Entertainment': 10, 'Cross Creek Pictures': 10, 'Blue Sky Studios': 10, 'Sony Pictures Animation': 10, 'Ghost House Pictures': 10, 'WingNut Films': 10, 'Walt Disney Animation Studios': 10, 'Davis-Films': 10, 'Overbrook Entertainment': 10, 'Constantin Film Produktion': 10, 'Paramount Vantage': 10, 'Mosaic Media Group': 10, 'Robert Simonds Productions': 10, 'Cruise/Wagner Productions': 10, 'Color Force': 9, 'Sidney Kimmel Entertainment': 9, 'Thunder Road Pictures': 9, 'LStar Capital': 9, 'BenderSpink': 9, 'Gary Sanchez Productions': 9, 'IM Global': 9, 'Blinding Edge Pictures': 9, '21 Laps Entertainment': 9, \"Donners' Company\": 9, 'DC Comics': 9, 'Exclusive Media Group': 9, 'Impact Pictures': 9, 'Emmett/Furla Films': 9, 'Radar Pictures': 9, 'Mandate Pictures': 9, 'Rogue Pictures': 9, 'De Line Pictures': 9, 'Phoenix Pictures': 9, 'United Artists': 9, 'Atmosphere Entertainment MM': 8, 'Chernin Entertainment': 8, 'Roth Films': 8, 'ImageMovers': 8, 'Syncopy': 8, 'Reliance Entertainment': 8, 'Section Eight': 8, 'Kennedy/Marshall Company, The': 8, 'Cheyenne Enterprises': 8, 'Stillking Films': 8, 'Universal Studios': 7, 'Mandeville Films': 7, 'Red Wagon Entertainment': 7, 'Michael De Luca Productions': 7, 'Marv Films': 7, 'Gold Circle Films': 7, 'Forward Pass': 7, 'Marvel Entertainment': 7, 'Spring Creek Productions': 7, 'Sony Pictures': 7, 'Good Universe': 7, 'PathÃ©': 7, 'QED International': 7, 'Troublemaker Studios': 7, 'FilmDistrict': 7, 'Annapurna Pictures': 7, 'Weed Road Pictures': 7, 'Mandalay Pictures': 7, 'Goldcrest Pictures': 7, 'Stuber Productions': 7, 'Walt Disney Feature Animation': 7, 'Canal Plus': 7, 'Virtual Studios': 7, 'Contrafilm': 7, 'DreamWorks Pictures': 7, 'Mid Atlantic Films': 6, 'Illumination Entertainment': 6, 'Anarchos Productions': 6, 'Bazelevs Production': 6, '3 Arts Entertainment': 6, 'Mad Chance': 6, 'Groundswell Productions': 6, 'Wonderland Sound and Vision': 6, 'Infinitum Nihil': 6, 'Gran Via Productions': 6, 'Vinyl Films': 6, 'Smokehouse Pictures': 6, 'Province of British Columbia Production Services Tax Credit': 6, 'Jersey Films': 6, 'Offspring Entertainment': 6, 'Conundrum Entertainment': 6, 'Nick Wechsler Productions': 6, 'Lawrence Gordon Productions': 6, 'Centropolis Entertainment': 6, '2929 Productions': 6, 'Twisted Pictures': 6, 'Atlas Entertainment': 6, 'The Zanuck Company': 6, 'Firm Films': 6, 'River Road Entertainment': 6, 'France 2 CinÃ©ma': 6, 'Pacific Data Images (PDI)': 6, 'Alphaville Films': 6, 'Zide-Perry Productions': 6, 'Current Entertainment': 6, 'Tribeca Productions': 6, \"Mel's Cite du Cinema\": 6, 'Valhalla Motion Pictures': 6, 'Rising Star': 6, 'Big Screen Productions': 6, 'Beacon Pictures': 6, 'Major Studio Partners': 6, 'Fuji Television Network': 5, 'NeoReel': 5, 'Lucasfilm': 5, 'Walt Disney Studios Motion Pictures': 5, 'Revolution Sun Studios': 5, 'M6 Films': 5, 'CinÃ©+': 5, 'Genre Films': 5, 'A24': 5, 'Waverly Films': 5, 'Moonlighting Films': 5, 'Sony Pictures Entertainment': 5, 'Red Granite Pictures': 5, 'Alliance Films': 5, 'Closest to the Hole Productions': 5, 'Bold Films': 5, 'Shangri-La Entertainment': 5, 'Dune Films': 5, 'Wildwood Enterprises': 5, 'Treehouse Pictures': 5, 'Bad Hat Harry Productions': 5, 'Hasbro': 5, 'Indian Paintbrush': 5, 'Lin Pictures': 5, 'Warner Bros. Animation': 5, '1984 Private Defense Contractors': 5, 'FilmNation Entertainment': 5, 'Karz Entertainment': 5, 'Rainforest Films': 5, 'Strike Entertainment': 5, 'Broken Road Productions': 5, 'Green Hat Films': 5, 'Maverick Films': 5, 'Flower Films (II)': 5, 'Walt Disney': 5, 'Stage 6 Films': 5, 'Wintergreen Productions': 5, 'Wild West Picture Show Productions': 5, 'Fox Atomic': 5, 'The Montecito Picture Company': 5, 'Mike Zoss Productions': 5, 'WWE Studios': 5, 'Tapestry Films': 5, 'Edward R. Pressman Film': 5, 'One Race Productions': 5, 'Hyde Park Films': 5, 'Isle of Man Film': 5, 'DC Entertainment': 5, 'Mutual Film Company': 5, 'Paramount Animation': 5, 'Industry Entertainment': 5, 'American Zoetrope': 5, 'Lawrence Bender Productions': 5, 'Bel Air Entertainment': 5, 'Dino De Laurentiis Company': 5, 'Grive Productions': 5, 'Dark Horse Entertainment': 5, 'Intrepid Pictures': 5, 'Virgin Produced': 5, 'Initial Entertainment Group (IEG)': 5, 'Laura Ziskin Productions': 5, 'Laurence Mark Productions': 5, 'Silver Reel': 5, 'One Race Films': 4, 'TC Productions': 4, 'Gotham Group': 4, 'Buena Vista': 4, 'Irish Film Board': 4, 'Cube Vision': 4, 'Goldmann Pictures': 4, 'Wigram Productions': 4, 'Free State Pictures': 4, 'DMG Entertainment': 4, 'Ram Bergman Productions': 4, 'Feigco Entertainment': 4, 'Entertainment One': 4, 'Point Grey Pictures': 4, 'Worldview Entertainment': 4, 'Automatik Entertainment': 4, 'Sony Pictures Releasing': 4, 'Insurge Pictures': 4, 'Route One Films': 4, 'Disruption Entertainment': 4, 'Instituto de la CinematografÃ\\xada y de las Artes Audiovisuales (ICAA)': 4, 'Clinica Estetico': 4, 'RatPac Entertainment': 4, 'Mace Neufeld Productions': 4, 'Nimar Studios': 4, 'Protozoa Pictures': 4, 'Don Carmody Productions': 4, 'Laika Entertainment': 4, 'Grindstone Entertainment Group': 4, 'Bluegrass Films': 4, 'Canadian Film or Video Production Tax Credit (CPTC)': 4, 'The Mark Gordon Company': 4, 'Focus Films': 4, 'Montecito Picture Company, The': 4, 'Gunn Films': 4, 'Misher Films': 4, 'Icon Productions': 4, 'Canal+ EspaÃ±a': 4, 'Josephson Entertainment': 4, 'PathÃ© Renn Productions': 4, 'LivePlanet': 4, 'Everyman Pictures': 4, 'Bona Fide Productions': 4, 'Jerry Weintraub Productions': 4, 'Cruel and Unusual Films': 4, 'Reliance BIG Entertainment': 4, 'Rat Entertainment': 4, 'Toho-Towa': 4, 'Wayans Bros. Entertainment': 4, 'Brad Grey Pictures': 4, 'Miramax': 4, 'Metropolitan Filmexport': 4, 'Newmarket Capital Group': 4, 'Tollin/Robbins Productions': 4, 'Playtone': 4, 'China Film Co-Production Corporation': 4, 'Grosvenor Park Media Ltd.': 4, 'Red Hour Films': 4, 'Kanzaman': 4, 'CinÃ©CinÃ©ma': 4, 'The Kennedy/Marshall Company': 4, 'Casey Silver Productions': 4, 'Neal Street Productions': 4, 'Ecosse Films': 4, 'GreeneStreet Films': 4, 'Paradox Entertainment': 4, 'Amen Ra Films': 4, 'Icon Entertainment International': 4, 'Konrad Pictures': 4, 'Quinta Communications': 4, 'Avery Pix': 4, 'Shady Acres Entertainment': 4, 'Parkes/MacDonald Productions': 4, 'Aardman Animations': 4, 'Brightlight Pictures': 4, 'Warner Independent Pictures (WIP)': 4, 'Section Eight Productions': 4, 'Craven-Maddalena Films': 4, 'Global Entertainment Productions GmbH & Company Medien KG': 4, 'Kennedy Miller Productions': 3, 'International Traders': 3, 'Prime Focus': 3, 'FilmColony': 3, 'Babieka': 3, 'Flynn Picture Company': 3, 'Trigger Street Productions': 3, 'Fuzzy Door Productions': 3, 'Alpha Core': 3, 'Brownstone Productions': 3, 'Element Pictures': 3, 'No Trace Camping': 3, 'Energy Entertainment': 3, 'Wildgaze Films': 3, 'Killer Films': 3, 'Huayi Brothers Media': 3, 'Fox International Productions': 3, 'Chartoff-Winkler Productions': 3, 'Anton Capital Entertainment (ACE)': 3, 'David Dobkin Productions': 3, 'Blue-Tongue Films': 3, 'Onyx Films': 3, 'Sony Pictures Home Entertainment': 3, 'Living Films': 3, 'Origin Pictures': 3, 'Iron Horse Entertainment (II)': 3, 'Pacific Standard': 3, 'Columbia TriStar': 3, 'Ruby Films': 3, 'Crave Films': 3, 'Aldamisa Entertainment': 3, 'Big Kid Pictures': 3, 'Ghoulardi Film Company': 3, 'Screen Australia': 3, 'Harpo Films': 3, 'Celador Films': 3, 'Cloud Eight Films': 3, 'DisneyToon Studios': 3, 'The Safran Company': 3, 'HanWay Films': 3, 'Olive Bridge Entertainment': 3, 'Affirm Films': 3, 'A Band Apart': 3, 'Internationale Filmproduktion Blackbird Dritte': 3, 'Starz Animation': 3, 'Imprint Entertainment': 3, 'Radical Media': 3, 'Buckaroo Entertainment': 3, 'Chockstone Pictures': 3, 'Fortis Films': 3, 'Telecinco Cinema': 3, 'Spectacle Entertainment Group': 3, 'This Is That Productions': 3, 'DreamWorks': 3, 'Cold Spring Pictures': 3, 'Team Todd': 3, 'Zanuck Company, The': 3, 'Peninsula Films': 3, 'Junction Entertainment': 3, 'Bedford Falls Productions': 3, 'Tree Line Films': 3, 'Linson Entertainment': 3, 'Katalyst Films': 3, 'Three Strange Angels': 3, 'PathÃ© Pictures International': 3, 'Prescience': 3, 'Mayhem Pictures': 3, 'Gracie Films': 3, 'Bazmark Films': 3, 'Gold/Miller Productions': 3, 'View Askew Productions': 3, 'Beacon Communications': 3, 'Cinerenta Medienbeteiligungs KG': 3, 'IMF Internationale Medien und Film GmbH & Co. 3. Produktions KG': 3, 'Hyde Park Entertainment': 3, 'Eon Productions': 3, 'Gerber Pictures': 3, 'Hypnotic': 3, 'Voltage Pictures': 3, 'K/O Paper Products': 3, 'Wild Bunch': 3, 'Depth of Field': 3, 'Bedford Falls Company, The': 3, 'Ascendant Pictures': 3, 'VIP Medienfonds 4': 3, 'International Production Company': 3, 'Odd Lot Entertainment': 3, 'Art Linson Productions': 3, 'Film Rites': 3, 'Fox Searchlight': 3, 'Mark Canton Productions': 3, 'FilmEngine': 3, 'Room 101': 3, 'Solana Films': 3, 'Prospero Pictures': 3, 'DiNovi Pictures': 3, 'Kalima Productions GmbH & Co. KG': 3, 'Splendid Pictures': 3, 'Parkes+MacDonald Image Nation': 3, 'Artisan Entertainment': 3, 'Mikona Productions GmbH & Co. KG': 3, 'David Foster Productions': 3, 'Colombia Pictures': 3, 'Propaganda Films': 3, 'Evolution Entertainment': 3, 'World 2000 Entertainment': 3, 'Marty Katz Productions': 3, 'Signature Pictures': 3, 'Good Machine': 3, 'Baltimore Spring Creek Productions': 3, 'Hemisphere Media Capital': 3, 'Yucaipa Films': 3, 'Cheetah Vision': 3, 'Jinks/Cohen Company': 3, 'Next Entertainment': 3, 'Mirage Enterprises': 3, 'Lonely Film Productions GmbH & Co. KG.': 3, 'Tig Productions': 3, 'Dylan Sellers Productions': 3, 'Universal': 3, 'Weinstein Company, The': 3, 'Yari Film Group': 3, 'WV Films III': 3, 'Baldwin Entertainment Group': 3, 'Bob Yari Productions': 3, 'Radiant Productions': 3, 'Zephyr Films': 3, 'Truenorth Productions': 2, 'CatchPlay': 2, 'Danjaq': 2, 'B24': 2, 'Universal Pictures International (UPI)': 2, 'Beagle Pug Films': 2, 'Allison Shearmur Productions': 2, 'A113': 2, 'Riche-Ludwig Productions': 2, 'China Movie Channel': 2, 'Cloudy Productions': 2, 'Rocklin / Faust': 2, 'Entertainment One Features': 2, 'Scholastic Entertainment': 2, 'Duperele Films': 2, 'Item 7': 2, 'Parallel Film Productions': 2, 'Broken Chair Flickz': 2, 'Sierra/Affinity': 2, 'Versus Pictures': 2, 'Number 9 Films': 2, 'Ehman Productions': 2, 'PeaPie Films': 2, 'OddLot Entertainment': 2, 'Pretty Pictures': 2, 'ArtÃ©mis Productions': 2, 'Le Tax Shelter du Gouvernement FÃ©dÃ©ral de Belgique': 2, 'Taxshelter. be': 2, 'Black Label Media': 2, 'Constantin Film.': 2, 'Kramer & Sigman Films': 2, 'Zaftig Films': 2, 'Infinite Frameworks Studios': 2, 'K. JAM Media': 2, 'Raindog Films': 2, 'Berlanti Productions': 2, 'The Cantillon Company': 2, 'The Shuman Company': 2, 'STX Entertainment': 2, 'Ahimsa Films': 2, 'Orange Studios': 2, 'CityMation': 2, 'On Entertainment': 2, 'Zippcast Films': 2, 'Amazon Studios': 2, 'Film Art Media': 2, 'Apollo Media': 2, 'Vast Entertainment': 2, 'Head Gear Films': 2, 'Brothers Dowdle Productions': 2, 'Little Stranger': 2, 'Inimitable Pictures': 2, 'ShivHans Pictures': 2, 'Nickelodeon Animation Studios': 2, 'United Plankton Pictures': 2, 'TriStar Productions': 2, 'Metanoia Films': 2, 'Venture Forth': 2, 'Hasbro Studios': 2, 'Allspark Pictures': 2, 'Lynda Obst Productions': 2, '87Eleven': 2, 'Mad Hatter Entertainment': 2, 'LionsGate': 2, 'Outlaw Sinema': 2, 'WideAwake': 2, 'Hollywood Gang Productions': 2, 'Echo Films': 2, 'Why Not Productions': 2, 'Before the Door Pictures': 2, 'Washington Square Films': 2, 'Radical Studios': 2, 'AR Films': 2, 'Demarest Films': 2, 'Crescendo Productions': 2, 'Bandito Brothers': 2, 'Electric City Entertainment': 2, 'Prana Studios': 2, 'Prana Animation Studios': 2, 'Albert S. Ruddy Productions': 2, 'Likely Story': 2, 'Fake Empire': 2, 'Scope Pictures': 2, 'Evergreen Media Group': 2, 'Hopscotch Features': 2, 'Screen Gems, Inc.': 2, 'Scottish Screen': 2, 'Boxing Cat Films': 2, 'Pure Flix Entertainment': 2, 'Winkler Films': 2, 'Lightstorm Entertainment': 2, 'Sketch Films': 2, 'Key Creatives': 2, 'Arc Productions': 2, 'Skylark Productions': 2, 'Kurtzman/Orci': 2, 'American Empirical Pictures': 2, 'Inferno Distribution': 2, 'Kaplan/Perrone Entertainment': 2, 'Virtual Films': 2, 'Palomar Pictures (II)': 2, 'Practical Pictures': 2, 'Parallel Zide': 2, 'Bagdasarian Productions': 2, 'Andell Entertainment': 2, 'Pictures in Paradise': 2, 'Pacific Film and Television Commission': 2, 'Australian Film Finance Corporation (AFFC)': 2, 'Rogue': 2, 'Stars Road Entertainment': 2, 'Imagi Animation Studios': 2, 'X-Filme Creative Pool': 2, 'Paul Schiff Productions': 2, '26 Films': 2, 'Seed Productions': 2, 'CinemaNX': 2, 'Sikelia Productions': 2, 'Lions Gate': 2, 'Overnight Films': 2, 'Aegis Film Fund': 2, 'Madhouse Entertainment': 2, 'Road Rebel': 2, 'Home Box Office (HBO)': 2, 'HBO Films': 2, 'Hammer Film Productions': 2, 'Overture Films': 2, 'Animal Logic': 2, 'Intellectual Properties Worldwide': 2, 'Penn Station Entertainment': 2, 'Maguire Entertainment': 2, 'Omnilab Media': 2, 'Ambience Entertainment': 2, 'Serendipity Point Films': 2, 'platinum studios': 2, 'The Saul Zaentz Company': 2, 'Little Bird': 2, 'British Broadcasting Corporation (BBC)': 2, 'WV Films II': 2, 'Lucky Red': 2, 'Red Wagon Productions': 2, 'Chris Lee Productions': 2, 'David Brown Productions': 2, 'USA Films': 2, 'Sean S. Cunningham Films': 2, 'Crystal Lake Entertainment': 2, 'Kopelson Entertainment': 2, 'David Kirschner Productions': 2, 'Darkwoods Productions': 2, 'Ardustry Entertainment': 2, 'ApolloMedia Distribution': 2, 'TPS Star': 2, 'Sommers Company, The': 2, 'KMP Film Invest': 2, 'Rogue Marble': 2, 'Hammerhead Productions': 2, 'MHF Zweite Academy Film': 2, 'Marvel Knights': 2, 'Castel Film Romania': 2, 'Blueprint Pictures': 2, 'Twins Financing': 2, 'Type A Films': 2, 'Castelao Producciones': 2, 'Grosvenor Park Productions': 2, 'Blue Star Pictures': 2, 'Media Magik Entertainment': 2, '2 Entertain': 2, 'Guy Walks into a Bar Productions': 2, 'Deep River Productions': 2, 'Odyssey Entertainment': 2, 'Management 360': 2, 'Emperor Motion Pictures': 2, 'Nu Image Entertainment GmbH': 2, 'Vendome Pictures': 2, 'France 3 CinÃ©ma': 2, 'Studio 37': 2, 'Jouror Productions': 2, 'Nouvelles Ã‰ditions de Films (NEF)': 2, 'New Legacy': 2, 'Playtone Productions': 2, 'Big Talk Productions': 2, 'The Jacobson Company': 2, 'Participant Productions': 2, 'LD Entertainment': 2, 'Kerner Entertainment Company': 2, 'Indochina Productions': 2, 'Fierce Entertainment': 2, 'Runteldat Entertainment': 2, 'China Film Group Corporation (CFGC)': 2, 'DJ Films': 2, 'Bac Films': 2, 'Blue Tulip Productions': 2, 'Imaginary Forces': 2, 'Out of the Blue... Entertainment': 2, 'Lion Rock Productions': 2, 'Material': 2, 'Walt Disney Television Animation': 2, 'Walt Disney Animation Australia': 2, 'Storyline Entertainment': 2, 'Monarch Pictures': 2, 'David Ladd Films': 2, 'Allied Filmmakers': 2, 'Sony Pictures Classics': 2, 'Leverage Management': 2, 'Film i VÃ¤st': 2, 'Tim Burton Animation Company': 2, 'British Film Institute (BFI)': 2, 'Wessler Entertainment': 2, 'Pariah Entertainment Group': 2, 'Vanguard Films': 2, 'TÃ©lÃ©film Canada': 2, 'Super Cool ManChu': 2, 'C-2 Pictures': 2, 'Angry Films': 2, 'Mediastream Dritte Film GmbH & Co. Beteiligungs KG': 2, 'Samuel Goldwyn Films': 2, 'Birnbaum / Barber Productions': 2, 'Cobalt Media Group': 2, 'Artists Production Group (APG)': 2, 'Tall Trees Productions': 2, 'Boll Kino Beteiligungs GmbH & Co. KG': 2, 'Herold Productions': 2, 'Madacy Entertainment': 2, 'Envision Entertainment Corporation': 2, 'Revolution Films': 2, 'H2F Entertainment': 2, 'Muse Productions': 2, 'Two Ton Films': 2, 'After Dark Films': 2, '40 Acres & A Mule Filmworks': 2, 'Pathe': 2, 'Kumar Mobiliengesellschaft mbH & Co. Projekt Nr. 1 KG': 2, 'MFPV Film': 2, 'Alberta Film Entertainment': 2, 'VIP 3 Medienfonds': 2, 'MacDonald/Parkes Productions': 2, 'John Wells Productions': 2, 'Babelsberg Film': 2, 'Mars Media Beteiligungs': 2, 'The Ladd Company': 2, 'FilmWorks': 2, 'Biscayne Pictures': 2, 'Kumar Mobiliengesellschaft mbH & Co. Projekt Nr. 2 KG': 2, 'Senator International': 2, 'Second Mate Productions': 2, 'Capitol Films': 2, 'Hard Eight Pictures': 2, 'Playtone Production': 2, 'Michael London Productions': 2, \"Bull's Eye Entertainment\": 2, 'Nu Image Entertainment': 2, 'Kernos Filmproduktionsgesellschaft & Company': 2, 'Eyetronics': 2, 'Storefront Pictures': 2, 'BIM Distribuzione': 2, 'Jon Shestack Productions': 2, 'Hollywood Pictures': 2, 'Ludlum Entertainment': 2, 'Mediastream Vierte Film GmbH & Co. Vermarktungs KG': 2, 'Blackfriars Bridge Films': 2, 'Clifford Werber Productions': 2, 'Egmond Film & Television': 2, 'Hal Lieberman Company': 2, 'Figment Films': 2, 'Tiger Aspect Productions': 2, 'The Canton Company': 2, 'Bulletproof Cupid': 1, 'DefyNite Films': 1, 'MJW Films': 1, '3Foot7': 1, 'Black Bear Pictures': 1, 'Bristol Automotive': 1, 'Dayday Films': 1, 'Le Grisbi Productions': 1, 'M Productions': 1, 'Sierra / Affinity': 1, 'Avi Arad Productions': 1, 'Matt Tolmach Productions': 1, 'Viz Media': 1, 'Mad Chance Productions': 1, 'Volcano Films': 1, 'Toho Company': 1, 'Irish Dreamtime': 1, 'SPD Films': 1, 'Ex3 Productions': 1, 'Pendle Mountain Productions': 1, 'Lucamar Productions': 1, 'Tonik Productions': 1, 'Asis Productions': 1, 'Cannell Studios': 1, \"We're Not Brothers Productions\": 1, 'Cinelou Films': 1, 'Kilburn Media': 1, 'Fetisov Teterin Films': 1, '5150 Action': 1, 'Stoney Lake Entertainment': 1, 'Team Downey': 1, 'Gulfstream Pictures': 1, 'Etalon film': 1, 'Screen Queensland': 1, 'Blacklab Entertainment': 1, 'Wolfhound Pictures': 1, 'Straight Up Films': 1, 'LBI Productions': 1, 'Obelisk Productions': 1, 'Jolie Pas': 1, 'Constantin Film International': 1, 'Goldenlight Films': 1, 'Electronic Arts': 1, 'Silverwood Films': 1, 'Oasis Films': 1, 'Aperture Entertainment': 1, 'Porchlight Films': 1, 'Screen NSW': 1, 'Qwerty Films': 1, 'TF1 Droits Audiovisuels': 1, 'Hopscotch Films': 1, 'D8': 1, 'Snoot Entertainment': 1, 'Seven West Media': 1, 'Fear of God Films': 1, 'Seven Group Holdings': 1, 'Jim Henson Company, The': 1, 'Creative Scotland': 1, 'Warner Bros. Interactive Entertainment': 1, 'Rob Thomas Productions': 1, 'Hearst Entertainment Productions': 1, 'LightWorkers Media': 1, 'Sahara Productions': 1, 'Silvatar Media': 1, 'The Combine': 1, 'Disney': 1, 'Provident Films': 1, 'FourBoys Entertainment': 1, 'Panay Films': 1, 'Max Films Productions': 1, 'Morag Loves Company': 1, 'Zehnte Babelsberg': 1, 'Visiona Romantica': 1, 'UW3 Film Productions': 1, 'MavroCine Pictures GmbH & Co. KG': 1, 'The Halcyon Company': 1, 'Block / Hanson': 1, 'Watermark': 1, 'IFP Westcoast Erste': 1, 'Farewell Productions': 1, 'Panorama Films': 1, 'Left Tackle Pictures': 1, 'Zucker/Netter Productions': 1, 'Internationale Filmproduktion Blackswan': 1, 'Kontsept Film Company': 1, 'Museum Canada Productions': 1, 'Grand Army Entertainment': 1, 'Hachiko': 1, 'Film Department, The': 1, 'Evil Twins': 1, 'Warp Films': 1, 'Darko Entertainment': 1, 'Curse Productions': 1, 'Mystery Clock Cinema': 1, 'Liberty Films UK': 1, 'Lunar Industries': 1, 'Xingu Films': 1, 'Limelight Fund': 1, 'Whamaphram Productions': 1, 'Pan EuropÃ©enne Production': 1, 'Sighvatsson Films': 1, 'Easy There Tiger Productions': 1, 'Outpost Studios': 1, 'Studio Babelsberg StudioBabelsberg Motion Pictures': 1, 'Smokewood Entertainment Group': 1, 'Phantom Four': 1, 'Bernard Gayle Productions': 1, 'Jaffe / Braunstein Enterprise': 1, 'Case 39 Productions': 1, 'Medienproduktion Prometheus Filmgesellschaft': 1, 'Portobello Studios': 1, 'Furst Films': 1, 'Camp / Thompson Pictures': 1, 'Infinity Features Entertainment': 1, 'Langley Productions': 1, 'Thunder Road Productions': 1, 'Fuqua Films': 1, 'Tooley Productions': 1, '20th Century Fox Home Entertainment': 1, 'Midnight Sun Pictures': 1, 'Vidhu Vinod Chopra Productions': 1, 'Smoke House': 1, 'Goldsmith-Thomas Productions': 1, 'Sid & Marty Krofft Pictures': 1, 'Revelations Entertainment': 1, 'Ilion Animation Studios': 1, 'Hand Made Films': 1, 'Ocean Pictures': 1, 'HimenÃ³ptero': 1, 'Mod Producciones': 1, 'Chris Brinker Productions': 1, 'Polsky Films': 1, 'Farah Films & Management': 1, 'Tezuka Production Company Ltd.': 1, 'Dentsu Inc.': 1, 'Trancas International Films': 1, \"It's a Laugh Productions\": 1, 'Millar Gough Ink': 1, 'New Upstairs Productions': 1, 'Upstairs Canada Productions': 1, 'Saga Film': 1, 'Chambara Pictures': 1, 'Smartest Man Productions': 1, 'Laura Bickford Productions': 1, 'Medienproduktion Poseidon Filmgesellschaft': 1, 'Mark Johnson Productions': 1, 'Curmudgeon Films': 1, 'Top Shelf Productions': 1, 'Czech Anglo Productions': 1, 'Wandering Star Pictures': 1, 'Edmonds Entertainment Group (EEG)': 1, 'Epidemic Pictures': 1, 'Freestyle Releasing': 1, 'Echo Lake Productions': 1, 'Premiere Picture': 1, \"Butcher's Run Films\": 1, 'Informant Media': 1, 'Banter': 1, 'Ozla Pictures': 1, 'Great Scott Productions Pty. Ltd.': 1, 'Sean Bailey Productions': 1, 'Darlow Smithson Productions': 1, 'Italian Tax Credit': 1, 'Dreamworks Pictures': 1, 'Prospect Park': 1, 'Millbrook Farm Productions': 1, 'Industrial Light & Magic (ILM)': 1, 'Bedlam Productions': 1, 'See-Saw Films': 1, 'Polish Film Institute': 1, 'Exclusive Films': 1, 'Monolith Films': 1, 'On the Road': 1, 'Pink Machine': 1, 'Red Om Films': 1, 'Octagon Films': 1, 'Birnbaum/Barber': 1, 'Rice Films': 1, 'Necropia': 1, 'Tequila Gang': 1, 'Serendipity Productions': 1, 'China Film Group': 1, 'Matador Pictures': 1, 'Magic Light Pictures': 1, 'Cinema Four': 1, 'Runteam Ltd.': 1, 'R.P. Productions': 1, 'FidÃ©litÃ© Films': 1, 'Hwy61': 1, 'Aversano Films': 1, 'Oops Doughnuts Productions': 1, 'Frontier Pictures': 1, 'New Crime Productions': 1, 'EFTI': 1, 'Battle Mountain Films': 1, 'Village Roadshow Pictures Asia': 1, 'Stone Productions': 1, 'Mimran Schur Pictures': 1, 'Chako Film Company': 1, 'Oceana Media Finance': 1, 'Pantheon Entertainment Corporation': 1, 'Innocence Productions': 1, 'Omega Entertainment': 1, 'Twentieth Century Fox': 1, 'Hydraulx': 1, 'Transmission Pictures': 1, 'Pioneer Pictures': 1, 'Spy Next Door': 1, 'Mosaic': 1, 'Henceforth': 1, 'Projection Pictures': 1, 'London Boulevard': 1, 'American Film Company': 1, 'Parabolic Pictures': 1, 'Birdsong Pictures': 1, 'Lions Gate Family Entertainment': 1, 'Crest Animation Productions': 1, 'Rhythm and Hues': 1, 'Picnic Basket': 1, 'Night Chronicles': 1, 'Furry Vengeance Productions': 1, 'Long Distance Films': 1, 'HighRoad Entertainment': 1, 'Prelude Pictures': 1, 'Lone Runner Entertainment': 1, 'Kenio Films': 1, 'Perfect Game, The': 1, 'Boram Entertainment Inc.': 1, 'Ealing Studios': 1, 'Fragile Films': 1, 'Quickfire Films': 1, 'The Tyler Perry Company': 1, 'PVR Cinemas': 1, 'Hari Om Entertainment Co.': 1, 'Blockbuster Movie Entertainers': 1, 'Fast Track Productions': 1, 'Asymmetrical Productions': 1, 'Les Films Alain Sarde': 1, 'Babbo Inc.': 1, 'The Picture Factory': 1, 'Stanley Kubrick Productions': 1, 'Imhotep Productions': 1, 'Liveplanet': 1, 'BrownHouse Productions': 1, 'Bottom of the Ninth Productions': 1, 'Swanford Films': 1, 'KC Medien': 1, 'Black and Blu Entertainment': 1, 'Finestkind': 1, 'Red Hour Productions': 1, 'Neal H. Moritz Productions': 1, 'Outlaw Productions (I)': 1, 'Sogecine': 1, 'Las Producciones del Escorpion': 1, 'Universal Cartoon Studios': 1, 'Simon Fields Productions': 1, 'Cruise-Wagner Productions': 1, 'Immortal Entertainment': 1, 'Jonathan Krane Group': 1, 'Square USA': 1, 'Cinerenta-Cinebeta': 1, 'VCL Communications': 1, 'Underworld Entertainment': 1, 'AZL Productions KG': 1, 'MFP Munich Film Partners': 1, 'Phase 1 Productions': 1, 'Dee Gee Entertainment': 1, 'Prufrock Pictures': 1, 'Fireworks Pictures': 1, 'Pistolero Productions LLC': 1, 'Bungalow Productions': 1, 'Silver Lion Films': 1, 'Vision View Entertainment': 1, 'American Entertainment Partners L.P.': 1, 'New Redemption Pictures': 1, 'GHS Productions KG': 1, 'Munich Film Partners & Company (MFP) GHS Productions': 1, 'Nides/McCormick Productions': 1, 'Horseshoe Bay Productions': 1, 'Merlin Films': 1, 'Native Pictures Productions': 1, 'Storm King Productions': 1, 'Animationwerks': 1, 'Mediastream Film GmbH & Co. Productions KG': 1, 'Cort/Madden Productions': 1, 'Empire Pictures': 1, 'Ufland': 1, 'Trackform Film Productions': 1, 'Crystal Sky Worldwide': 1, 'MDP Worldwide': 1, 'Carousel Picture Company, The': 1, 'Signature Entertainment': 1, 'Dan Films': 1, 'CP Medien AG': 1, 'Internationale Filmproduktion Richter': 1, 'Littlestar': 1, 'MVL Incredible Productions': 1, 'Double Nickel Entertainment': 1, 'Kickstart Productions': 1, 'Europa Corp': 1, 'Achte Babelsberg Film': 1, 'The Department of Trade and Industry of South Africa': 1, 'Kingsgate Films': 1, 'Film Capital Europe Funds (FCEF )': 1, 'Ozumi Films': 1, 'Propeler': 1, 'Internationale Filmproduktion Stella-del-Sud Second': 1, 'Earth Canada Productions': 1, 'ScreenWest': 1, 'Heyday films': 1, 'Internationale Filmproduktion Blackbird Erste': 1, 'Baumgarten Management and Productions (BMP)': 1, 'Top Rope': 1, 'SGF Entertainment': 1, 'Collision Entertainment': 1, 'Abandon Entertainment': 1, 'Foxtor Productions': 1, 'ASAF': 1, 'Luna Pictures': 1, 'Art In Motion': 1, 'Blue Askew': 1, 'Internationale Filmproduktion Stella-del-SÃ¼d': 1, 'Babylon': 1, 'Ott Medien': 1, 'Alta Loma Entertainment': 1, 'Internationale Filmproduktion': 1, 'Gravier Productions': 1, 'Antena 3 Films': 1, 'TelevisiÃ³ de Catalunya (TV3)': 1, 'Antena 3 TelevisiÃ³n': 1, 'Huayi Brothers': 1, 'InVenture Entertainment': 1, 'Nu-Image Films': 1, 'Lietuvos Kinostudija': 1, 'Scout Productions': 1, 'Defiance Productions': 1, 'Pistachio Pictures': 1, 'Cohen/Pearl Productions': 1, 'Outlander Productions': 1, 'Ten Thirteen Productions': 1, 'Crying Box Productions': 1, 'Rifkin-Eberts': 1, 'Toff Guy Films': 1, 'VN Productions': 1, 'Initial Entertainment Group': 1, 'Dark Lot Entertainment': 1, 'UTV Motion Pictures': 1, 'South Pacific Pictures': 1, 'Spice Factory': 1, 'The Australian Film Commission': 1, 'Darren Star Productions': 1, 'Universal Pictures Corporation': 1, 'Evamere Entertainment': 1, 'Michaels-Goldwyn': 1, 'Andale Pictures': 1, 'IDEA Filmproduktions': 1, 'Starz Media': 1, 'Studiopolis': 1, 'Vanguard Animation': 1, '3 in the Box': 1, 'New Wave Entertainment': 1, 'Terra Firma Films': 1, 'Superfinger Entertainment': 1, 'Midnight Picture Show': 1, 'First Foot Films': 1, 'Ixtlan Productions': 1, 'Global Entertainment Group': 1, 'Sherazade Film Development': 1, 'Corduroy Films': 1, 'Exodus Film Group': 1, 'Exodus Productions': 1, 'Intandem Films': 1, 'Aramid Entertainment Fund': 1, 'Lipsync Productions': 1, 'Motel Movies': 1, 'Scared Productions': 1, 'Yellow Bird': 1, 'Many Rivers Productions': 1, 'Boy of the Year': 1, 'K/O Camera Toys': 1, 'Lennox House Films': 1, 'Random Films': 1, 'Total Entertainment': 1, 'TSBD Canada Productions': 1, 'Zohar International': 1, 'Bay Films': 1, 'La Petite Reine': 1, 'uFilm': 1, 'Blind Wink': 1, 'Film 4': 1, 'Hungarian National Film Office': 1, 'Lazio Film Commission': 1, 'TOKYOPOP': 1, 'Denver and Delilah Productions': 1, 'Tailor Made': 1, 'Mango Farms': 1, 'Gambit Pictures': 1, 'Electric Shepherd Productions': 1, 'Mpower Pictures': 1, 'Lip Sync Post': 1, 'Trademark Films': 1, 'LBI Entertainment': 1, 'Wild Ocean Films': 1, '2S Films': 1, 'Deuce Three Productions': 1, 'Storefront Films': 1, 'Image Entertainment': 1, 'Bekmambetov Projects Ltd.': 1, 'Dr D Studios': 1, 'Kennedy Miller Mitchell': 1, 'Battleplan Productions': 1, 'Neunte Babelsberg Film': 1, 'Holleran Company': 1, 'Sechzehnte Babelsberg Film': 1, 'Ad Hominem Enterprises': 1, 'Zanagar Films': 1, 'Crystal City Entertainment': 1, 'Aura Film Partnership': 1, 'Toledo Productions': 1, 'Wayfare Entertainment': 1, 'Sanctum Australia': 1, 'Great Wight Productions/ Osford Films': 1, 'Recorded Pictures Company': 1, 'The Movie Network': 1, 'Millbrook Pictures': 1, 'Lago Film': 1, 'Brookwell-McNamara Entertainment': 1, 'HW Two': 1, 'Flashpoint Entertainment': 1, 'Cliffjack Motion Pictures': 1, 'Rickshaw Productions': 1, 'Voltage pictures': 1, 'ANA Media': 1, 'Picture Perfect (I)': 1, 'The Collective Studios': 1, 'Sony Pictures Worldwide Acquisitions (SPWA)': 1, 'TDJ Enterprises / New Dimensions Entertainment': 1, 'Our Stories Films': 1, 'Corrino Media Corporation': 1, 'Corsan': 1, 'Staccato Films': 1, 'Incentive Filmed Entertainment': 1, 'Atlas Productions': 1, 'ARP SÃ©lection': 1, 'Indigo Film': 1, 'Medusa Film': 1, 'Chrysalis Films': 1, 'Magical Elves Productions': 1, 'Scooter Braun Films': 1, 'MIRACLE Productions GmbH & Co. KG': 1, 'Kemp Company': 1, 'Canal+Polska': 1, 'Heritage Films': 1, 'Agencja Produkcji Filmowej': 1, 'TF1 Films Productions': 1, 'British Film Council': 1, 'Hughes Entertainment': 1, 'Shoelace Productions': 1, 'Marvel Entertainment, LLC': 1, 'Milk & Honey': 1, 'Alberto Grimaldi Productions': 1, 'Hofflund/Polone': 1, 'Indelible Productions': 1, 'Pandora Pictures': 1, 'MPH Entertainment': 1, 'Hacienda Productions': 1, 'Hungry Eye Lowland Pictures B.V.': 1, 'Flan de Coco Films': 1, \"Eric's Boy\": 1, 'Moving Pictures': 1, 'Gratitude International': 1, 'Witt/Thomas Productions': 1, 'Ghost Ship Films Pty. Ltd.': 1, 'World Wrestling Entertainment (WWE)': 1, 'Wheelhouse Entertainment': 1, 'Motion Picture Production GmbH & Co. Erste KG': 1, 'Ventanarosa Productions': 1, 'Handprint Entertainment': 1, 'Schroeder Hoffman Productions': 1, 'Beverly Detroit': 1, 'Intermedia': 1, 'IM Filmproduktion': 1, 'Cosmic Pictures': 1, 'Burg/Koules Productions': 1, 'Unfaithful Filmproduktion GmbH & Co. KG': 1, 'National Geographic Society': 1, 'WV Films LLC': 1, 'Walt Disney Animation Canada': 1, 'Producers Circle': 1, 'Catch 23 Entertainment': 1, 'Sea Breeze Productions Inc.': 1, 'Tripod Entertainment': 1, 'Shutt/Jones Productions': 1, 'Jaffilms Inc.': 1, 'Clear Blue Sky Productions': 1, '98 MPH Productions': 1, 'Senator Film Produktion': 1, 'Motion Picture Corporation of America': 1, 'Milagro Films': 1, 'DoRo Fiction Film': 1, 'UW4 Productions': 1, 'Captivate Entertainment': 1, 'Brandywine Productions': 1, 'Stephen J. Cannell Productions': 1, 'Apaches Entertainment': 1, 'Ascension Pictures': 1, 'ARD Degeto Film': 1, 'Cloud Atlas Productions': 1, 'Mr. Mudd Production': 1, 'Extension 765': 1, 'Mutant Enemy Productions': 1, 'Abraham Productions': 1, 'Location Gourmet': 1, 'Transfilm': 1, 'Moonrise': 1, 'Rena Film': 1, 'Peach Trees': 1, 'Film 44': 1, 'CAMERON MACKINTOSH': 1, 'First Light Production': 1, 'Cott Productions': 1, 'Furia de Titanes II, A.I.E.': 1, 'Adam Schroeder Productions': 1, 'Hedge Fund Film Partners': 1, 'Knightsbridge Entertainment': 1, 'What to Expect Productions': 1, 'Benaroya Pictures': 1, 'Pie Films Inc.': 1, 'Corner Store Entertainment': 1, 'Stoller Global Solutions': 1, 'A Hot Dog': 1, 'Talisman Productions': 1, 'Ixtlan': 1, 'Onda Entertainment': 1, 'Di Bonaventura Picture': 1, 'Liddell Entertainment': 1, 'Wonderful Films PLC': 1, 'North Box Productions': 1, 'Konami Corporation Ltd.': 1, 'Inferno Entertainment': 1, 'Galavis Film': 1, 'Picture Machine': 1, 'Artina Films': 1, 'Lucky Monkey Pictures': 1, 'Green Room Films': 1, 'Varsity Pictures': 1, 'Headline Pictures': 1, 'Media Farm': 1, 'Sunday Night': 1, 'Dos Corazones': 1, 'Lucasfilm Ltd.': 1, 'Partnership Pictures': 1, 'Serenade Films': 1, 'Also Known As Pictures': 1, 'VideoFilmes': 1, 'Studio Mir': 1, 'Mandalay Vision': 1, 'Studio Babelsberg Motion Pictures': 1, 'Rai Cinema': 1, 'Alfama Films': 1, 'Akil Production Company': 1, 'Laurinfilm': 1, 'Subterranean Productions LLC': 1, 'Subterranean Productions UK Ltd.': 1, 'Underworld Produktions GmbH': 1, 'Heineken Branded Entertainment': 1, 'Disney Enterprises': 1, 'Pit Bull Productions': 1, 'Loumolo & Co.': 1, 'JD Productions': 1, 'Dimension Films (US version)': 1, 'NuAmerica Entertainment': 1, 'Newman/Tooley Films': 1, 'Joseph Nittolo Entertainment': 1, '\"DIA\" Productions GmbH & Co. KG': 1, 'Don Simpson/Jerry Bruckheimer Films': 1, 'Stan Winston Studio': 1, 'Horsepower Films': 1, 'Core Productions': 1, 'Jackie Chan Films Limited': 1, 'All Knight Productions': 1, 'Camelot Pictures': 1, 'Illusion Entertainment': 1, 'Michael Lobell Productions': 1, 'Province of British Columbia Film Incentive BC': 1, 'Doom Buggy Productions': 1, 'Y Productions': 1, 'Mediana Productions Filmgesellschaft': 1, 'Cattleya': 1, 'Cecchi Gori Group Tiger Cinematografica': 1, 'Krane Entertainment': 1, 'Myriad Pictures': 1, 'Jeepers Creepers II': 1, 'Kasdan Pictures': 1, 'Mediastream Dritte Film': 1, 'N1 European Film Produktions GmbH & Co. KG': 1, 'Baumgarten Merims Productions': 1, 'Alphaville Productions': 1, 'Newmarket Films': 1, 'City Light Films': 1, 'Turner Pictures': 1, 'Antietam Filmworks': 1, 'Mindfire Entertainment': 1, 'Recorded Picture Company (RPC)': 1, 'FidÃ©litÃ© Productions': 1, 'Gimages': 1, 'FOZ': 1, 'Harbour Pictures': 1, 'Earthship Productions': 1, 'XM2 Productions': 1, 'Reiner-Greisman': 1, 'Esperanto Filmoj': 1, 'SOIXAN7E QUIN5E': 1, 'See Me Louisiana': 1, 'EMJAG Productions': 1, 'Disney Double Dare You (DDY)': 1, 'Monolith Pictures (III)': 1, 'Riddick Canada Productions': 1, 'A&E Television Networks': 1, 'Apparatus Productions': 1, 'Chartoff Productions': 1, 'Digital Domain': 1, 'Double Negative': 1, '8:38 Productions': 1, 'Unique Features': 1, 'Mr. Smith Productions': 1, 'Herrick Entertainment': 1, 'Truth Entertainment': 1, 'RabbitBandini Productions': 1, 'Division Films': 1, 'Pop Films': 1, 'Troika Pictures': 1, 'Emergency Films': 1, 'Apotheosis Media Group': 1, 'Gidden Media': 1, 'Verisimilitude': 1, 'Envision Entertainment': 1, 'Mythology Entertainment (II)': 1, 'Sycamore Pictures': 1, 'Millenium Films': 1, 'Stone Village Pictures': 1, 'Fastnet Films': 1, 'Caramel Film': 1, 'Dickhouse Productions': 1, 'SND': 1, 'Essential Media & Entertainment': 1, 'MICA Entertainment': 1, 'Silver Bullet Productions (II)': 1, 'Blind Wink Productions': 1, 'Langley Park Production': 1, 'Aggregate Films': 1, 'DumbDumb': 1, 'Sudden Storm Productions': 1, 'Decibel Films': 1, 'OB Productions': 1, 'Toma 78': 1, 'De Milo': 1, 'Lee Daniels Entertainment': 1, 'Follow Through Productions': 1, 'Salamander Pictures': 1, 'Pam Williams Productions': 1, 'Greenestreet Films': 1, 'Witness Protection Films': 1, 'SkyLand Entertainment': 1, 'Rainmaker Entertainment': 1, 'Mainframe Entertainment': 1, 'Pinewood Studios': 1, 'Metrol Technology': 1, 'Temple Hill Productions': 1, 'PathÃ© Distribution': 1, 'Sony': 1, 'Perdido Productions': 1, 'Paco Cinematografica': 1, 'Regione Lazio': 1, 'Business Location Sudtirol Alto Adige': 1, 'Friuli Venezia Giulia Film Commission': 1, 'Benderspink': 1, 'Carousel Productions': 1, 'Everest Entertainment': 1, 'Archer Street Productions': 1, 'Latitude Media': 1, 'Inferno International': 1, 'K5 International': 1, 'LGM Productions': 1, 'Les Productions du TrÃ©sor': 1, 'Mars Distribution': 1, 'Front Street Productions': 1, 'Spitfire Pictures': 1, 'Reel FX Creative Studios': 1, 'Company Films': 1, 'Dalian Wanda Group': 1, 'Sneak Preview Productions': 1, 'Jean Doumanian Productions': 1, 'Dillywood': 1, 'Five Star Institute': 1, 'Gaumont': 1, 'Kintop Pictures': 1, 'Triggerfish Animation': 1, 'Picturehouse Entertainment': 1, 'Summertime Entertainment': 1, 'Distant Horizons': 1, 'Film Afrika Worldwide': 1, 'Videovision Entertainment': 1, 'Baby Cow Productions': 1, 'Le Pacte': 1, 'Filmgate Films': 1, 'Saints LA': 1, 'Art Pictures Studio': 1, 'Patalex IV Productions Limited': 1, 'Hammer & Tongs': 1, 'Kumar Mobiliengesellschaft mbH & Co. Projekt Nr. 3 KG': 1, 'Branded Entertainment/Batfilm Productions': 1, 'Colossal Pictures': 1, 'TF 1 Film Productions': 1, 'Big Primate Pictures': 1, 'Nina Saxon Film Design': 1, 'Alloy Entertainment': 1, 'Dutch Oven': 1, 'New Regency Productions': 1, 'Entertainment Manufacturing Company': 1, 'Will Vinton Studios': 1, 'Motion Picture KAPPA Produktionsgesellschaft': 1, 'Parkway Pictures (I)': 1, 'Kanbar Entertainment': 1, 'Blue Yonder Films': 1, 'MBC Beteiligungs Filmproduktion': 1, 'Bewitched': 1, 'Reaper Productions': 1, 'Alan Greenspan Productions': 1, 'Hart-Sharp Entertainment': 1, 'Reforma Films': 1, 'Persistent Entertainment': 1, 'Stratus Film Co.': 1, 'Syndicate Films International': 1, 'Alliance Atlantis Communications': 1, 'Room 9 Entertainment': 1, '4M': 1, 'Patalex V Productions Limited': 1, 'ShadowCatcher Entertainment': 1, 'Daniel Bobker Productions': 1, 'JC 23 Entertainment': 1, 'Clubdeal': 1, 'Liaison Films': 1, 'Five Roses': 1, 'Romero-Grunwald Productions': 1, 'Exception Wild Bunch': 1, 'Catfish Productions': 1, 'Mile High Productions': 1, 'Kevin Messick Productions': 1, 'Cent Productions Inc.': 1, 'Outerbanks Entertainment': 1, 'Kalis Productions GmbH & Co. Zweite KG': 1, 'Callahan Filmworks': 1, 'Dante Entertainment': 1, 'Crusader Entertainment': 1, 'Debra Hill Productions': 1, 'AFG Talons Productions': 1, 'Boll KG': 1, 'Bristol Bay Productions': 1, 'Desertlands Entertainment': 1, \"Cooper's Town Productions\": 1, 'Eagle Vision Inc.': 1, 'Manitoba Film and Video Production Tax Credit': 1, 'Scanbox': 1, 'Domino 17521': 1, 'The Javelina Film Company': 1, 'Milkshake Films': 1, 'Hargitay & Hargitay Pictures in Motion': 1, 'The Movie Network (TMN)': 1, 'Max Stronghold Productions Inc.': 1, 'Big Beach Productions': 1, 'Telegraph Films': 1, 'O.N.C. Entertainment': 1, 'Infogrames Entertainment': 1, 'Pacific Renaissance Pictures Ltd.': 1, 'Cineblue Internationale Filmproduktionsgesellschaft': 1, 'City Productions': 1, 'Post No Bills Films': 1, 'Pandemonium Productions': 1, 'Government of Malta': 1, 'Eketahuna LLC': 1, 'MI 3 Film': 1, 'Media Asia Films': 1, 'Central Films': 1, 'Hit & Run Productions': 1, 'Four By Two Productions': 1, 'Ikiru Films': 1, 'Matinee Pictures': 1, 'Silent Hill DCP Inc.': 1, 'Konami': 1, 'Muse Entertainment Enterprises': 1, 'Kingdom Feature Productions': 1, 'C.O.R.E. Feature Animation': 1, 'Hoytyboy Pictures': 1, 'Nigel Productions': 1, 'Sound for Film': 1, 'Failure to Launch Productions': 1, 'Motion Picture ETA Produktionsgesellschaft': 1, 'Foqus Arte Digital': 1, 'Metropolis Films': 1, 'Landscape Entertainment': 1, 'John US Productions': 1, 'Universal Animation Studios': 1, 'Contagious Entertainment': 1, '3L Filmverleih': 1, 'VIP 4 Medienfonds': 1, 'Pricel': 1, 'Tohokushinsha Film': 1, 'Commission du Film France': 1, 'Cowboy Films': 1, 'Black & White Productions': 1, 'Irwin Allen Productions': 1, 'Iron Film': 1, 'MMCB Film Produktion 2004': 1, 'Big Beach Films': 1, '11:11 Mediaworks': 1, 'Thousand Words': 1, 'Detour Filmproduction': 1, 'Rocket Pictures': 1, 'Alliance Atlantis Motion Picture Production': 1, 'Paramount Classics': 1, 'Samuelson Productions': 1, 'Tiara Blu Films': 1, 'Granada Film Productions': 1, 'Sunset Gower Studios': 1, 'Electric Entertainment': 1, 'Flyboys Films': 1, 'True Grit Productions': 1, 'Zero Gravity Management': 1, 'Pierce/Williams Entertainment': 1, 'Yash Raj Films': 1, 'Mirabai Films': 1, 'Tessalit Productions': 1, 'Raygun Productions': 1, 'Rosey Film Productions LLC': 1, 'Starbucks Entertainment': 1, 'Cinema Gypsy Productions': 1, 'P of A Productions Limited': 1, 'Atlantic Television': 1, 'Motion Picture THETA Produktionsgesellschaft': 1, 'Helena Productions': 1, 'Starlite Films': 1, 'Golden Mean': 1, 'Universal CGI': 1, 'Constantin Film Ltd.': 1, 'Mark Gordon Productions': 1, 'Cappa Productions': 1, 'Edge City': 1, 'Shawn Danielle Productions Ltd.': 1, 'Natural Nylon Entertainment': 1, 'Riff Raff Film Productions': 1, 'Filmauro': 1, 'Blue Flower Productions': 1, 'ApolloProScreen Filmproduktion': 1, 'Thirteen Productions': 1, 'Daybreak': 1, 'Film Colony': 1, 'Gaylord Films': 1, 'Blue Sea Productions': 1, 'Loofah Productions': 1, 'VIP 2 Medienfonds': 1, 'Frantic Films': 1, 'Maple Shade Films': 1, 'New Amsterdam Entertainment': 1, 'Green Hills Productions': 1, 'Primal Foe Productions': 1, 'Grand Slam Productions': 1, 'Fellah Pictures': 1, 'Filmax Entertainment': 1, 'ICF': 1, 'Patalex Productions': 1, 'Fellowship Adventure Group': 1, 'Gone North Productions': 1, 'Industrial Development Corporation of South Africa': 1, 'Miracle Pictures': 1, 'Harlequin Pictures': 1, 'Intertainment AG': 1, 'Blackout Productions Inc.': 1, 'Sideways Productions Inc.': 1, 'AR-TL': 1, 'Eclipse Catering': 1, 'Nine Yards Two Productions': 1, 'Havana Nights LLC': 1, 'Really Useful Films': 1, 'Mostow/Lieberman Productions': 1, '80 Days Productions': 1, 'Visual Arts Entertainment': 1, 'Aldrich Group': 1, 'Optional Pictures': 1, 'Blue Productions': 1, 'Friday Night Lights LLC': 1, 'MDBF Filmgesellschaft mbH & Company KG': 1, 'Two Brothers Productions': 1, 'Avenue Pictures Productions': 1, 'Broken Lizard Industries': 1, 'Coconut Pete Productions': 1, 'Taormina Productions': 1, 'Bird and a Bear Entertainment': 1, 'Hallway Pictures': 1, 'Catch Productions': 1, 'Fantail Films Inc.': 1, 'Cool Music': 1, 'Harry Potter Publishing Rights': 1, 'Motion Picture BETA Produktionsgesellschaft': 1, 'Bourne Again': 1, 'Sparkler Entertainment': 1, 'Vaughn Productions': 1, 'Into the Wild': 1, 'Crystal Sky Pictures': 1, 'Lauren Levine Productions Inc.': 1, 'Grosvenor Park Impact Productions': 1, 'Columbus 81 Productions': 1, 'Wendy Finerman Productions': 1, 'Andalasia Productions': 1, 'Right Coast Productions': 1, 'Mirage Studios': 1, 'Imagi Production': 1, 'Sociedad General de Cine S.A.': 1, 'MDBF Zweite Filmgesellschaft': 1, 'Eden Rock Media': 1, 'Element Films': 1, 'HorrorFlix': 1, 'Scholastic Productions': 1, 'Yuma': 1, 'CJ Entertainment': 1, 'Southpaw Entertainment': 1, 'Open City Films': 1, 'Jessie Nelson Productions': 1, 'Astral Media': 1, 'Anka Film': 1, 'Daybreak Productions': 1, 'Monkey Dance Productions': 1, 'Yer Dead Productions': 1, 'Entertainment Films': 1, 'Material Entertainment': 1, 'Beech Hill Films': 1, 'Zadan / Meron Productions': 1, '360 Pictures': 1, 'Nightfall Productions': 1, 'Bueprint Pictures': 1, 'Halcyon Pictures': 1, 'Kinematograf Wien': 1, 'Linsefilm': 1, 'Unity Productions': 1, 'Michael Cerenzie Productions': 1, 'Funky Buddha Productions': 1, 'Resident Evil Productions': 1, 'Chime Films': 1, 'Reserve Room': 1, 'Level 1 Entertainment': 1, 'MID Foundation': 1, 'NALA Films': 1, 'Samuels Media': 1, 'Land Films Inc.': 1, 'Marshall Production': 1, 'SW7D Productions': 1, 'Foresight Unlimited': 1, 'RAMCO': 1, 'Captivity Productions': 1, 'Underground': 1, 'I Could Never Ltd.': 1, 'Bauer Martinez Studios': 1, 'Brass Hat Films': 1, 'Sunlight Productions': 1, 'Madison 23': 1, 'Dreamachine': 1, 'BBC': 1, 'Block 2 Pictures': 1, 'Jet Tone Production': 1, 'Lou Yi Inc.': 1, 'Dino de Laurentiis Cinematografica': 1, 'Red Lion Sarl': 1, 'ETIC Films': 1, 'Huayi Brothers Media Corporation': 1, 'Tyler Perry Company, The': 1, 'Mill Film': 1, 'I Remember Productions': 1, 'SKA Films': 1, 'Munich Film Partners & Company (MFP) MI2 Productions': 1, 'KirchMedia': 1, 'Wind Dancer Productions': 1, 'Arts Council of England': 1, 'Nancy Tenenbaum Films': 1, 'Interscope Communications': 1, 'Polygram Filmed Entertainment': 1, 'Fine Line Features': 1, 'Zentropa Entertainments': 1, 'Danmarks Radio (DR)': 1, 'SVT Drama': 1, 'Arte': 1, 'Technical Black': 1, 'Run It Up Productions Inc.': 1, 'Compulsion Inc.': 1, 'Splendid Medien AG': 1, 'Cranium Films': 1, 'Limited Edition Productions Inc.': 1, 'Barry Mendel Productions': 1, 'Clipsal Films': 1, 'Nine Yards Productions': 1, 'Rational Packaging Company': 1, 'Fat Free': 1, 'Mars Production Pty. Ltd.': 1, 'Red Horizon Productions': 1, 'Katira Productions GmbH & Co. KG': 1, 'Caro-McLeod': 1, 'Fox Animation Studios': 1, 'Neo Art & Logic': 1, 'Wes Craven Films': 1, 'Seven Arts Pictures': 1, 'Munich Film Partners & Company (MFP) ROE Production': 1, 'Fountainbridge Films': 1, 'Finding Forrester Productions': 1, 'Cruella Productions': 1, 'Triple Threat Talent': 1, 'Screenland Pictures': 1, 'Davis-Panzer Productions': 1, 'Walrus & Associates': 1, 'Hollywood Partners': 1, 'Charenton Productions': 1, 'Sweetpea Entertainment': 1, 'SNL Studios': 1, 'JLT Productions': 1, 'Springwood Productions': 1, 'Capella International': 1, 'KC Medien AG': 1, 'Nora Ephron Productions': 1})\n"
     ]
    }
   ],
   "source": [
    "Film15=data[data.release_year==2015]\n",
    "Comp = Film15.production_companies.str.split('|').sum()\n",
    "for word in Comp:\n",
    "    c[word]+=1\n",
    "print(c)\n",
    "answer_ls.append(1)"
   ]
  },
  {
   "cell_type": "markdown",
   "metadata": {},
   "source": [
    "# 22. Какая студия заработала больше всего денег в жанре комедий за все время?\n",
    "Варианты ответа:\n",
    "1. Warner Bros\n",
    "2. Universal Pictures (Universal)\n",
    "3. Columbia Pictures\n",
    "4. Paramount Pictures\n",
    "5. Walt Disney"
   ]
  },
  {
   "cell_type": "code",
   "execution_count": 27,
   "metadata": {},
   "outputs": [
    {
     "name": "stdout",
     "output_type": "stream",
     "text": [
      "8    Universal Pictures|Illumination Entertainment\n",
      "Name: production_companies, dtype: object\n"
     ]
    }
   ],
   "source": [
    "Comedi=data[data.genres.str.contains('Comedy')]\n",
    "print(Comedi[Comedi.pribil==Comedi.pribil.max()].production_companies)\n",
    "answer_ls.append(2)"
   ]
  },
  {
   "cell_type": "markdown",
   "metadata": {},
   "source": [
    "# 23. Какая студия заработала больше всего денег в 2012 году?\n",
    "Варианты ответа:\n",
    "1. Universal Pictures (Universal)\n",
    "2. Warner Bros\n",
    "3. Columbia Pictures\n",
    "4. Paramount Pictures\n",
    "5. Lucasfilm"
   ]
  },
  {
   "cell_type": "code",
   "execution_count": 28,
   "metadata": {},
   "outputs": [
    {
     "name": "stdout",
     "output_type": "stream",
     "text": [
      "971    Marvel Studios\n",
      "Name: production_companies, dtype: object\n"
     ]
    }
   ],
   "source": [
    "Film122=data[data.release_year==2012]\n",
    "print(Film122[Film122.revenue==Film122.revenue.max()].production_companies)\n",
    "answer_ls.append(2)"
   ]
  },
  {
   "cell_type": "markdown",
   "metadata": {},
   "source": [
    "# 24. Самый убыточный фильм от Paramount Pictures\n",
    "Варианты ответа:\n",
    "\n",
    "1. K-19: The Widowmaker tt0267626\n",
    "2. Next tt0435705\n",
    "3. Twisted tt0315297\n",
    "4. The Love Guru tt0811138\n",
    "5. The Fighter tt0964517"
   ]
  },
  {
   "cell_type": "code",
   "execution_count": 29,
   "metadata": {},
   "outputs": [
    {
     "name": "stdout",
     "output_type": "stream",
     "text": [
      "926    K-19: The Widowmaker\n",
      "Name: original_title, dtype: object\n"
     ]
    }
   ],
   "source": [
    "Par=data[data.production_companies.str.contains('Paramount Pictures')]\n",
    "print(Par[Par.pribil==Par.pribil.min()].original_title)\n",
    "answer_ls.append(1)"
   ]
  },
  {
   "cell_type": "markdown",
   "metadata": {},
   "source": [
    "# 25. Какой Самый прибыльный год (заработали больше всего)?\n",
    "Варианты ответа:\n",
    "1. 2014\n",
    "2. 2008\n",
    "3. 2012\n",
    "4. 2002\n",
    "5. 2015"
   ]
  },
  {
   "cell_type": "code",
   "execution_count": 30,
   "metadata": {},
   "outputs": [
    {
     "name": "stdout",
     "output_type": "stream",
     "text": [
      "release_year\n",
      "2015    18668572378\n",
      "2014    16397812953\n",
      "2012    16077001687\n",
      "2013    15243179791\n",
      "2011    14730241341\n",
      "2009    13423744372\n",
      "2010    13117292530\n",
      "2008    11663881990\n",
      "2007    11565911801\n",
      "2004     9634180720\n",
      "2003     9228823312\n",
      "2002     9002361487\n",
      "2005     8981925558\n",
      "2006     8691077320\n",
      "2001     7950614865\n",
      "2000     6101399805\n",
      "Name: pribil, dtype: int64\n"
     ]
    }
   ],
   "source": [
    "print(data.groupby(['release_year'])['pribil'].sum().sort_values(ascending=False))\n",
    "answer_ls.append(5)"
   ]
  },
  {
   "cell_type": "markdown",
   "metadata": {},
   "source": [
    "# 26. Какой Самый прибыльный год для студии Warner Bros?\n",
    "Варианты ответа:\n",
    "1. 2014\n",
    "2. 2008\n",
    "3. 2012\n",
    "4. 2010\n",
    "5. 2015"
   ]
  },
  {
   "cell_type": "code",
   "execution_count": 31,
   "metadata": {},
   "outputs": [
    {
     "name": "stdout",
     "output_type": "stream",
     "text": [
      "release_year\n",
      "2014    2295464519\n",
      "2007    2201675217\n",
      "2008    2134595031\n",
      "2010    1974712985\n",
      "2011    1871393682\n",
      "2003    1855493377\n",
      "2009    1822454136\n",
      "2013    1636453400\n",
      "2004    1631933725\n",
      "2005    1551980298\n",
      "2001    1343545668\n",
      "2012    1258020056\n",
      "2002    1022709901\n",
      "2015     870368348\n",
      "2006     620170743\n",
      "2000     452631386\n",
      "Name: pribil, dtype: int64\n"
     ]
    }
   ],
   "source": [
    "Bros=data[data.production_companies.str.contains('Warner Bros')]\n",
    "print(Bros.groupby(['release_year'])['pribil'].sum().sort_values(ascending=False))\n",
    "answer_ls.append(1)"
   ]
  },
  {
   "cell_type": "markdown",
   "metadata": {},
   "source": [
    "# 27. В каком месяце за все годы суммарно вышло больше всего фильмов?\n",
    "Варианты ответа:\n",
    "1. Январь\n",
    "2. Июнь\n",
    "3. Декабрь\n",
    "4. Сентябрь\n",
    "5. Май"
   ]
  },
  {
   "cell_type": "code",
   "execution_count": 32,
   "metadata": {},
   "outputs": [
    {
     "name": "stdout",
     "output_type": "stream",
     "text": [
      "67\n",
      "62\n",
      "71\n",
      "67\n",
      "56\n"
     ]
    }
   ],
   "source": [
    "Yanv=data[data.release_date.str.contains('/1/')]\n",
    "Jul=data[data.release_date.str.contains('/6/')]\n",
    "Dec=data[data.release_date.str.contains('/12/')]\n",
    "Sept=data[data.release_date.str.contains('/9/')]\n",
    "May=data[data.release_date.str.contains('/5/')]\n",
    "print(len(Yanv))\n",
    "print(len(Jul))\n",
    "print(len(Dec))\n",
    "print(len(Sept))\n",
    "print(len(May))\n",
    "answer_ls.append(3)"
   ]
  },
  {
   "cell_type": "markdown",
   "metadata": {},
   "source": [
    "# 28. Сколько суммарно вышло фильмов летом? (за июнь, июль, август)\n",
    "Варианты ответа:\n",
    "1. 345\n",
    "2. 450\n",
    "3. 478\n",
    "4. 523\n",
    "5. 381"
   ]
  },
  {
   "cell_type": "code",
   "execution_count": 33,
   "metadata": {},
   "outputs": [
    {
     "name": "stdout",
     "output_type": "stream",
     "text": [
      "205\n"
     ]
    }
   ],
   "source": [
    "Jun1=data[data.release_date.str.contains('/6/')]\n",
    "Jul1=data[data.release_date.str.contains('/7/')]\n",
    "Augst1=data[data.release_date.str.contains('/8/')]\n",
    "print(len(Jun1)+len(Jul1)+len(Augst1))\n",
    "answer_ls.append(1)"
   ]
  },
  {
   "cell_type": "markdown",
   "metadata": {},
   "source": [
    "# 29. Какой режисер выпускает (суммарно по годам) больше всего фильмов зимой?\n",
    "Варианты ответов:\n",
    "1. Steven Soderbergh\n",
    "2. Christopher Nolan\n",
    "3. Clint Eastwood\n",
    "4. Ridley Scott\n",
    "5. Peter Jackson"
   ]
  },
  {
   "cell_type": "code",
   "execution_count": 34,
   "metadata": {},
   "outputs": [
    {
     "name": "stdout",
     "output_type": "stream",
     "text": [
      "Counter({'Louis Leterrier': 5, 'Peter Farrelly': 3, 'Ridley Scott': 3, 'Brett Ratner': 3, 'Steve Carr': 3, 'Ken Kwapis': 3, 'Bobby Farrelly': 2, 'Roger Kumble': 2, 'Baltasar KormÃ¡kur': 2, 'Paul W.S. Anderson': 2, 'Robert Rodriguez': 2, 'Len Wiseman': 2, 'McG': 2, 'Tyler Perry': 2, 'David Fincher': 2, 'Gore Verbinski': 2, 'Sam Raimi': 2, 'Todd Haynes': 2, 'Mira Nair': 2, 'Joel Coen': 2, 'Ron Howard': 2, 'Kenneth Branagh': 1, 'Ilya Naishuller': 1, 'Peter Landesman': 1, 'Jessie Nelson': 1, 'Dean DeBlois': 1, 'Sergey Bodrov': 1, 'Sam Miller': 1, 'Shana Feste': 1, 'Charles Martin Smith': 1, 'Duncan Jones': 1, 'Andy Fickman': 1, 'Toby Wilkins': 1, 'Ryan Murphy': 1, 'Roman Polanski': 1, 'Roger Michell': 1, 'Peter Howitt': 1, 'Simon Wincer': 1, 'Thomas Carter': 1, 'Barry Levinson': 1, 'Rob Pritts': 1, 'Timur Bekmambetov': 1, 'Danny Boyle': 1, 'Loveleen Tandan': 1, 'Michael Patrick King': 1, 'Ivan Reitman': 1, 'Steven Quale': 1, 'Michel Gondry': 1, 'Matthijs van Heijningen Jr.': 1, 'Joe Cornish': 1, 'Wayne Wang': 1, 'Stuart Baird': 1, 'Miguel Arteta': 1, 'Sam Mendes': 1, 'Rob Bowman': 1, 'Phil Lord': 1, 'Christopher Miller': 1, 'Gary Ross': 1, 'Drew Goddard': 1, 'Peter Lord': 1, 'Jeff Newitt': 1, 'Stephen St. Leger': 1, 'James Mather': 1, 'Nancy Meyers': 1, 'Harald Zwart': 1, 'Zack Snyder': 1, 'David O. Russell': 1, 'Seth Rogen': 1, 'Evan Goldberg': 1, 'Sofia Coppola': 1, 'Brian Helgeland': 1, 'Woody Allen': 1, 'Richard Shepard': 1, 'John Dahl': 1, 'Niki Caro': 1, 'Donald Petrie': 1, 'Wolfgang Petersen': 1, 'David Koepp': 1, 'David Mamet': 1, 'D.J. Caruso': 1, 'Dennis Dugan': 1, 'Mikael HÃ¥fstrÃ¶m': 1, 'James Foley': 1, 'Mimi Leder': 1, 'James Wan': 1, 'Olivier Megaton': 1, 'Jocelyn Moorhouse': 1, 'Gregory Jacobs': 1, 'Gary Shore': 1, 'Anne Fletcher': 1, 'Michael Mann': 1, 'Richard Curtis': 1, 'Bruce Beresford': 1, 'Chris Columbus': 1, 'Ethan Maniquis': 1, 'Burr Steers': 1, 'Matt Reeves': 1, 'Nanette Burstein': 1, 'William Dear': 1, 'Lee Unkrich': 1, 'David Silverman': 1, 'Pete Docter': 1, 'Victor Salva': 1, 'John Herzfeld': 1, 'Luke Greenfield': 1, 'Rob Cohen': 1, 'Peter Berg': 1, 'Pete Travis': 1, 'David Moreau': 1, 'Xavier Palud': 1, 'Joshua Michael Stern': 1, 'Thomas Bezucha': 1, 'Paolo Sorrentino': 1, 'Randall Wallace': 1, 'Tim Story': 1, 'Dewey Nicks': 1, 'Rick Rosenthal': 1, 'Mort Nathan': 1, 'Rich Moore': 1, 'Chris Renaud': 1, 'Kyle Balda': 1, 'Josh Trank': 1, 'Nima Nourizadeh': 1, 'James Watkins': 1, 'Dean Wright': 1, 'Peter Jackson': 1, 'Jesse Dylan': 1, 'Martin Brest': 1, 'Steven Brill': 1, 'Elizabeth Banks': 1, 'Rusty Cundieff': 1, 'James Duffy': 1, 'Griffin Dunne': 1, 'Patrik Forsberg': 1, 'James Gunn': 1, 'Will Graham': 1, 'Jonathan van Tulleken': 1, 'Scott Moore': 1, 'Jon Lucas': 1, 'Giuseppe Tornatore': 1, 'Jeff Nichols': 1, 'Stephen Frears': 1, 'Peyton Reed': 1, 'Kevin Macdonald': 1, 'Richard Donner': 1, 'Mike Nichols': 1, 'Jay Russell': 1, 'Judd Apatow': 1, 'Bruce A. Evans': 1, 'Michael Winterbottom': 1, 'Guy Ritchie': 1, 'Douglas Aarniokoski': 1, 'John Wells': 1, 'John R. Leonetti': 1, 'Ben Falcone': 1, 'Dave Green': 1, 'Ethan Coen': 1, 'Justin Lin': 1, 'Darren Aronofsky': 1, 'Oliver Stone': 1, 'Sngmoo Lee': 1, 'Gary Trousdale': 1, 'Kirk Wise': 1, 'Alejandro AmenÃ¡bar': 1, 'Hironobu Sakaguchi': 1, 'Motonori Sakakibara': 1, 'Mark Waters': 1, 'Paul Weiland': 1, 'Robert B. Weide': 1, 'Lone Scherfig': 1, 'Roger Donaldson': 1, 'David R. Ellis': 1, 'Corey Yuen Kwai': 1, 'M. Night Shyamalan': 1, 'Neil LaBute': 1, 'David Bowers': 1, 'Jonathan Mostow': 1, 'Charles Herman-Wurmfeld': 1, 'Nigel Cole': 1, 'David Twohy': 1, 'Ang Lee': 1, 'Bille Woodruff': 1, 'Larry Charles': 1, 'Guillermo del Toro': 1, 'Will Finn': 1, 'John Sanford': 1, 'Julian Jarrold': 1, 'Andrew Dominik': 1, 'Robert Redford': 1})\n"
     ]
    }
   ],
   "source": [
    "Decabr=data[data.release_date.str.contains('/12/')]\n",
    "Yanv=data[data.release_date.str.contains('/1/')]\n",
    "Feb=data[data.release_date.str.contains('/2/')]\n",
    "DATA=pd.concat([Decabr, Yanv,Feb])\n",
    "d=Counter()\n",
    "Dir = DATA.director.str.split('|').sum()\n",
    "for word in Dir:\n",
    "    d[word]+=1\n",
    "print(d)\n",
    "answer_ls.append(4)"
   ]
  },
  {
   "cell_type": "markdown",
   "metadata": {},
   "source": [
    "# 30. Какой месяц чаще всего по годам самый прибыльный?\n",
    "Варианты ответа:\n",
    "1. Январь\n",
    "2. Июнь\n",
    "3. Декабрь\n",
    "4. Сентябрь\n",
    "5. Май"
   ]
  },
  {
   "cell_type": "code",
   "execution_count": 35,
   "metadata": {},
   "outputs": [],
   "source": [
    "# pivot=data.loc[data['release_date'].isin(['/1/','/6/','/12/','/5/'])].pivot_table(values=['pribil'],\n",
    "# index=[]\n",
    "                                                                                 \n",
    "# )\n",
    "answer_ls.append(4)"
   ]
  },
  {
   "cell_type": "markdown",
   "metadata": {},
   "source": [
    "# 31. Названия фильмов какой студии в среднем самые длинные по количеству символов?\n",
    "Варианты ответа:\n",
    "1. Universal Pictures (Universal)\n",
    "2. Warner Bros\n",
    "3. Jim Henson Company, The\n",
    "4. Paramount Pictures\n",
    "5. Four By Two Productions"
   ]
  },
  {
   "cell_type": "code",
   "execution_count": 36,
   "metadata": {},
   "outputs": [
    {
     "name": "stdout",
     "output_type": "stream",
     "text": [
      "0    jurassic world\n",
      "Name: original_title, dtype: object\n"
     ]
    }
   ],
   "source": [
    "word = data['original_title'].str.lower()\n",
    "print(str(word[:1]))\n",
    "answer_ls.append(1)"
   ]
  },
  {
   "cell_type": "markdown",
   "metadata": {},
   "source": [
    "# 32. Названия фильмов какой студии в среднем самые длинные по количеству слов?\n",
    "Варианты ответа:\n",
    "1. Universal Pictures (Universal)\n",
    "2. Warner Bros\n",
    "3. Jim Henson Company, The\n",
    "4. Paramount Pictures\n",
    "5. Four By Two Productions"
   ]
  },
  {
   "cell_type": "code",
   "execution_count": 37,
   "metadata": {},
   "outputs": [],
   "source": [
    "answer_ls.append(1)"
   ]
  },
  {
   "cell_type": "markdown",
   "metadata": {},
   "source": [
    "# 33. Сколько разных слов используется в названиях фильмов?(без учета регистра)\n",
    "Варианты ответа:\n",
    "1. 6540\n",
    "2. 1002\n",
    "3. 2461\n",
    "4. 28304\n",
    "5. 3432"
   ]
  },
  {
   "cell_type": "code",
   "execution_count": 38,
   "metadata": {},
   "outputs": [
    {
     "name": "stdout",
     "output_type": "stream",
     "text": [
      "2461\n"
     ]
    }
   ],
   "source": [
    "word = data['original_title'].str.lower()\n",
    "words = set(word.str.split().sum())\n",
    "print(len(words))\n",
    "answer_ls.append(3)"
   ]
  },
  {
   "cell_type": "markdown",
   "metadata": {},
   "source": [
    "# 34. Какие фильмы входят в 1 процент лучших по рейтингу?\n",
    "Варианты ответа:\n",
    "1. Inside Out, Gone Girl, 12 Years a Slave\n",
    "2. BloodRayne, The Adventures of Rocky & Bullwinkle\n",
    "3. The Lord of the Rings: The Return of the King\n",
    "4. 300, Lucky Number Slevin"
   ]
  },
  {
   "cell_type": "code",
   "execution_count": 39,
   "metadata": {},
   "outputs": [],
   "source": [
    "answer_ls.append(3)"
   ]
  },
  {
   "cell_type": "markdown",
   "metadata": {},
   "source": [
    "# 35. Какие актеры чаще всего снимаются в одном фильме вместе\n",
    "Варианты ответа:\n",
    "1. Johnny Depp & Helena Bonham Carter\n",
    "2. Hugh Jackman & Ian McKellen\n",
    "3. Vin Diesel & Paul Walker\n",
    "4. Adam Sandler & Kevin James\n",
    "5. Daniel Radcliffe & Rupert Grint"
   ]
  },
  {
   "cell_type": "code",
   "execution_count": 40,
   "metadata": {},
   "outputs": [
    {
     "name": "stdout",
     "output_type": "stream",
     "text": [
      "6\n",
      "5\n",
      "0\n",
      "5\n",
      "8\n"
     ]
    }
   ],
   "source": [
    "J = data[data.cast.str.contains('Johnny Depp')] \n",
    "JH= J[J.cast.str.contains('Helena Bonham Carter')] \n",
    "\n",
    "H = data[data.cast.str.contains('Hugh Jackman')] \n",
    "HI= H[H.cast.str.contains('Ian McKellen')] \n",
    "\n",
    "V = data[data.cast.str.contains('Vin Diesel ')] \n",
    "VP= V[V.cast.str.contains('Paul Walker')] \n",
    "\n",
    "A = data[data.cast.str.contains('Adam Sandler')] \n",
    "AK= A[A.cast.str.contains('Kevin James')] \n",
    "\n",
    "D = data[data.cast.str.contains('Daniel Radcliffe')] \n",
    "DR= D[D.cast.str.contains('Rupert Grint')] \n",
    "print(len(JH))\n",
    "print(len(HI))\n",
    "print(len(VP))\n",
    "print(len(AK))\n",
    "print(len(DR))\n",
    "answer_ls.append(5)"
   ]
  },
  {
   "cell_type": "markdown",
   "metadata": {},
   "source": [
    "# 36. У какого из режиссеров выше вероятность выпустить фильм в прибыли? (5 баллов)101\n",
    "Варианты ответа:\n",
    "1. Quentin Tarantino\n",
    "2. Steven Soderbergh\n",
    "3. Robert Rodriguez\n",
    "4. Christopher Nolan\n",
    "5. Clint Eastwood"
   ]
  },
  {
   "cell_type": "code",
   "execution_count": 41,
   "metadata": {},
   "outputs": [
    {
     "name": "stdout",
     "output_type": "stream",
     "text": [
      "Christopher Nolan\n",
      "                   0           1\n",
      "0  Quentin Tarantino   85.714286\n",
      "1  Steven Soderbergh   61.538462\n",
      "2   Robert Rodriguez   45.454545\n",
      "3  Christopher Nolan  100.000000\n",
      "4     Clint Eastwood   75.000000\n"
     ]
    }
   ],
   "source": [
    "data['profit_value'] = data['revenue'] - data['budget']\n",
    "directors = ['Quentin Tarantino', 'Steven Soderbergh', 'Robert Rodriguez', 'Christopher Nolan', 'Clint Eastwood']\n",
    "calculated_data = []\n",
    "for director in directors:\n",
    "    films = data[data['director'].str.contains(director)]\n",
    "    positive_profit = len(films[films['profit_value'] > films['budget']])\n",
    "    positive_percent = (positive_profit / len(films)) * 100\n",
    "    calculated_data.append([director, positive_percent])\n",
    "frame = pd.DataFrame(calculated_data)\n",
    "# вывод ответа\n",
    "print(frame[0][frame[1].idxmax()])\n",
    "# вывод данных для визуальной проверки\n",
    "print(frame)\n",
    "answer_ls.append(4)"
   ]
  },
  {
   "cell_type": "markdown",
   "metadata": {},
   "source": [
    "# Submission"
   ]
  },
  {
   "cell_type": "code",
   "execution_count": 42,
   "metadata": {},
   "outputs": [
    {
     "data": {
      "text/plain": [
       "35"
      ]
     },
     "execution_count": 42,
     "metadata": {},
     "output_type": "execute_result"
    }
   ],
   "source": [
    "len(answer_ls)"
   ]
  },
  {
   "cell_type": "code",
   "execution_count": 43,
   "metadata": {},
   "outputs": [
    {
     "data": {
      "text/html": [
       "<div>\n",
       "<style scoped>\n",
       "    .dataframe tbody tr th:only-of-type {\n",
       "        vertical-align: middle;\n",
       "    }\n",
       "\n",
       "    .dataframe tbody tr th {\n",
       "        vertical-align: top;\n",
       "    }\n",
       "\n",
       "    .dataframe thead th {\n",
       "        text-align: right;\n",
       "    }\n",
       "</style>\n",
       "<table border=\"1\" class=\"dataframe\">\n",
       "  <thead>\n",
       "    <tr style=\"text-align: right;\">\n",
       "      <th></th>\n",
       "      <th>Id</th>\n",
       "      <th>Answer</th>\n",
       "    </tr>\n",
       "  </thead>\n",
       "  <tbody>\n",
       "    <tr>\n",
       "      <td>0</td>\n",
       "      <td>1</td>\n",
       "      <td>3</td>\n",
       "    </tr>\n",
       "    <tr>\n",
       "      <td>1</td>\n",
       "      <td>2</td>\n",
       "      <td>2</td>\n",
       "    </tr>\n",
       "    <tr>\n",
       "      <td>2</td>\n",
       "      <td>3</td>\n",
       "      <td>3</td>\n",
       "    </tr>\n",
       "    <tr>\n",
       "      <td>3</td>\n",
       "      <td>4</td>\n",
       "      <td>2</td>\n",
       "    </tr>\n",
       "    <tr>\n",
       "      <td>4</td>\n",
       "      <td>5</td>\n",
       "      <td>1</td>\n",
       "    </tr>\n",
       "    <tr>\n",
       "      <td>5</td>\n",
       "      <td>6</td>\n",
       "      <td>5</td>\n",
       "    </tr>\n",
       "    <tr>\n",
       "      <td>6</td>\n",
       "      <td>7</td>\n",
       "      <td>2</td>\n",
       "    </tr>\n",
       "    <tr>\n",
       "      <td>7</td>\n",
       "      <td>8</td>\n",
       "      <td>1</td>\n",
       "    </tr>\n",
       "    <tr>\n",
       "      <td>8</td>\n",
       "      <td>9</td>\n",
       "      <td>3</td>\n",
       "    </tr>\n",
       "    <tr>\n",
       "      <td>9</td>\n",
       "      <td>10</td>\n",
       "      <td>4</td>\n",
       "    </tr>\n",
       "    <tr>\n",
       "      <td>10</td>\n",
       "      <td>11</td>\n",
       "      <td>3</td>\n",
       "    </tr>\n",
       "    <tr>\n",
       "      <td>11</td>\n",
       "      <td>12</td>\n",
       "      <td>1</td>\n",
       "    </tr>\n",
       "    <tr>\n",
       "      <td>12</td>\n",
       "      <td>13</td>\n",
       "      <td>3</td>\n",
       "    </tr>\n",
       "    <tr>\n",
       "      <td>13</td>\n",
       "      <td>14</td>\n",
       "      <td>4</td>\n",
       "    </tr>\n",
       "    <tr>\n",
       "      <td>14</td>\n",
       "      <td>15</td>\n",
       "      <td>5</td>\n",
       "    </tr>\n",
       "    <tr>\n",
       "      <td>15</td>\n",
       "      <td>16</td>\n",
       "      <td>3</td>\n",
       "    </tr>\n",
       "    <tr>\n",
       "      <td>16</td>\n",
       "      <td>17</td>\n",
       "      <td>3</td>\n",
       "    </tr>\n",
       "    <tr>\n",
       "      <td>17</td>\n",
       "      <td>18</td>\n",
       "      <td>2</td>\n",
       "    </tr>\n",
       "    <tr>\n",
       "      <td>18</td>\n",
       "      <td>19</td>\n",
       "      <td>1</td>\n",
       "    </tr>\n",
       "    <tr>\n",
       "      <td>19</td>\n",
       "      <td>20</td>\n",
       "      <td>1</td>\n",
       "    </tr>\n",
       "    <tr>\n",
       "      <td>20</td>\n",
       "      <td>21</td>\n",
       "      <td>2</td>\n",
       "    </tr>\n",
       "    <tr>\n",
       "      <td>21</td>\n",
       "      <td>22</td>\n",
       "      <td>2</td>\n",
       "    </tr>\n",
       "    <tr>\n",
       "      <td>22</td>\n",
       "      <td>23</td>\n",
       "      <td>1</td>\n",
       "    </tr>\n",
       "    <tr>\n",
       "      <td>23</td>\n",
       "      <td>24</td>\n",
       "      <td>5</td>\n",
       "    </tr>\n",
       "    <tr>\n",
       "      <td>24</td>\n",
       "      <td>25</td>\n",
       "      <td>1</td>\n",
       "    </tr>\n",
       "    <tr>\n",
       "      <td>25</td>\n",
       "      <td>26</td>\n",
       "      <td>3</td>\n",
       "    </tr>\n",
       "    <tr>\n",
       "      <td>26</td>\n",
       "      <td>27</td>\n",
       "      <td>1</td>\n",
       "    </tr>\n",
       "    <tr>\n",
       "      <td>27</td>\n",
       "      <td>28</td>\n",
       "      <td>4</td>\n",
       "    </tr>\n",
       "    <tr>\n",
       "      <td>28</td>\n",
       "      <td>29</td>\n",
       "      <td>4</td>\n",
       "    </tr>\n",
       "    <tr>\n",
       "      <td>29</td>\n",
       "      <td>30</td>\n",
       "      <td>1</td>\n",
       "    </tr>\n",
       "    <tr>\n",
       "      <td>30</td>\n",
       "      <td>31</td>\n",
       "      <td>1</td>\n",
       "    </tr>\n",
       "    <tr>\n",
       "      <td>31</td>\n",
       "      <td>32</td>\n",
       "      <td>3</td>\n",
       "    </tr>\n",
       "    <tr>\n",
       "      <td>32</td>\n",
       "      <td>33</td>\n",
       "      <td>3</td>\n",
       "    </tr>\n",
       "    <tr>\n",
       "      <td>33</td>\n",
       "      <td>34</td>\n",
       "      <td>5</td>\n",
       "    </tr>\n",
       "    <tr>\n",
       "      <td>34</td>\n",
       "      <td>35</td>\n",
       "      <td>4</td>\n",
       "    </tr>\n",
       "  </tbody>\n",
       "</table>\n",
       "</div>"
      ],
      "text/plain": [
       "    Id  Answer\n",
       "0    1       3\n",
       "1    2       2\n",
       "2    3       3\n",
       "3    4       2\n",
       "4    5       1\n",
       "5    6       5\n",
       "6    7       2\n",
       "7    8       1\n",
       "8    9       3\n",
       "9   10       4\n",
       "10  11       3\n",
       "11  12       1\n",
       "12  13       3\n",
       "13  14       4\n",
       "14  15       5\n",
       "15  16       3\n",
       "16  17       3\n",
       "17  18       2\n",
       "18  19       1\n",
       "19  20       1\n",
       "20  21       2\n",
       "21  22       2\n",
       "22  23       1\n",
       "23  24       5\n",
       "24  25       1\n",
       "25  26       3\n",
       "26  27       1\n",
       "27  28       4\n",
       "28  29       4\n",
       "29  30       1\n",
       "30  31       1\n",
       "31  32       3\n",
       "32  33       3\n",
       "33  34       5\n",
       "34  35       4"
      ]
     },
     "execution_count": 43,
     "metadata": {},
     "output_type": "execute_result"
    }
   ],
   "source": [
    "pd.DataFrame({'Id':range(1,len(answer_ls)+1), 'Answer':answer_ls}, columns=['Id', 'Answer'])"
   ]
  },
  {
   "cell_type": "code",
   "execution_count": null,
   "metadata": {},
   "outputs": [],
   "source": []
  },
  {
   "cell_type": "code",
   "execution_count": null,
   "metadata": {},
   "outputs": [],
   "source": []
  }
 ],
 "metadata": {
  "kernelspec": {
   "display_name": "Python 3",
   "language": "python",
   "name": "python3"
  },
  "language_info": {
   "codemirror_mode": {
    "name": "ipython",
    "version": 3
   },
   "file_extension": ".py",
   "mimetype": "text/x-python",
   "name": "python",
   "nbconvert_exporter": "python",
   "pygments_lexer": "ipython3",
   "version": "3.7.4"
  }
 },
 "nbformat": 4,
 "nbformat_minor": 4
}
