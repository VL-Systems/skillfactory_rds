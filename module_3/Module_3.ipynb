{
 "cells": [
  {
   "cell_type": "markdown",
   "metadata": {},
   "source": [
    "# Загрузка Pandas и очистка данных"
   ]
  },
  {
   "cell_type": "code",
   "execution_count": 1,
   "metadata": {},
   "outputs": [],
   "source": [
    "import pandas as pd"
   ]
  },
  {
   "cell_type": "code",
   "execution_count": 2,
   "metadata": {},
   "outputs": [],
   "source": [
    "df = pd.read_csv('main_task.csv')"
   ]
  },
  {
   "cell_type": "code",
   "execution_count": 3,
   "metadata": {},
   "outputs": [],
   "source": [
    "# Ваш код по очистке данных и генерации новых признаков\n",
    "# При необходимости добавьте ячейки"
   ]
  },
  {
   "cell_type": "code",
   "execution_count": 4,
   "metadata": {},
   "outputs": [],
   "source": [
    "#Заполняем пропуски медиальным значением \n",
    "df['Number of Reviews']=df['Number of Reviews'].fillna(int(df['Number of Reviews'].mean()))"
   ]
  },
  {
   "cell_type": "code",
   "execution_count": 5,
   "metadata": {},
   "outputs": [],
   "source": [
    "# Создаем уникальные значения для столбца Price Range\n",
    "#def Prise_Range_Uniq(data):\n",
    "#    for i in range(len(data)):\n",
    "#        if data[i]=='$':\n",
    "#            data[i]=1\n",
    "#        elif data[i]=='$$ - $$$':\n",
    "#            data[i]=2\n",
    "#        elif data[i]=='$$$$':\n",
    "#            data[i]=3\n",
    "#    return data \n",
    "#Prise_Range_Uniq(df['Price Range'])\n",
    "#df['Price Range']=df['Price Range'].fillna(int(df['Price Range'].mean()))"
   ]
  },
  {
   "cell_type": "code",
   "execution_count": 6,
   "metadata": {},
   "outputs": [],
   "source": [
    "# Создаем из столбца ID_TA численные значения ID\n",
    "def IDTA_Uniq(data):\n",
    "    return int(data[1:])\n",
    "df['ID_TA']=df['ID_TA'].apply(IDTA_Uniq)"
   ]
  },
  {
   "cell_type": "code",
   "execution_count": 7,
   "metadata": {},
   "outputs": [],
   "source": [
    "# Считаем количество кохонь в ресторане \n",
    "def CountStyle(data):\n",
    "        count=[]\n",
    "        for i in range(len(data)):\n",
    "            if type(data[i])==str:\n",
    "                count.append(int(len(data[i].split(','))))\n",
    "        return count\n",
    "    \n",
    "df['Cuisine Count']=pd.Series(CountStyle(df['Cuisine Style'])) \n",
    "df['Cuisine Count']=df['Cuisine Count'].fillna(int(df['Cuisine Count'].mean()))"
   ]
  },
  {
   "cell_type": "code",
   "execution_count": 8,
   "metadata": {},
   "outputs": [],
   "source": [
    "# Dummy variables\n",
    "df = pd.get_dummies(df, columns=['City','Price Range','Cuisine Style'])"
   ]
  },
  {
   "cell_type": "code",
   "execution_count": 9,
   "metadata": {},
   "outputs": [],
   "source": [
    "# Создаем численное значение городов, как уникальные значения\n",
    "#def City_Uniq(data):\n",
    "#    City={'Paris':1,'Stockholm':2,'London':3,'Berlin':4,'Munich':5,'Oporto':6,\n",
    "#          'Milan':7,'Bratislava':8,'Vienna':9,'Rome':10,'Barcelona':11,'Madrid':12,\n",
    "#         'Dublin':13,'Brussels':14,'Zurich':15,'Warsaw':16,'Budapest':17,'Copenhagen':18,\n",
    "#         'Amsterdam':19,'Lyon':20,'Hamburg':21,'Lisbon':22,'Prague':23,'Oslo':24,\n",
    "#         'Helsinki':25,'Edinburgh':26,'Geneva':27,'Ljubljana':28,'Athens':29,\n",
    "#          'Luxembourg':30,'Krakow':31\n",
    "#        }\n",
    "#    return City.get(data)\n",
    "#df['City']=df['City'].apply(City_Uniq)"
   ]
  },
  {
   "cell_type": "code",
   "execution_count": 10,
   "metadata": {},
   "outputs": [],
   "source": [
    "# Создаем слобец о количестве отзывов о ресторане \n",
    "def Reviews(data):\n",
    "    return len(data.split(','))\n",
    "df['Rev']=pd.Series(df['Reviews'].apply(Reviews))"
   ]
  },
  {
   "cell_type": "code",
   "execution_count": 11,
   "metadata": {},
   "outputs": [],
   "source": [
    "# Убираем столбцы object\n",
    "df=df.drop(['Reviews','URL_TA'],axis=1)"
   ]
  },
  {
   "cell_type": "markdown",
   "metadata": {},
   "source": [
    "# Разбиваем датафрейм на части, необходимые для обучения и тестирования модели"
   ]
  },
  {
   "cell_type": "code",
   "execution_count": 12,
   "metadata": {},
   "outputs": [],
   "source": [
    "# Х - данные с информацией о ресторанах, у - целевая переменная (рейтинги ресторанов)\n",
    "X = df.drop(['Restaurant_id', 'Rating'], axis = 1)\n",
    "y = df['Rating']"
   ]
  },
  {
   "cell_type": "code",
   "execution_count": 13,
   "metadata": {},
   "outputs": [],
   "source": [
    "# Загружаем специальный инструмент для разбивки:\n",
    "from sklearn.model_selection import train_test_split"
   ]
  },
  {
   "cell_type": "code",
   "execution_count": 14,
   "metadata": {},
   "outputs": [],
   "source": [
    "# Наборы данных с меткой \"train\" будут использоваться для обучения модели, \"test\" - для тестирования.\n",
    "# Для тестирования мы будем использовать 25% от исходного датасета.\n",
    "X_train, X_test, y_train, y_test = train_test_split(X, y, test_size=0.25)"
   ]
  },
  {
   "cell_type": "markdown",
   "metadata": {},
   "source": [
    "# Создаём, обучаем и тестируем модель"
   ]
  },
  {
   "cell_type": "code",
   "execution_count": 15,
   "metadata": {},
   "outputs": [],
   "source": [
    "# Импортируем необходимые библиотеки:\n",
    "from sklearn.ensemble import RandomForestRegressor # инструмент для создания и обучения модели\n",
    "from sklearn import metrics # инструменты для оценки точности модели"
   ]
  },
  {
   "cell_type": "code",
   "execution_count": 16,
   "metadata": {},
   "outputs": [],
   "source": [
    "# Создаём модель\n",
    "regr = RandomForestRegressor(n_estimators=100)\n",
    "\n",
    "# Обучаем модель на тестовом наборе данных\n",
    "regr.fit(X_train, y_train)\n",
    "\n",
    "# Используем обученную модель для предсказания рейтинга ресторанов в тестовой выборке.\n",
    "# Предсказанные значения записываем в переменную y_pred\n",
    "y_pred = regr.predict(X_test)"
   ]
  },
  {
   "cell_type": "code",
   "execution_count": 17,
   "metadata": {},
   "outputs": [
    {
     "name": "stdout",
     "output_type": "stream",
     "text": [
      "MAE: 0.2240035\n"
     ]
    }
   ],
   "source": [
    "# Сравниваем предсказанные значения (y_pred) с реальными (y_test), и смотрим насколько они в среднем отличаются\n",
    "# Метрика называется Mean Absolute Error (MAE) и показывает среднее отклонение предсказанных значений от фактических.\n",
    "print('MAE:', metrics.mean_absolute_error(y_test, y_pred))"
   ]
  }
 ],
 "metadata": {
  "kernelspec": {
   "display_name": "Python 3",
   "language": "python",
   "name": "python3"
  },
  "language_info": {
   "codemirror_mode": {
    "name": "ipython",
    "version": 3
   },
   "file_extension": ".py",
   "mimetype": "text/x-python",
   "name": "python",
   "nbconvert_exporter": "python",
   "pygments_lexer": "ipython3",
   "version": "3.7.4"
  }
 },
 "nbformat": 4,
 "nbformat_minor": 2
}
